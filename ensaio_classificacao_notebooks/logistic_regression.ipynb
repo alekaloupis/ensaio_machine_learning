{
 "cells": [
  {
   "cell_type": "markdown",
   "id": "0b1e2b2c",
   "metadata": {},
   "source": [
    "# 1.Imports"
   ]
  },
  {
   "cell_type": "code",
   "execution_count": 1,
   "id": "908027d3",
   "metadata": {},
   "outputs": [],
   "source": [
    "import pandas as pd\n",
    "import numpy as np\n",
    "from sklearn import metrics as mt\n",
    "from sklearn.linear_model import LogisticRegression\n",
    "import pickle"
   ]
  },
  {
   "cell_type": "markdown",
   "id": "3b9e0032",
   "metadata": {},
   "source": [
    "# 2. Funcao para carregar os datasets"
   ]
  },
  {
   "cell_type": "code",
   "execution_count": 2,
   "id": "2439086b",
   "metadata": {},
   "outputs": [],
   "source": [
    "def Load_Data_Set(df_x_train, df_y_train):\n",
    "    df1 = pd.read_csv(df_x_train)\n",
    "    df2 = pd.read_csv(df_y_train)\n",
    "    return df1, df2"
   ]
  },
  {
   "cell_type": "markdown",
   "id": "e52b38b4",
   "metadata": {},
   "source": [
    "# 3. Criando e concatenando os dataframes"
   ]
  },
  {
   "cell_type": "markdown",
   "id": "82baf600",
   "metadata": {},
   "source": [
    "### 3.1 Dataset de treinamento"
   ]
  },
  {
   "cell_type": "code",
   "execution_count": 3,
   "id": "ead2454b",
   "metadata": {},
   "outputs": [],
   "source": [
    "df_x_train = \"../1_ensaio_classificacao/1_dados_treinamento/X_training.csv\""
   ]
  },
  {
   "cell_type": "code",
   "execution_count": 4,
   "id": "a2f7b5a5",
   "metadata": {},
   "outputs": [],
   "source": [
    "df_y_train = \"../1_ensaio_classificacao/1_dados_treinamento/y_training.csv\""
   ]
  },
  {
   "cell_type": "code",
   "execution_count": 5,
   "id": "3335a12c",
   "metadata": {},
   "outputs": [],
   "source": [
    "df1_train, df2_train = Load_Data_Set(df_x_train, df_y_train)"
   ]
  },
  {
   "cell_type": "code",
   "execution_count": 6,
   "id": "2ef9e6f4",
   "metadata": {},
   "outputs": [],
   "source": [
    "df1_train['label'] = df2_train"
   ]
  },
  {
   "cell_type": "code",
   "execution_count": 7,
   "id": "455fa1de",
   "metadata": {},
   "outputs": [],
   "source": [
    "df_train = df1_train.copy()"
   ]
  },
  {
   "cell_type": "markdown",
   "id": "fce80044",
   "metadata": {},
   "source": [
    "### 3.2 Dataset de validacao"
   ]
  },
  {
   "cell_type": "code",
   "execution_count": 8,
   "id": "d48cf81c",
   "metadata": {},
   "outputs": [],
   "source": [
    "df_x_val = \"../1_ensaio_classificacao/2_dados_validacao/X_validation.csv\""
   ]
  },
  {
   "cell_type": "code",
   "execution_count": 9,
   "id": "54803962",
   "metadata": {},
   "outputs": [],
   "source": [
    "df_y_val = \"../1_ensaio_classificacao/2_dados_validacao/y_validation.csv\""
   ]
  },
  {
   "cell_type": "code",
   "execution_count": 10,
   "id": "3793f8be",
   "metadata": {},
   "outputs": [],
   "source": [
    "df1_val, df2_val = Load_Data_Set(df_x_val, df_y_val)"
   ]
  },
  {
   "cell_type": "code",
   "execution_count": 11,
   "id": "a52fc4eb",
   "metadata": {},
   "outputs": [],
   "source": [
    "df1_val['label'] = df2_val"
   ]
  },
  {
   "cell_type": "code",
   "execution_count": 12,
   "id": "442eb498",
   "metadata": {},
   "outputs": [],
   "source": [
    "df_val = df1_val.copy()"
   ]
  },
  {
   "cell_type": "markdown",
   "id": "1b8f6d2e",
   "metadata": {},
   "source": [
    "### 3.3 Dataset de teste"
   ]
  },
  {
   "cell_type": "code",
   "execution_count": 13,
   "id": "d7a979a9",
   "metadata": {},
   "outputs": [],
   "source": [
    "df_x_test = \"../1_ensaio_classificacao/3_dados_teste/X_test.csv\""
   ]
  },
  {
   "cell_type": "code",
   "execution_count": 14,
   "id": "399f3bdd",
   "metadata": {},
   "outputs": [],
   "source": [
    "df_y_test = \"../1_ensaio_classificacao/3_dados_teste/y_test.csv\""
   ]
  },
  {
   "cell_type": "code",
   "execution_count": 15,
   "id": "e7832b1d",
   "metadata": {},
   "outputs": [],
   "source": [
    "df1_test, df2_test = Load_Data_Set(df_x_test, df_y_test)"
   ]
  },
  {
   "cell_type": "code",
   "execution_count": 16,
   "id": "778594d0",
   "metadata": {},
   "outputs": [],
   "source": [
    "df1_test['label'] = df2_test"
   ]
  },
  {
   "cell_type": "code",
   "execution_count": 17,
   "id": "5d11ee50",
   "metadata": {},
   "outputs": [],
   "source": [
    "df_test = df1_test.copy()"
   ]
  },
  {
   "cell_type": "markdown",
   "id": "858162e8",
   "metadata": {},
   "source": [
    "# 4. Funções para treinar o modelo e avaliar as métricas"
   ]
  },
  {
   "cell_type": "code",
   "execution_count": 18,
   "id": "ecec43c9",
   "metadata": {},
   "outputs": [],
   "source": [
    "#Criando uma função para Treinar o Modelo encima dos dados de treinamento\n",
    "\n",
    "#Fazer as previsoes encima dos proprios dados de treinamento\n",
    "\n",
    "#Entrada: dataframe de treinamento, parametros - C, solver, max_iter\n",
    "\n",
    "#Saida: valores de y_train + valores de previsao feitos a partir dos dados de treinamento (y_pred_train) +\n",
    "# algoritmo logistic regression treinado\n",
    "\n",
    "def Model_Training(df_train,C, solver, max_iter): \n",
    "    \n",
    "    features = ['id', 'customer_type', 'age', 'class', 'flight_distance',\n",
    "       'inflight_wifi_service', 'departure_arrival_time_convenient',\n",
    "       'ease_of_online_booking', 'gate_location', 'food_and_drink',\n",
    "       'online_boarding', 'seat_comfort', 'inflight_entertainment',\n",
    "       'on_board_service', 'leg_room_service', 'baggage_handling',\n",
    "       'checkin_service', 'inflight_service', 'cleanliness',\n",
    "       'departure_delay_in_minutes', 'arrival_delay_in_minutes',\n",
    "       'gender_Female', 'gender_Male', 'type_of_travel_business_travel','type_of_travel_personal_travel']\n",
    "    \n",
    "    \n",
    "    label = ['label']\n",
    "    \n",
    "    #Preparação dos dados de treino\n",
    "    x_train = df_train.loc[:, features]\n",
    "\n",
    "    #Esse metodo ravel transforma os valores em um array\n",
    "    y_train = df_train.loc[:, label].values.ravel()      \n",
    "    \n",
    "    #Treinamento do algoritmo Logistic Regression\n",
    "    #No caso do algoritmo Logistic Regression, precisamos ajustar os seguintes parametros\n",
    "    \n",
    "    #C = forca da regularizacao aplicada\n",
    "    #solver = algoritmo a ser utilizado na otimizacao do problema\n",
    "    #max_iter = numero maximo de iteracoes para convergir\n",
    "    \n",
    "    logistic_regression = LogisticRegression(C = C, solver = solver, max_iter = max_iter)\n",
    "    \n",
    "    logistic_regression.fit(x_train, y_train)\n",
    "\n",
    "    #Fazendo previsoes emcima dos dados de treinamento\n",
    "    y_pred_train = logistic_regression.predict(x_train)\n",
    "    \n",
    "    return y_train, y_pred_train, logistic_regression\n",
    "\n"
   ]
  },
  {
   "cell_type": "code",
   "execution_count": 19,
   "id": "d910e003",
   "metadata": {},
   "outputs": [],
   "source": [
    "def Previsoes_Dataframe_Test(df_test, logistic_regression):\n",
    "    \n",
    "    #Entrada: dataset de teste +  algoritmo Logistic Regression treinado\n",
    "    \n",
    "    #Saida: os dados de y do proprio dataset de teste (y_test) e as previsoes feitas encima dos dados de teste (y_pred_test)\n",
    "    \n",
    "    features = ['id', 'customer_type', 'age', 'class', 'flight_distance',\n",
    "       'inflight_wifi_service', 'departure_arrival_time_convenient',\n",
    "       'ease_of_online_booking', 'gate_location', 'food_and_drink',\n",
    "       'online_boarding', 'seat_comfort', 'inflight_entertainment',\n",
    "       'on_board_service', 'leg_room_service', 'baggage_handling',\n",
    "       'checkin_service', 'inflight_service', 'cleanliness',\n",
    "       'departure_delay_in_minutes', 'arrival_delay_in_minutes',\n",
    "       'gender_Female', 'gender_Male', 'type_of_travel_business_travel','type_of_travel_personal_travel']\n",
    "    \n",
    "    \n",
    "    label = ['label']    \n",
    "       \n",
    "    #Separando os dados\n",
    "    x_test = df_test.loc[:, features]\n",
    "\n",
    "    y_test = df_test.loc[:, label].values.ravel() \n",
    "    \n",
    "    #Fazendo previsões    \n",
    "    y_pred_test = logistic_regression.predict(x_test)\n",
    "    \n",
    "    return y_test, y_pred_test \n",
    "       "
   ]
  },
  {
   "cell_type": "code",
   "execution_count": 20,
   "id": "cabfb686",
   "metadata": {},
   "outputs": [],
   "source": [
    "def Previsoes_Dataframe_Val(df_val, logistic_regression):\n",
    "    \n",
    "   #Entrada: dataset de validacao +  algoritmo Logistic Regression treinado\n",
    "    \n",
    "   #Saida: os dados de y do proprio dataset de validacao (y_val) e as previsoes feitas encima dos dados de validacao\n",
    "   #(y_pred_val)\n",
    "    \n",
    "\n",
    "    features = ['id', 'customer_type', 'age', 'class', 'flight_distance',\n",
    "       'inflight_wifi_service', 'departure_arrival_time_convenient',\n",
    "       'ease_of_online_booking', 'gate_location', 'food_and_drink',\n",
    "       'online_boarding', 'seat_comfort', 'inflight_entertainment',\n",
    "       'on_board_service', 'leg_room_service', 'baggage_handling',\n",
    "       'checkin_service', 'inflight_service', 'cleanliness',\n",
    "       'departure_delay_in_minutes', 'arrival_delay_in_minutes',\n",
    "       'gender_Female', 'gender_Male', 'type_of_travel_business_travel','type_of_travel_personal_travel']\n",
    "    \n",
    "    \n",
    "    label = ['label']\n",
    "    \n",
    "           \n",
    "    #Separando os dados\n",
    "    x_val = df_val.loc[:, features]\n",
    "\n",
    "    y_val = df_val.loc[:, label].values.ravel() \n",
    "    \n",
    "    #Fazendo previsões\n",
    "    y_pred_val = logistic_regression.predict(x_val)\n",
    "    \n",
    "    return y_val, y_pred_val\n",
    "        "
   ]
  },
  {
   "cell_type": "code",
   "execution_count": 21,
   "id": "ed848cde",
   "metadata": {},
   "outputs": [],
   "source": [
    "#Criando uma função para avaliar as metricas do modelo\n",
    "\n",
    "#Entrada: Os proprios valores da label daquele dataset, as previsoes feitas a partir desses dados, os parametros C,\n",
    "# solver, max_iter\n",
    "\n",
    "#Saida: Dataframe com as principais metricas do modelo\n",
    "\n",
    "def Model_Metrics(y, y_pred,C, solver, max_iter):\n",
    "    #Confusion Matrix\n",
    "    confusion_matrix = mt.confusion_matrix(y , y_pred )\n",
    "        \n",
    "    #Accuracy Score\n",
    "    accuracy_score = np.round(mt.accuracy_score(y, y_pred ),2)\n",
    "        \n",
    "    #Precision Score\n",
    "    precision_score = np.round(mt.precision_score( y, y_pred, average=\"binary\", pos_label= 1),2)\n",
    "        \n",
    "    #Recall Score\n",
    "    recall_score = np.round(mt.recall_score( y, y_pred, average='binary', pos_label=1 ),2)\n",
    "   \n",
    "    #F1 Score\n",
    "    f1_score = np.round(mt.f1_score( y, y_pred, average='binary', pos_label=1 ),2)\n",
    "    \n",
    "    #Criando um dataframe com as metricas\n",
    "    \n",
    "    parameters = 'C = ' + str(C) + ' ;solver = ' + str(solver) + '; max_iter= ' + str(max_iter) \n",
    "    \n",
    "    d = { parameters: [accuracy_score, precision_score, recall_score, f1_score]}  \n",
    "    \n",
    "    df_metrics =  pd.DataFrame(data = d, index = ['accuracy_score', 'precision_score', 'recall_score', 'f1_score'])\n",
    "    \n",
    "    return df_metrics"
   ]
  },
  {
   "cell_type": "markdown",
   "id": "117bebda",
   "metadata": {},
   "source": [
    "# 5. Treinamento do modelo, validação e verificação de performance"
   ]
  },
  {
   "cell_type": "markdown",
   "id": "5365571a",
   "metadata": {},
   "source": [
    "### 5.1 Treinar o modelo com os valores de parametro default: C = 1, solver = lbfgs, max_iter = 100 e verificação das métricas do modelo sobre os dados de treinamento"
   ]
  },
  {
   "cell_type": "code",
   "execution_count": 22,
   "id": "25adf1ed",
   "metadata": {},
   "outputs": [
    {
     "name": "stderr",
     "output_type": "stream",
     "text": [
      "C:\\Users\\Admin\\anaconda3\\lib\\site-packages\\sklearn\\metrics\\_classification.py:1318: UndefinedMetricWarning: Precision is ill-defined and being set to 0.0 due to no predicted samples. Use `zero_division` parameter to control this behavior.\n",
      "  _warn_prf(average, modifier, msg_start, len(result))\n"
     ]
    },
    {
     "data": {
      "text/html": [
       "<div>\n",
       "<style scoped>\n",
       "    .dataframe tbody tr th:only-of-type {\n",
       "        vertical-align: middle;\n",
       "    }\n",
       "\n",
       "    .dataframe tbody tr th {\n",
       "        vertical-align: top;\n",
       "    }\n",
       "\n",
       "    .dataframe thead th {\n",
       "        text-align: right;\n",
       "    }\n",
       "</style>\n",
       "<table border=\"1\" class=\"dataframe\">\n",
       "  <thead>\n",
       "    <tr style=\"text-align: right;\">\n",
       "      <th></th>\n",
       "      <th>C = 1 ;solver = lbfgs; max_iter= 100</th>\n",
       "    </tr>\n",
       "  </thead>\n",
       "  <tbody>\n",
       "    <tr>\n",
       "      <th>accuracy_score</th>\n",
       "      <td>0.57</td>\n",
       "    </tr>\n",
       "    <tr>\n",
       "      <th>precision_score</th>\n",
       "      <td>0.00</td>\n",
       "    </tr>\n",
       "    <tr>\n",
       "      <th>recall_score</th>\n",
       "      <td>0.00</td>\n",
       "    </tr>\n",
       "    <tr>\n",
       "      <th>f1_score</th>\n",
       "      <td>0.00</td>\n",
       "    </tr>\n",
       "  </tbody>\n",
       "</table>\n",
       "</div>"
      ],
      "text/plain": [
       "                 C = 1 ;solver = lbfgs; max_iter= 100\n",
       "accuracy_score                                   0.57\n",
       "precision_score                                  0.00\n",
       "recall_score                                     0.00\n",
       "f1_score                                         0.00"
      ]
     },
     "execution_count": 22,
     "metadata": {},
     "output_type": "execute_result"
    }
   ],
   "source": [
    "y_train, y_pred_train, logistic_regression = Model_Training (df_train, 1, 'lbfgs', 100)\n",
    "df_default_train = Model_Metrics(y_train, y_pred_train, 1, 'lbfgs', 100)\n",
    "df_default_train"
   ]
  },
  {
   "cell_type": "markdown",
   "id": "b51596d6",
   "metadata": {},
   "source": [
    "### 5.2 Testar o algoritmo com o parametro default  nos dados de validação e verificar sua performance"
   ]
  },
  {
   "cell_type": "code",
   "execution_count": 23,
   "id": "5ddace98",
   "metadata": {},
   "outputs": [
    {
     "name": "stderr",
     "output_type": "stream",
     "text": [
      "C:\\Users\\Admin\\anaconda3\\lib\\site-packages\\sklearn\\metrics\\_classification.py:1318: UndefinedMetricWarning: Precision is ill-defined and being set to 0.0 due to no predicted samples. Use `zero_division` parameter to control this behavior.\n",
      "  _warn_prf(average, modifier, msg_start, len(result))\n"
     ]
    },
    {
     "data": {
      "text/html": [
       "<div>\n",
       "<style scoped>\n",
       "    .dataframe tbody tr th:only-of-type {\n",
       "        vertical-align: middle;\n",
       "    }\n",
       "\n",
       "    .dataframe tbody tr th {\n",
       "        vertical-align: top;\n",
       "    }\n",
       "\n",
       "    .dataframe thead th {\n",
       "        text-align: right;\n",
       "    }\n",
       "</style>\n",
       "<table border=\"1\" class=\"dataframe\">\n",
       "  <thead>\n",
       "    <tr style=\"text-align: right;\">\n",
       "      <th></th>\n",
       "      <th>C = 1 ;solver = lbfgs; max_iter= 100</th>\n",
       "    </tr>\n",
       "  </thead>\n",
       "  <tbody>\n",
       "    <tr>\n",
       "      <th>accuracy_score</th>\n",
       "      <td>0.57</td>\n",
       "    </tr>\n",
       "    <tr>\n",
       "      <th>precision_score</th>\n",
       "      <td>0.00</td>\n",
       "    </tr>\n",
       "    <tr>\n",
       "      <th>recall_score</th>\n",
       "      <td>0.00</td>\n",
       "    </tr>\n",
       "    <tr>\n",
       "      <th>f1_score</th>\n",
       "      <td>0.00</td>\n",
       "    </tr>\n",
       "  </tbody>\n",
       "</table>\n",
       "</div>"
      ],
      "text/plain": [
       "                 C = 1 ;solver = lbfgs; max_iter= 100\n",
       "accuracy_score                                   0.57\n",
       "precision_score                                  0.00\n",
       "recall_score                                     0.00\n",
       "f1_score                                         0.00"
      ]
     },
     "execution_count": 23,
     "metadata": {},
     "output_type": "execute_result"
    }
   ],
   "source": [
    "y_val, y_pred_val = Previsoes_Dataframe_Val(df_val, logistic_regression)\n",
    "df_val_default = Model_Metrics(y_val, y_pred_val, 1, 'lbfgs', 100)\n",
    "df_val_default"
   ]
  },
  {
   "cell_type": "markdown",
   "id": "23b22f70",
   "metadata": {},
   "source": [
    "### 5.3 Treinar o modelo nos dados de treinamento alterando os parametros e testar a performance desse modelo sobre os dados de validação"
   ]
  },
  {
   "cell_type": "markdown",
   "id": "2446fb97",
   "metadata": {},
   "source": [
    "### a)C = 1, solver = \"lbfgs\", max_iter=150"
   ]
  },
  {
   "cell_type": "code",
   "execution_count": 24,
   "id": "4283d447",
   "metadata": {},
   "outputs": [
    {
     "name": "stderr",
     "output_type": "stream",
     "text": [
      "C:\\Users\\Admin\\anaconda3\\lib\\site-packages\\sklearn\\metrics\\_classification.py:1318: UndefinedMetricWarning: Precision is ill-defined and being set to 0.0 due to no predicted samples. Use `zero_division` parameter to control this behavior.\n",
      "  _warn_prf(average, modifier, msg_start, len(result))\n"
     ]
    },
    {
     "data": {
      "text/html": [
       "<div>\n",
       "<style scoped>\n",
       "    .dataframe tbody tr th:only-of-type {\n",
       "        vertical-align: middle;\n",
       "    }\n",
       "\n",
       "    .dataframe tbody tr th {\n",
       "        vertical-align: top;\n",
       "    }\n",
       "\n",
       "    .dataframe thead th {\n",
       "        text-align: right;\n",
       "    }\n",
       "</style>\n",
       "<table border=\"1\" class=\"dataframe\">\n",
       "  <thead>\n",
       "    <tr style=\"text-align: right;\">\n",
       "      <th></th>\n",
       "      <th>C = 1 ;solver = lbfgs; max_iter= 150</th>\n",
       "    </tr>\n",
       "  </thead>\n",
       "  <tbody>\n",
       "    <tr>\n",
       "      <th>accuracy_score</th>\n",
       "      <td>0.57</td>\n",
       "    </tr>\n",
       "    <tr>\n",
       "      <th>precision_score</th>\n",
       "      <td>0.00</td>\n",
       "    </tr>\n",
       "    <tr>\n",
       "      <th>recall_score</th>\n",
       "      <td>0.00</td>\n",
       "    </tr>\n",
       "    <tr>\n",
       "      <th>f1_score</th>\n",
       "      <td>0.00</td>\n",
       "    </tr>\n",
       "  </tbody>\n",
       "</table>\n",
       "</div>"
      ],
      "text/plain": [
       "                 C = 1 ;solver = lbfgs; max_iter= 150\n",
       "accuracy_score                                   0.57\n",
       "precision_score                                  0.00\n",
       "recall_score                                     0.00\n",
       "f1_score                                         0.00"
      ]
     },
     "execution_count": 24,
     "metadata": {},
     "output_type": "execute_result"
    }
   ],
   "source": [
    "y_train, y_pred_train, logistic_regression = Model_Training (df_train, 1, 'lbfgs', 150)\n",
    "df_val1 = Model_Metrics(y_train, y_pred_train, 1, 'lbfgs', 150)\n",
    "df_val1"
   ]
  },
  {
   "cell_type": "markdown",
   "id": "9c2b5114",
   "metadata": {},
   "source": [
    "### b) C = 0.8, solver = \"lbfgs\", max_iter=100"
   ]
  },
  {
   "cell_type": "code",
   "execution_count": 25,
   "id": "19f20e06",
   "metadata": {},
   "outputs": [
    {
     "name": "stderr",
     "output_type": "stream",
     "text": [
      "C:\\Users\\Admin\\anaconda3\\lib\\site-packages\\sklearn\\metrics\\_classification.py:1318: UndefinedMetricWarning: Precision is ill-defined and being set to 0.0 due to no predicted samples. Use `zero_division` parameter to control this behavior.\n",
      "  _warn_prf(average, modifier, msg_start, len(result))\n"
     ]
    },
    {
     "data": {
      "text/html": [
       "<div>\n",
       "<style scoped>\n",
       "    .dataframe tbody tr th:only-of-type {\n",
       "        vertical-align: middle;\n",
       "    }\n",
       "\n",
       "    .dataframe tbody tr th {\n",
       "        vertical-align: top;\n",
       "    }\n",
       "\n",
       "    .dataframe thead th {\n",
       "        text-align: right;\n",
       "    }\n",
       "</style>\n",
       "<table border=\"1\" class=\"dataframe\">\n",
       "  <thead>\n",
       "    <tr style=\"text-align: right;\">\n",
       "      <th></th>\n",
       "      <th>C = 0.8 ;solver = lbfgs; max_iter= 100</th>\n",
       "    </tr>\n",
       "  </thead>\n",
       "  <tbody>\n",
       "    <tr>\n",
       "      <th>accuracy_score</th>\n",
       "      <td>0.57</td>\n",
       "    </tr>\n",
       "    <tr>\n",
       "      <th>precision_score</th>\n",
       "      <td>0.00</td>\n",
       "    </tr>\n",
       "    <tr>\n",
       "      <th>recall_score</th>\n",
       "      <td>0.00</td>\n",
       "    </tr>\n",
       "    <tr>\n",
       "      <th>f1_score</th>\n",
       "      <td>0.00</td>\n",
       "    </tr>\n",
       "  </tbody>\n",
       "</table>\n",
       "</div>"
      ],
      "text/plain": [
       "                 C = 0.8 ;solver = lbfgs; max_iter= 100\n",
       "accuracy_score                                     0.57\n",
       "precision_score                                    0.00\n",
       "recall_score                                       0.00\n",
       "f1_score                                           0.00"
      ]
     },
     "execution_count": 25,
     "metadata": {},
     "output_type": "execute_result"
    }
   ],
   "source": [
    "y_train, y_pred_train, logistic_regression = Model_Training (df_train, 0.8, 'lbfgs', 100)\n",
    "df_val2 = Model_Metrics(y_train, y_pred_train, 0.8, 'lbfgs', 100)\n",
    "df_val2"
   ]
  },
  {
   "cell_type": "markdown",
   "id": "c9caa2e2",
   "metadata": {},
   "source": [
    "### c) C = 1, solver = \"liblinear\", max_iter=100"
   ]
  },
  {
   "cell_type": "code",
   "execution_count": 26,
   "id": "187a96a4",
   "metadata": {},
   "outputs": [
    {
     "data": {
      "text/html": [
       "<div>\n",
       "<style scoped>\n",
       "    .dataframe tbody tr th:only-of-type {\n",
       "        vertical-align: middle;\n",
       "    }\n",
       "\n",
       "    .dataframe tbody tr th {\n",
       "        vertical-align: top;\n",
       "    }\n",
       "\n",
       "    .dataframe thead th {\n",
       "        text-align: right;\n",
       "    }\n",
       "</style>\n",
       "<table border=\"1\" class=\"dataframe\">\n",
       "  <thead>\n",
       "    <tr style=\"text-align: right;\">\n",
       "      <th></th>\n",
       "      <th>C = 1 ;solver = liblinear; max_iter= 100</th>\n",
       "    </tr>\n",
       "  </thead>\n",
       "  <tbody>\n",
       "    <tr>\n",
       "      <th>accuracy_score</th>\n",
       "      <td>0.79</td>\n",
       "    </tr>\n",
       "    <tr>\n",
       "      <th>precision_score</th>\n",
       "      <td>0.73</td>\n",
       "    </tr>\n",
       "    <tr>\n",
       "      <th>recall_score</th>\n",
       "      <td>0.83</td>\n",
       "    </tr>\n",
       "    <tr>\n",
       "      <th>f1_score</th>\n",
       "      <td>0.78</td>\n",
       "    </tr>\n",
       "  </tbody>\n",
       "</table>\n",
       "</div>"
      ],
      "text/plain": [
       "                 C = 1 ;solver = liblinear; max_iter= 100\n",
       "accuracy_score                                       0.79\n",
       "precision_score                                      0.73\n",
       "recall_score                                         0.83\n",
       "f1_score                                             0.78"
      ]
     },
     "execution_count": 26,
     "metadata": {},
     "output_type": "execute_result"
    }
   ],
   "source": [
    "y_train, y_pred_train, logistic_regression = Model_Training (df_train, 1, 'liblinear', 100)\n",
    "df_val3 = Model_Metrics(y_train, y_pred_train, 1, 'liblinear', 100)\n",
    "df_val3"
   ]
  },
  {
   "cell_type": "markdown",
   "id": "c49c1aa5",
   "metadata": {},
   "source": [
    "### d) C = 1, solver = \"liblinear\", max_iter=150"
   ]
  },
  {
   "cell_type": "code",
   "execution_count": 27,
   "id": "72e99a2e",
   "metadata": {},
   "outputs": [
    {
     "data": {
      "text/html": [
       "<div>\n",
       "<style scoped>\n",
       "    .dataframe tbody tr th:only-of-type {\n",
       "        vertical-align: middle;\n",
       "    }\n",
       "\n",
       "    .dataframe tbody tr th {\n",
       "        vertical-align: top;\n",
       "    }\n",
       "\n",
       "    .dataframe thead th {\n",
       "        text-align: right;\n",
       "    }\n",
       "</style>\n",
       "<table border=\"1\" class=\"dataframe\">\n",
       "  <thead>\n",
       "    <tr style=\"text-align: right;\">\n",
       "      <th></th>\n",
       "      <th>C = 1 ;solver = liblinear; max_iter= 150</th>\n",
       "    </tr>\n",
       "  </thead>\n",
       "  <tbody>\n",
       "    <tr>\n",
       "      <th>accuracy_score</th>\n",
       "      <td>0.79</td>\n",
       "    </tr>\n",
       "    <tr>\n",
       "      <th>precision_score</th>\n",
       "      <td>0.73</td>\n",
       "    </tr>\n",
       "    <tr>\n",
       "      <th>recall_score</th>\n",
       "      <td>0.83</td>\n",
       "    </tr>\n",
       "    <tr>\n",
       "      <th>f1_score</th>\n",
       "      <td>0.78</td>\n",
       "    </tr>\n",
       "  </tbody>\n",
       "</table>\n",
       "</div>"
      ],
      "text/plain": [
       "                 C = 1 ;solver = liblinear; max_iter= 150\n",
       "accuracy_score                                       0.79\n",
       "precision_score                                      0.73\n",
       "recall_score                                         0.83\n",
       "f1_score                                             0.78"
      ]
     },
     "execution_count": 27,
     "metadata": {},
     "output_type": "execute_result"
    }
   ],
   "source": [
    "y_train, y_pred_train, logistic_regression = Model_Training (df_train, 1, 'liblinear', 150)\n",
    "df_val4 = Model_Metrics(y_train, y_pred_train, 1, 'liblinear', 150)\n",
    "df_val4"
   ]
  },
  {
   "cell_type": "markdown",
   "id": "0a41ed4c",
   "metadata": {},
   "source": [
    "### e) C = 0.7, solver = \"liblinear\", max_iter = 150"
   ]
  },
  {
   "cell_type": "code",
   "execution_count": 28,
   "id": "311beeeb",
   "metadata": {},
   "outputs": [
    {
     "data": {
      "text/html": [
       "<div>\n",
       "<style scoped>\n",
       "    .dataframe tbody tr th:only-of-type {\n",
       "        vertical-align: middle;\n",
       "    }\n",
       "\n",
       "    .dataframe tbody tr th {\n",
       "        vertical-align: top;\n",
       "    }\n",
       "\n",
       "    .dataframe thead th {\n",
       "        text-align: right;\n",
       "    }\n",
       "</style>\n",
       "<table border=\"1\" class=\"dataframe\">\n",
       "  <thead>\n",
       "    <tr style=\"text-align: right;\">\n",
       "      <th></th>\n",
       "      <th>C = 0.7 ;solver = liblinear; max_iter= 150</th>\n",
       "    </tr>\n",
       "  </thead>\n",
       "  <tbody>\n",
       "    <tr>\n",
       "      <th>accuracy_score</th>\n",
       "      <td>0.79</td>\n",
       "    </tr>\n",
       "    <tr>\n",
       "      <th>precision_score</th>\n",
       "      <td>0.73</td>\n",
       "    </tr>\n",
       "    <tr>\n",
       "      <th>recall_score</th>\n",
       "      <td>0.83</td>\n",
       "    </tr>\n",
       "    <tr>\n",
       "      <th>f1_score</th>\n",
       "      <td>0.78</td>\n",
       "    </tr>\n",
       "  </tbody>\n",
       "</table>\n",
       "</div>"
      ],
      "text/plain": [
       "                 C = 0.7 ;solver = liblinear; max_iter= 150\n",
       "accuracy_score                                         0.79\n",
       "precision_score                                        0.73\n",
       "recall_score                                           0.83\n",
       "f1_score                                               0.78"
      ]
     },
     "execution_count": 28,
     "metadata": {},
     "output_type": "execute_result"
    }
   ],
   "source": [
    "y_train, y_pred_train, logistic_regression = Model_Training (df_train, 0.7, 'liblinear', 150)\n",
    "df_val5 = Model_Metrics(y_train, y_pred_train, 0.7, 'liblinear', 150)\n",
    "df_val5"
   ]
  },
  {
   "cell_type": "markdown",
   "id": "4f2c1dfc",
   "metadata": {},
   "source": [
    "### f)  C = 0.2, solver = \"liblinear\", max_iter = 100"
   ]
  },
  {
   "cell_type": "code",
   "execution_count": 29,
   "id": "1062fc66",
   "metadata": {},
   "outputs": [
    {
     "data": {
      "text/html": [
       "<div>\n",
       "<style scoped>\n",
       "    .dataframe tbody tr th:only-of-type {\n",
       "        vertical-align: middle;\n",
       "    }\n",
       "\n",
       "    .dataframe tbody tr th {\n",
       "        vertical-align: top;\n",
       "    }\n",
       "\n",
       "    .dataframe thead th {\n",
       "        text-align: right;\n",
       "    }\n",
       "</style>\n",
       "<table border=\"1\" class=\"dataframe\">\n",
       "  <thead>\n",
       "    <tr style=\"text-align: right;\">\n",
       "      <th></th>\n",
       "      <th>C = 0.2 ;solver = liblinear; max_iter= 100</th>\n",
       "    </tr>\n",
       "  </thead>\n",
       "  <tbody>\n",
       "    <tr>\n",
       "      <th>accuracy_score</th>\n",
       "      <td>0.84</td>\n",
       "    </tr>\n",
       "    <tr>\n",
       "      <th>precision_score</th>\n",
       "      <td>0.79</td>\n",
       "    </tr>\n",
       "    <tr>\n",
       "      <th>recall_score</th>\n",
       "      <td>0.84</td>\n",
       "    </tr>\n",
       "    <tr>\n",
       "      <th>f1_score</th>\n",
       "      <td>0.82</td>\n",
       "    </tr>\n",
       "  </tbody>\n",
       "</table>\n",
       "</div>"
      ],
      "text/plain": [
       "                 C = 0.2 ;solver = liblinear; max_iter= 100\n",
       "accuracy_score                                         0.84\n",
       "precision_score                                        0.79\n",
       "recall_score                                           0.84\n",
       "f1_score                                               0.82"
      ]
     },
     "execution_count": 29,
     "metadata": {},
     "output_type": "execute_result"
    }
   ],
   "source": [
    "y_train, y_pred_train, logistic_regression = Model_Training (df_train, 0.2, 'liblinear', 100)\n",
    "df_val6 = Model_Metrics(y_train, y_pred_train, 0.2, 'liblinear', 100)\n",
    "df_val6"
   ]
  },
  {
   "cell_type": "markdown",
   "id": "e92340af",
   "metadata": {},
   "source": [
    "### g)  C = 0.2, solver = \"liblinear\", max_iter = 70"
   ]
  },
  {
   "cell_type": "code",
   "execution_count": 30,
   "id": "e043465d",
   "metadata": {},
   "outputs": [
    {
     "data": {
      "text/html": [
       "<div>\n",
       "<style scoped>\n",
       "    .dataframe tbody tr th:only-of-type {\n",
       "        vertical-align: middle;\n",
       "    }\n",
       "\n",
       "    .dataframe tbody tr th {\n",
       "        vertical-align: top;\n",
       "    }\n",
       "\n",
       "    .dataframe thead th {\n",
       "        text-align: right;\n",
       "    }\n",
       "</style>\n",
       "<table border=\"1\" class=\"dataframe\">\n",
       "  <thead>\n",
       "    <tr style=\"text-align: right;\">\n",
       "      <th></th>\n",
       "      <th>C = 0.2 ;solver = liblinear; max_iter= 70</th>\n",
       "    </tr>\n",
       "  </thead>\n",
       "  <tbody>\n",
       "    <tr>\n",
       "      <th>accuracy_score</th>\n",
       "      <td>0.84</td>\n",
       "    </tr>\n",
       "    <tr>\n",
       "      <th>precision_score</th>\n",
       "      <td>0.79</td>\n",
       "    </tr>\n",
       "    <tr>\n",
       "      <th>recall_score</th>\n",
       "      <td>0.84</td>\n",
       "    </tr>\n",
       "    <tr>\n",
       "      <th>f1_score</th>\n",
       "      <td>0.82</td>\n",
       "    </tr>\n",
       "  </tbody>\n",
       "</table>\n",
       "</div>"
      ],
      "text/plain": [
       "                 C = 0.2 ;solver = liblinear; max_iter= 70\n",
       "accuracy_score                                        0.84\n",
       "precision_score                                       0.79\n",
       "recall_score                                          0.84\n",
       "f1_score                                              0.82"
      ]
     },
     "execution_count": 30,
     "metadata": {},
     "output_type": "execute_result"
    }
   ],
   "source": [
    "y_train, y_pred_train, logistic_regression = Model_Training (df_train, 0.2, 'liblinear', 70)\n",
    "df_val7 = Model_Metrics(y_train, y_pred_train, 0.2, 'liblinear', 70)\n",
    "df_val7"
   ]
  },
  {
   "cell_type": "markdown",
   "id": "f424f48a",
   "metadata": {},
   "source": [
    "### 5.4 Verificar o parametro que obteve os melhores resultados nos dados de validação"
   ]
  },
  {
   "cell_type": "code",
   "execution_count": 31,
   "id": "97a0d88b",
   "metadata": {},
   "outputs": [],
   "source": [
    "df_metrics_val = pd.concat([df_val_default, df_val1, df_val2, df_val3, df_val4, df_val5, df_val6, df_val7], axis = 1)"
   ]
  },
  {
   "cell_type": "code",
   "execution_count": 32,
   "id": "a08e8796",
   "metadata": {},
   "outputs": [
    {
     "data": {
      "text/html": [
       "<div>\n",
       "<style scoped>\n",
       "    .dataframe tbody tr th:only-of-type {\n",
       "        vertical-align: middle;\n",
       "    }\n",
       "\n",
       "    .dataframe tbody tr th {\n",
       "        vertical-align: top;\n",
       "    }\n",
       "\n",
       "    .dataframe thead th {\n",
       "        text-align: right;\n",
       "    }\n",
       "</style>\n",
       "<table border=\"1\" class=\"dataframe\">\n",
       "  <thead>\n",
       "    <tr style=\"text-align: right;\">\n",
       "      <th></th>\n",
       "      <th>C = 1 ;solver = lbfgs; max_iter= 100</th>\n",
       "      <th>C = 1 ;solver = lbfgs; max_iter= 150</th>\n",
       "      <th>C = 0.8 ;solver = lbfgs; max_iter= 100</th>\n",
       "      <th>C = 1 ;solver = liblinear; max_iter= 100</th>\n",
       "      <th>C = 1 ;solver = liblinear; max_iter= 150</th>\n",
       "      <th>C = 0.7 ;solver = liblinear; max_iter= 150</th>\n",
       "      <th>C = 0.2 ;solver = liblinear; max_iter= 100</th>\n",
       "      <th>C = 0.2 ;solver = liblinear; max_iter= 70</th>\n",
       "    </tr>\n",
       "  </thead>\n",
       "  <tbody>\n",
       "    <tr>\n",
       "      <th>accuracy_score</th>\n",
       "      <td>0.57</td>\n",
       "      <td>0.57</td>\n",
       "      <td>0.57</td>\n",
       "      <td>0.79</td>\n",
       "      <td>0.79</td>\n",
       "      <td>0.79</td>\n",
       "      <td>0.84</td>\n",
       "      <td>0.84</td>\n",
       "    </tr>\n",
       "    <tr>\n",
       "      <th>precision_score</th>\n",
       "      <td>0.00</td>\n",
       "      <td>0.00</td>\n",
       "      <td>0.00</td>\n",
       "      <td>0.73</td>\n",
       "      <td>0.73</td>\n",
       "      <td>0.73</td>\n",
       "      <td>0.79</td>\n",
       "      <td>0.79</td>\n",
       "    </tr>\n",
       "    <tr>\n",
       "      <th>recall_score</th>\n",
       "      <td>0.00</td>\n",
       "      <td>0.00</td>\n",
       "      <td>0.00</td>\n",
       "      <td>0.83</td>\n",
       "      <td>0.83</td>\n",
       "      <td>0.83</td>\n",
       "      <td>0.84</td>\n",
       "      <td>0.84</td>\n",
       "    </tr>\n",
       "    <tr>\n",
       "      <th>f1_score</th>\n",
       "      <td>0.00</td>\n",
       "      <td>0.00</td>\n",
       "      <td>0.00</td>\n",
       "      <td>0.78</td>\n",
       "      <td>0.78</td>\n",
       "      <td>0.78</td>\n",
       "      <td>0.82</td>\n",
       "      <td>0.82</td>\n",
       "    </tr>\n",
       "  </tbody>\n",
       "</table>\n",
       "</div>"
      ],
      "text/plain": [
       "                 C = 1 ;solver = lbfgs; max_iter= 100  \\\n",
       "accuracy_score                                   0.57   \n",
       "precision_score                                  0.00   \n",
       "recall_score                                     0.00   \n",
       "f1_score                                         0.00   \n",
       "\n",
       "                 C = 1 ;solver = lbfgs; max_iter= 150  \\\n",
       "accuracy_score                                   0.57   \n",
       "precision_score                                  0.00   \n",
       "recall_score                                     0.00   \n",
       "f1_score                                         0.00   \n",
       "\n",
       "                 C = 0.8 ;solver = lbfgs; max_iter= 100  \\\n",
       "accuracy_score                                     0.57   \n",
       "precision_score                                    0.00   \n",
       "recall_score                                       0.00   \n",
       "f1_score                                           0.00   \n",
       "\n",
       "                 C = 1 ;solver = liblinear; max_iter= 100  \\\n",
       "accuracy_score                                       0.79   \n",
       "precision_score                                      0.73   \n",
       "recall_score                                         0.83   \n",
       "f1_score                                             0.78   \n",
       "\n",
       "                 C = 1 ;solver = liblinear; max_iter= 150  \\\n",
       "accuracy_score                                       0.79   \n",
       "precision_score                                      0.73   \n",
       "recall_score                                         0.83   \n",
       "f1_score                                             0.78   \n",
       "\n",
       "                 C = 0.7 ;solver = liblinear; max_iter= 150  \\\n",
       "accuracy_score                                         0.79   \n",
       "precision_score                                        0.73   \n",
       "recall_score                                           0.83   \n",
       "f1_score                                               0.78   \n",
       "\n",
       "                 C = 0.2 ;solver = liblinear; max_iter= 100  \\\n",
       "accuracy_score                                         0.84   \n",
       "precision_score                                        0.79   \n",
       "recall_score                                           0.84   \n",
       "f1_score                                               0.82   \n",
       "\n",
       "                 C = 0.2 ;solver = liblinear; max_iter= 70  \n",
       "accuracy_score                                        0.84  \n",
       "precision_score                                       0.79  \n",
       "recall_score                                          0.84  \n",
       "f1_score                                              0.82  "
      ]
     },
     "execution_count": 32,
     "metadata": {},
     "output_type": "execute_result"
    }
   ],
   "source": [
    "df_metrics_val"
   ]
  },
  {
   "cell_type": "markdown",
   "id": "81c72f36",
   "metadata": {},
   "source": [
    "#### Resposta: Os parâmetros que obteveram os melhores resultados nos dados de validação são os parâmetros:\n",
    "#### C = 0.2, solver ='liblinear', max_iter = 100 que estão presentes no objeto df_val6"
   ]
  },
  {
   "cell_type": "markdown",
   "id": "c80855e8",
   "metadata": {},
   "source": [
    "# 6. Unificar os dados de treinamento e validação e retreinar o algoritmo, utilizando os melhores valores para os parâmetros"
   ]
  },
  {
   "cell_type": "markdown",
   "id": "2d90aec1",
   "metadata": {},
   "source": [
    "### 6.1 Unificar novamente os datasets de treinamento e validação"
   ]
  },
  {
   "cell_type": "code",
   "execution_count": 33,
   "id": "21e66b11",
   "metadata": {},
   "outputs": [],
   "source": [
    "features = ['id', 'customer_type', 'age', 'class', 'flight_distance',\n",
    "       'inflight_wifi_service', 'departure_arrival_time_convenient',\n",
    "       'ease_of_online_booking', 'gate_location', 'food_and_drink',\n",
    "       'online_boarding', 'seat_comfort', 'inflight_entertainment',\n",
    "       'on_board_service', 'leg_room_service', 'baggage_handling',\n",
    "       'checkin_service', 'inflight_service', 'cleanliness',\n",
    "       'departure_delay_in_minutes', 'arrival_delay_in_minutes',\n",
    "       'gender_Female', 'gender_Male', 'type_of_travel_business_travel','type_of_travel_personal_travel']\n",
    "    \n",
    "label = ['label']    \n",
    "    \n",
    "#Separação dos dados de treino\n",
    "x_train = df_train.loc[:, features]\n",
    "\n",
    "#Esse metodo ravel transforma os valores em um array\n",
    "y_train = df_train.loc[:, label].values.ravel()      \n",
    "\n",
    "#Separação dos dados de validação\n",
    "x_val = df_val.loc[:, features]\n",
    "\n",
    "y_val = df_val.loc[:, label].values.ravel()    "
   ]
  },
  {
   "cell_type": "markdown",
   "id": "7de1beed",
   "metadata": {},
   "source": [
    "### 6.2 Treinar o modelo novamente com o melhor parametro obtido"
   ]
  },
  {
   "cell_type": "code",
   "execution_count": 34,
   "id": "966e4f24",
   "metadata": {},
   "outputs": [
    {
     "data": {
      "text/plain": [
       "LogisticRegression(C=0.2, solver='liblinear')"
      ]
     },
     "execution_count": 34,
     "metadata": {},
     "output_type": "execute_result"
    }
   ],
   "source": [
    "model_last = LogisticRegression(C = 0.2, solver ='liblinear', max_iter = 100)\n",
    "model_last.fit( np.concatenate( (x_train, x_val) ), np.concatenate((y_train, y_val)) )"
   ]
  },
  {
   "cell_type": "markdown",
   "id": "97ed2f65",
   "metadata": {},
   "source": [
    "### 6.3 Fazendo previsões nos dados de teste "
   ]
  },
  {
   "cell_type": "code",
   "execution_count": 35,
   "id": "2097ad08",
   "metadata": {},
   "outputs": [
    {
     "name": "stderr",
     "output_type": "stream",
     "text": [
      "C:\\Users\\Admin\\anaconda3\\lib\\site-packages\\sklearn\\base.py:443: UserWarning: X has feature names, but LogisticRegression was fitted without feature names\n",
      "  warnings.warn(\n"
     ]
    }
   ],
   "source": [
    "y_test, y_pred_test = Previsoes_Dataframe_Test(df_test, model_last)"
   ]
  },
  {
   "cell_type": "markdown",
   "id": "b3ff9663",
   "metadata": {},
   "source": [
    "### 6.4 Verificando as métricas do modelo com os dados de teste"
   ]
  },
  {
   "cell_type": "code",
   "execution_count": 36,
   "id": "723b8b65",
   "metadata": {},
   "outputs": [],
   "source": [
    "df_metrics_test = Model_Metrics(y_test, y_pred_test, 0.2, 'liblinear', 100)"
   ]
  },
  {
   "cell_type": "code",
   "execution_count": 37,
   "id": "11472a38",
   "metadata": {},
   "outputs": [
    {
     "data": {
      "text/html": [
       "<div>\n",
       "<style scoped>\n",
       "    .dataframe tbody tr th:only-of-type {\n",
       "        vertical-align: middle;\n",
       "    }\n",
       "\n",
       "    .dataframe tbody tr th {\n",
       "        vertical-align: top;\n",
       "    }\n",
       "\n",
       "    .dataframe thead th {\n",
       "        text-align: right;\n",
       "    }\n",
       "</style>\n",
       "<table border=\"1\" class=\"dataframe\">\n",
       "  <thead>\n",
       "    <tr style=\"text-align: right;\">\n",
       "      <th></th>\n",
       "      <th>C = 0.2 ;solver = liblinear; max_iter= 100</th>\n",
       "    </tr>\n",
       "  </thead>\n",
       "  <tbody>\n",
       "    <tr>\n",
       "      <th>accuracy_score</th>\n",
       "      <td>0.64</td>\n",
       "    </tr>\n",
       "    <tr>\n",
       "      <th>precision_score</th>\n",
       "      <td>0.63</td>\n",
       "    </tr>\n",
       "    <tr>\n",
       "      <th>recall_score</th>\n",
       "      <td>0.44</td>\n",
       "    </tr>\n",
       "    <tr>\n",
       "      <th>f1_score</th>\n",
       "      <td>0.52</td>\n",
       "    </tr>\n",
       "  </tbody>\n",
       "</table>\n",
       "</div>"
      ],
      "text/plain": [
       "                 C = 0.2 ;solver = liblinear; max_iter= 100\n",
       "accuracy_score                                         0.64\n",
       "precision_score                                        0.63\n",
       "recall_score                                           0.44\n",
       "f1_score                                               0.52"
      ]
     },
     "execution_count": 37,
     "metadata": {},
     "output_type": "execute_result"
    }
   ],
   "source": [
    "df_metrics_test"
   ]
  },
  {
   "cell_type": "markdown",
   "id": "5c1ef6ef",
   "metadata": {},
   "source": [
    "### 6.5 Dataframe comparando as métricas obtidas sob os dados de validação e sob os dados de teste"
   ]
  },
  {
   "cell_type": "code",
   "execution_count": 38,
   "id": "dc08ae6d",
   "metadata": {},
   "outputs": [
    {
     "data": {
      "text/html": [
       "<div>\n",
       "<style scoped>\n",
       "    .dataframe tbody tr th:only-of-type {\n",
       "        vertical-align: middle;\n",
       "    }\n",
       "\n",
       "    .dataframe tbody tr th {\n",
       "        vertical-align: top;\n",
       "    }\n",
       "\n",
       "    .dataframe thead th {\n",
       "        text-align: right;\n",
       "    }\n",
       "</style>\n",
       "<table border=\"1\" class=\"dataframe\">\n",
       "  <thead>\n",
       "    <tr style=\"text-align: right;\">\n",
       "      <th></th>\n",
       "      <th>dados_teste</th>\n",
       "    </tr>\n",
       "  </thead>\n",
       "  <tbody>\n",
       "    <tr>\n",
       "      <th>accuracy_score</th>\n",
       "      <td>0.64</td>\n",
       "    </tr>\n",
       "    <tr>\n",
       "      <th>precision_score</th>\n",
       "      <td>0.63</td>\n",
       "    </tr>\n",
       "    <tr>\n",
       "      <th>recall_score</th>\n",
       "      <td>0.44</td>\n",
       "    </tr>\n",
       "    <tr>\n",
       "      <th>f1_score</th>\n",
       "      <td>0.52</td>\n",
       "    </tr>\n",
       "  </tbody>\n",
       "</table>\n",
       "</div>"
      ],
      "text/plain": [
       "                 dados_teste\n",
       "accuracy_score          0.64\n",
       "precision_score         0.63\n",
       "recall_score            0.44\n",
       "f1_score                0.52"
      ]
     },
     "execution_count": 38,
     "metadata": {},
     "output_type": "execute_result"
    }
   ],
   "source": [
    "df_metrics_test = df_metrics_test.rename(columns = {\"C = 0.2 ;solver = liblinear; max_iter= 100\": \"dados_teste\"})\n",
    "df_metrics_test"
   ]
  },
  {
   "cell_type": "code",
   "execution_count": 39,
   "id": "e4be2af1",
   "metadata": {},
   "outputs": [
    {
     "data": {
      "text/html": [
       "<div>\n",
       "<style scoped>\n",
       "    .dataframe tbody tr th:only-of-type {\n",
       "        vertical-align: middle;\n",
       "    }\n",
       "\n",
       "    .dataframe tbody tr th {\n",
       "        vertical-align: top;\n",
       "    }\n",
       "\n",
       "    .dataframe thead th {\n",
       "        text-align: right;\n",
       "    }\n",
       "</style>\n",
       "<table border=\"1\" class=\"dataframe\">\n",
       "  <thead>\n",
       "    <tr style=\"text-align: right;\">\n",
       "      <th></th>\n",
       "      <th>dados_validação</th>\n",
       "    </tr>\n",
       "  </thead>\n",
       "  <tbody>\n",
       "    <tr>\n",
       "      <th>accuracy_score</th>\n",
       "      <td>0.84</td>\n",
       "    </tr>\n",
       "    <tr>\n",
       "      <th>precision_score</th>\n",
       "      <td>0.79</td>\n",
       "    </tr>\n",
       "    <tr>\n",
       "      <th>recall_score</th>\n",
       "      <td>0.84</td>\n",
       "    </tr>\n",
       "    <tr>\n",
       "      <th>f1_score</th>\n",
       "      <td>0.82</td>\n",
       "    </tr>\n",
       "  </tbody>\n",
       "</table>\n",
       "</div>"
      ],
      "text/plain": [
       "                 dados_validação\n",
       "accuracy_score              0.84\n",
       "precision_score             0.79\n",
       "recall_score                0.84\n",
       "f1_score                    0.82"
      ]
     },
     "execution_count": 39,
     "metadata": {},
     "output_type": "execute_result"
    }
   ],
   "source": [
    "df_val6 = df_val6.rename(columns = {\"C = 0.2 ;solver = liblinear; max_iter= 100\": \"dados_validação\"})\n",
    "df_val6"
   ]
  },
  {
   "cell_type": "code",
   "execution_count": 40,
   "id": "70f3deed",
   "metadata": {},
   "outputs": [
    {
     "data": {
      "text/html": [
       "<div>\n",
       "<style scoped>\n",
       "    .dataframe tbody tr th:only-of-type {\n",
       "        vertical-align: middle;\n",
       "    }\n",
       "\n",
       "    .dataframe tbody tr th {\n",
       "        vertical-align: top;\n",
       "    }\n",
       "\n",
       "    .dataframe thead th {\n",
       "        text-align: right;\n",
       "    }\n",
       "</style>\n",
       "<table border=\"1\" class=\"dataframe\">\n",
       "  <thead>\n",
       "    <tr style=\"text-align: right;\">\n",
       "      <th></th>\n",
       "      <th>dados_teste</th>\n",
       "      <th>dados_validação</th>\n",
       "    </tr>\n",
       "  </thead>\n",
       "  <tbody>\n",
       "    <tr>\n",
       "      <th>accuracy_score</th>\n",
       "      <td>0.64</td>\n",
       "      <td>0.84</td>\n",
       "    </tr>\n",
       "    <tr>\n",
       "      <th>precision_score</th>\n",
       "      <td>0.63</td>\n",
       "      <td>0.79</td>\n",
       "    </tr>\n",
       "    <tr>\n",
       "      <th>recall_score</th>\n",
       "      <td>0.44</td>\n",
       "      <td>0.84</td>\n",
       "    </tr>\n",
       "    <tr>\n",
       "      <th>f1_score</th>\n",
       "      <td>0.52</td>\n",
       "      <td>0.82</td>\n",
       "    </tr>\n",
       "  </tbody>\n",
       "</table>\n",
       "</div>"
      ],
      "text/plain": [
       "                 dados_teste  dados_validação\n",
       "accuracy_score          0.64             0.84\n",
       "precision_score         0.63             0.79\n",
       "recall_score            0.44             0.84\n",
       "f1_score                0.52             0.82"
      ]
     },
     "execution_count": 40,
     "metadata": {},
     "output_type": "execute_result"
    }
   ],
   "source": [
    "df_comparative = pd.concat([df_metrics_test, df_val6], axis = 1)\n",
    "df_comparative"
   ]
  },
  {
   "cell_type": "markdown",
   "id": "e3aed96c",
   "metadata": {},
   "source": [
    "#### Observação 1: As métricas obtidas nos dados de validação com os parametros  C = 0.2,solver = 'liblinear',max_iter = 100 não foram repetidas com os dados de teste. Podemos dizer que é um caso de overfitting, a saber o modelo apreendeu profundamente as relações nos dados de validação, mas não consegue generalizar para os dados de teste"
   ]
  },
  {
   "cell_type": "markdown",
   "id": "213d878d",
   "metadata": {},
   "source": [
    "# 6.6 Vamos refazer o processo e verificar a performance do modelo retreinado com os parametros default sob os dados de teste"
   ]
  },
  {
   "cell_type": "markdown",
   "id": "faad03fc",
   "metadata": {},
   "source": [
    "### 6.7 Treinar o modelo novamente"
   ]
  },
  {
   "cell_type": "code",
   "execution_count": 41,
   "id": "db50f76e",
   "metadata": {},
   "outputs": [
    {
     "data": {
      "text/plain": [
       "LogisticRegression(C=1)"
      ]
     },
     "execution_count": 41,
     "metadata": {},
     "output_type": "execute_result"
    }
   ],
   "source": [
    "model_last = LogisticRegression(C = 1,solver = 'lbfgs', max_iter= 100)\n",
    "model_last.fit( np.concatenate( (x_train, x_val) ), np.concatenate((y_train, y_val)) )"
   ]
  },
  {
   "cell_type": "markdown",
   "id": "d9dd7774",
   "metadata": {},
   "source": [
    "### 6.8 Fazendo as previsões nos dados de teste"
   ]
  },
  {
   "cell_type": "code",
   "execution_count": 42,
   "id": "45422d68",
   "metadata": {},
   "outputs": [
    {
     "name": "stderr",
     "output_type": "stream",
     "text": [
      "C:\\Users\\Admin\\anaconda3\\lib\\site-packages\\sklearn\\base.py:443: UserWarning: X has feature names, but LogisticRegression was fitted without feature names\n",
      "  warnings.warn(\n"
     ]
    }
   ],
   "source": [
    "y_test, y_pred_test = Previsoes_Dataframe_Test(df_test, model_last)"
   ]
  },
  {
   "cell_type": "markdown",
   "id": "48ccbef4",
   "metadata": {},
   "source": [
    "### 6.9 Verificando as métricas do modelo com os dados de teste"
   ]
  },
  {
   "cell_type": "code",
   "execution_count": 43,
   "id": "b6e5c55a",
   "metadata": {},
   "outputs": [
    {
     "name": "stderr",
     "output_type": "stream",
     "text": [
      "C:\\Users\\Admin\\anaconda3\\lib\\site-packages\\sklearn\\metrics\\_classification.py:1318: UndefinedMetricWarning: Precision is ill-defined and being set to 0.0 due to no predicted samples. Use `zero_division` parameter to control this behavior.\n",
      "  _warn_prf(average, modifier, msg_start, len(result))\n"
     ]
    },
    {
     "data": {
      "text/html": [
       "<div>\n",
       "<style scoped>\n",
       "    .dataframe tbody tr th:only-of-type {\n",
       "        vertical-align: middle;\n",
       "    }\n",
       "\n",
       "    .dataframe tbody tr th {\n",
       "        vertical-align: top;\n",
       "    }\n",
       "\n",
       "    .dataframe thead th {\n",
       "        text-align: right;\n",
       "    }\n",
       "</style>\n",
       "<table border=\"1\" class=\"dataframe\">\n",
       "  <thead>\n",
       "    <tr style=\"text-align: right;\">\n",
       "      <th></th>\n",
       "      <th>C = 1 ;solver = lbfgs; max_iter= 100</th>\n",
       "    </tr>\n",
       "  </thead>\n",
       "  <tbody>\n",
       "    <tr>\n",
       "      <th>accuracy_score</th>\n",
       "      <td>0.56</td>\n",
       "    </tr>\n",
       "    <tr>\n",
       "      <th>precision_score</th>\n",
       "      <td>0.00</td>\n",
       "    </tr>\n",
       "    <tr>\n",
       "      <th>recall_score</th>\n",
       "      <td>0.00</td>\n",
       "    </tr>\n",
       "    <tr>\n",
       "      <th>f1_score</th>\n",
       "      <td>0.00</td>\n",
       "    </tr>\n",
       "  </tbody>\n",
       "</table>\n",
       "</div>"
      ],
      "text/plain": [
       "                 C = 1 ;solver = lbfgs; max_iter= 100\n",
       "accuracy_score                                   0.56\n",
       "precision_score                                  0.00\n",
       "recall_score                                     0.00\n",
       "f1_score                                         0.00"
      ]
     },
     "execution_count": 43,
     "metadata": {},
     "output_type": "execute_result"
    }
   ],
   "source": [
    "df_metrics_test = Model_Metrics(y_test, y_pred_test, 1, 'lbfgs', 100)\n",
    "df_metrics_test"
   ]
  },
  {
   "cell_type": "markdown",
   "id": "a5b4e9fa",
   "metadata": {},
   "source": [
    "# 7. Resguardando os objetos com as métricas de maior performance"
   ]
  },
  {
   "cell_type": "markdown",
   "id": "dfd4c143",
   "metadata": {},
   "source": [
    "### 7.1 Alterando o nome das colunas dos dataframes"
   ]
  },
  {
   "cell_type": "markdown",
   "id": "e451b8b9",
   "metadata": {},
   "source": [
    "#### a) dataframe teste com melhores métricas"
   ]
  },
  {
   "cell_type": "code",
   "execution_count": 44,
   "id": "5e195fad",
   "metadata": {},
   "outputs": [],
   "source": [
    "df_metrics_test = df_metrics_test.rename(columns = {\"C = 1 ;solver = lbfgs; max_iter= 100\": \"Logistic Regression\"})"
   ]
  },
  {
   "cell_type": "code",
   "execution_count": 45,
   "id": "26acedb5",
   "metadata": {},
   "outputs": [
    {
     "data": {
      "text/html": [
       "<div>\n",
       "<style scoped>\n",
       "    .dataframe tbody tr th:only-of-type {\n",
       "        vertical-align: middle;\n",
       "    }\n",
       "\n",
       "    .dataframe tbody tr th {\n",
       "        vertical-align: top;\n",
       "    }\n",
       "\n",
       "    .dataframe thead th {\n",
       "        text-align: right;\n",
       "    }\n",
       "</style>\n",
       "<table border=\"1\" class=\"dataframe\">\n",
       "  <thead>\n",
       "    <tr style=\"text-align: right;\">\n",
       "      <th></th>\n",
       "      <th>Logistic Regression</th>\n",
       "    </tr>\n",
       "  </thead>\n",
       "  <tbody>\n",
       "    <tr>\n",
       "      <th>accuracy_score</th>\n",
       "      <td>0.56</td>\n",
       "    </tr>\n",
       "    <tr>\n",
       "      <th>precision_score</th>\n",
       "      <td>0.00</td>\n",
       "    </tr>\n",
       "    <tr>\n",
       "      <th>recall_score</th>\n",
       "      <td>0.00</td>\n",
       "    </tr>\n",
       "    <tr>\n",
       "      <th>f1_score</th>\n",
       "      <td>0.00</td>\n",
       "    </tr>\n",
       "  </tbody>\n",
       "</table>\n",
       "</div>"
      ],
      "text/plain": [
       "                 Logistic Regression\n",
       "accuracy_score                  0.56\n",
       "precision_score                 0.00\n",
       "recall_score                    0.00\n",
       "f1_score                        0.00"
      ]
     },
     "execution_count": 45,
     "metadata": {},
     "output_type": "execute_result"
    }
   ],
   "source": [
    "df_metrics_test"
   ]
  },
  {
   "cell_type": "markdown",
   "id": "47bafa3c",
   "metadata": {},
   "source": [
    "#### b) dataframe validação com melhores métricas"
   ]
  },
  {
   "cell_type": "code",
   "execution_count": 46,
   "id": "b2b00f39",
   "metadata": {},
   "outputs": [],
   "source": [
    "df_val_default = df_val_default.rename(columns = {\"C = 1 ;solver = lbfgs; max_iter= 100\": \"Logistic Regression\"})"
   ]
  },
  {
   "cell_type": "code",
   "execution_count": 47,
   "id": "39d2bf07",
   "metadata": {},
   "outputs": [
    {
     "data": {
      "text/html": [
       "<div>\n",
       "<style scoped>\n",
       "    .dataframe tbody tr th:only-of-type {\n",
       "        vertical-align: middle;\n",
       "    }\n",
       "\n",
       "    .dataframe tbody tr th {\n",
       "        vertical-align: top;\n",
       "    }\n",
       "\n",
       "    .dataframe thead th {\n",
       "        text-align: right;\n",
       "    }\n",
       "</style>\n",
       "<table border=\"1\" class=\"dataframe\">\n",
       "  <thead>\n",
       "    <tr style=\"text-align: right;\">\n",
       "      <th></th>\n",
       "      <th>Logistic Regression</th>\n",
       "    </tr>\n",
       "  </thead>\n",
       "  <tbody>\n",
       "    <tr>\n",
       "      <th>accuracy_score</th>\n",
       "      <td>0.57</td>\n",
       "    </tr>\n",
       "    <tr>\n",
       "      <th>precision_score</th>\n",
       "      <td>0.00</td>\n",
       "    </tr>\n",
       "    <tr>\n",
       "      <th>recall_score</th>\n",
       "      <td>0.00</td>\n",
       "    </tr>\n",
       "    <tr>\n",
       "      <th>f1_score</th>\n",
       "      <td>0.00</td>\n",
       "    </tr>\n",
       "  </tbody>\n",
       "</table>\n",
       "</div>"
      ],
      "text/plain": [
       "                 Logistic Regression\n",
       "accuracy_score                  0.57\n",
       "precision_score                 0.00\n",
       "recall_score                    0.00\n",
       "f1_score                        0.00"
      ]
     },
     "execution_count": 47,
     "metadata": {},
     "output_type": "execute_result"
    }
   ],
   "source": [
    "df_val_default"
   ]
  },
  {
   "cell_type": "markdown",
   "id": "1f07fbc7",
   "metadata": {},
   "source": [
    "#### c) dataframe treinamento com melhores métricas"
   ]
  },
  {
   "cell_type": "code",
   "execution_count": 48,
   "id": "d0c3a7ed",
   "metadata": {},
   "outputs": [],
   "source": [
    "df_default_train = df_default_train.rename(columns={\"C = 1 ;solver = lbfgs; max_iter= 100\": \"Logistic Regression\"})"
   ]
  },
  {
   "cell_type": "code",
   "execution_count": 49,
   "id": "ec94f659",
   "metadata": {},
   "outputs": [
    {
     "data": {
      "text/html": [
       "<div>\n",
       "<style scoped>\n",
       "    .dataframe tbody tr th:only-of-type {\n",
       "        vertical-align: middle;\n",
       "    }\n",
       "\n",
       "    .dataframe tbody tr th {\n",
       "        vertical-align: top;\n",
       "    }\n",
       "\n",
       "    .dataframe thead th {\n",
       "        text-align: right;\n",
       "    }\n",
       "</style>\n",
       "<table border=\"1\" class=\"dataframe\">\n",
       "  <thead>\n",
       "    <tr style=\"text-align: right;\">\n",
       "      <th></th>\n",
       "      <th>Logistic Regression</th>\n",
       "    </tr>\n",
       "  </thead>\n",
       "  <tbody>\n",
       "    <tr>\n",
       "      <th>accuracy_score</th>\n",
       "      <td>0.57</td>\n",
       "    </tr>\n",
       "    <tr>\n",
       "      <th>precision_score</th>\n",
       "      <td>0.00</td>\n",
       "    </tr>\n",
       "    <tr>\n",
       "      <th>recall_score</th>\n",
       "      <td>0.00</td>\n",
       "    </tr>\n",
       "    <tr>\n",
       "      <th>f1_score</th>\n",
       "      <td>0.00</td>\n",
       "    </tr>\n",
       "  </tbody>\n",
       "</table>\n",
       "</div>"
      ],
      "text/plain": [
       "                 Logistic Regression\n",
       "accuracy_score                  0.57\n",
       "precision_score                 0.00\n",
       "recall_score                    0.00\n",
       "f1_score                        0.00"
      ]
     },
     "execution_count": 49,
     "metadata": {},
     "output_type": "execute_result"
    }
   ],
   "source": [
    "df_default_train"
   ]
  },
  {
   "cell_type": "markdown",
   "id": "029ded9a",
   "metadata": {},
   "source": [
    "### 7.2 Salvar os objetos com as melhores metricas em um arquivo pickle"
   ]
  },
  {
   "cell_type": "markdown",
   "id": "55ab9434",
   "metadata": {},
   "source": [
    "### a) dataframe com métricas dos dados de treinamento"
   ]
  },
  {
   "cell_type": "code",
   "execution_count": 50,
   "id": "f9efc268",
   "metadata": {},
   "outputs": [],
   "source": [
    "with open('arquivo_logistic_regression_train.pkl', 'wb') as arquivo_logistic_regression_train:\n",
    "    pickle.dump(df_default_train, arquivo_logistic_regression_train)  "
   ]
  },
  {
   "cell_type": "code",
   "execution_count": 51,
   "id": "61a7757d",
   "metadata": {},
   "outputs": [],
   "source": [
    "arquivo_logistic_regression_train.close()"
   ]
  },
  {
   "cell_type": "markdown",
   "id": "0ba929a6",
   "metadata": {},
   "source": [
    "### b) dataframe com métricas dos dados de validação"
   ]
  },
  {
   "cell_type": "code",
   "execution_count": 52,
   "id": "dd590b9b",
   "metadata": {},
   "outputs": [],
   "source": [
    "with open('arquivo_logistic_regression_val.pkl', 'wb') as arquivo_logistic_regression_val:\n",
    "    pickle.dump(df_val_default, arquivo_logistic_regression_val)  "
   ]
  },
  {
   "cell_type": "code",
   "execution_count": 53,
   "id": "97f522fc",
   "metadata": {},
   "outputs": [],
   "source": [
    "arquivo_logistic_regression_val.close()"
   ]
  },
  {
   "cell_type": "code",
   "execution_count": null,
   "id": "382e0341",
   "metadata": {},
   "outputs": [],
   "source": []
  },
  {
   "cell_type": "markdown",
   "id": "3ef0fa0c",
   "metadata": {},
   "source": [
    "### c) dataframe com métricas dos dados de teste"
   ]
  },
  {
   "cell_type": "code",
   "execution_count": 54,
   "id": "a1293820",
   "metadata": {},
   "outputs": [],
   "source": [
    "with open('arquivo_logistic_regression_teste.pkl', 'wb') as arquivo_logistic_regression_teste:\n",
    "    pickle.dump(df_metrics_test, arquivo_logistic_regression_teste)  "
   ]
  },
  {
   "cell_type": "code",
   "execution_count": 55,
   "id": "c1115cff",
   "metadata": {},
   "outputs": [],
   "source": [
    "arquivo_logistic_regression_teste.close()"
   ]
  },
  {
   "cell_type": "code",
   "execution_count": null,
   "id": "d864ad51",
   "metadata": {},
   "outputs": [],
   "source": []
  }
 ],
 "metadata": {
  "kernelspec": {
   "display_name": "Python 3 (ipykernel)",
   "language": "python",
   "name": "python3"
  },
  "language_info": {
   "codemirror_mode": {
    "name": "ipython",
    "version": 3
   },
   "file_extension": ".py",
   "mimetype": "text/x-python",
   "name": "python",
   "nbconvert_exporter": "python",
   "pygments_lexer": "ipython3",
   "version": "3.9.12"
  }
 },
 "nbformat": 4,
 "nbformat_minor": 5
}
