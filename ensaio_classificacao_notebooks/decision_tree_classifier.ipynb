{
 "cells": [
  {
   "cell_type": "markdown",
   "id": "0b1e2b2c",
   "metadata": {},
   "source": [
    "# 1.Imports"
   ]
  },
  {
   "cell_type": "code",
   "execution_count": 1,
   "id": "908027d3",
   "metadata": {},
   "outputs": [],
   "source": [
    "import pandas as pd\n",
    "import numpy as np\n",
    "import pickle\n",
    "from sklearn import metrics as mt\n",
    "from sklearn.tree import DecisionTreeClassifier"
   ]
  },
  {
   "cell_type": "markdown",
   "id": "3b9e0032",
   "metadata": {},
   "source": [
    "# 2. Funcao para carregar os datasets"
   ]
  },
  {
   "cell_type": "code",
   "execution_count": 2,
   "id": "2439086b",
   "metadata": {},
   "outputs": [],
   "source": [
    "def Load_Data_Set(df_x_train, df_y_train):\n",
    "    df1 = pd.read_csv(df_x_train)\n",
    "    df2 = pd.read_csv(df_y_train)\n",
    "    return df1, df2"
   ]
  },
  {
   "cell_type": "markdown",
   "id": "e52b38b4",
   "metadata": {},
   "source": [
    "# 3. Criando e concatenando os dataframes"
   ]
  },
  {
   "cell_type": "markdown",
   "id": "82baf600",
   "metadata": {},
   "source": [
    "### 3.1 Dataset de treinamento"
   ]
  },
  {
   "cell_type": "code",
   "execution_count": 3,
   "id": "ead2454b",
   "metadata": {},
   "outputs": [],
   "source": [
    "df_x_train = \"../1_ensaio_classificacao/1_dados_treinamento/X_training.csv\""
   ]
  },
  {
   "cell_type": "code",
   "execution_count": 4,
   "id": "a2f7b5a5",
   "metadata": {},
   "outputs": [],
   "source": [
    "df_y_train = \"../1_ensaio_classificacao/1_dados_treinamento/y_training.csv\""
   ]
  },
  {
   "cell_type": "code",
   "execution_count": 5,
   "id": "3335a12c",
   "metadata": {},
   "outputs": [],
   "source": [
    "df1_train, df2_train = Load_Data_Set(df_x_train, df_y_train)"
   ]
  },
  {
   "cell_type": "code",
   "execution_count": 6,
   "id": "2ef9e6f4",
   "metadata": {},
   "outputs": [],
   "source": [
    "df1_train['label'] = df2_train"
   ]
  },
  {
   "cell_type": "code",
   "execution_count": 7,
   "id": "455fa1de",
   "metadata": {},
   "outputs": [],
   "source": [
    "df_train = df1_train.copy()"
   ]
  },
  {
   "cell_type": "markdown",
   "id": "fce80044",
   "metadata": {},
   "source": [
    "### 3.2 Dataset de validacao"
   ]
  },
  {
   "cell_type": "code",
   "execution_count": 8,
   "id": "d48cf81c",
   "metadata": {},
   "outputs": [],
   "source": [
    "df_x_val = \"../1_ensaio_classificacao/2_dados_validacao/X_validation.csv\""
   ]
  },
  {
   "cell_type": "code",
   "execution_count": 9,
   "id": "54803962",
   "metadata": {},
   "outputs": [],
   "source": [
    "df_y_val = \"../1_ensaio_classificacao/2_dados_validacao/y_validation.csv\""
   ]
  },
  {
   "cell_type": "code",
   "execution_count": 10,
   "id": "3793f8be",
   "metadata": {},
   "outputs": [],
   "source": [
    "df1_val, df2_val = Load_Data_Set(df_x_val, df_y_val)"
   ]
  },
  {
   "cell_type": "code",
   "execution_count": 11,
   "id": "a52fc4eb",
   "metadata": {},
   "outputs": [],
   "source": [
    "df1_val['label'] = df2_val"
   ]
  },
  {
   "cell_type": "code",
   "execution_count": 12,
   "id": "442eb498",
   "metadata": {},
   "outputs": [],
   "source": [
    "df_val = df1_val.copy()"
   ]
  },
  {
   "cell_type": "markdown",
   "id": "1b8f6d2e",
   "metadata": {},
   "source": [
    "### 3.3 Dataset de teste"
   ]
  },
  {
   "cell_type": "code",
   "execution_count": 13,
   "id": "d7a979a9",
   "metadata": {},
   "outputs": [],
   "source": [
    "df_x_test = \"../1_ensaio_classificacao/3_dados_teste/X_test.csv\""
   ]
  },
  {
   "cell_type": "code",
   "execution_count": 14,
   "id": "399f3bdd",
   "metadata": {},
   "outputs": [],
   "source": [
    "df_y_test = \"../1_ensaio_classificacao/3_dados_teste/y_test.csv\""
   ]
  },
  {
   "cell_type": "code",
   "execution_count": 15,
   "id": "e7832b1d",
   "metadata": {},
   "outputs": [],
   "source": [
    "df1_test, df2_test = Load_Data_Set(df_x_test, df_y_test)"
   ]
  },
  {
   "cell_type": "code",
   "execution_count": 16,
   "id": "778594d0",
   "metadata": {},
   "outputs": [],
   "source": [
    "df1_test['label'] = df2_test"
   ]
  },
  {
   "cell_type": "code",
   "execution_count": 17,
   "id": "5d11ee50",
   "metadata": {},
   "outputs": [],
   "source": [
    "df_test = df1_test.copy()"
   ]
  },
  {
   "cell_type": "markdown",
   "id": "858162e8",
   "metadata": {},
   "source": [
    "# 4. Funções para treinar o modelo e avaliar as métricas"
   ]
  },
  {
   "cell_type": "code",
   "execution_count": 18,
   "id": "ecec43c9",
   "metadata": {},
   "outputs": [],
   "source": [
    "#Criando uma função para Treinar o Modelo encima dos dados de treinamento\n",
    "\n",
    "#Fazer as previsoes encima dos proprios dados de treinamento\n",
    "\n",
    "#Entrada: dataframe de treinamento, parametro max_depth\n",
    "\n",
    "#Saida: valores de y_train + valores de previsao feitos a partir dos dados de treinamento (y_pred_train) +\n",
    "# algoritmo decision_tree_classifier treinado\n",
    "\n",
    "def Model_Training(df_train,max_depth): \n",
    "    \n",
    "    features = ['id', 'customer_type', 'age', 'class', 'flight_distance',\n",
    "       'inflight_wifi_service', 'departure_arrival_time_convenient',\n",
    "       'ease_of_online_booking', 'gate_location', 'food_and_drink',\n",
    "       'online_boarding', 'seat_comfort', 'inflight_entertainment',\n",
    "       'on_board_service', 'leg_room_service', 'baggage_handling',\n",
    "       'checkin_service', 'inflight_service', 'cleanliness',\n",
    "       'departure_delay_in_minutes', 'arrival_delay_in_minutes',\n",
    "       'gender_Female', 'gender_Male', 'type_of_travel_business_travel','type_of_travel_personal_travel']\n",
    "    \n",
    "    \n",
    "    label = ['label']\n",
    "    \n",
    "    #Preparação dos dados de treino\n",
    "    x_train = df_train.loc[:, features]\n",
    "\n",
    "    #Esse metodo ravel transforma os valores em um array\n",
    "    y_train = df_train.loc[:, label].values.ravel()      \n",
    "    \n",
    "    #Treinamento do algoritmo Decision Tree Classifier\n",
    "    \n",
    "    #No caso do algoritmo Decision Tree Classifier, precisamos ajustar o seguinte parametro\n",
    "    \n",
    "    #Max_depth: a profundidade maximo pela qual a arvore treinada poderá crescer e ramificar-se\n",
    "  \n",
    "    \n",
    "    decision_tree_classifier = DecisionTreeClassifier(max_depth=max_depth)\n",
    "    \n",
    "    decision_tree_classifier.fit(x_train, y_train)\n",
    "\n",
    "    #Fazendo previsoes emcima dos dados de treinamento\n",
    "    y_pred_train = decision_tree_classifier.predict(x_train)\n",
    "    \n",
    "    return y_train, y_pred_train, decision_tree_classifier\n",
    "   "
   ]
  },
  {
   "cell_type": "code",
   "execution_count": 19,
   "id": "cabfb686",
   "metadata": {},
   "outputs": [],
   "source": [
    "def Previsoes_Dataframe_Val(df_val, decision_tree_classifier):\n",
    "    \n",
    "   #Entrada: dataset de validacao +  algoritmo Decision Tree Classifier treinado\n",
    "    \n",
    "   #Saida: os dados de y do proprio dataset de validacao (y_val) e as previsoes feitas encima dos dados de validacao\n",
    "   #(y_pred_val)\n",
    "    \n",
    "\n",
    "    features = ['id', 'customer_type', 'age', 'class', 'flight_distance',\n",
    "       'inflight_wifi_service', 'departure_arrival_time_convenient',\n",
    "       'ease_of_online_booking', 'gate_location', 'food_and_drink',\n",
    "       'online_boarding', 'seat_comfort', 'inflight_entertainment',\n",
    "       'on_board_service', 'leg_room_service', 'baggage_handling',\n",
    "       'checkin_service', 'inflight_service', 'cleanliness',\n",
    "       'departure_delay_in_minutes', 'arrival_delay_in_minutes',\n",
    "       'gender_Female', 'gender_Male', 'type_of_travel_business_travel','type_of_travel_personal_travel']\n",
    "    \n",
    "    \n",
    "    label = ['label']\n",
    "    \n",
    "           \n",
    "    #Separando os dados\n",
    "    x_val = df_val.loc[:, features]\n",
    "\n",
    "    y_val = df_val.loc[:, label].values.ravel()\n",
    "    \n",
    "    #Fazendo previsões    \n",
    "    y_pred_val = decision_tree_classifier.predict(x_val)\n",
    "    \n",
    "    return y_val, y_pred_val"
   ]
  },
  {
   "cell_type": "code",
   "execution_count": 20,
   "id": "d910e003",
   "metadata": {},
   "outputs": [],
   "source": [
    "def Previsoes_Dataframe_Test(df_test, decision_tree_classifier):\n",
    "    \n",
    "    #Entrada: dataset de teste +  algoritmo Decision Tree Classifier treinado\n",
    "    \n",
    "    #Saida: os dados de y do proprio dataset de teste (y_test) e as previsoes feitas encima dos dados de teste (y_pred_test)\n",
    "    \n",
    "    features = ['id', 'customer_type', 'age', 'class', 'flight_distance',\n",
    "       'inflight_wifi_service', 'departure_arrival_time_convenient',\n",
    "       'ease_of_online_booking', 'gate_location', 'food_and_drink',\n",
    "       'online_boarding', 'seat_comfort', 'inflight_entertainment',\n",
    "       'on_board_service', 'leg_room_service', 'baggage_handling',\n",
    "       'checkin_service', 'inflight_service', 'cleanliness',\n",
    "       'departure_delay_in_minutes', 'arrival_delay_in_minutes',\n",
    "       'gender_Female', 'gender_Male', 'type_of_travel_business_travel','type_of_travel_personal_travel']\n",
    "    \n",
    "    \n",
    "    label = ['label']    \n",
    "       \n",
    "    #Separando os dados\n",
    "    x_test = df_test.loc[:, features]\n",
    "\n",
    "    y_test = df_test.loc[:, label].values.ravel() \n",
    "    \n",
    "    #Fazendo as previsões\n",
    "    \n",
    "    y_pred_test = decision_tree_classifier.predict(x_test)\n",
    "    \n",
    "    return y_test, y_pred_test \n",
    "       "
   ]
  },
  {
   "cell_type": "code",
   "execution_count": 21,
   "id": "ed848cde",
   "metadata": {},
   "outputs": [],
   "source": [
    "#Criando uma função para avaliar as metricas do modelo\n",
    "\n",
    "#Entrada: Os proprios valores de y do dataset original; os valores de y que são\n",
    "# as previsoes feitas, o parametro max_depth\n",
    "\n",
    "#Saida: Dataframe com as principais metricas do modelo\n",
    "\n",
    "def Model_Metrics(y, y_pred,max_depth):\n",
    "    #Confusion Matrix\n",
    "    confusion_matrix = mt.confusion_matrix(y , y_pred )\n",
    "        \n",
    "    #Accuracy Score\n",
    "    accuracy_score = np.round(mt.accuracy_score(y, y_pred ),3)\n",
    "        \n",
    "    #Precision Score\n",
    "    precision_score = np.round(mt.precision_score( y, y_pred, average=\"binary\", pos_label= 1),3)\n",
    "        \n",
    "    #Recall Score\n",
    "    recall_score = np.round(mt.recall_score( y, y_pred, average='binary', pos_label=1 ),3)\n",
    "   \n",
    "    #F1 Score\n",
    "    f1_score = np.round(mt.f1_score( y, y_pred, average='binary', pos_label=1 ),3)\n",
    "    \n",
    "    #Criando um dataframe com as metricas\n",
    "    \n",
    "    parameters = 'max_depth = ' + str(max_depth)\n",
    "    \n",
    "    d = { parameters: [accuracy_score, precision_score, recall_score, f1_score]}  \n",
    "    \n",
    "    df_metrics =  pd.DataFrame(data = d, index = ['accuracy_score', 'precision_score', 'recall_score', 'f1_score'])\n",
    "    \n",
    "    return df_metrics"
   ]
  },
  {
   "cell_type": "markdown",
   "id": "ac0b7859",
   "metadata": {},
   "source": [
    "# 5. Treinamento do modelo, validação e verificação de performance"
   ]
  },
  {
   "cell_type": "markdown",
   "id": "18050a26",
   "metadata": {},
   "source": [
    "### 5.1 Treinar o modelo com os valores de parametro default: max_depth = None e verificação das métricas do modelo sobre os dados de treinamento"
   ]
  },
  {
   "cell_type": "code",
   "execution_count": 22,
   "id": "8c3c5d4f",
   "metadata": {},
   "outputs": [],
   "source": [
    "y_train, y_pred_train, decision_tree_classifier = Model_Training (df_train, None)"
   ]
  },
  {
   "cell_type": "code",
   "execution_count": 23,
   "id": "5e9d096b",
   "metadata": {},
   "outputs": [],
   "source": [
    "df_default_train = Model_Metrics(y_train, y_pred_train, None)"
   ]
  },
  {
   "cell_type": "code",
   "execution_count": 24,
   "id": "e12645b0",
   "metadata": {},
   "outputs": [
    {
     "data": {
      "text/html": [
       "<div>\n",
       "<style scoped>\n",
       "    .dataframe tbody tr th:only-of-type {\n",
       "        vertical-align: middle;\n",
       "    }\n",
       "\n",
       "    .dataframe tbody tr th {\n",
       "        vertical-align: top;\n",
       "    }\n",
       "\n",
       "    .dataframe thead th {\n",
       "        text-align: right;\n",
       "    }\n",
       "</style>\n",
       "<table border=\"1\" class=\"dataframe\">\n",
       "  <thead>\n",
       "    <tr style=\"text-align: right;\">\n",
       "      <th></th>\n",
       "      <th>max_depth = None</th>\n",
       "    </tr>\n",
       "  </thead>\n",
       "  <tbody>\n",
       "    <tr>\n",
       "      <th>accuracy_score</th>\n",
       "      <td>1.0</td>\n",
       "    </tr>\n",
       "    <tr>\n",
       "      <th>precision_score</th>\n",
       "      <td>1.0</td>\n",
       "    </tr>\n",
       "    <tr>\n",
       "      <th>recall_score</th>\n",
       "      <td>1.0</td>\n",
       "    </tr>\n",
       "    <tr>\n",
       "      <th>f1_score</th>\n",
       "      <td>1.0</td>\n",
       "    </tr>\n",
       "  </tbody>\n",
       "</table>\n",
       "</div>"
      ],
      "text/plain": [
       "                 max_depth = None\n",
       "accuracy_score                1.0\n",
       "precision_score               1.0\n",
       "recall_score                  1.0\n",
       "f1_score                      1.0"
      ]
     },
     "execution_count": 24,
     "metadata": {},
     "output_type": "execute_result"
    }
   ],
   "source": [
    "df_default_train"
   ]
  },
  {
   "cell_type": "markdown",
   "id": "03a36064",
   "metadata": {},
   "source": [
    "### 5.2 Testar o algoritmo com o parametro default  nos dados de validação e verificar sua performance"
   ]
  },
  {
   "cell_type": "code",
   "execution_count": 25,
   "id": "ee8ca08a",
   "metadata": {},
   "outputs": [],
   "source": [
    "y_val, y_pred_val = Previsoes_Dataframe_Val(df_val, decision_tree_classifier)"
   ]
  },
  {
   "cell_type": "code",
   "execution_count": 26,
   "id": "f277a541",
   "metadata": {},
   "outputs": [],
   "source": [
    "df_default_val = Model_Metrics(y_val, y_pred_val, None)"
   ]
  },
  {
   "cell_type": "code",
   "execution_count": 28,
   "id": "d622d4d8",
   "metadata": {},
   "outputs": [
    {
     "data": {
      "text/html": [
       "<div>\n",
       "<style scoped>\n",
       "    .dataframe tbody tr th:only-of-type {\n",
       "        vertical-align: middle;\n",
       "    }\n",
       "\n",
       "    .dataframe tbody tr th {\n",
       "        vertical-align: top;\n",
       "    }\n",
       "\n",
       "    .dataframe thead th {\n",
       "        text-align: right;\n",
       "    }\n",
       "</style>\n",
       "<table border=\"1\" class=\"dataframe\">\n",
       "  <thead>\n",
       "    <tr style=\"text-align: right;\">\n",
       "      <th></th>\n",
       "      <th>max_depth = None</th>\n",
       "    </tr>\n",
       "  </thead>\n",
       "  <tbody>\n",
       "    <tr>\n",
       "      <th>accuracy_score</th>\n",
       "      <td>0.945</td>\n",
       "    </tr>\n",
       "    <tr>\n",
       "      <th>precision_score</th>\n",
       "      <td>0.934</td>\n",
       "    </tr>\n",
       "    <tr>\n",
       "      <th>recall_score</th>\n",
       "      <td>0.939</td>\n",
       "    </tr>\n",
       "    <tr>\n",
       "      <th>f1_score</th>\n",
       "      <td>0.936</td>\n",
       "    </tr>\n",
       "  </tbody>\n",
       "</table>\n",
       "</div>"
      ],
      "text/plain": [
       "                 max_depth = None\n",
       "accuracy_score              0.945\n",
       "precision_score             0.934\n",
       "recall_score                0.939\n",
       "f1_score                    0.936"
      ]
     },
     "execution_count": 28,
     "metadata": {},
     "output_type": "execute_result"
    }
   ],
   "source": [
    "df_default_val"
   ]
  },
  {
   "cell_type": "markdown",
   "id": "25bb2887",
   "metadata": {},
   "source": [
    "### 5.3 Treinar o modelo nos dados de treinamento alterando os parametros e testar a performance desse modelo sobre os dados de validação"
   ]
  },
  {
   "cell_type": "markdown",
   "id": "e6267612",
   "metadata": {},
   "source": [
    "### a) max_depth = 10"
   ]
  },
  {
   "cell_type": "code",
   "execution_count": 29,
   "id": "573df2b5",
   "metadata": {},
   "outputs": [
    {
     "data": {
      "text/html": [
       "<div>\n",
       "<style scoped>\n",
       "    .dataframe tbody tr th:only-of-type {\n",
       "        vertical-align: middle;\n",
       "    }\n",
       "\n",
       "    .dataframe tbody tr th {\n",
       "        vertical-align: top;\n",
       "    }\n",
       "\n",
       "    .dataframe thead th {\n",
       "        text-align: right;\n",
       "    }\n",
       "</style>\n",
       "<table border=\"1\" class=\"dataframe\">\n",
       "  <thead>\n",
       "    <tr style=\"text-align: right;\">\n",
       "      <th></th>\n",
       "      <th>max_depth = 10</th>\n",
       "    </tr>\n",
       "  </thead>\n",
       "  <tbody>\n",
       "    <tr>\n",
       "      <th>accuracy_score</th>\n",
       "      <td>0.947</td>\n",
       "    </tr>\n",
       "    <tr>\n",
       "      <th>precision_score</th>\n",
       "      <td>0.954</td>\n",
       "    </tr>\n",
       "    <tr>\n",
       "      <th>recall_score</th>\n",
       "      <td>0.922</td>\n",
       "    </tr>\n",
       "    <tr>\n",
       "      <th>f1_score</th>\n",
       "      <td>0.938</td>\n",
       "    </tr>\n",
       "  </tbody>\n",
       "</table>\n",
       "</div>"
      ],
      "text/plain": [
       "                 max_depth = 10\n",
       "accuracy_score            0.947\n",
       "precision_score           0.954\n",
       "recall_score              0.922\n",
       "f1_score                  0.938"
      ]
     },
     "execution_count": 29,
     "metadata": {},
     "output_type": "execute_result"
    }
   ],
   "source": [
    "y_train, y_pred_train , decision_tree_classifier = Model_Training(df_train, 10)\n",
    "y_val, y_pred_val = Previsoes_Dataframe_Val(df_val,decision_tree_classifier) \n",
    "df_max_depth_10 = Model_Metrics(y_val, y_pred_val, 10)\n",
    "df_max_depth_10"
   ]
  },
  {
   "cell_type": "markdown",
   "id": "63ab7ecd",
   "metadata": {},
   "source": [
    "### b) max_depth = 12"
   ]
  },
  {
   "cell_type": "code",
   "execution_count": 30,
   "id": "da46d7ec",
   "metadata": {},
   "outputs": [
    {
     "data": {
      "text/html": [
       "<div>\n",
       "<style scoped>\n",
       "    .dataframe tbody tr th:only-of-type {\n",
       "        vertical-align: middle;\n",
       "    }\n",
       "\n",
       "    .dataframe tbody tr th {\n",
       "        vertical-align: top;\n",
       "    }\n",
       "\n",
       "    .dataframe thead th {\n",
       "        text-align: right;\n",
       "    }\n",
       "</style>\n",
       "<table border=\"1\" class=\"dataframe\">\n",
       "  <thead>\n",
       "    <tr style=\"text-align: right;\">\n",
       "      <th></th>\n",
       "      <th>max_depth = 12</th>\n",
       "    </tr>\n",
       "  </thead>\n",
       "  <tbody>\n",
       "    <tr>\n",
       "      <th>accuracy_score</th>\n",
       "      <td>0.952</td>\n",
       "    </tr>\n",
       "    <tr>\n",
       "      <th>precision_score</th>\n",
       "      <td>0.959</td>\n",
       "    </tr>\n",
       "    <tr>\n",
       "      <th>recall_score</th>\n",
       "      <td>0.929</td>\n",
       "    </tr>\n",
       "    <tr>\n",
       "      <th>f1_score</th>\n",
       "      <td>0.944</td>\n",
       "    </tr>\n",
       "  </tbody>\n",
       "</table>\n",
       "</div>"
      ],
      "text/plain": [
       "                 max_depth = 12\n",
       "accuracy_score            0.952\n",
       "precision_score           0.959\n",
       "recall_score              0.929\n",
       "f1_score                  0.944"
      ]
     },
     "execution_count": 30,
     "metadata": {},
     "output_type": "execute_result"
    }
   ],
   "source": [
    "y_train, y_pred_train , decision_tree_classifier = Model_Training(df_train, 12)\n",
    "y_val, y_pred_val = Previsoes_Dataframe_Val(df_val,decision_tree_classifier) \n",
    "df_max_depth_12 = Model_Metrics(y_val, y_pred_val, 12)\n",
    "df_max_depth_12"
   ]
  },
  {
   "cell_type": "markdown",
   "id": "2026420c",
   "metadata": {},
   "source": [
    "### c) max_depth = 14"
   ]
  },
  {
   "cell_type": "code",
   "execution_count": 31,
   "id": "1710bea1",
   "metadata": {},
   "outputs": [
    {
     "data": {
      "text/html": [
       "<div>\n",
       "<style scoped>\n",
       "    .dataframe tbody tr th:only-of-type {\n",
       "        vertical-align: middle;\n",
       "    }\n",
       "\n",
       "    .dataframe tbody tr th {\n",
       "        vertical-align: top;\n",
       "    }\n",
       "\n",
       "    .dataframe thead th {\n",
       "        text-align: right;\n",
       "    }\n",
       "</style>\n",
       "<table border=\"1\" class=\"dataframe\">\n",
       "  <thead>\n",
       "    <tr style=\"text-align: right;\">\n",
       "      <th></th>\n",
       "      <th>max_depth = 14</th>\n",
       "    </tr>\n",
       "  </thead>\n",
       "  <tbody>\n",
       "    <tr>\n",
       "      <th>accuracy_score</th>\n",
       "      <td>0.953</td>\n",
       "    </tr>\n",
       "    <tr>\n",
       "      <th>precision_score</th>\n",
       "      <td>0.957</td>\n",
       "    </tr>\n",
       "    <tr>\n",
       "      <th>recall_score</th>\n",
       "      <td>0.933</td>\n",
       "    </tr>\n",
       "    <tr>\n",
       "      <th>f1_score</th>\n",
       "      <td>0.945</td>\n",
       "    </tr>\n",
       "  </tbody>\n",
       "</table>\n",
       "</div>"
      ],
      "text/plain": [
       "                 max_depth = 14\n",
       "accuracy_score            0.953\n",
       "precision_score           0.957\n",
       "recall_score              0.933\n",
       "f1_score                  0.945"
      ]
     },
     "execution_count": 31,
     "metadata": {},
     "output_type": "execute_result"
    }
   ],
   "source": [
    "y_train, y_pred_train , decision_tree_classifier = Model_Training(df_train, 14)\n",
    "y_val, y_pred_val = Previsoes_Dataframe_Val(df_val,decision_tree_classifier) \n",
    "df_max_depth_14 = Model_Metrics(y_val, y_pred_val, 14)\n",
    "df_max_depth_14"
   ]
  },
  {
   "cell_type": "markdown",
   "id": "e4ef0786",
   "metadata": {},
   "source": [
    "### d) max_depth = 15"
   ]
  },
  {
   "cell_type": "code",
   "execution_count": 32,
   "id": "472aa6f2",
   "metadata": {},
   "outputs": [
    {
     "data": {
      "text/html": [
       "<div>\n",
       "<style scoped>\n",
       "    .dataframe tbody tr th:only-of-type {\n",
       "        vertical-align: middle;\n",
       "    }\n",
       "\n",
       "    .dataframe tbody tr th {\n",
       "        vertical-align: top;\n",
       "    }\n",
       "\n",
       "    .dataframe thead th {\n",
       "        text-align: right;\n",
       "    }\n",
       "</style>\n",
       "<table border=\"1\" class=\"dataframe\">\n",
       "  <thead>\n",
       "    <tr style=\"text-align: right;\">\n",
       "      <th></th>\n",
       "      <th>max_depth = 15</th>\n",
       "    </tr>\n",
       "  </thead>\n",
       "  <tbody>\n",
       "    <tr>\n",
       "      <th>accuracy_score</th>\n",
       "      <td>0.952</td>\n",
       "    </tr>\n",
       "    <tr>\n",
       "      <th>precision_score</th>\n",
       "      <td>0.956</td>\n",
       "    </tr>\n",
       "    <tr>\n",
       "      <th>recall_score</th>\n",
       "      <td>0.931</td>\n",
       "    </tr>\n",
       "    <tr>\n",
       "      <th>f1_score</th>\n",
       "      <td>0.943</td>\n",
       "    </tr>\n",
       "  </tbody>\n",
       "</table>\n",
       "</div>"
      ],
      "text/plain": [
       "                 max_depth = 15\n",
       "accuracy_score            0.952\n",
       "precision_score           0.956\n",
       "recall_score              0.931\n",
       "f1_score                  0.943"
      ]
     },
     "execution_count": 32,
     "metadata": {},
     "output_type": "execute_result"
    }
   ],
   "source": [
    "y_train, y_pred_train , decision_tree_classifier = Model_Training(df_train, 15)\n",
    "y_val, y_pred_val = Previsoes_Dataframe_Val(df_val,decision_tree_classifier) \n",
    "df_max_depth_15 = Model_Metrics(y_val, y_pred_val, 15)\n",
    "df_max_depth_15"
   ]
  },
  {
   "cell_type": "markdown",
   "id": "9b2c9e5a",
   "metadata": {},
   "source": [
    "### e) max_depth = 18"
   ]
  },
  {
   "cell_type": "code",
   "execution_count": 33,
   "id": "e8e17da7",
   "metadata": {},
   "outputs": [
    {
     "data": {
      "text/html": [
       "<div>\n",
       "<style scoped>\n",
       "    .dataframe tbody tr th:only-of-type {\n",
       "        vertical-align: middle;\n",
       "    }\n",
       "\n",
       "    .dataframe tbody tr th {\n",
       "        vertical-align: top;\n",
       "    }\n",
       "\n",
       "    .dataframe thead th {\n",
       "        text-align: right;\n",
       "    }\n",
       "</style>\n",
       "<table border=\"1\" class=\"dataframe\">\n",
       "  <thead>\n",
       "    <tr style=\"text-align: right;\">\n",
       "      <th></th>\n",
       "      <th>max_depth = 18</th>\n",
       "    </tr>\n",
       "  </thead>\n",
       "  <tbody>\n",
       "    <tr>\n",
       "      <th>accuracy_score</th>\n",
       "      <td>0.949</td>\n",
       "    </tr>\n",
       "    <tr>\n",
       "      <th>precision_score</th>\n",
       "      <td>0.946</td>\n",
       "    </tr>\n",
       "    <tr>\n",
       "      <th>recall_score</th>\n",
       "      <td>0.936</td>\n",
       "    </tr>\n",
       "    <tr>\n",
       "      <th>f1_score</th>\n",
       "      <td>0.941</td>\n",
       "    </tr>\n",
       "  </tbody>\n",
       "</table>\n",
       "</div>"
      ],
      "text/plain": [
       "                 max_depth = 18\n",
       "accuracy_score            0.949\n",
       "precision_score           0.946\n",
       "recall_score              0.936\n",
       "f1_score                  0.941"
      ]
     },
     "execution_count": 33,
     "metadata": {},
     "output_type": "execute_result"
    }
   ],
   "source": [
    "y_train, y_pred_train , decision_tree_classifier = Model_Training(df_train, 18)\n",
    "y_val, y_pred_val = Previsoes_Dataframe_Val(df_val,decision_tree_classifier) \n",
    "df_max_depth_18 = Model_Metrics(y_val, y_pred_val, 18)\n",
    "df_max_depth_18"
   ]
  },
  {
   "cell_type": "markdown",
   "id": "62e921d3",
   "metadata": {},
   "source": [
    "### f) max_depth = 20"
   ]
  },
  {
   "cell_type": "code",
   "execution_count": 34,
   "id": "70c0fc4d",
   "metadata": {},
   "outputs": [
    {
     "data": {
      "text/html": [
       "<div>\n",
       "<style scoped>\n",
       "    .dataframe tbody tr th:only-of-type {\n",
       "        vertical-align: middle;\n",
       "    }\n",
       "\n",
       "    .dataframe tbody tr th {\n",
       "        vertical-align: top;\n",
       "    }\n",
       "\n",
       "    .dataframe thead th {\n",
       "        text-align: right;\n",
       "    }\n",
       "</style>\n",
       "<table border=\"1\" class=\"dataframe\">\n",
       "  <thead>\n",
       "    <tr style=\"text-align: right;\">\n",
       "      <th></th>\n",
       "      <th>max_depth = 20</th>\n",
       "    </tr>\n",
       "  </thead>\n",
       "  <tbody>\n",
       "    <tr>\n",
       "      <th>accuracy_score</th>\n",
       "      <td>0.948</td>\n",
       "    </tr>\n",
       "    <tr>\n",
       "      <th>precision_score</th>\n",
       "      <td>0.943</td>\n",
       "    </tr>\n",
       "    <tr>\n",
       "      <th>recall_score</th>\n",
       "      <td>0.937</td>\n",
       "    </tr>\n",
       "    <tr>\n",
       "      <th>f1_score</th>\n",
       "      <td>0.940</td>\n",
       "    </tr>\n",
       "  </tbody>\n",
       "</table>\n",
       "</div>"
      ],
      "text/plain": [
       "                 max_depth = 20\n",
       "accuracy_score            0.948\n",
       "precision_score           0.943\n",
       "recall_score              0.937\n",
       "f1_score                  0.940"
      ]
     },
     "execution_count": 34,
     "metadata": {},
     "output_type": "execute_result"
    }
   ],
   "source": [
    "y_train, y_pred_train , decision_tree_classifier = Model_Training(df_train, 20)\n",
    "y_val, y_pred_val = Previsoes_Dataframe_Val(df_val,decision_tree_classifier) \n",
    "df_max_depth_20 = Model_Metrics(y_val, y_pred_val, 20)\n",
    "df_max_depth_20"
   ]
  },
  {
   "cell_type": "markdown",
   "id": "efcc3f12",
   "metadata": {},
   "source": [
    "### g) max_depth = 25"
   ]
  },
  {
   "cell_type": "code",
   "execution_count": 35,
   "id": "3285fa82",
   "metadata": {},
   "outputs": [
    {
     "data": {
      "text/html": [
       "<div>\n",
       "<style scoped>\n",
       "    .dataframe tbody tr th:only-of-type {\n",
       "        vertical-align: middle;\n",
       "    }\n",
       "\n",
       "    .dataframe tbody tr th {\n",
       "        vertical-align: top;\n",
       "    }\n",
       "\n",
       "    .dataframe thead th {\n",
       "        text-align: right;\n",
       "    }\n",
       "</style>\n",
       "<table border=\"1\" class=\"dataframe\">\n",
       "  <thead>\n",
       "    <tr style=\"text-align: right;\">\n",
       "      <th></th>\n",
       "      <th>max_depth = 25</th>\n",
       "    </tr>\n",
       "  </thead>\n",
       "  <tbody>\n",
       "    <tr>\n",
       "      <th>accuracy_score</th>\n",
       "      <td>0.945</td>\n",
       "    </tr>\n",
       "    <tr>\n",
       "      <th>precision_score</th>\n",
       "      <td>0.935</td>\n",
       "    </tr>\n",
       "    <tr>\n",
       "      <th>recall_score</th>\n",
       "      <td>0.938</td>\n",
       "    </tr>\n",
       "    <tr>\n",
       "      <th>f1_score</th>\n",
       "      <td>0.936</td>\n",
       "    </tr>\n",
       "  </tbody>\n",
       "</table>\n",
       "</div>"
      ],
      "text/plain": [
       "                 max_depth = 25\n",
       "accuracy_score            0.945\n",
       "precision_score           0.935\n",
       "recall_score              0.938\n",
       "f1_score                  0.936"
      ]
     },
     "execution_count": 35,
     "metadata": {},
     "output_type": "execute_result"
    }
   ],
   "source": [
    "y_train, y_pred_train , decision_tree_classifier = Model_Training(df_train, 25)\n",
    "y_val, y_pred_val = Previsoes_Dataframe_Val(df_val,decision_tree_classifier) \n",
    "df_max_depth_25 = Model_Metrics(y_val, y_pred_val, 25)\n",
    "df_max_depth_25"
   ]
  },
  {
   "cell_type": "markdown",
   "id": "7757f100",
   "metadata": {},
   "source": [
    "### 5.4 Verificar o parametro que obteve os melhores resultados nos dados de validação"
   ]
  },
  {
   "cell_type": "code",
   "execution_count": 36,
   "id": "abe120fa",
   "metadata": {},
   "outputs": [],
   "source": [
    "df_metrics_val = pd.concat([df_default_val, df_max_depth_10, df_max_depth_12, df_max_depth_14, df_max_depth_15,\n",
    "                           df_max_depth_18, df_max_depth_20, df_max_depth_25], axis = 1)"
   ]
  },
  {
   "cell_type": "code",
   "execution_count": 37,
   "id": "d9cc3857",
   "metadata": {},
   "outputs": [
    {
     "data": {
      "text/html": [
       "<div>\n",
       "<style scoped>\n",
       "    .dataframe tbody tr th:only-of-type {\n",
       "        vertical-align: middle;\n",
       "    }\n",
       "\n",
       "    .dataframe tbody tr th {\n",
       "        vertical-align: top;\n",
       "    }\n",
       "\n",
       "    .dataframe thead th {\n",
       "        text-align: right;\n",
       "    }\n",
       "</style>\n",
       "<table border=\"1\" class=\"dataframe\">\n",
       "  <thead>\n",
       "    <tr style=\"text-align: right;\">\n",
       "      <th></th>\n",
       "      <th>max_depth = None</th>\n",
       "      <th>max_depth = 10</th>\n",
       "      <th>max_depth = 12</th>\n",
       "      <th>max_depth = 14</th>\n",
       "      <th>max_depth = 15</th>\n",
       "      <th>max_depth = 18</th>\n",
       "      <th>max_depth = 20</th>\n",
       "      <th>max_depth = 25</th>\n",
       "    </tr>\n",
       "  </thead>\n",
       "  <tbody>\n",
       "    <tr>\n",
       "      <th>accuracy_score</th>\n",
       "      <td>0.945</td>\n",
       "      <td>0.947</td>\n",
       "      <td>0.952</td>\n",
       "      <td>0.953</td>\n",
       "      <td>0.952</td>\n",
       "      <td>0.949</td>\n",
       "      <td>0.948</td>\n",
       "      <td>0.945</td>\n",
       "    </tr>\n",
       "    <tr>\n",
       "      <th>precision_score</th>\n",
       "      <td>0.934</td>\n",
       "      <td>0.954</td>\n",
       "      <td>0.959</td>\n",
       "      <td>0.957</td>\n",
       "      <td>0.956</td>\n",
       "      <td>0.946</td>\n",
       "      <td>0.943</td>\n",
       "      <td>0.935</td>\n",
       "    </tr>\n",
       "    <tr>\n",
       "      <th>recall_score</th>\n",
       "      <td>0.939</td>\n",
       "      <td>0.922</td>\n",
       "      <td>0.929</td>\n",
       "      <td>0.933</td>\n",
       "      <td>0.931</td>\n",
       "      <td>0.936</td>\n",
       "      <td>0.937</td>\n",
       "      <td>0.938</td>\n",
       "    </tr>\n",
       "    <tr>\n",
       "      <th>f1_score</th>\n",
       "      <td>0.936</td>\n",
       "      <td>0.938</td>\n",
       "      <td>0.944</td>\n",
       "      <td>0.945</td>\n",
       "      <td>0.943</td>\n",
       "      <td>0.941</td>\n",
       "      <td>0.940</td>\n",
       "      <td>0.936</td>\n",
       "    </tr>\n",
       "  </tbody>\n",
       "</table>\n",
       "</div>"
      ],
      "text/plain": [
       "                 max_depth = None  max_depth = 10  max_depth = 12  \\\n",
       "accuracy_score              0.945           0.947           0.952   \n",
       "precision_score             0.934           0.954           0.959   \n",
       "recall_score                0.939           0.922           0.929   \n",
       "f1_score                    0.936           0.938           0.944   \n",
       "\n",
       "                 max_depth = 14  max_depth = 15  max_depth = 18  \\\n",
       "accuracy_score            0.953           0.952           0.949   \n",
       "precision_score           0.957           0.956           0.946   \n",
       "recall_score              0.933           0.931           0.936   \n",
       "f1_score                  0.945           0.943           0.941   \n",
       "\n",
       "                 max_depth = 20  max_depth = 25  \n",
       "accuracy_score            0.948           0.945  \n",
       "precision_score           0.943           0.935  \n",
       "recall_score              0.937           0.938  \n",
       "f1_score                  0.940           0.936  "
      ]
     },
     "execution_count": 37,
     "metadata": {},
     "output_type": "execute_result"
    }
   ],
   "source": [
    "df_metrics_val"
   ]
  },
  {
   "cell_type": "markdown",
   "id": "c21a8b73",
   "metadata": {},
   "source": [
    "#### Resposta: O parâmetro que obteve os melhores resultados nos dados de validação é max_depth = 14"
   ]
  },
  {
   "cell_type": "markdown",
   "id": "18f82029",
   "metadata": {},
   "source": [
    "# 6. Unificar os dados de treinamento e validação e retreinar o algoritmo, utilizando os melhores valores para os parâmetros"
   ]
  },
  {
   "cell_type": "markdown",
   "id": "cacf4351",
   "metadata": {},
   "source": [
    "### 6.1 Dividir novamente os datasets de treinamento e validação"
   ]
  },
  {
   "cell_type": "code",
   "execution_count": 38,
   "id": "073544b3",
   "metadata": {},
   "outputs": [],
   "source": [
    "features = ['id', 'customer_type', 'age', 'class', 'flight_distance',\n",
    "       'inflight_wifi_service', 'departure_arrival_time_convenient',\n",
    "       'ease_of_online_booking', 'gate_location', 'food_and_drink',\n",
    "       'online_boarding', 'seat_comfort', 'inflight_entertainment',\n",
    "       'on_board_service', 'leg_room_service', 'baggage_handling',\n",
    "       'checkin_service', 'inflight_service', 'cleanliness',\n",
    "       'departure_delay_in_minutes', 'arrival_delay_in_minutes',\n",
    "       'gender_Female', 'gender_Male', 'type_of_travel_business_travel','type_of_travel_personal_travel']\n",
    "    \n",
    "    \n",
    "label = ['label']    \n",
    "       \n",
    "    \n",
    "#Separação dos dados de treino\n",
    "x_train = df_train.loc[:, features]\n",
    "\n",
    "#Esse metodo ravel transforma os valores em um array\n",
    "y_train = df_train.loc[:, label].values.ravel()      \n",
    "\n",
    "#Separação dos dados de validação\n",
    "x_val = df_val.loc[:, features]\n",
    "\n",
    "y_val = df_val.loc[:, label].values.ravel()    "
   ]
  },
  {
   "cell_type": "markdown",
   "id": "d6bc0cf5",
   "metadata": {},
   "source": [
    "### 6.2 Treinar o modelo novamente com o melhor parametro obtido"
   ]
  },
  {
   "cell_type": "code",
   "execution_count": 39,
   "id": "88af7c04",
   "metadata": {},
   "outputs": [
    {
     "data": {
      "text/plain": [
       "DecisionTreeClassifier(max_depth=14)"
      ]
     },
     "execution_count": 39,
     "metadata": {},
     "output_type": "execute_result"
    }
   ],
   "source": [
    "model_last = DecisionTreeClassifier(max_depth = 14)\n",
    "model_last.fit( np.concatenate( (x_train, x_val) ), np.concatenate((y_train, y_val)) )"
   ]
  },
  {
   "cell_type": "markdown",
   "id": "0fbd86d3",
   "metadata": {},
   "source": [
    "### 6.3 Fazendo previsões nos dados de teste "
   ]
  },
  {
   "cell_type": "code",
   "execution_count": 40,
   "id": "78b95d28",
   "metadata": {},
   "outputs": [
    {
     "name": "stderr",
     "output_type": "stream",
     "text": [
      "C:\\Users\\Admin\\anaconda3\\lib\\site-packages\\sklearn\\base.py:443: UserWarning: X has feature names, but DecisionTreeClassifier was fitted without feature names\n",
      "  warnings.warn(\n"
     ]
    }
   ],
   "source": [
    "y_test, y_pred_test = Previsoes_Dataframe_Test(df_test, model_last)"
   ]
  },
  {
   "cell_type": "markdown",
   "id": "13a2d67e",
   "metadata": {},
   "source": [
    "### 6.4 Verificando as métricas do modelo com os dados de teste"
   ]
  },
  {
   "cell_type": "code",
   "execution_count": 41,
   "id": "005a74f0",
   "metadata": {},
   "outputs": [],
   "source": [
    "df_metrics_test = Model_Metrics(y_test, y_pred_test, 14)"
   ]
  },
  {
   "cell_type": "code",
   "execution_count": 42,
   "id": "2779b8ab",
   "metadata": {},
   "outputs": [
    {
     "data": {
      "text/html": [
       "<div>\n",
       "<style scoped>\n",
       "    .dataframe tbody tr th:only-of-type {\n",
       "        vertical-align: middle;\n",
       "    }\n",
       "\n",
       "    .dataframe tbody tr th {\n",
       "        vertical-align: top;\n",
       "    }\n",
       "\n",
       "    .dataframe thead th {\n",
       "        text-align: right;\n",
       "    }\n",
       "</style>\n",
       "<table border=\"1\" class=\"dataframe\">\n",
       "  <thead>\n",
       "    <tr style=\"text-align: right;\">\n",
       "      <th></th>\n",
       "      <th>max_depth = 14</th>\n",
       "    </tr>\n",
       "  </thead>\n",
       "  <tbody>\n",
       "    <tr>\n",
       "      <th>accuracy_score</th>\n",
       "      <td>0.956</td>\n",
       "    </tr>\n",
       "    <tr>\n",
       "      <th>precision_score</th>\n",
       "      <td>0.956</td>\n",
       "    </tr>\n",
       "    <tr>\n",
       "      <th>recall_score</th>\n",
       "      <td>0.943</td>\n",
       "    </tr>\n",
       "    <tr>\n",
       "      <th>f1_score</th>\n",
       "      <td>0.950</td>\n",
       "    </tr>\n",
       "  </tbody>\n",
       "</table>\n",
       "</div>"
      ],
      "text/plain": [
       "                 max_depth = 14\n",
       "accuracy_score            0.956\n",
       "precision_score           0.956\n",
       "recall_score              0.943\n",
       "f1_score                  0.950"
      ]
     },
     "execution_count": 42,
     "metadata": {},
     "output_type": "execute_result"
    }
   ],
   "source": [
    "df_metrics_test"
   ]
  },
  {
   "cell_type": "markdown",
   "id": "f423e232",
   "metadata": {},
   "source": [
    "# 7. Resguardando os objetos com as métricas de maior performance"
   ]
  },
  {
   "cell_type": "markdown",
   "id": "b4ca2f05",
   "metadata": {},
   "source": [
    "### 7.1 Alterando o nome das colunas dos dataframes"
   ]
  },
  {
   "cell_type": "markdown",
   "id": "73e8f918",
   "metadata": {},
   "source": [
    "#### a) dataframe teste com melhores métricas"
   ]
  },
  {
   "cell_type": "code",
   "execution_count": 43,
   "id": "93e1d270",
   "metadata": {},
   "outputs": [],
   "source": [
    "df_metrics_test = df_metrics_test.rename(columns = {\"max_depth = 14\": \"Decision Tree Classifier\"})"
   ]
  },
  {
   "cell_type": "code",
   "execution_count": 44,
   "id": "d6c8cd0c",
   "metadata": {},
   "outputs": [
    {
     "data": {
      "text/html": [
       "<div>\n",
       "<style scoped>\n",
       "    .dataframe tbody tr th:only-of-type {\n",
       "        vertical-align: middle;\n",
       "    }\n",
       "\n",
       "    .dataframe tbody tr th {\n",
       "        vertical-align: top;\n",
       "    }\n",
       "\n",
       "    .dataframe thead th {\n",
       "        text-align: right;\n",
       "    }\n",
       "</style>\n",
       "<table border=\"1\" class=\"dataframe\">\n",
       "  <thead>\n",
       "    <tr style=\"text-align: right;\">\n",
       "      <th></th>\n",
       "      <th>Decision Tree Classifier</th>\n",
       "    </tr>\n",
       "  </thead>\n",
       "  <tbody>\n",
       "    <tr>\n",
       "      <th>accuracy_score</th>\n",
       "      <td>0.956</td>\n",
       "    </tr>\n",
       "    <tr>\n",
       "      <th>precision_score</th>\n",
       "      <td>0.956</td>\n",
       "    </tr>\n",
       "    <tr>\n",
       "      <th>recall_score</th>\n",
       "      <td>0.943</td>\n",
       "    </tr>\n",
       "    <tr>\n",
       "      <th>f1_score</th>\n",
       "      <td>0.950</td>\n",
       "    </tr>\n",
       "  </tbody>\n",
       "</table>\n",
       "</div>"
      ],
      "text/plain": [
       "                 Decision Tree Classifier\n",
       "accuracy_score                      0.956\n",
       "precision_score                     0.956\n",
       "recall_score                        0.943\n",
       "f1_score                            0.950"
      ]
     },
     "execution_count": 44,
     "metadata": {},
     "output_type": "execute_result"
    }
   ],
   "source": [
    "df_metrics_test"
   ]
  },
  {
   "cell_type": "markdown",
   "id": "90a19fc0",
   "metadata": {},
   "source": [
    "#### b) dataframe validação com melhores métricas"
   ]
  },
  {
   "cell_type": "code",
   "execution_count": 45,
   "id": "2b31cefb",
   "metadata": {},
   "outputs": [],
   "source": [
    "df_max_depth_14 = df_max_depth_14.rename(columns = {\"max_depth = 14\": \"Decision Tree Classifier\"})"
   ]
  },
  {
   "cell_type": "code",
   "execution_count": 46,
   "id": "7a42bf29",
   "metadata": {},
   "outputs": [
    {
     "data": {
      "text/html": [
       "<div>\n",
       "<style scoped>\n",
       "    .dataframe tbody tr th:only-of-type {\n",
       "        vertical-align: middle;\n",
       "    }\n",
       "\n",
       "    .dataframe tbody tr th {\n",
       "        vertical-align: top;\n",
       "    }\n",
       "\n",
       "    .dataframe thead th {\n",
       "        text-align: right;\n",
       "    }\n",
       "</style>\n",
       "<table border=\"1\" class=\"dataframe\">\n",
       "  <thead>\n",
       "    <tr style=\"text-align: right;\">\n",
       "      <th></th>\n",
       "      <th>Decision Tree Classifier</th>\n",
       "    </tr>\n",
       "  </thead>\n",
       "  <tbody>\n",
       "    <tr>\n",
       "      <th>accuracy_score</th>\n",
       "      <td>0.953</td>\n",
       "    </tr>\n",
       "    <tr>\n",
       "      <th>precision_score</th>\n",
       "      <td>0.957</td>\n",
       "    </tr>\n",
       "    <tr>\n",
       "      <th>recall_score</th>\n",
       "      <td>0.933</td>\n",
       "    </tr>\n",
       "    <tr>\n",
       "      <th>f1_score</th>\n",
       "      <td>0.945</td>\n",
       "    </tr>\n",
       "  </tbody>\n",
       "</table>\n",
       "</div>"
      ],
      "text/plain": [
       "                 Decision Tree Classifier\n",
       "accuracy_score                      0.953\n",
       "precision_score                     0.957\n",
       "recall_score                        0.933\n",
       "f1_score                            0.945"
      ]
     },
     "execution_count": 46,
     "metadata": {},
     "output_type": "execute_result"
    }
   ],
   "source": [
    "df_max_depth_14"
   ]
  },
  {
   "cell_type": "markdown",
   "id": "f2fc98be",
   "metadata": {},
   "source": [
    "#### c) dataframe treinamento com melhores métricas"
   ]
  },
  {
   "cell_type": "code",
   "execution_count": 47,
   "id": "049efac4",
   "metadata": {},
   "outputs": [],
   "source": [
    "df_default_train = df_default_train.rename(columns={\"max_depth = None\": \"Decision Tree Classifier\"})"
   ]
  },
  {
   "cell_type": "code",
   "execution_count": 48,
   "id": "677fc58f",
   "metadata": {},
   "outputs": [
    {
     "data": {
      "text/html": [
       "<div>\n",
       "<style scoped>\n",
       "    .dataframe tbody tr th:only-of-type {\n",
       "        vertical-align: middle;\n",
       "    }\n",
       "\n",
       "    .dataframe tbody tr th {\n",
       "        vertical-align: top;\n",
       "    }\n",
       "\n",
       "    .dataframe thead th {\n",
       "        text-align: right;\n",
       "    }\n",
       "</style>\n",
       "<table border=\"1\" class=\"dataframe\">\n",
       "  <thead>\n",
       "    <tr style=\"text-align: right;\">\n",
       "      <th></th>\n",
       "      <th>Decision Tree Classifier</th>\n",
       "    </tr>\n",
       "  </thead>\n",
       "  <tbody>\n",
       "    <tr>\n",
       "      <th>accuracy_score</th>\n",
       "      <td>1.0</td>\n",
       "    </tr>\n",
       "    <tr>\n",
       "      <th>precision_score</th>\n",
       "      <td>1.0</td>\n",
       "    </tr>\n",
       "    <tr>\n",
       "      <th>recall_score</th>\n",
       "      <td>1.0</td>\n",
       "    </tr>\n",
       "    <tr>\n",
       "      <th>f1_score</th>\n",
       "      <td>1.0</td>\n",
       "    </tr>\n",
       "  </tbody>\n",
       "</table>\n",
       "</div>"
      ],
      "text/plain": [
       "                 Decision Tree Classifier\n",
       "accuracy_score                        1.0\n",
       "precision_score                       1.0\n",
       "recall_score                          1.0\n",
       "f1_score                              1.0"
      ]
     },
     "execution_count": 48,
     "metadata": {},
     "output_type": "execute_result"
    }
   ],
   "source": [
    "df_default_train"
   ]
  },
  {
   "cell_type": "markdown",
   "id": "b96d28da",
   "metadata": {},
   "source": [
    "### 7.2 Salvar os objetos com as melhores metricas em um arquivo pickle"
   ]
  },
  {
   "cell_type": "markdown",
   "id": "6b0d25f7",
   "metadata": {},
   "source": [
    "### a) dataframe com métricas dos dados de treinamento"
   ]
  },
  {
   "cell_type": "code",
   "execution_count": 49,
   "id": "be33a506",
   "metadata": {},
   "outputs": [],
   "source": [
    "with open('arquivo_decision_tree_train.pkl', 'wb') as arquivo_decision_tree_train:\n",
    "    pickle.dump(df_default_train, arquivo_decision_tree_train)  "
   ]
  },
  {
   "cell_type": "code",
   "execution_count": 50,
   "id": "6543c421",
   "metadata": {},
   "outputs": [],
   "source": [
    "arquivo_decision_tree_train.close()"
   ]
  },
  {
   "cell_type": "markdown",
   "id": "c2d0c3d4",
   "metadata": {},
   "source": [
    "### b) dataframe com métricas dos dados de validação"
   ]
  },
  {
   "cell_type": "code",
   "execution_count": 51,
   "id": "bd21a48e",
   "metadata": {},
   "outputs": [],
   "source": [
    "with open('arquivo_decision_tree_val.pkl', 'wb') as arquivo_decision_tree_val:\n",
    "    pickle.dump(df_max_depth_14, arquivo_decision_tree_val) "
   ]
  },
  {
   "cell_type": "code",
   "execution_count": 52,
   "id": "7e19c13a",
   "metadata": {},
   "outputs": [],
   "source": [
    "arquivo_decision_tree_val.close()"
   ]
  },
  {
   "cell_type": "markdown",
   "id": "f3da1e65",
   "metadata": {},
   "source": [
    "### c) dataframe com métricas dos dados de teste"
   ]
  },
  {
   "cell_type": "code",
   "execution_count": 53,
   "id": "eca224ae",
   "metadata": {},
   "outputs": [],
   "source": [
    "with open('arquivo_decision_tree_test.pkl', 'wb') as arquivo_decision_tree_test:\n",
    "    pickle.dump(df_metrics_test, arquivo_decision_tree_test) "
   ]
  },
  {
   "cell_type": "code",
   "execution_count": 54,
   "id": "499818de",
   "metadata": {},
   "outputs": [],
   "source": [
    "arquivo_decision_tree_test.close()"
   ]
  },
  {
   "cell_type": "code",
   "execution_count": null,
   "id": "fecd2b69",
   "metadata": {},
   "outputs": [],
   "source": []
  },
  {
   "cell_type": "code",
   "execution_count": null,
   "id": "a51d8cf8",
   "metadata": {},
   "outputs": [],
   "source": []
  }
 ],
 "metadata": {
  "kernelspec": {
   "display_name": "Python 3 (ipykernel)",
   "language": "python",
   "name": "python3"
  },
  "language_info": {
   "codemirror_mode": {
    "name": "ipython",
    "version": 3
   },
   "file_extension": ".py",
   "mimetype": "text/x-python",
   "name": "python",
   "nbconvert_exporter": "python",
   "pygments_lexer": "ipython3",
   "version": "3.9.12"
  }
 },
 "nbformat": 4,
 "nbformat_minor": 5
}
