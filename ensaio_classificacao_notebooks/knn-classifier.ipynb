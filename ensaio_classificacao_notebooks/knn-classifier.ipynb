{
 "cells": [
  {
   "cell_type": "markdown",
   "id": "0b1e2b2c",
   "metadata": {},
   "source": [
    "# 1.Imports"
   ]
  },
  {
   "cell_type": "code",
   "execution_count": 1,
   "id": "908027d3",
   "metadata": {},
   "outputs": [],
   "source": [
    "import pandas as pd\n",
    "import numpy as np\n",
    "from sklearn import metrics as mt\n",
    "from sklearn.neighbors import KNeighborsClassifier\n",
    "import pickle"
   ]
  },
  {
   "cell_type": "markdown",
   "id": "3b9e0032",
   "metadata": {},
   "source": [
    "# 2. Funcao para carregar os datasets"
   ]
  },
  {
   "cell_type": "code",
   "execution_count": 2,
   "id": "2439086b",
   "metadata": {},
   "outputs": [],
   "source": [
    "def Load_Data_Set(df_x_train, df_y_train):\n",
    "    df1 = pd.read_csv(df_x_train)\n",
    "    df2 = pd.read_csv(df_y_train)\n",
    "    return df1, df2"
   ]
  },
  {
   "cell_type": "markdown",
   "id": "e52b38b4",
   "metadata": {},
   "source": [
    "# 3. Criando e concatenando os dataframes"
   ]
  },
  {
   "cell_type": "markdown",
   "id": "82baf600",
   "metadata": {},
   "source": [
    "### 3.1 Dataset de treinamento"
   ]
  },
  {
   "cell_type": "code",
   "execution_count": 3,
   "id": "ead2454b",
   "metadata": {},
   "outputs": [],
   "source": [
    "df_x_train = \"../1_ensaio_classificacao/1_dados_treinamento/X_training.csv\""
   ]
  },
  {
   "cell_type": "code",
   "execution_count": 4,
   "id": "a2f7b5a5",
   "metadata": {},
   "outputs": [],
   "source": [
    "df_y_train = \"../1_ensaio_classificacao/1_dados_treinamento/y_training.csv\""
   ]
  },
  {
   "cell_type": "code",
   "execution_count": 5,
   "id": "3335a12c",
   "metadata": {},
   "outputs": [],
   "source": [
    "df1_train, df2_train = Load_Data_Set(df_x_train, df_y_train)"
   ]
  },
  {
   "cell_type": "code",
   "execution_count": 6,
   "id": "2ef9e6f4",
   "metadata": {},
   "outputs": [],
   "source": [
    "df1_train['label'] = df2_train"
   ]
  },
  {
   "cell_type": "code",
   "execution_count": 7,
   "id": "455fa1de",
   "metadata": {},
   "outputs": [],
   "source": [
    "df_train = df1_train.copy()"
   ]
  },
  {
   "cell_type": "markdown",
   "id": "fce80044",
   "metadata": {},
   "source": [
    "### 3.2 Dataset de validacao"
   ]
  },
  {
   "cell_type": "code",
   "execution_count": 8,
   "id": "d48cf81c",
   "metadata": {},
   "outputs": [],
   "source": [
    "df_x_val = \"../1_ensaio_classificacao/2_dados_validacao/X_validation.csv\""
   ]
  },
  {
   "cell_type": "code",
   "execution_count": 9,
   "id": "54803962",
   "metadata": {},
   "outputs": [],
   "source": [
    "df_y_val = \"../1_ensaio_classificacao/2_dados_validacao/y_validation.csv\""
   ]
  },
  {
   "cell_type": "code",
   "execution_count": 10,
   "id": "3793f8be",
   "metadata": {},
   "outputs": [],
   "source": [
    "df1_val, df2_val = Load_Data_Set(df_x_val, df_y_val)"
   ]
  },
  {
   "cell_type": "code",
   "execution_count": 11,
   "id": "a52fc4eb",
   "metadata": {},
   "outputs": [],
   "source": [
    "df1_val['label'] = df2_val"
   ]
  },
  {
   "cell_type": "code",
   "execution_count": 12,
   "id": "442eb498",
   "metadata": {},
   "outputs": [],
   "source": [
    "df_val = df1_val.copy()"
   ]
  },
  {
   "cell_type": "markdown",
   "id": "1b8f6d2e",
   "metadata": {},
   "source": [
    "### 3.3 Dataset de teste"
   ]
  },
  {
   "cell_type": "code",
   "execution_count": 13,
   "id": "d7a979a9",
   "metadata": {},
   "outputs": [],
   "source": [
    "df_x_test = \"../1_ensaio_classificacao/3_dados_teste/X_test.csv\""
   ]
  },
  {
   "cell_type": "code",
   "execution_count": 14,
   "id": "399f3bdd",
   "metadata": {},
   "outputs": [],
   "source": [
    "df_y_test = \"../1_ensaio_classificacao/3_dados_teste/y_test.csv\""
   ]
  },
  {
   "cell_type": "code",
   "execution_count": 15,
   "id": "e7832b1d",
   "metadata": {},
   "outputs": [],
   "source": [
    "df1_test, df2_test = Load_Data_Set(df_x_test, df_y_test)"
   ]
  },
  {
   "cell_type": "code",
   "execution_count": 16,
   "id": "778594d0",
   "metadata": {},
   "outputs": [],
   "source": [
    "df1_test['label'] = df2_test"
   ]
  },
  {
   "cell_type": "code",
   "execution_count": 17,
   "id": "5d11ee50",
   "metadata": {},
   "outputs": [],
   "source": [
    "df_test = df1_test.copy()"
   ]
  },
  {
   "cell_type": "markdown",
   "id": "858162e8",
   "metadata": {},
   "source": [
    "# 4. Funções para treinar o modelo e avaliar as métricas"
   ]
  },
  {
   "cell_type": "code",
   "execution_count": 18,
   "id": "ecec43c9",
   "metadata": {},
   "outputs": [],
   "source": [
    "#Criando uma função para Treinar o Modelo encima dos dados de treinamento\n",
    "\n",
    "#Fazer as previsoes encima dos proprios dados de treinamento\n",
    "\n",
    "#Entrada: dataframe de treinamento, parametro neighbors\n",
    "\n",
    "#Saida: valores de y_train + valores de previsao feitos a partir dos dados de treinamento (y_pred_train) +\n",
    "# algoritmo knn treinado\n",
    "\n",
    "def Model_Training(df_train, neighbors): \n",
    "    \n",
    "    features = ['age', 'flight_distance', 'departure_arrival_time_convenient', 'departure_delay_in_minutes',\n",
    "           'arrival_delay_in_minutes']\n",
    "    \n",
    "    label = ['label']    \n",
    "    \n",
    "    #Preparação dos dados de treino\n",
    "    x_train = df_train.loc[:, features]\n",
    "\n",
    "    #Esse metodo ravel transforma os valores em um array\n",
    "    y_train = df_train.loc[:, label].values.ravel()      \n",
    "    \n",
    "    #Treinamento do algoritmo KNN\n",
    "    \n",
    "    #No caso do KNN, o algoritmo que necessitamos ajustar é o n_neighbors \n",
    "    \n",
    "    knn_classifier = KNeighborsClassifier(n_neighbors = neighbors)\n",
    "    knn_classifier.fit(x_train, y_train)\n",
    "\n",
    "    #Fazendo previsoes emcima dos dados de treinamento\n",
    "    y_pred_train = knn_classifier.predict(x_train)\n",
    "    \n",
    "    return y_train, y_pred_train, knn_classifier\n",
    "   "
   ]
  },
  {
   "cell_type": "code",
   "execution_count": 19,
   "id": "d910e003",
   "metadata": {},
   "outputs": [],
   "source": [
    "def Previsoes_Dataframe_Test(df_test, knn_classifier):\n",
    "    \n",
    "    #Entrada: dataset de teste +  algoritmo KNN treinado\n",
    "    \n",
    "    #Saida: os dados de y do proprio dataset de teste (y_test) e as previsoes feitas encima dos dados de teste (y_pred_test)\n",
    "    \n",
    "    features = ['age', 'flight_distance', 'departure_arrival_time_convenient', 'departure_delay_in_minutes',\n",
    "           'arrival_delay_in_minutes']\n",
    "    label = ['label']  \n",
    "    \n",
    "       \n",
    "    #Separando os dados\n",
    "    x_test = df_test.loc[:, features]\n",
    "\n",
    "    y_test = df_test.loc[:, label].values.ravel() \n",
    "    \n",
    "    #Fazendo previsões    \n",
    "    y_pred_test = knn_classifier.predict(x_test)\n",
    "    \n",
    "    return y_test, y_pred_test \n",
    "       "
   ]
  },
  {
   "cell_type": "code",
   "execution_count": 20,
   "id": "cabfb686",
   "metadata": {},
   "outputs": [],
   "source": [
    "def Previsoes_Dataframe_Val(df_val, knn_classifier):\n",
    "    \n",
    "   #Entrada: dataset de validacao +  algoritmo KNN treinado\n",
    "    \n",
    "   #Saida: os dados de y do proprio dataset de validacao (y_val) e as previsoes feitas encima dos dados de validacao\n",
    "   #(y_pred_val)\n",
    "    \n",
    "    features = ['age', 'flight_distance', 'departure_arrival_time_convenient', 'departure_delay_in_minutes',\n",
    "           'arrival_delay_in_minutes']\n",
    "    label = ['label']  \n",
    "    \n",
    "    #Separando os dados\n",
    "    x_val = df_val.loc[:, features]\n",
    "\n",
    "    y_val = df_val.loc[:, label].values.ravel() \n",
    "    \n",
    "    #Fazendo previsões    \n",
    "    y_pred_val = knn_classifier.predict(x_val)\n",
    "    \n",
    "    return y_val, y_pred_val\n",
    "        "
   ]
  },
  {
   "cell_type": "code",
   "execution_count": 21,
   "id": "ed848cde",
   "metadata": {},
   "outputs": [],
   "source": [
    "#Criando uma função para avaliar as metricas do modelo\n",
    "\n",
    "#Entrada: Os proprios valores de y do dataset original; os valores de y que são as previsoes feitas, o parametro neighbors\n",
    "#Saida: Dataframe com as principais metricas do modelo\n",
    "\n",
    "def Model_Metrics(y, y_pred, neighbors):\n",
    "    #Confusion Matrix\n",
    "    confusion_matrix = mt.confusion_matrix(y , y_pred )\n",
    "        \n",
    "    #Accuracy Score\n",
    "    accuracy_score = np.round(mt.accuracy_score(y, y_pred ),3)\n",
    "        \n",
    "    #Precision Score\n",
    "    precision_score = np.round(mt.precision_score( y, y_pred, average=\"binary\", pos_label= 1),3)\n",
    "        \n",
    "    #Recall Score\n",
    "    recall_score = np.round(mt.recall_score( y, y_pred, average='binary', pos_label=1 ),3)\n",
    "   \n",
    "    #F1 Score\n",
    "    f1_score = np.round(mt.f1_score( y, y_pred, average='binary', pos_label=1 ),3)\n",
    "    \n",
    "    #Criando um dataframe com as metricas\n",
    "    \n",
    "    neighbors = 'neighbors = ' + str(neighbors) \n",
    "    \n",
    "    d = { neighbors: [accuracy_score, precision_score, recall_score, f1_score]}\n",
    "    \n",
    "    df_metrics =  pd.DataFrame(data = d, index = ['accuracy_score', 'precision_score', 'recall_score', 'f1_score'])\n",
    "    \n",
    "    return df_metrics"
   ]
  },
  {
   "cell_type": "markdown",
   "id": "117bebda",
   "metadata": {},
   "source": [
    "# 5. Treinamento do modelo, validação e verificação de performance"
   ]
  },
  {
   "cell_type": "markdown",
   "id": "5365571a",
   "metadata": {},
   "source": [
    "### 5.1 Treinar o modelo com os valores de parametro default: n_neighbors = 5 e verificação das métricas do modelo sobre os dados de treinamento"
   ]
  },
  {
   "cell_type": "code",
   "execution_count": 22,
   "id": "39dc811f",
   "metadata": {},
   "outputs": [],
   "source": [
    "y_train, y_pred_train, knn_classifier = Model_Training (df_train, 5)"
   ]
  },
  {
   "cell_type": "code",
   "execution_count": 23,
   "id": "0cc6b228",
   "metadata": {},
   "outputs": [],
   "source": [
    "df_default_train = Model_Metrics(y_train, y_pred_train, 5)"
   ]
  },
  {
   "cell_type": "code",
   "execution_count": 24,
   "id": "03edbde5",
   "metadata": {},
   "outputs": [
    {
     "data": {
      "text/html": [
       "<div>\n",
       "<style scoped>\n",
       "    .dataframe tbody tr th:only-of-type {\n",
       "        vertical-align: middle;\n",
       "    }\n",
       "\n",
       "    .dataframe tbody tr th {\n",
       "        vertical-align: top;\n",
       "    }\n",
       "\n",
       "    .dataframe thead th {\n",
       "        text-align: right;\n",
       "    }\n",
       "</style>\n",
       "<table border=\"1\" class=\"dataframe\">\n",
       "  <thead>\n",
       "    <tr style=\"text-align: right;\">\n",
       "      <th></th>\n",
       "      <th>neighbors = 5</th>\n",
       "    </tr>\n",
       "  </thead>\n",
       "  <tbody>\n",
       "    <tr>\n",
       "      <th>accuracy_score</th>\n",
       "      <td>0.761</td>\n",
       "    </tr>\n",
       "    <tr>\n",
       "      <th>precision_score</th>\n",
       "      <td>0.739</td>\n",
       "    </tr>\n",
       "    <tr>\n",
       "      <th>recall_score</th>\n",
       "      <td>0.696</td>\n",
       "    </tr>\n",
       "    <tr>\n",
       "      <th>f1_score</th>\n",
       "      <td>0.716</td>\n",
       "    </tr>\n",
       "  </tbody>\n",
       "</table>\n",
       "</div>"
      ],
      "text/plain": [
       "                 neighbors = 5\n",
       "accuracy_score           0.761\n",
       "precision_score          0.739\n",
       "recall_score             0.696\n",
       "f1_score                 0.716"
      ]
     },
     "execution_count": 24,
     "metadata": {},
     "output_type": "execute_result"
    }
   ],
   "source": [
    "df_default_train"
   ]
  },
  {
   "cell_type": "markdown",
   "id": "b51596d6",
   "metadata": {},
   "source": [
    "### 5.2 Testar o algoritmo com o paramtro default  nos dados de validação e verificar sua performance"
   ]
  },
  {
   "cell_type": "code",
   "execution_count": 25,
   "id": "5ddace98",
   "metadata": {},
   "outputs": [],
   "source": [
    "y_val, y_pred_val = Previsoes_Dataframe_Val(df_val, knn_classifier)"
   ]
  },
  {
   "cell_type": "code",
   "execution_count": 26,
   "id": "6cdd4a5b",
   "metadata": {},
   "outputs": [],
   "source": [
    "df_val_default = Model_Metrics(y_val, y_pred_val, 5)"
   ]
  },
  {
   "cell_type": "code",
   "execution_count": 27,
   "id": "1b2a0502",
   "metadata": {},
   "outputs": [
    {
     "data": {
      "text/html": [
       "<div>\n",
       "<style scoped>\n",
       "    .dataframe tbody tr th:only-of-type {\n",
       "        vertical-align: middle;\n",
       "    }\n",
       "\n",
       "    .dataframe tbody tr th {\n",
       "        vertical-align: top;\n",
       "    }\n",
       "\n",
       "    .dataframe thead th {\n",
       "        text-align: right;\n",
       "    }\n",
       "</style>\n",
       "<table border=\"1\" class=\"dataframe\">\n",
       "  <thead>\n",
       "    <tr style=\"text-align: right;\">\n",
       "      <th></th>\n",
       "      <th>neighbors = 5</th>\n",
       "    </tr>\n",
       "  </thead>\n",
       "  <tbody>\n",
       "    <tr>\n",
       "      <th>accuracy_score</th>\n",
       "      <td>0.648</td>\n",
       "    </tr>\n",
       "    <tr>\n",
       "      <th>precision_score</th>\n",
       "      <td>0.600</td>\n",
       "    </tr>\n",
       "    <tr>\n",
       "      <th>recall_score</th>\n",
       "      <td>0.562</td>\n",
       "    </tr>\n",
       "    <tr>\n",
       "      <th>f1_score</th>\n",
       "      <td>0.581</td>\n",
       "    </tr>\n",
       "  </tbody>\n",
       "</table>\n",
       "</div>"
      ],
      "text/plain": [
       "                 neighbors = 5\n",
       "accuracy_score           0.648\n",
       "precision_score          0.600\n",
       "recall_score             0.562\n",
       "f1_score                 0.581"
      ]
     },
     "execution_count": 27,
     "metadata": {},
     "output_type": "execute_result"
    }
   ],
   "source": [
    "df_val_default"
   ]
  },
  {
   "cell_type": "markdown",
   "id": "23b22f70",
   "metadata": {},
   "source": [
    "### 5.3 Treinar o modelo nos dados de treinamento alterando os parametros e testar a performance desse modelo sobre os dados de validação"
   ]
  },
  {
   "cell_type": "markdown",
   "id": "2446fb97",
   "metadata": {},
   "source": [
    "### a) neighbors = 3"
   ]
  },
  {
   "cell_type": "code",
   "execution_count": 28,
   "id": "4b3abde7",
   "metadata": {},
   "outputs": [],
   "source": [
    "y_train, y_pred_train , knn_classifier = Model_Training(df_train, 3)"
   ]
  },
  {
   "cell_type": "code",
   "execution_count": 29,
   "id": "e35643cc",
   "metadata": {},
   "outputs": [],
   "source": [
    "y_val, y_pred_val = Previsoes_Dataframe_Val(df_val,knn_classifier) "
   ]
  },
  {
   "cell_type": "code",
   "execution_count": 30,
   "id": "31283c00",
   "metadata": {},
   "outputs": [],
   "source": [
    "df_val_neighbors3 = Model_Metrics(y_val, y_pred_val, 3)"
   ]
  },
  {
   "cell_type": "code",
   "execution_count": 31,
   "id": "a54a8661",
   "metadata": {},
   "outputs": [
    {
     "data": {
      "text/html": [
       "<div>\n",
       "<style scoped>\n",
       "    .dataframe tbody tr th:only-of-type {\n",
       "        vertical-align: middle;\n",
       "    }\n",
       "\n",
       "    .dataframe tbody tr th {\n",
       "        vertical-align: top;\n",
       "    }\n",
       "\n",
       "    .dataframe thead th {\n",
       "        text-align: right;\n",
       "    }\n",
       "</style>\n",
       "<table border=\"1\" class=\"dataframe\">\n",
       "  <thead>\n",
       "    <tr style=\"text-align: right;\">\n",
       "      <th></th>\n",
       "      <th>neighbors = 3</th>\n",
       "    </tr>\n",
       "  </thead>\n",
       "  <tbody>\n",
       "    <tr>\n",
       "      <th>accuracy_score</th>\n",
       "      <td>0.635</td>\n",
       "    </tr>\n",
       "    <tr>\n",
       "      <th>precision_score</th>\n",
       "      <td>0.582</td>\n",
       "    </tr>\n",
       "    <tr>\n",
       "      <th>recall_score</th>\n",
       "      <td>0.561</td>\n",
       "    </tr>\n",
       "    <tr>\n",
       "      <th>f1_score</th>\n",
       "      <td>0.571</td>\n",
       "    </tr>\n",
       "  </tbody>\n",
       "</table>\n",
       "</div>"
      ],
      "text/plain": [
       "                 neighbors = 3\n",
       "accuracy_score           0.635\n",
       "precision_score          0.582\n",
       "recall_score             0.561\n",
       "f1_score                 0.571"
      ]
     },
     "execution_count": 31,
     "metadata": {},
     "output_type": "execute_result"
    }
   ],
   "source": [
    "df_val_neighbors3"
   ]
  },
  {
   "cell_type": "markdown",
   "id": "08f3297e",
   "metadata": {},
   "source": [
    "### b) neighbors = 4"
   ]
  },
  {
   "cell_type": "code",
   "execution_count": 32,
   "id": "75f7cec8",
   "metadata": {},
   "outputs": [],
   "source": [
    "y_train, y_pred_train , knn_classifier = Model_Training(df_train, 4)"
   ]
  },
  {
   "cell_type": "code",
   "execution_count": 33,
   "id": "9e0ff5c5",
   "metadata": {},
   "outputs": [],
   "source": [
    "y_val, y_pred_val = Previsoes_Dataframe_Val(df_val,knn_classifier) "
   ]
  },
  {
   "cell_type": "code",
   "execution_count": 34,
   "id": "ac810e79",
   "metadata": {},
   "outputs": [],
   "source": [
    "df_val_neighbors4 = Model_Metrics(y_val, y_pred_val, 4)"
   ]
  },
  {
   "cell_type": "code",
   "execution_count": 35,
   "id": "51411369",
   "metadata": {},
   "outputs": [
    {
     "data": {
      "text/html": [
       "<div>\n",
       "<style scoped>\n",
       "    .dataframe tbody tr th:only-of-type {\n",
       "        vertical-align: middle;\n",
       "    }\n",
       "\n",
       "    .dataframe tbody tr th {\n",
       "        vertical-align: top;\n",
       "    }\n",
       "\n",
       "    .dataframe thead th {\n",
       "        text-align: right;\n",
       "    }\n",
       "</style>\n",
       "<table border=\"1\" class=\"dataframe\">\n",
       "  <thead>\n",
       "    <tr style=\"text-align: right;\">\n",
       "      <th></th>\n",
       "      <th>neighbors = 4</th>\n",
       "    </tr>\n",
       "  </thead>\n",
       "  <tbody>\n",
       "    <tr>\n",
       "      <th>accuracy_score</th>\n",
       "      <td>0.645</td>\n",
       "    </tr>\n",
       "    <tr>\n",
       "      <th>precision_score</th>\n",
       "      <td>0.636</td>\n",
       "    </tr>\n",
       "    <tr>\n",
       "      <th>recall_score</th>\n",
       "      <td>0.424</td>\n",
       "    </tr>\n",
       "    <tr>\n",
       "      <th>f1_score</th>\n",
       "      <td>0.509</td>\n",
       "    </tr>\n",
       "  </tbody>\n",
       "</table>\n",
       "</div>"
      ],
      "text/plain": [
       "                 neighbors = 4\n",
       "accuracy_score           0.645\n",
       "precision_score          0.636\n",
       "recall_score             0.424\n",
       "f1_score                 0.509"
      ]
     },
     "execution_count": 35,
     "metadata": {},
     "output_type": "execute_result"
    }
   ],
   "source": [
    "df_val_neighbors4"
   ]
  },
  {
   "cell_type": "markdown",
   "id": "ff3b1f7f",
   "metadata": {},
   "source": [
    "### c) neighbors = 6"
   ]
  },
  {
   "cell_type": "code",
   "execution_count": 36,
   "id": "ebaf92ee",
   "metadata": {},
   "outputs": [],
   "source": [
    "y_train, y_pred_train , knn_classifier = Model_Training(df_train, 6)"
   ]
  },
  {
   "cell_type": "code",
   "execution_count": 37,
   "id": "e7d1209b",
   "metadata": {},
   "outputs": [],
   "source": [
    "y_val, y_pred_val = Previsoes_Dataframe_Val(df_val,knn_classifier) "
   ]
  },
  {
   "cell_type": "code",
   "execution_count": 38,
   "id": "78e1efbe",
   "metadata": {},
   "outputs": [],
   "source": [
    "df_val_neighbors6 = Model_Metrics(y_val, y_pred_val, 6)"
   ]
  },
  {
   "cell_type": "code",
   "execution_count": 39,
   "id": "5ea7359c",
   "metadata": {},
   "outputs": [
    {
     "data": {
      "text/html": [
       "<div>\n",
       "<style scoped>\n",
       "    .dataframe tbody tr th:only-of-type {\n",
       "        vertical-align: middle;\n",
       "    }\n",
       "\n",
       "    .dataframe tbody tr th {\n",
       "        vertical-align: top;\n",
       "    }\n",
       "\n",
       "    .dataframe thead th {\n",
       "        text-align: right;\n",
       "    }\n",
       "</style>\n",
       "<table border=\"1\" class=\"dataframe\">\n",
       "  <thead>\n",
       "    <tr style=\"text-align: right;\">\n",
       "      <th></th>\n",
       "      <th>neighbors = 6</th>\n",
       "    </tr>\n",
       "  </thead>\n",
       "  <tbody>\n",
       "    <tr>\n",
       "      <th>accuracy_score</th>\n",
       "      <td>0.654</td>\n",
       "    </tr>\n",
       "    <tr>\n",
       "      <th>precision_score</th>\n",
       "      <td>0.638</td>\n",
       "    </tr>\n",
       "    <tr>\n",
       "      <th>recall_score</th>\n",
       "      <td>0.468</td>\n",
       "    </tr>\n",
       "    <tr>\n",
       "      <th>f1_score</th>\n",
       "      <td>0.540</td>\n",
       "    </tr>\n",
       "  </tbody>\n",
       "</table>\n",
       "</div>"
      ],
      "text/plain": [
       "                 neighbors = 6\n",
       "accuracy_score           0.654\n",
       "precision_score          0.638\n",
       "recall_score             0.468\n",
       "f1_score                 0.540"
      ]
     },
     "execution_count": 39,
     "metadata": {},
     "output_type": "execute_result"
    }
   ],
   "source": [
    "df_val_neighbors6"
   ]
  },
  {
   "cell_type": "markdown",
   "id": "0336db98",
   "metadata": {},
   "source": [
    "### d) neighbors = 7"
   ]
  },
  {
   "cell_type": "code",
   "execution_count": 40,
   "id": "bc3888e1",
   "metadata": {},
   "outputs": [],
   "source": [
    "y_train, y_pred_train , knn_classifier = Model_Training(df_train, 7)"
   ]
  },
  {
   "cell_type": "code",
   "execution_count": 41,
   "id": "39a3ef34",
   "metadata": {},
   "outputs": [],
   "source": [
    "y_val, y_pred_val = Previsoes_Dataframe_Val(df_val,knn_classifier) "
   ]
  },
  {
   "cell_type": "code",
   "execution_count": 42,
   "id": "430bf5d4",
   "metadata": {},
   "outputs": [],
   "source": [
    "df_val_neighbors7 = Model_Metrics(y_val, y_pred_val, 7)"
   ]
  },
  {
   "cell_type": "code",
   "execution_count": 43,
   "id": "0aa93729",
   "metadata": {},
   "outputs": [
    {
     "data": {
      "text/html": [
       "<div>\n",
       "<style scoped>\n",
       "    .dataframe tbody tr th:only-of-type {\n",
       "        vertical-align: middle;\n",
       "    }\n",
       "\n",
       "    .dataframe tbody tr th {\n",
       "        vertical-align: top;\n",
       "    }\n",
       "\n",
       "    .dataframe thead th {\n",
       "        text-align: right;\n",
       "    }\n",
       "</style>\n",
       "<table border=\"1\" class=\"dataframe\">\n",
       "  <thead>\n",
       "    <tr style=\"text-align: right;\">\n",
       "      <th></th>\n",
       "      <th>neighbors = 7</th>\n",
       "    </tr>\n",
       "  </thead>\n",
       "  <tbody>\n",
       "    <tr>\n",
       "      <th>accuracy_score</th>\n",
       "      <td>0.657</td>\n",
       "    </tr>\n",
       "    <tr>\n",
       "      <th>precision_score</th>\n",
       "      <td>0.613</td>\n",
       "    </tr>\n",
       "    <tr>\n",
       "      <th>recall_score</th>\n",
       "      <td>0.569</td>\n",
       "    </tr>\n",
       "    <tr>\n",
       "      <th>f1_score</th>\n",
       "      <td>0.590</td>\n",
       "    </tr>\n",
       "  </tbody>\n",
       "</table>\n",
       "</div>"
      ],
      "text/plain": [
       "                 neighbors = 7\n",
       "accuracy_score           0.657\n",
       "precision_score          0.613\n",
       "recall_score             0.569\n",
       "f1_score                 0.590"
      ]
     },
     "execution_count": 43,
     "metadata": {},
     "output_type": "execute_result"
    }
   ],
   "source": [
    "df_val_neighbors7"
   ]
  },
  {
   "cell_type": "markdown",
   "id": "dab50040",
   "metadata": {},
   "source": [
    "### e) neighbors = 9"
   ]
  },
  {
   "cell_type": "code",
   "execution_count": 44,
   "id": "4dcf9a18",
   "metadata": {},
   "outputs": [],
   "source": [
    "y_train, y_pred_train , knn_classifier = Model_Training(df_train, 9)"
   ]
  },
  {
   "cell_type": "code",
   "execution_count": 45,
   "id": "d81d50b8",
   "metadata": {},
   "outputs": [],
   "source": [
    "y_val, y_pred_val = Previsoes_Dataframe_Val(df_val,knn_classifier) "
   ]
  },
  {
   "cell_type": "code",
   "execution_count": 46,
   "id": "5b0a5c12",
   "metadata": {},
   "outputs": [],
   "source": [
    "df_val_neighbors9 = Model_Metrics(y_val, y_pred_val, 9)"
   ]
  },
  {
   "cell_type": "code",
   "execution_count": 47,
   "id": "63f54c6c",
   "metadata": {},
   "outputs": [
    {
     "data": {
      "text/html": [
       "<div>\n",
       "<style scoped>\n",
       "    .dataframe tbody tr th:only-of-type {\n",
       "        vertical-align: middle;\n",
       "    }\n",
       "\n",
       "    .dataframe tbody tr th {\n",
       "        vertical-align: top;\n",
       "    }\n",
       "\n",
       "    .dataframe thead th {\n",
       "        text-align: right;\n",
       "    }\n",
       "</style>\n",
       "<table border=\"1\" class=\"dataframe\">\n",
       "  <thead>\n",
       "    <tr style=\"text-align: right;\">\n",
       "      <th></th>\n",
       "      <th>neighbors = 9</th>\n",
       "    </tr>\n",
       "  </thead>\n",
       "  <tbody>\n",
       "    <tr>\n",
       "      <th>accuracy_score</th>\n",
       "      <td>0.664</td>\n",
       "    </tr>\n",
       "    <tr>\n",
       "      <th>precision_score</th>\n",
       "      <td>0.622</td>\n",
       "    </tr>\n",
       "    <tr>\n",
       "      <th>recall_score</th>\n",
       "      <td>0.572</td>\n",
       "    </tr>\n",
       "    <tr>\n",
       "      <th>f1_score</th>\n",
       "      <td>0.596</td>\n",
       "    </tr>\n",
       "  </tbody>\n",
       "</table>\n",
       "</div>"
      ],
      "text/plain": [
       "                 neighbors = 9\n",
       "accuracy_score           0.664\n",
       "precision_score          0.622\n",
       "recall_score             0.572\n",
       "f1_score                 0.596"
      ]
     },
     "execution_count": 47,
     "metadata": {},
     "output_type": "execute_result"
    }
   ],
   "source": [
    "df_val_neighbors9"
   ]
  },
  {
   "cell_type": "markdown",
   "id": "2229928e",
   "metadata": {},
   "source": [
    "### f) neighbors = 10"
   ]
  },
  {
   "cell_type": "code",
   "execution_count": 48,
   "id": "a93ee9fc",
   "metadata": {},
   "outputs": [],
   "source": [
    "y_train, y_pred_train , knn_classifier = Model_Training(df_train, 10)"
   ]
  },
  {
   "cell_type": "code",
   "execution_count": 49,
   "id": "d56cec58",
   "metadata": {},
   "outputs": [],
   "source": [
    "y_val, y_pred_val = Previsoes_Dataframe_Val(df_val,knn_classifier) "
   ]
  },
  {
   "cell_type": "code",
   "execution_count": 50,
   "id": "83452a18",
   "metadata": {},
   "outputs": [],
   "source": [
    "df_val_neighbors10 = Model_Metrics(y_val, y_pred_val, 10)"
   ]
  },
  {
   "cell_type": "code",
   "execution_count": 51,
   "id": "bd71e0b5",
   "metadata": {},
   "outputs": [
    {
     "data": {
      "text/html": [
       "<div>\n",
       "<style scoped>\n",
       "    .dataframe tbody tr th:only-of-type {\n",
       "        vertical-align: middle;\n",
       "    }\n",
       "\n",
       "    .dataframe tbody tr th {\n",
       "        vertical-align: top;\n",
       "    }\n",
       "\n",
       "    .dataframe thead th {\n",
       "        text-align: right;\n",
       "    }\n",
       "</style>\n",
       "<table border=\"1\" class=\"dataframe\">\n",
       "  <thead>\n",
       "    <tr style=\"text-align: right;\">\n",
       "      <th></th>\n",
       "      <th>neighbors = 10</th>\n",
       "    </tr>\n",
       "  </thead>\n",
       "  <tbody>\n",
       "    <tr>\n",
       "      <th>accuracy_score</th>\n",
       "      <td>0.667</td>\n",
       "    </tr>\n",
       "    <tr>\n",
       "      <th>precision_score</th>\n",
       "      <td>0.649</td>\n",
       "    </tr>\n",
       "    <tr>\n",
       "      <th>recall_score</th>\n",
       "      <td>0.504</td>\n",
       "    </tr>\n",
       "    <tr>\n",
       "      <th>f1_score</th>\n",
       "      <td>0.567</td>\n",
       "    </tr>\n",
       "  </tbody>\n",
       "</table>\n",
       "</div>"
      ],
      "text/plain": [
       "                 neighbors = 10\n",
       "accuracy_score            0.667\n",
       "precision_score           0.649\n",
       "recall_score              0.504\n",
       "f1_score                  0.567"
      ]
     },
     "execution_count": 51,
     "metadata": {},
     "output_type": "execute_result"
    }
   ],
   "source": [
    "df_val_neighbors10"
   ]
  },
  {
   "cell_type": "markdown",
   "id": "6c914203",
   "metadata": {},
   "source": [
    "### g) neighbors = 15"
   ]
  },
  {
   "cell_type": "code",
   "execution_count": 52,
   "id": "df6003d0",
   "metadata": {},
   "outputs": [],
   "source": [
    "y_train, y_pred_train , knn_classifier = Model_Training(df_train, 15)"
   ]
  },
  {
   "cell_type": "code",
   "execution_count": 53,
   "id": "495bf89a",
   "metadata": {},
   "outputs": [],
   "source": [
    "y_val, y_pred_val = Previsoes_Dataframe_Val(df_val,knn_classifier) "
   ]
  },
  {
   "cell_type": "code",
   "execution_count": 54,
   "id": "a38cef19",
   "metadata": {},
   "outputs": [],
   "source": [
    "df_val_neighbors15 = Model_Metrics(y_val, y_pred_val, 15)"
   ]
  },
  {
   "cell_type": "code",
   "execution_count": 55,
   "id": "e60ffe81",
   "metadata": {},
   "outputs": [
    {
     "data": {
      "text/html": [
       "<div>\n",
       "<style scoped>\n",
       "    .dataframe tbody tr th:only-of-type {\n",
       "        vertical-align: middle;\n",
       "    }\n",
       "\n",
       "    .dataframe tbody tr th {\n",
       "        vertical-align: top;\n",
       "    }\n",
       "\n",
       "    .dataframe thead th {\n",
       "        text-align: right;\n",
       "    }\n",
       "</style>\n",
       "<table border=\"1\" class=\"dataframe\">\n",
       "  <thead>\n",
       "    <tr style=\"text-align: right;\">\n",
       "      <th></th>\n",
       "      <th>neighbors = 15</th>\n",
       "    </tr>\n",
       "  </thead>\n",
       "  <tbody>\n",
       "    <tr>\n",
       "      <th>accuracy_score</th>\n",
       "      <td>0.674</td>\n",
       "    </tr>\n",
       "    <tr>\n",
       "      <th>precision_score</th>\n",
       "      <td>0.637</td>\n",
       "    </tr>\n",
       "    <tr>\n",
       "      <th>recall_score</th>\n",
       "      <td>0.577</td>\n",
       "    </tr>\n",
       "    <tr>\n",
       "      <th>f1_score</th>\n",
       "      <td>0.606</td>\n",
       "    </tr>\n",
       "  </tbody>\n",
       "</table>\n",
       "</div>"
      ],
      "text/plain": [
       "                 neighbors = 15\n",
       "accuracy_score            0.674\n",
       "precision_score           0.637\n",
       "recall_score              0.577\n",
       "f1_score                  0.606"
      ]
     },
     "execution_count": 55,
     "metadata": {},
     "output_type": "execute_result"
    }
   ],
   "source": [
    "df_val_neighbors15"
   ]
  },
  {
   "cell_type": "markdown",
   "id": "f424f48a",
   "metadata": {},
   "source": [
    "### 5.4 Verificar o parametro que obteve os melhores resultados nos dados de validação"
   ]
  },
  {
   "cell_type": "code",
   "execution_count": 56,
   "id": "97a0d88b",
   "metadata": {},
   "outputs": [],
   "source": [
    "df_metrics_val = pd.concat([df_val_neighbors3, df_val_neighbors4, df_val_default, df_val_neighbors6,\n",
    "          df_val_neighbors7, df_val_neighbors9, df_val_neighbors10, df_val_neighbors15], axis = 1)"
   ]
  },
  {
   "cell_type": "code",
   "execution_count": 57,
   "id": "a08e8796",
   "metadata": {},
   "outputs": [
    {
     "data": {
      "text/html": [
       "<div>\n",
       "<style scoped>\n",
       "    .dataframe tbody tr th:only-of-type {\n",
       "        vertical-align: middle;\n",
       "    }\n",
       "\n",
       "    .dataframe tbody tr th {\n",
       "        vertical-align: top;\n",
       "    }\n",
       "\n",
       "    .dataframe thead th {\n",
       "        text-align: right;\n",
       "    }\n",
       "</style>\n",
       "<table border=\"1\" class=\"dataframe\">\n",
       "  <thead>\n",
       "    <tr style=\"text-align: right;\">\n",
       "      <th></th>\n",
       "      <th>neighbors = 3</th>\n",
       "      <th>neighbors = 4</th>\n",
       "      <th>neighbors = 5</th>\n",
       "      <th>neighbors = 6</th>\n",
       "      <th>neighbors = 7</th>\n",
       "      <th>neighbors = 9</th>\n",
       "      <th>neighbors = 10</th>\n",
       "      <th>neighbors = 15</th>\n",
       "    </tr>\n",
       "  </thead>\n",
       "  <tbody>\n",
       "    <tr>\n",
       "      <th>accuracy_score</th>\n",
       "      <td>0.635</td>\n",
       "      <td>0.645</td>\n",
       "      <td>0.648</td>\n",
       "      <td>0.654</td>\n",
       "      <td>0.657</td>\n",
       "      <td>0.664</td>\n",
       "      <td>0.667</td>\n",
       "      <td>0.674</td>\n",
       "    </tr>\n",
       "    <tr>\n",
       "      <th>precision_score</th>\n",
       "      <td>0.582</td>\n",
       "      <td>0.636</td>\n",
       "      <td>0.600</td>\n",
       "      <td>0.638</td>\n",
       "      <td>0.613</td>\n",
       "      <td>0.622</td>\n",
       "      <td>0.649</td>\n",
       "      <td>0.637</td>\n",
       "    </tr>\n",
       "    <tr>\n",
       "      <th>recall_score</th>\n",
       "      <td>0.561</td>\n",
       "      <td>0.424</td>\n",
       "      <td>0.562</td>\n",
       "      <td>0.468</td>\n",
       "      <td>0.569</td>\n",
       "      <td>0.572</td>\n",
       "      <td>0.504</td>\n",
       "      <td>0.577</td>\n",
       "    </tr>\n",
       "    <tr>\n",
       "      <th>f1_score</th>\n",
       "      <td>0.571</td>\n",
       "      <td>0.509</td>\n",
       "      <td>0.581</td>\n",
       "      <td>0.540</td>\n",
       "      <td>0.590</td>\n",
       "      <td>0.596</td>\n",
       "      <td>0.567</td>\n",
       "      <td>0.606</td>\n",
       "    </tr>\n",
       "  </tbody>\n",
       "</table>\n",
       "</div>"
      ],
      "text/plain": [
       "                 neighbors = 3  neighbors = 4  neighbors = 5  neighbors = 6  \\\n",
       "accuracy_score           0.635          0.645          0.648          0.654   \n",
       "precision_score          0.582          0.636          0.600          0.638   \n",
       "recall_score             0.561          0.424          0.562          0.468   \n",
       "f1_score                 0.571          0.509          0.581          0.540   \n",
       "\n",
       "                 neighbors = 7  neighbors = 9  neighbors = 10  neighbors = 15  \n",
       "accuracy_score           0.657          0.664           0.667           0.674  \n",
       "precision_score          0.613          0.622           0.649           0.637  \n",
       "recall_score             0.569          0.572           0.504           0.577  \n",
       "f1_score                 0.590          0.596           0.567           0.606  "
      ]
     },
     "execution_count": 57,
     "metadata": {},
     "output_type": "execute_result"
    }
   ],
   "source": [
    "df_metrics_val"
   ]
  },
  {
   "cell_type": "markdown",
   "id": "81c72f36",
   "metadata": {},
   "source": [
    "#### Resposta: O parâmetro que obteve os melhores resultados nos dados de validação é neighbors = 15"
   ]
  },
  {
   "cell_type": "markdown",
   "id": "c80855e8",
   "metadata": {},
   "source": [
    "# 6. Unificar os dados de treinamento e validação e retreinar o algoritmo, utilizando os melhores valores para os parâmetros"
   ]
  },
  {
   "cell_type": "markdown",
   "id": "2d90aec1",
   "metadata": {},
   "source": [
    "### 6.1 Dividir novamente os datasets de treinamento e validação"
   ]
  },
  {
   "cell_type": "code",
   "execution_count": 58,
   "id": "21e66b11",
   "metadata": {},
   "outputs": [],
   "source": [
    "features = ['age', 'flight_distance', 'departure_arrival_time_convenient', 'departure_delay_in_minutes',\n",
    "           'arrival_delay_in_minutes']\n",
    "    \n",
    "label = ['label']    \n",
    "    \n",
    "#Separação dos dados de treino\n",
    "x_train = df_train.loc[:, features]\n",
    "\n",
    "#Esse metodo ravel transforma os valores em um array\n",
    "y_train = df_train.loc[:, label].values.ravel()      \n",
    "\n",
    "#Separação dos dados de validação\n",
    "x_val = df_val.loc[:, features]\n",
    "\n",
    "y_val = df_val.loc[:, label].values.ravel()    "
   ]
  },
  {
   "cell_type": "markdown",
   "id": "7de1beed",
   "metadata": {},
   "source": [
    "### 6.2 Treinar o modelo novamente com o melhor parametro obtido"
   ]
  },
  {
   "cell_type": "code",
   "execution_count": 59,
   "id": "966e4f24",
   "metadata": {},
   "outputs": [
    {
     "data": {
      "text/plain": [
       "KNeighborsClassifier(n_neighbors=15)"
      ]
     },
     "execution_count": 59,
     "metadata": {},
     "output_type": "execute_result"
    }
   ],
   "source": [
    "model_last = KNeighborsClassifier(n_neighbors=15)\n",
    "model_last.fit( np.concatenate( (x_train, x_val) ), np.concatenate((y_train, y_val)) )"
   ]
  },
  {
   "cell_type": "markdown",
   "id": "97ed2f65",
   "metadata": {},
   "source": [
    "### 6.3 Fazendo previsões nos dados de teste "
   ]
  },
  {
   "cell_type": "code",
   "execution_count": 60,
   "id": "2097ad08",
   "metadata": {},
   "outputs": [
    {
     "name": "stderr",
     "output_type": "stream",
     "text": [
      "C:\\Users\\Admin\\anaconda3\\lib\\site-packages\\sklearn\\base.py:443: UserWarning: X has feature names, but KNeighborsClassifier was fitted without feature names\n",
      "  warnings.warn(\n"
     ]
    }
   ],
   "source": [
    "y_test, y_pred_test = Previsoes_Dataframe_Test(df_test, model_last)"
   ]
  },
  {
   "cell_type": "markdown",
   "id": "b3ff9663",
   "metadata": {},
   "source": [
    "### 6.4 Verificando as métricas do modelo com os dados de teste"
   ]
  },
  {
   "cell_type": "code",
   "execution_count": 61,
   "id": "723b8b65",
   "metadata": {},
   "outputs": [],
   "source": [
    "df_metrics_test = Model_Metrics(y_test, y_pred_test, 15)"
   ]
  },
  {
   "cell_type": "code",
   "execution_count": 62,
   "id": "11472a38",
   "metadata": {},
   "outputs": [
    {
     "data": {
      "text/html": [
       "<div>\n",
       "<style scoped>\n",
       "    .dataframe tbody tr th:only-of-type {\n",
       "        vertical-align: middle;\n",
       "    }\n",
       "\n",
       "    .dataframe tbody tr th {\n",
       "        vertical-align: top;\n",
       "    }\n",
       "\n",
       "    .dataframe thead th {\n",
       "        text-align: right;\n",
       "    }\n",
       "</style>\n",
       "<table border=\"1\" class=\"dataframe\">\n",
       "  <thead>\n",
       "    <tr style=\"text-align: right;\">\n",
       "      <th></th>\n",
       "      <th>neighbors = 15</th>\n",
       "    </tr>\n",
       "  </thead>\n",
       "  <tbody>\n",
       "    <tr>\n",
       "      <th>accuracy_score</th>\n",
       "      <td>0.673</td>\n",
       "    </tr>\n",
       "    <tr>\n",
       "      <th>precision_score</th>\n",
       "      <td>0.644</td>\n",
       "    </tr>\n",
       "    <tr>\n",
       "      <th>recall_score</th>\n",
       "      <td>0.570</td>\n",
       "    </tr>\n",
       "    <tr>\n",
       "      <th>f1_score</th>\n",
       "      <td>0.605</td>\n",
       "    </tr>\n",
       "  </tbody>\n",
       "</table>\n",
       "</div>"
      ],
      "text/plain": [
       "                 neighbors = 15\n",
       "accuracy_score            0.673\n",
       "precision_score           0.644\n",
       "recall_score              0.570\n",
       "f1_score                  0.605"
      ]
     },
     "execution_count": 62,
     "metadata": {},
     "output_type": "execute_result"
    }
   ],
   "source": [
    "df_metrics_test"
   ]
  },
  {
   "cell_type": "markdown",
   "id": "a5b4e9fa",
   "metadata": {},
   "source": [
    "# 7. Resguardando os objetos com as métricas de maior performance"
   ]
  },
  {
   "cell_type": "markdown",
   "id": "dfd4c143",
   "metadata": {},
   "source": [
    "### 7.1 Alterando o nome das colunas dos dataframes"
   ]
  },
  {
   "cell_type": "markdown",
   "id": "e451b8b9",
   "metadata": {},
   "source": [
    "#### a) dataframe teste com melhores métricas"
   ]
  },
  {
   "cell_type": "code",
   "execution_count": 63,
   "id": "5e195fad",
   "metadata": {},
   "outputs": [],
   "source": [
    "df_metrics_test = df_metrics_test.rename(columns = {\"neighbors = 15\": \"KNN Classifier\"})"
   ]
  },
  {
   "cell_type": "code",
   "execution_count": 64,
   "id": "26acedb5",
   "metadata": {},
   "outputs": [
    {
     "data": {
      "text/html": [
       "<div>\n",
       "<style scoped>\n",
       "    .dataframe tbody tr th:only-of-type {\n",
       "        vertical-align: middle;\n",
       "    }\n",
       "\n",
       "    .dataframe tbody tr th {\n",
       "        vertical-align: top;\n",
       "    }\n",
       "\n",
       "    .dataframe thead th {\n",
       "        text-align: right;\n",
       "    }\n",
       "</style>\n",
       "<table border=\"1\" class=\"dataframe\">\n",
       "  <thead>\n",
       "    <tr style=\"text-align: right;\">\n",
       "      <th></th>\n",
       "      <th>KNN Classifier</th>\n",
       "    </tr>\n",
       "  </thead>\n",
       "  <tbody>\n",
       "    <tr>\n",
       "      <th>accuracy_score</th>\n",
       "      <td>0.673</td>\n",
       "    </tr>\n",
       "    <tr>\n",
       "      <th>precision_score</th>\n",
       "      <td>0.644</td>\n",
       "    </tr>\n",
       "    <tr>\n",
       "      <th>recall_score</th>\n",
       "      <td>0.570</td>\n",
       "    </tr>\n",
       "    <tr>\n",
       "      <th>f1_score</th>\n",
       "      <td>0.605</td>\n",
       "    </tr>\n",
       "  </tbody>\n",
       "</table>\n",
       "</div>"
      ],
      "text/plain": [
       "                 KNN Classifier\n",
       "accuracy_score            0.673\n",
       "precision_score           0.644\n",
       "recall_score              0.570\n",
       "f1_score                  0.605"
      ]
     },
     "execution_count": 64,
     "metadata": {},
     "output_type": "execute_result"
    }
   ],
   "source": [
    "df_metrics_test"
   ]
  },
  {
   "cell_type": "markdown",
   "id": "47bafa3c",
   "metadata": {},
   "source": [
    "#### b) dataframe validação com melhores métricas"
   ]
  },
  {
   "cell_type": "code",
   "execution_count": 65,
   "id": "b2b00f39",
   "metadata": {},
   "outputs": [],
   "source": [
    "df_val_neighbors15 = df_val_neighbors15.rename(columns = {\"neighbors = 15\": \"KNN Classifier\"})"
   ]
  },
  {
   "cell_type": "code",
   "execution_count": 66,
   "id": "39d2bf07",
   "metadata": {},
   "outputs": [
    {
     "data": {
      "text/html": [
       "<div>\n",
       "<style scoped>\n",
       "    .dataframe tbody tr th:only-of-type {\n",
       "        vertical-align: middle;\n",
       "    }\n",
       "\n",
       "    .dataframe tbody tr th {\n",
       "        vertical-align: top;\n",
       "    }\n",
       "\n",
       "    .dataframe thead th {\n",
       "        text-align: right;\n",
       "    }\n",
       "</style>\n",
       "<table border=\"1\" class=\"dataframe\">\n",
       "  <thead>\n",
       "    <tr style=\"text-align: right;\">\n",
       "      <th></th>\n",
       "      <th>KNN Classifier</th>\n",
       "    </tr>\n",
       "  </thead>\n",
       "  <tbody>\n",
       "    <tr>\n",
       "      <th>accuracy_score</th>\n",
       "      <td>0.674</td>\n",
       "    </tr>\n",
       "    <tr>\n",
       "      <th>precision_score</th>\n",
       "      <td>0.637</td>\n",
       "    </tr>\n",
       "    <tr>\n",
       "      <th>recall_score</th>\n",
       "      <td>0.577</td>\n",
       "    </tr>\n",
       "    <tr>\n",
       "      <th>f1_score</th>\n",
       "      <td>0.606</td>\n",
       "    </tr>\n",
       "  </tbody>\n",
       "</table>\n",
       "</div>"
      ],
      "text/plain": [
       "                 KNN Classifier\n",
       "accuracy_score            0.674\n",
       "precision_score           0.637\n",
       "recall_score              0.577\n",
       "f1_score                  0.606"
      ]
     },
     "execution_count": 66,
     "metadata": {},
     "output_type": "execute_result"
    }
   ],
   "source": [
    "df_val_neighbors15"
   ]
  },
  {
   "cell_type": "markdown",
   "id": "1f07fbc7",
   "metadata": {},
   "source": [
    "#### c) dataframe treinamento com melhores métricas"
   ]
  },
  {
   "cell_type": "code",
   "execution_count": 67,
   "id": "d0c3a7ed",
   "metadata": {},
   "outputs": [],
   "source": [
    "df_default_train = df_default_train.rename(columns={\"neighbors = 5\": \"KNN Classifier\"})"
   ]
  },
  {
   "cell_type": "code",
   "execution_count": 68,
   "id": "ec94f659",
   "metadata": {},
   "outputs": [
    {
     "data": {
      "text/html": [
       "<div>\n",
       "<style scoped>\n",
       "    .dataframe tbody tr th:only-of-type {\n",
       "        vertical-align: middle;\n",
       "    }\n",
       "\n",
       "    .dataframe tbody tr th {\n",
       "        vertical-align: top;\n",
       "    }\n",
       "\n",
       "    .dataframe thead th {\n",
       "        text-align: right;\n",
       "    }\n",
       "</style>\n",
       "<table border=\"1\" class=\"dataframe\">\n",
       "  <thead>\n",
       "    <tr style=\"text-align: right;\">\n",
       "      <th></th>\n",
       "      <th>KNN Classifier</th>\n",
       "    </tr>\n",
       "  </thead>\n",
       "  <tbody>\n",
       "    <tr>\n",
       "      <th>accuracy_score</th>\n",
       "      <td>0.761</td>\n",
       "    </tr>\n",
       "    <tr>\n",
       "      <th>precision_score</th>\n",
       "      <td>0.739</td>\n",
       "    </tr>\n",
       "    <tr>\n",
       "      <th>recall_score</th>\n",
       "      <td>0.696</td>\n",
       "    </tr>\n",
       "    <tr>\n",
       "      <th>f1_score</th>\n",
       "      <td>0.716</td>\n",
       "    </tr>\n",
       "  </tbody>\n",
       "</table>\n",
       "</div>"
      ],
      "text/plain": [
       "                 KNN Classifier\n",
       "accuracy_score            0.761\n",
       "precision_score           0.739\n",
       "recall_score              0.696\n",
       "f1_score                  0.716"
      ]
     },
     "execution_count": 68,
     "metadata": {},
     "output_type": "execute_result"
    }
   ],
   "source": [
    "df_default_train"
   ]
  },
  {
   "cell_type": "markdown",
   "id": "029ded9a",
   "metadata": {},
   "source": [
    "### 7.2 Salvar os objetos com as melhores metricas em um arquivo pickle"
   ]
  },
  {
   "cell_type": "markdown",
   "id": "55ab9434",
   "metadata": {},
   "source": [
    "### a) dataframe com métricas dos dados de treinamento"
   ]
  },
  {
   "cell_type": "code",
   "execution_count": 69,
   "id": "f9efc268",
   "metadata": {},
   "outputs": [],
   "source": [
    "with open('arquivo_knn_train.pkl', 'wb') as arquivo_knn_train:\n",
    "    pickle.dump(df_default_train, arquivo_knn_train)  "
   ]
  },
  {
   "cell_type": "code",
   "execution_count": 70,
   "id": "61a7757d",
   "metadata": {},
   "outputs": [],
   "source": [
    "arquivo_knn_train.close()"
   ]
  },
  {
   "cell_type": "markdown",
   "id": "0ba929a6",
   "metadata": {},
   "source": [
    "### b) dataframe com métricas dos dados de validação"
   ]
  },
  {
   "cell_type": "code",
   "execution_count": 71,
   "id": "3e2b76ef",
   "metadata": {},
   "outputs": [],
   "source": [
    "with open('arquivo_knn_val.pkl', 'wb') as arquivo_knn_val:\n",
    "    pickle.dump(df_val_neighbors15, arquivo_knn_val)"
   ]
  },
  {
   "cell_type": "code",
   "execution_count": 72,
   "id": "b6b728b3",
   "metadata": {},
   "outputs": [],
   "source": [
    "arquivo_knn_val.close()"
   ]
  },
  {
   "cell_type": "markdown",
   "id": "3ef0fa0c",
   "metadata": {},
   "source": [
    "### c) dataframe com métricas dos dados de teste"
   ]
  },
  {
   "cell_type": "code",
   "execution_count": 73,
   "id": "ee1c5b46",
   "metadata": {},
   "outputs": [],
   "source": [
    "with open('arquivo_knn_teste.pkl', 'wb') as arquivo_knn_teste:\n",
    "       pickle.dump(df_metrics_test, arquivo_knn_teste)"
   ]
  },
  {
   "cell_type": "code",
   "execution_count": 74,
   "id": "649c1918",
   "metadata": {},
   "outputs": [],
   "source": [
    "arquivo_knn_teste.close()"
   ]
  }
 ],
 "metadata": {
  "kernelspec": {
   "display_name": "Python 3 (ipykernel)",
   "language": "python",
   "name": "python3"
  },
  "language_info": {
   "codemirror_mode": {
    "name": "ipython",
    "version": 3
   },
   "file_extension": ".py",
   "mimetype": "text/x-python",
   "name": "python",
   "nbconvert_exporter": "python",
   "pygments_lexer": "ipython3",
   "version": "3.9.12"
  }
 },
 "nbformat": 4,
 "nbformat_minor": 5
}
