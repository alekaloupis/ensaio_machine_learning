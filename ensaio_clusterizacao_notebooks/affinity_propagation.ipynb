{
 "cells": [
  {
   "cell_type": "markdown",
   "id": "0b1e2b2c",
   "metadata": {},
   "source": [
    "# 1.Imports"
   ]
  },
  {
   "cell_type": "code",
   "execution_count": 42,
   "id": "908027d3",
   "metadata": {},
   "outputs": [],
   "source": [
    "import pandas as pd\n",
    "import pickle\n",
    "import numpy as np\n",
    "from sklearn import metrics as mt\n",
    "from sklearn.cluster import AffinityPropagation"
   ]
  },
  {
   "cell_type": "markdown",
   "id": "3b9e0032",
   "metadata": {},
   "source": [
    "# 2. Funcao para carregar os datasets"
   ]
  },
  {
   "cell_type": "code",
   "execution_count": 43,
   "id": "2439086b",
   "metadata": {},
   "outputs": [],
   "source": [
    "def Load_Data_Set(df):\n",
    "    df1 = pd.read_csv(df)\n",
    "    return df1"
   ]
  },
  {
   "cell_type": "markdown",
   "id": "e52b38b4",
   "metadata": {},
   "source": [
    "# 3. Criando os dataframes"
   ]
  },
  {
   "cell_type": "code",
   "execution_count": 44,
   "id": "ead2454b",
   "metadata": {},
   "outputs": [],
   "source": [
    "df = \"../3_ensaio_clusterizacao/dados_agrupamento/X_dataset.csv\""
   ]
  },
  {
   "cell_type": "code",
   "execution_count": 45,
   "id": "3335a12c",
   "metadata": {},
   "outputs": [],
   "source": [
    "df1 = Load_Data_Set(df)"
   ]
  },
  {
   "cell_type": "code",
   "execution_count": 46,
   "id": "455fa1de",
   "metadata": {},
   "outputs": [],
   "source": [
    "df = df1.copy()"
   ]
  },
  {
   "cell_type": "code",
   "execution_count": 47,
   "id": "a2627a55",
   "metadata": {},
   "outputs": [
    {
     "data": {
      "text/html": [
       "<div>\n",
       "<style scoped>\n",
       "    .dataframe tbody tr th:only-of-type {\n",
       "        vertical-align: middle;\n",
       "    }\n",
       "\n",
       "    .dataframe tbody tr th {\n",
       "        vertical-align: top;\n",
       "    }\n",
       "\n",
       "    .dataframe thead th {\n",
       "        text-align: right;\n",
       "    }\n",
       "</style>\n",
       "<table border=\"1\" class=\"dataframe\">\n",
       "  <thead>\n",
       "    <tr style=\"text-align: right;\">\n",
       "      <th></th>\n",
       "      <th>alcohol</th>\n",
       "      <th>malic_acid</th>\n",
       "      <th>ash</th>\n",
       "      <th>ash_alcanity</th>\n",
       "      <th>magnesium</th>\n",
       "      <th>total_phenols</th>\n",
       "      <th>flavanoids</th>\n",
       "      <th>nonflavanoid_phenols</th>\n",
       "      <th>proanthocyanins</th>\n",
       "      <th>color_intensity</th>\n",
       "      <th>hue</th>\n",
       "      <th>od280</th>\n",
       "      <th>proline</th>\n",
       "    </tr>\n",
       "  </thead>\n",
       "  <tbody>\n",
       "    <tr>\n",
       "      <th>0</th>\n",
       "      <td>1.518613</td>\n",
       "      <td>0.191700</td>\n",
       "      <td>0.232053</td>\n",
       "      <td>-1.169593</td>\n",
       "      <td>1.913905</td>\n",
       "      <td>0.627586</td>\n",
       "      <td>0.573840</td>\n",
       "      <td>-0.659563</td>\n",
       "      <td>1.224884</td>\n",
       "      <td>0.251717</td>\n",
       "      <td>0.455285</td>\n",
       "      <td>0.970696</td>\n",
       "      <td>0.561341</td>\n",
       "    </tr>\n",
       "    <tr>\n",
       "      <th>1</th>\n",
       "      <td>0.246290</td>\n",
       "      <td>0.205534</td>\n",
       "      <td>-0.827996</td>\n",
       "      <td>-2.490847</td>\n",
       "      <td>0.018145</td>\n",
       "      <td>0.575862</td>\n",
       "      <td>0.510549</td>\n",
       "      <td>-0.820719</td>\n",
       "      <td>-0.544721</td>\n",
       "      <td>-0.293321</td>\n",
       "      <td>0.463415</td>\n",
       "      <td>0.780220</td>\n",
       "      <td>0.550642</td>\n",
       "    </tr>\n",
       "    <tr>\n",
       "      <th>2</th>\n",
       "      <td>0.196879</td>\n",
       "      <td>0.320158</td>\n",
       "      <td>1.109334</td>\n",
       "      <td>-0.268738</td>\n",
       "      <td>0.088358</td>\n",
       "      <td>0.627586</td>\n",
       "      <td>0.611814</td>\n",
       "      <td>-0.498407</td>\n",
       "      <td>2.135968</td>\n",
       "      <td>0.269020</td>\n",
       "      <td>0.447154</td>\n",
       "      <td>0.695971</td>\n",
       "      <td>0.646933</td>\n",
       "    </tr>\n",
       "    <tr>\n",
       "      <th>3</th>\n",
       "      <td>1.691550</td>\n",
       "      <td>0.239130</td>\n",
       "      <td>0.487926</td>\n",
       "      <td>-0.809251</td>\n",
       "      <td>0.930918</td>\n",
       "      <td>0.989655</td>\n",
       "      <td>0.664557</td>\n",
       "      <td>-0.981875</td>\n",
       "      <td>1.032155</td>\n",
       "      <td>1.186068</td>\n",
       "      <td>0.308943</td>\n",
       "      <td>0.798535</td>\n",
       "      <td>0.857347</td>\n",
       "    </tr>\n",
       "    <tr>\n",
       "      <th>4</th>\n",
       "      <td>0.295700</td>\n",
       "      <td>0.365613</td>\n",
       "      <td>1.840403</td>\n",
       "      <td>0.451946</td>\n",
       "      <td>1.281985</td>\n",
       "      <td>0.627586</td>\n",
       "      <td>0.495781</td>\n",
       "      <td>0.226796</td>\n",
       "      <td>0.401404</td>\n",
       "      <td>-0.319276</td>\n",
       "      <td>0.455285</td>\n",
       "      <td>0.608059</td>\n",
       "      <td>0.325963</td>\n",
       "    </tr>\n",
       "    <tr>\n",
       "      <th>...</th>\n",
       "      <td>...</td>\n",
       "      <td>...</td>\n",
       "      <td>...</td>\n",
       "      <td>...</td>\n",
       "      <td>...</td>\n",
       "      <td>...</td>\n",
       "      <td>...</td>\n",
       "      <td>...</td>\n",
       "      <td>...</td>\n",
       "      <td>...</td>\n",
       "      <td>...</td>\n",
       "      <td>...</td>\n",
       "      <td>...</td>\n",
       "    </tr>\n",
       "    <tr>\n",
       "      <th>173</th>\n",
       "      <td>0.876275</td>\n",
       "      <td>0.970356</td>\n",
       "      <td>0.305159</td>\n",
       "      <td>0.301803</td>\n",
       "      <td>-0.332922</td>\n",
       "      <td>0.241379</td>\n",
       "      <td>0.056962</td>\n",
       "      <td>1.274310</td>\n",
       "      <td>-0.930179</td>\n",
       "      <td>1.142811</td>\n",
       "      <td>0.130081</td>\n",
       "      <td>0.172161</td>\n",
       "      <td>0.329529</td>\n",
       "    </tr>\n",
       "    <tr>\n",
       "      <th>174</th>\n",
       "      <td>0.493343</td>\n",
       "      <td>0.626482</td>\n",
       "      <td>0.414820</td>\n",
       "      <td>1.052516</td>\n",
       "      <td>0.158572</td>\n",
       "      <td>0.282759</td>\n",
       "      <td>0.086498</td>\n",
       "      <td>0.549108</td>\n",
       "      <td>-0.316950</td>\n",
       "      <td>0.969783</td>\n",
       "      <td>0.178862</td>\n",
       "      <td>0.106227</td>\n",
       "      <td>0.336662</td>\n",
       "    </tr>\n",
       "    <tr>\n",
       "      <th>175</th>\n",
       "      <td>0.332758</td>\n",
       "      <td>0.699605</td>\n",
       "      <td>-0.389355</td>\n",
       "      <td>0.151661</td>\n",
       "      <td>1.422412</td>\n",
       "      <td>0.210345</td>\n",
       "      <td>0.073840</td>\n",
       "      <td>0.549108</td>\n",
       "      <td>-0.422075</td>\n",
       "      <td>2.224236</td>\n",
       "      <td>0.089431</td>\n",
       "      <td>0.106227</td>\n",
       "      <td>0.397290</td>\n",
       "    </tr>\n",
       "    <tr>\n",
       "      <th>176</th>\n",
       "      <td>0.209232</td>\n",
       "      <td>0.365613</td>\n",
       "      <td>0.012732</td>\n",
       "      <td>0.151661</td>\n",
       "      <td>1.422412</td>\n",
       "      <td>0.231034</td>\n",
       "      <td>0.071730</td>\n",
       "      <td>1.354888</td>\n",
       "      <td>-0.229346</td>\n",
       "      <td>1.834923</td>\n",
       "      <td>0.097561</td>\n",
       "      <td>0.128205</td>\n",
       "      <td>0.400856</td>\n",
       "    </tr>\n",
       "    <tr>\n",
       "      <th>177</th>\n",
       "      <td>1.395086</td>\n",
       "      <td>0.664032</td>\n",
       "      <td>1.365208</td>\n",
       "      <td>1.502943</td>\n",
       "      <td>-0.262708</td>\n",
       "      <td>0.368966</td>\n",
       "      <td>0.088608</td>\n",
       "      <td>1.596623</td>\n",
       "      <td>-0.422075</td>\n",
       "      <td>1.791666</td>\n",
       "      <td>0.105691</td>\n",
       "      <td>0.120879</td>\n",
       "      <td>0.201141</td>\n",
       "    </tr>\n",
       "  </tbody>\n",
       "</table>\n",
       "<p>178 rows × 13 columns</p>\n",
       "</div>"
      ],
      "text/plain": [
       "      alcohol  malic_acid       ash  ash_alcanity  magnesium  total_phenols  \\\n",
       "0    1.518613    0.191700  0.232053     -1.169593   1.913905       0.627586   \n",
       "1    0.246290    0.205534 -0.827996     -2.490847   0.018145       0.575862   \n",
       "2    0.196879    0.320158  1.109334     -0.268738   0.088358       0.627586   \n",
       "3    1.691550    0.239130  0.487926     -0.809251   0.930918       0.989655   \n",
       "4    0.295700    0.365613  1.840403      0.451946   1.281985       0.627586   \n",
       "..        ...         ...       ...           ...        ...            ...   \n",
       "173  0.876275    0.970356  0.305159      0.301803  -0.332922       0.241379   \n",
       "174  0.493343    0.626482  0.414820      1.052516   0.158572       0.282759   \n",
       "175  0.332758    0.699605 -0.389355      0.151661   1.422412       0.210345   \n",
       "176  0.209232    0.365613  0.012732      0.151661   1.422412       0.231034   \n",
       "177  1.395086    0.664032  1.365208      1.502943  -0.262708       0.368966   \n",
       "\n",
       "     flavanoids  nonflavanoid_phenols  proanthocyanins  color_intensity  \\\n",
       "0      0.573840             -0.659563         1.224884         0.251717   \n",
       "1      0.510549             -0.820719        -0.544721        -0.293321   \n",
       "2      0.611814             -0.498407         2.135968         0.269020   \n",
       "3      0.664557             -0.981875         1.032155         1.186068   \n",
       "4      0.495781              0.226796         0.401404        -0.319276   \n",
       "..          ...                   ...              ...              ...   \n",
       "173    0.056962              1.274310        -0.930179         1.142811   \n",
       "174    0.086498              0.549108        -0.316950         0.969783   \n",
       "175    0.073840              0.549108        -0.422075         2.224236   \n",
       "176    0.071730              1.354888        -0.229346         1.834923   \n",
       "177    0.088608              1.596623        -0.422075         1.791666   \n",
       "\n",
       "          hue     od280   proline  \n",
       "0    0.455285  0.970696  0.561341  \n",
       "1    0.463415  0.780220  0.550642  \n",
       "2    0.447154  0.695971  0.646933  \n",
       "3    0.308943  0.798535  0.857347  \n",
       "4    0.455285  0.608059  0.325963  \n",
       "..        ...       ...       ...  \n",
       "173  0.130081  0.172161  0.329529  \n",
       "174  0.178862  0.106227  0.336662  \n",
       "175  0.089431  0.106227  0.397290  \n",
       "176  0.097561  0.128205  0.400856  \n",
       "177  0.105691  0.120879  0.201141  \n",
       "\n",
       "[178 rows x 13 columns]"
      ]
     },
     "metadata": {},
     "output_type": "display_data"
    }
   ],
   "source": [
    "display(df)"
   ]
  },
  {
   "cell_type": "markdown",
   "id": "858162e8",
   "metadata": {},
   "source": [
    "# 4. Função para treinar o modelo e avaliar as métricas dele"
   ]
  },
  {
   "cell_type": "code",
   "execution_count": 48,
   "id": "ecec43c9",
   "metadata": {},
   "outputs": [],
   "source": [
    "#Função para Treinar o Modelo encima dos dados disponiveis e auferir as métricas\n",
    "\n",
    "#Entrada: dataframe, parametro preference\n",
    "\n",
    "#Saida: dataframe que contém o preference e a metrica obtida no treinamento\n",
    "\n",
    "def Model_Training(df, preference): \n",
    "    \n",
    "    features = ['alcohol', 'malic_acid', 'ash', 'ash_alcanity', 'magnesium',\n",
    "       'total_phenols', 'flavanoids', 'nonflavanoid_phenols',\n",
    "       'proanthocyanins', 'color_intensity', 'hue', 'od280', 'proline']\n",
    "    \n",
    "       \n",
    "    #Preparação dos dados de treino\n",
    "    X = df.loc[:, features]     \n",
    "    \n",
    "    #Treinamento do algoritmo Affinity Propagation voltado para clusterizacao \n",
    "    \n",
    "    #No caso desse algoritmo precisamos ajustar o parametro preferences, que influencia as possibilidades de um determinado\n",
    "    #ponto encontrar os demais como exemplos de seu cluster.\n",
    "    \n",
    "    #O parametro a quantidade de vezes (iteracoes )que os pontos procuram encontrar semelhança com os demais pontos\n",
    "    \n",
    "    \n",
    "    affinity_propagation = AffinityPropagation(preference=preference)\n",
    "    \n",
    "    #Fazendo previsoes\n",
    "    labels = affinity_propagation.fit_predict(X)\n",
    "    \n",
    "\n",
    "    #Performance do Algoritmo\n",
    "    ss_avg = np.round(mt.silhouette_score(X, labels),3)\n",
    "    \n",
    "    #Montando um df com a metrica     \n",
    "    \n",
    "    d = { 'Values': [preference,ss_avg]}\n",
    "    \n",
    "    df_metrics =  pd.DataFrame(data = d, index = ['n_clusters', 'silhouette_score'])\n",
    "    \n",
    "    return df_metrics\n",
    "   "
   ]
  },
  {
   "cell_type": "markdown",
   "id": "cb46d993",
   "metadata": {},
   "source": [
    "# 5.Treinamento do modelo com diferentes parametros n_clusters e verificação das metricas obtidas\n",
    "\n"
   ]
  },
  {
   "cell_type": "markdown",
   "id": "a9340adf",
   "metadata": {},
   "source": [
    "### 5.1 Parametro preference por default = None"
   ]
  },
  {
   "cell_type": "code",
   "execution_count": 49,
   "id": "d6e8dde2",
   "metadata": {},
   "outputs": [
    {
     "data": {
      "text/html": [
       "<div>\n",
       "<style scoped>\n",
       "    .dataframe tbody tr th:only-of-type {\n",
       "        vertical-align: middle;\n",
       "    }\n",
       "\n",
       "    .dataframe tbody tr th {\n",
       "        vertical-align: top;\n",
       "    }\n",
       "\n",
       "    .dataframe thead th {\n",
       "        text-align: right;\n",
       "    }\n",
       "</style>\n",
       "<table border=\"1\" class=\"dataframe\">\n",
       "  <thead>\n",
       "    <tr style=\"text-align: right;\">\n",
       "      <th></th>\n",
       "      <th>Values</th>\n",
       "    </tr>\n",
       "  </thead>\n",
       "  <tbody>\n",
       "    <tr>\n",
       "      <th>n_clusters</th>\n",
       "      <td>NaN</td>\n",
       "    </tr>\n",
       "    <tr>\n",
       "      <th>silhouette_score</th>\n",
       "      <td>0.169</td>\n",
       "    </tr>\n",
       "  </tbody>\n",
       "</table>\n",
       "</div>"
      ],
      "text/plain": [
       "                  Values\n",
       "n_clusters           NaN\n",
       "silhouette_score   0.169"
      ]
     },
     "execution_count": 49,
     "metadata": {},
     "output_type": "execute_result"
    }
   ],
   "source": [
    "df_default = Model_Training(df, None)\n",
    "df_default"
   ]
  },
  {
   "cell_type": "markdown",
   "id": "80f78c76",
   "metadata": {},
   "source": [
    "### 5.2 preferences = -8 "
   ]
  },
  {
   "cell_type": "code",
   "execution_count": 50,
   "id": "c230d563",
   "metadata": {},
   "outputs": [
    {
     "data": {
      "text/html": [
       "<div>\n",
       "<style scoped>\n",
       "    .dataframe tbody tr th:only-of-type {\n",
       "        vertical-align: middle;\n",
       "    }\n",
       "\n",
       "    .dataframe tbody tr th {\n",
       "        vertical-align: top;\n",
       "    }\n",
       "\n",
       "    .dataframe thead th {\n",
       "        text-align: right;\n",
       "    }\n",
       "</style>\n",
       "<table border=\"1\" class=\"dataframe\">\n",
       "  <thead>\n",
       "    <tr style=\"text-align: right;\">\n",
       "      <th></th>\n",
       "      <th>Values</th>\n",
       "    </tr>\n",
       "  </thead>\n",
       "  <tbody>\n",
       "    <tr>\n",
       "      <th>n_clusters</th>\n",
       "      <td>-8.000</td>\n",
       "    </tr>\n",
       "    <tr>\n",
       "      <th>silhouette_score</th>\n",
       "      <td>0.168</td>\n",
       "    </tr>\n",
       "  </tbody>\n",
       "</table>\n",
       "</div>"
      ],
      "text/plain": [
       "                  Values\n",
       "n_clusters        -8.000\n",
       "silhouette_score   0.168"
      ]
     },
     "execution_count": 50,
     "metadata": {},
     "output_type": "execute_result"
    }
   ],
   "source": [
    "df_preferences8 = Model_Training(df, -8)\n",
    "df_preferences8"
   ]
  },
  {
   "cell_type": "markdown",
   "id": "794cf67f",
   "metadata": {},
   "source": [
    "### 5.3 preferences = -18"
   ]
  },
  {
   "cell_type": "code",
   "execution_count": 51,
   "id": "8dbcb5da",
   "metadata": {},
   "outputs": [
    {
     "data": {
      "text/html": [
       "<div>\n",
       "<style scoped>\n",
       "    .dataframe tbody tr th:only-of-type {\n",
       "        vertical-align: middle;\n",
       "    }\n",
       "\n",
       "    .dataframe tbody tr th {\n",
       "        vertical-align: top;\n",
       "    }\n",
       "\n",
       "    .dataframe thead th {\n",
       "        text-align: right;\n",
       "    }\n",
       "</style>\n",
       "<table border=\"1\" class=\"dataframe\">\n",
       "  <thead>\n",
       "    <tr style=\"text-align: right;\">\n",
       "      <th></th>\n",
       "      <th>Values</th>\n",
       "    </tr>\n",
       "  </thead>\n",
       "  <tbody>\n",
       "    <tr>\n",
       "      <th>n_clusters</th>\n",
       "      <td>-18.000</td>\n",
       "    </tr>\n",
       "    <tr>\n",
       "      <th>silhouette_score</th>\n",
       "      <td>0.155</td>\n",
       "    </tr>\n",
       "  </tbody>\n",
       "</table>\n",
       "</div>"
      ],
      "text/plain": [
       "                  Values\n",
       "n_clusters       -18.000\n",
       "silhouette_score   0.155"
      ]
     },
     "execution_count": 51,
     "metadata": {},
     "output_type": "execute_result"
    }
   ],
   "source": [
    "df_preferences18 = Model_Training(df, -18)\n",
    "df_preferences18"
   ]
  },
  {
   "cell_type": "markdown",
   "id": "62fd6be7",
   "metadata": {},
   "source": [
    "### 5.4 preferences = -28"
   ]
  },
  {
   "cell_type": "code",
   "execution_count": 52,
   "id": "7ccc28e1",
   "metadata": {},
   "outputs": [
    {
     "data": {
      "text/html": [
       "<div>\n",
       "<style scoped>\n",
       "    .dataframe tbody tr th:only-of-type {\n",
       "        vertical-align: middle;\n",
       "    }\n",
       "\n",
       "    .dataframe tbody tr th {\n",
       "        vertical-align: top;\n",
       "    }\n",
       "\n",
       "    .dataframe thead th {\n",
       "        text-align: right;\n",
       "    }\n",
       "</style>\n",
       "<table border=\"1\" class=\"dataframe\">\n",
       "  <thead>\n",
       "    <tr style=\"text-align: right;\">\n",
       "      <th></th>\n",
       "      <th>Values</th>\n",
       "    </tr>\n",
       "  </thead>\n",
       "  <tbody>\n",
       "    <tr>\n",
       "      <th>n_clusters</th>\n",
       "      <td>-28.000</td>\n",
       "    </tr>\n",
       "    <tr>\n",
       "      <th>silhouette_score</th>\n",
       "      <td>0.159</td>\n",
       "    </tr>\n",
       "  </tbody>\n",
       "</table>\n",
       "</div>"
      ],
      "text/plain": [
       "                  Values\n",
       "n_clusters       -28.000\n",
       "silhouette_score   0.159"
      ]
     },
     "execution_count": 52,
     "metadata": {},
     "output_type": "execute_result"
    }
   ],
   "source": [
    "df_preferences28 = Model_Training(df, -28)\n",
    "df_preferences28"
   ]
  },
  {
   "cell_type": "markdown",
   "id": "b466e119",
   "metadata": {},
   "source": [
    "### 5.5 preferences = -38"
   ]
  },
  {
   "cell_type": "code",
   "execution_count": 53,
   "id": "c97f9f66",
   "metadata": {},
   "outputs": [
    {
     "data": {
      "text/html": [
       "<div>\n",
       "<style scoped>\n",
       "    .dataframe tbody tr th:only-of-type {\n",
       "        vertical-align: middle;\n",
       "    }\n",
       "\n",
       "    .dataframe tbody tr th {\n",
       "        vertical-align: top;\n",
       "    }\n",
       "\n",
       "    .dataframe thead th {\n",
       "        text-align: right;\n",
       "    }\n",
       "</style>\n",
       "<table border=\"1\" class=\"dataframe\">\n",
       "  <thead>\n",
       "    <tr style=\"text-align: right;\">\n",
       "      <th></th>\n",
       "      <th>Values</th>\n",
       "    </tr>\n",
       "  </thead>\n",
       "  <tbody>\n",
       "    <tr>\n",
       "      <th>n_clusters</th>\n",
       "      <td>-38.000</td>\n",
       "    </tr>\n",
       "    <tr>\n",
       "      <th>silhouette_score</th>\n",
       "      <td>0.188</td>\n",
       "    </tr>\n",
       "  </tbody>\n",
       "</table>\n",
       "</div>"
      ],
      "text/plain": [
       "                  Values\n",
       "n_clusters       -38.000\n",
       "silhouette_score   0.188"
      ]
     },
     "execution_count": 53,
     "metadata": {},
     "output_type": "execute_result"
    }
   ],
   "source": [
    "df_preferences38 = Model_Training(df, -38)\n",
    "df_preferences38"
   ]
  },
  {
   "cell_type": "markdown",
   "id": "ee6b9b91",
   "metadata": {},
   "source": [
    "### 5.6 preferences = -48"
   ]
  },
  {
   "cell_type": "code",
   "execution_count": 54,
   "id": "f45e2ba0",
   "metadata": {},
   "outputs": [
    {
     "data": {
      "text/html": [
       "<div>\n",
       "<style scoped>\n",
       "    .dataframe tbody tr th:only-of-type {\n",
       "        vertical-align: middle;\n",
       "    }\n",
       "\n",
       "    .dataframe tbody tr th {\n",
       "        vertical-align: top;\n",
       "    }\n",
       "\n",
       "    .dataframe thead th {\n",
       "        text-align: right;\n",
       "    }\n",
       "</style>\n",
       "<table border=\"1\" class=\"dataframe\">\n",
       "  <thead>\n",
       "    <tr style=\"text-align: right;\">\n",
       "      <th></th>\n",
       "      <th>Values</th>\n",
       "    </tr>\n",
       "  </thead>\n",
       "  <tbody>\n",
       "    <tr>\n",
       "      <th>n_clusters</th>\n",
       "      <td>-48.000</td>\n",
       "    </tr>\n",
       "    <tr>\n",
       "      <th>silhouette_score</th>\n",
       "      <td>0.202</td>\n",
       "    </tr>\n",
       "  </tbody>\n",
       "</table>\n",
       "</div>"
      ],
      "text/plain": [
       "                  Values\n",
       "n_clusters       -48.000\n",
       "silhouette_score   0.202"
      ]
     },
     "execution_count": 54,
     "metadata": {},
     "output_type": "execute_result"
    }
   ],
   "source": [
    "df_preferences48 = Model_Training(df, -48)\n",
    "df_preferences48"
   ]
  },
  {
   "cell_type": "markdown",
   "id": "7d5b77e1",
   "metadata": {},
   "source": [
    "### 5.7 preferences = -55"
   ]
  },
  {
   "cell_type": "code",
   "execution_count": 55,
   "id": "40d3dbd8",
   "metadata": {},
   "outputs": [
    {
     "data": {
      "text/html": [
       "<div>\n",
       "<style scoped>\n",
       "    .dataframe tbody tr th:only-of-type {\n",
       "        vertical-align: middle;\n",
       "    }\n",
       "\n",
       "    .dataframe tbody tr th {\n",
       "        vertical-align: top;\n",
       "    }\n",
       "\n",
       "    .dataframe thead th {\n",
       "        text-align: right;\n",
       "    }\n",
       "</style>\n",
       "<table border=\"1\" class=\"dataframe\">\n",
       "  <thead>\n",
       "    <tr style=\"text-align: right;\">\n",
       "      <th></th>\n",
       "      <th>Values</th>\n",
       "    </tr>\n",
       "  </thead>\n",
       "  <tbody>\n",
       "    <tr>\n",
       "      <th>n_clusters</th>\n",
       "      <td>-55.000</td>\n",
       "    </tr>\n",
       "    <tr>\n",
       "      <th>silhouette_score</th>\n",
       "      <td>0.201</td>\n",
       "    </tr>\n",
       "  </tbody>\n",
       "</table>\n",
       "</div>"
      ],
      "text/plain": [
       "                  Values\n",
       "n_clusters       -55.000\n",
       "silhouette_score   0.201"
      ]
     },
     "execution_count": 55,
     "metadata": {},
     "output_type": "execute_result"
    }
   ],
   "source": [
    "df_preferences55 = Model_Training(df, -55)\n",
    "df_preferences55"
   ]
  },
  {
   "cell_type": "markdown",
   "id": "81a56b38",
   "metadata": {},
   "source": [
    "### 5.8 preferences = -60"
   ]
  },
  {
   "cell_type": "code",
   "execution_count": 56,
   "id": "a8f7cae4",
   "metadata": {},
   "outputs": [
    {
     "data": {
      "text/html": [
       "<div>\n",
       "<style scoped>\n",
       "    .dataframe tbody tr th:only-of-type {\n",
       "        vertical-align: middle;\n",
       "    }\n",
       "\n",
       "    .dataframe tbody tr th {\n",
       "        vertical-align: top;\n",
       "    }\n",
       "\n",
       "    .dataframe thead th {\n",
       "        text-align: right;\n",
       "    }\n",
       "</style>\n",
       "<table border=\"1\" class=\"dataframe\">\n",
       "  <thead>\n",
       "    <tr style=\"text-align: right;\">\n",
       "      <th></th>\n",
       "      <th>Values</th>\n",
       "    </tr>\n",
       "  </thead>\n",
       "  <tbody>\n",
       "    <tr>\n",
       "      <th>n_clusters</th>\n",
       "      <td>-60.000</td>\n",
       "    </tr>\n",
       "    <tr>\n",
       "      <th>silhouette_score</th>\n",
       "      <td>0.183</td>\n",
       "    </tr>\n",
       "  </tbody>\n",
       "</table>\n",
       "</div>"
      ],
      "text/plain": [
       "                  Values\n",
       "n_clusters       -60.000\n",
       "silhouette_score   0.183"
      ]
     },
     "execution_count": 56,
     "metadata": {},
     "output_type": "execute_result"
    }
   ],
   "source": [
    "df_preferences60 = Model_Training(df, -60)\n",
    "df_preferences60"
   ]
  },
  {
   "cell_type": "markdown",
   "id": "73cb43b8",
   "metadata": {},
   "source": [
    "### 5.9 preferences = -88"
   ]
  },
  {
   "cell_type": "code",
   "execution_count": 57,
   "id": "c9a101b8",
   "metadata": {},
   "outputs": [
    {
     "data": {
      "text/html": [
       "<div>\n",
       "<style scoped>\n",
       "    .dataframe tbody tr th:only-of-type {\n",
       "        vertical-align: middle;\n",
       "    }\n",
       "\n",
       "    .dataframe tbody tr th {\n",
       "        vertical-align: top;\n",
       "    }\n",
       "\n",
       "    .dataframe thead th {\n",
       "        text-align: right;\n",
       "    }\n",
       "</style>\n",
       "<table border=\"1\" class=\"dataframe\">\n",
       "  <thead>\n",
       "    <tr style=\"text-align: right;\">\n",
       "      <th></th>\n",
       "      <th>Values</th>\n",
       "    </tr>\n",
       "  </thead>\n",
       "  <tbody>\n",
       "    <tr>\n",
       "      <th>n_clusters</th>\n",
       "      <td>-88.000</td>\n",
       "    </tr>\n",
       "    <tr>\n",
       "      <th>silhouette_score</th>\n",
       "      <td>0.159</td>\n",
       "    </tr>\n",
       "  </tbody>\n",
       "</table>\n",
       "</div>"
      ],
      "text/plain": [
       "                  Values\n",
       "n_clusters       -88.000\n",
       "silhouette_score   0.159"
      ]
     },
     "execution_count": 57,
     "metadata": {},
     "output_type": "execute_result"
    }
   ],
   "source": [
    "df_preferences88 = Model_Training(df, -88)\n",
    "df_preferences88"
   ]
  },
  {
   "cell_type": "markdown",
   "id": "152c2ffa",
   "metadata": {},
   "source": [
    "### 5.10 preferences = -68"
   ]
  },
  {
   "cell_type": "code",
   "execution_count": 58,
   "id": "a3ad07cf",
   "metadata": {},
   "outputs": [
    {
     "data": {
      "text/html": [
       "<div>\n",
       "<style scoped>\n",
       "    .dataframe tbody tr th:only-of-type {\n",
       "        vertical-align: middle;\n",
       "    }\n",
       "\n",
       "    .dataframe tbody tr th {\n",
       "        vertical-align: top;\n",
       "    }\n",
       "\n",
       "    .dataframe thead th {\n",
       "        text-align: right;\n",
       "    }\n",
       "</style>\n",
       "<table border=\"1\" class=\"dataframe\">\n",
       "  <thead>\n",
       "    <tr style=\"text-align: right;\">\n",
       "      <th></th>\n",
       "      <th>Values</th>\n",
       "    </tr>\n",
       "  </thead>\n",
       "  <tbody>\n",
       "    <tr>\n",
       "      <th>n_clusters</th>\n",
       "      <td>-68.000</td>\n",
       "    </tr>\n",
       "    <tr>\n",
       "      <th>silhouette_score</th>\n",
       "      <td>0.173</td>\n",
       "    </tr>\n",
       "  </tbody>\n",
       "</table>\n",
       "</div>"
      ],
      "text/plain": [
       "                  Values\n",
       "n_clusters       -68.000\n",
       "silhouette_score   0.173"
      ]
     },
     "execution_count": 58,
     "metadata": {},
     "output_type": "execute_result"
    }
   ],
   "source": [
    "df_preferences68 = Model_Training(df, -68)\n",
    "df_preferences68"
   ]
  },
  {
   "cell_type": "markdown",
   "id": "b2c3fe01",
   "metadata": {},
   "source": [
    "# 6. Concatenando os dataframes "
   ]
  },
  {
   "cell_type": "code",
   "execution_count": 59,
   "id": "23598f66",
   "metadata": {},
   "outputs": [
    {
     "data": {
      "text/html": [
       "<div>\n",
       "<style scoped>\n",
       "    .dataframe tbody tr th:only-of-type {\n",
       "        vertical-align: middle;\n",
       "    }\n",
       "\n",
       "    .dataframe tbody tr th {\n",
       "        vertical-align: top;\n",
       "    }\n",
       "\n",
       "    .dataframe thead th {\n",
       "        text-align: right;\n",
       "    }\n",
       "</style>\n",
       "<table border=\"1\" class=\"dataframe\">\n",
       "  <thead>\n",
       "    <tr style=\"text-align: right;\">\n",
       "      <th></th>\n",
       "      <th>Values</th>\n",
       "      <th>Values</th>\n",
       "      <th>Values</th>\n",
       "      <th>Values</th>\n",
       "      <th>Values</th>\n",
       "      <th>Values</th>\n",
       "      <th>Values</th>\n",
       "      <th>Values</th>\n",
       "      <th>Values</th>\n",
       "    </tr>\n",
       "  </thead>\n",
       "  <tbody>\n",
       "    <tr>\n",
       "      <th>n_clusters</th>\n",
       "      <td>NaN</td>\n",
       "      <td>-8.000</td>\n",
       "      <td>-18.000</td>\n",
       "      <td>-28.000</td>\n",
       "      <td>-38.000</td>\n",
       "      <td>-48.000</td>\n",
       "      <td>-60.000</td>\n",
       "      <td>-68.000</td>\n",
       "      <td>-88.000</td>\n",
       "    </tr>\n",
       "    <tr>\n",
       "      <th>silhouette_score</th>\n",
       "      <td>0.169</td>\n",
       "      <td>0.168</td>\n",
       "      <td>0.155</td>\n",
       "      <td>0.159</td>\n",
       "      <td>0.188</td>\n",
       "      <td>0.202</td>\n",
       "      <td>0.183</td>\n",
       "      <td>0.173</td>\n",
       "      <td>0.159</td>\n",
       "    </tr>\n",
       "  </tbody>\n",
       "</table>\n",
       "</div>"
      ],
      "text/plain": [
       "                  Values  Values  Values  Values  Values  Values  Values  \\\n",
       "n_clusters           NaN  -8.000 -18.000 -28.000 -38.000 -48.000 -60.000   \n",
       "silhouette_score   0.169   0.168   0.155   0.159   0.188   0.202   0.183   \n",
       "\n",
       "                  Values  Values  \n",
       "n_clusters       -68.000 -88.000  \n",
       "silhouette_score   0.173   0.159  "
      ]
     },
     "execution_count": 59,
     "metadata": {},
     "output_type": "execute_result"
    }
   ],
   "source": [
    "df_final = pd.concat([df_default, df_preferences8, df_preferences18, df_preferences28,\n",
    "                     df_preferences38, df_preferences48, df_preferences60,\n",
    "                     df_preferences68, df_preferences88], axis = 1)\n",
    "df_final"
   ]
  },
  {
   "cell_type": "markdown",
   "id": "df2eadaf",
   "metadata": {},
   "source": [
    "# 7. Salvando o dataframe que contém o algoritmo treinado com a melhor performance"
   ]
  },
  {
   "cell_type": "code",
   "execution_count": 62,
   "id": "f1ab2ac3",
   "metadata": {},
   "outputs": [
    {
     "data": {
      "text/html": [
       "<div>\n",
       "<style scoped>\n",
       "    .dataframe tbody tr th:only-of-type {\n",
       "        vertical-align: middle;\n",
       "    }\n",
       "\n",
       "    .dataframe tbody tr th {\n",
       "        vertical-align: top;\n",
       "    }\n",
       "\n",
       "    .dataframe thead th {\n",
       "        text-align: right;\n",
       "    }\n",
       "</style>\n",
       "<table border=\"1\" class=\"dataframe\">\n",
       "  <thead>\n",
       "    <tr style=\"text-align: right;\">\n",
       "      <th></th>\n",
       "      <th>Affinity Propagation</th>\n",
       "    </tr>\n",
       "  </thead>\n",
       "  <tbody>\n",
       "    <tr>\n",
       "      <th>n_clusters</th>\n",
       "      <td>-48.000</td>\n",
       "    </tr>\n",
       "    <tr>\n",
       "      <th>silhouette_score</th>\n",
       "      <td>0.202</td>\n",
       "    </tr>\n",
       "  </tbody>\n",
       "</table>\n",
       "</div>"
      ],
      "text/plain": [
       "                  Affinity Propagation\n",
       "n_clusters                     -48.000\n",
       "silhouette_score                 0.202"
      ]
     },
     "execution_count": 62,
     "metadata": {},
     "output_type": "execute_result"
    }
   ],
   "source": [
    "df_preferences48 = df_preferences48.rename(columns ={\"Values\": \"Affinity Propagation\"})\n",
    "df_preferences48"
   ]
  },
  {
   "cell_type": "code",
   "execution_count": 63,
   "id": "eea284c6",
   "metadata": {},
   "outputs": [],
   "source": [
    "with open('arquivo_affinity_propagation.pkl', 'wb') as arquivo_affinity_propagation:\n",
    "    pickle.dump(df_preferences48,arquivo_affinity_propagation) "
   ]
  },
  {
   "cell_type": "code",
   "execution_count": 64,
   "id": "c8614074",
   "metadata": {},
   "outputs": [],
   "source": [
    "arquivo_affinity_propagation.close()"
   ]
  },
  {
   "cell_type": "code",
   "execution_count": null,
   "id": "f394467c",
   "metadata": {},
   "outputs": [],
   "source": []
  },
  {
   "cell_type": "code",
   "execution_count": null,
   "id": "f5d5bb35",
   "metadata": {},
   "outputs": [],
   "source": []
  }
 ],
 "metadata": {
  "kernelspec": {
   "display_name": "Python 3 (ipykernel)",
   "language": "python",
   "name": "python3"
  },
  "language_info": {
   "codemirror_mode": {
    "name": "ipython",
    "version": 3
   },
   "file_extension": ".py",
   "mimetype": "text/x-python",
   "name": "python",
   "nbconvert_exporter": "python",
   "pygments_lexer": "ipython3",
   "version": "3.9.12"
  }
 },
 "nbformat": 4,
 "nbformat_minor": 5
}
