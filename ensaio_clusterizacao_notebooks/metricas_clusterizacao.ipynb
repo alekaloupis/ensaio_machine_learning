{
 "cells": [
  {
   "cell_type": "markdown",
   "id": "045c69c6",
   "metadata": {},
   "source": [
    "# 1.Imports"
   ]
  },
  {
   "cell_type": "code",
   "execution_count": 1,
   "id": "f5e8dd85",
   "metadata": {},
   "outputs": [],
   "source": [
    "import pickle\n",
    "import pandas as pd"
   ]
  },
  {
   "cell_type": "markdown",
   "id": "d0b18d2b",
   "metadata": {},
   "source": [
    "# 2. Carregando o dataset"
   ]
  },
  {
   "cell_type": "code",
   "execution_count": 6,
   "id": "e79945de",
   "metadata": {},
   "outputs": [],
   "source": [
    "def Load_Dataset(file):\n",
    "    file = file\n",
    "    with open (file, 'rb') as arq: \n",
    "        df = pickle.load(arq)\n",
    "    return df "
   ]
  },
  {
   "cell_type": "markdown",
   "id": "415b52b8",
   "metadata": {},
   "source": [
    "# 3. K Means"
   ]
  },
  {
   "cell_type": "code",
   "execution_count": 7,
   "id": "c5d0e83b",
   "metadata": {},
   "outputs": [
    {
     "data": {
      "text/html": [
       "<div>\n",
       "<style scoped>\n",
       "    .dataframe tbody tr th:only-of-type {\n",
       "        vertical-align: middle;\n",
       "    }\n",
       "\n",
       "    .dataframe tbody tr th {\n",
       "        vertical-align: top;\n",
       "    }\n",
       "\n",
       "    .dataframe thead th {\n",
       "        text-align: right;\n",
       "    }\n",
       "</style>\n",
       "<table border=\"1\" class=\"dataframe\">\n",
       "  <thead>\n",
       "    <tr style=\"text-align: right;\">\n",
       "      <th></th>\n",
       "      <th>K-Means</th>\n",
       "    </tr>\n",
       "  </thead>\n",
       "  <tbody>\n",
       "    <tr>\n",
       "      <th>n_clusters</th>\n",
       "      <td>7.000</td>\n",
       "    </tr>\n",
       "    <tr>\n",
       "      <th>silhouette_score</th>\n",
       "      <td>0.211</td>\n",
       "    </tr>\n",
       "  </tbody>\n",
       "</table>\n",
       "</div>"
      ],
      "text/plain": [
       "                  K-Means\n",
       "n_clusters          7.000\n",
       "silhouette_score    0.211"
      ]
     },
     "execution_count": 7,
     "metadata": {},
     "output_type": "execute_result"
    }
   ],
   "source": [
    "df_kmeans = Load_Dataset('arquivo_k_means.pkl')\n",
    "df_kmeans"
   ]
  },
  {
   "cell_type": "markdown",
   "id": "0f5e25dd",
   "metadata": {},
   "source": [
    "# 4. Affinity Propagation"
   ]
  },
  {
   "cell_type": "code",
   "execution_count": 8,
   "id": "4ff6fde1",
   "metadata": {},
   "outputs": [
    {
     "data": {
      "text/html": [
       "<div>\n",
       "<style scoped>\n",
       "    .dataframe tbody tr th:only-of-type {\n",
       "        vertical-align: middle;\n",
       "    }\n",
       "\n",
       "    .dataframe tbody tr th {\n",
       "        vertical-align: top;\n",
       "    }\n",
       "\n",
       "    .dataframe thead th {\n",
       "        text-align: right;\n",
       "    }\n",
       "</style>\n",
       "<table border=\"1\" class=\"dataframe\">\n",
       "  <thead>\n",
       "    <tr style=\"text-align: right;\">\n",
       "      <th></th>\n",
       "      <th>Affinity Propagation</th>\n",
       "    </tr>\n",
       "  </thead>\n",
       "  <tbody>\n",
       "    <tr>\n",
       "      <th>n_clusters</th>\n",
       "      <td>-48.000</td>\n",
       "    </tr>\n",
       "    <tr>\n",
       "      <th>silhouette_score</th>\n",
       "      <td>0.202</td>\n",
       "    </tr>\n",
       "  </tbody>\n",
       "</table>\n",
       "</div>"
      ],
      "text/plain": [
       "                  Affinity Propagation\n",
       "n_clusters                     -48.000\n",
       "silhouette_score                 0.202"
      ]
     },
     "execution_count": 8,
     "metadata": {},
     "output_type": "execute_result"
    }
   ],
   "source": [
    "df_affinity_propagation = Load_Dataset('arquivo_affinity_propagation.pkl')\n",
    "df_affinity_propagation"
   ]
  },
  {
   "cell_type": "markdown",
   "id": "f5331260",
   "metadata": {},
   "source": [
    "# 5. Concatenando os dataframes"
   ]
  },
  {
   "cell_type": "code",
   "execution_count": 9,
   "id": "aa379092",
   "metadata": {},
   "outputs": [
    {
     "data": {
      "text/html": [
       "<div>\n",
       "<style scoped>\n",
       "    .dataframe tbody tr th:only-of-type {\n",
       "        vertical-align: middle;\n",
       "    }\n",
       "\n",
       "    .dataframe tbody tr th {\n",
       "        vertical-align: top;\n",
       "    }\n",
       "\n",
       "    .dataframe thead th {\n",
       "        text-align: right;\n",
       "    }\n",
       "</style>\n",
       "<table border=\"1\" class=\"dataframe\">\n",
       "  <thead>\n",
       "    <tr style=\"text-align: right;\">\n",
       "      <th></th>\n",
       "      <th>K-Means</th>\n",
       "      <th>Affinity Propagation</th>\n",
       "    </tr>\n",
       "  </thead>\n",
       "  <tbody>\n",
       "    <tr>\n",
       "      <th>n_clusters</th>\n",
       "      <td>7.000</td>\n",
       "      <td>-48.000</td>\n",
       "    </tr>\n",
       "    <tr>\n",
       "      <th>silhouette_score</th>\n",
       "      <td>0.211</td>\n",
       "      <td>0.202</td>\n",
       "    </tr>\n",
       "  </tbody>\n",
       "</table>\n",
       "</div>"
      ],
      "text/plain": [
       "                  K-Means  Affinity Propagation\n",
       "n_clusters          7.000               -48.000\n",
       "silhouette_score    0.211                 0.202"
      ]
     },
     "execution_count": 9,
     "metadata": {},
     "output_type": "execute_result"
    }
   ],
   "source": [
    "df_final = pd.concat([df_kmeans, df_affinity_propagation], axis = 1)\n",
    "df_final"
   ]
  },
  {
   "cell_type": "code",
   "execution_count": null,
   "id": "2d02cf35",
   "metadata": {},
   "outputs": [],
   "source": []
  }
 ],
 "metadata": {
  "kernelspec": {
   "display_name": "Python 3 (ipykernel)",
   "language": "python",
   "name": "python3"
  },
  "language_info": {
   "codemirror_mode": {
    "name": "ipython",
    "version": 3
   },
   "file_extension": ".py",
   "mimetype": "text/x-python",
   "name": "python",
   "nbconvert_exporter": "python",
   "pygments_lexer": "ipython3",
   "version": "3.9.12"
  }
 },
 "nbformat": 4,
 "nbformat_minor": 5
}
