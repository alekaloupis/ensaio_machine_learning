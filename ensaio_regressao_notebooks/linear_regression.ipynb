{
 "cells": [
  {
   "cell_type": "markdown",
   "id": "0b1e2b2c",
   "metadata": {},
   "source": [
    "# 1.Imports"
   ]
  },
  {
   "cell_type": "code",
   "execution_count": 1,
   "id": "908027d3",
   "metadata": {},
   "outputs": [],
   "source": [
    "import pandas as pd\n",
    "import numpy as np\n",
    "from sklearn import metrics as mt\n",
    "from sklearn import linear_model as lm\n",
    "import pickle"
   ]
  },
  {
   "cell_type": "markdown",
   "id": "3b9e0032",
   "metadata": {},
   "source": [
    "# 2. Funcao para carregar os datasets"
   ]
  },
  {
   "cell_type": "code",
   "execution_count": 2,
   "id": "2439086b",
   "metadata": {},
   "outputs": [],
   "source": [
    "def Load_Data_Set(df_x_train, df_y_train):\n",
    "    df1 = pd.read_csv(df_x_train)\n",
    "    df2 = pd.read_csv(df_y_train)\n",
    "    return df1, df2"
   ]
  },
  {
   "cell_type": "markdown",
   "id": "e52b38b4",
   "metadata": {},
   "source": [
    "# 3. Criando e concatenando os dataframes"
   ]
  },
  {
   "cell_type": "markdown",
   "id": "82baf600",
   "metadata": {},
   "source": [
    "### 3.1 Dataset de treinamento"
   ]
  },
  {
   "cell_type": "code",
   "execution_count": 3,
   "id": "ead2454b",
   "metadata": {},
   "outputs": [],
   "source": [
    "df_x_train = \"../2_ensaio_regressao/1_dados_treinamento/X_training.csv\""
   ]
  },
  {
   "cell_type": "code",
   "execution_count": 4,
   "id": "a2f7b5a5",
   "metadata": {},
   "outputs": [],
   "source": [
    "df_y_train = \"../2_ensaio_regressao/1_dados_treinamento/y_training.csv\""
   ]
  },
  {
   "cell_type": "code",
   "execution_count": 5,
   "id": "3335a12c",
   "metadata": {},
   "outputs": [],
   "source": [
    "df1_train, df2_train = Load_Data_Set(df_x_train, df_y_train)"
   ]
  },
  {
   "cell_type": "code",
   "execution_count": 6,
   "id": "2ef9e6f4",
   "metadata": {},
   "outputs": [],
   "source": [
    "df1_train['label'] = df2_train"
   ]
  },
  {
   "cell_type": "code",
   "execution_count": 7,
   "id": "455fa1de",
   "metadata": {},
   "outputs": [],
   "source": [
    "df_train = df1_train.copy()"
   ]
  },
  {
   "cell_type": "markdown",
   "id": "fce80044",
   "metadata": {},
   "source": [
    "### 3.2 Dataset de validacao"
   ]
  },
  {
   "cell_type": "code",
   "execution_count": 8,
   "id": "d48cf81c",
   "metadata": {},
   "outputs": [],
   "source": [
    "df_x_val = \"../2_ensaio_regressao/2_dados_validacao/X_validation.csv\""
   ]
  },
  {
   "cell_type": "code",
   "execution_count": 9,
   "id": "54803962",
   "metadata": {},
   "outputs": [],
   "source": [
    "df_y_val = \"../2_ensaio_regressao/2_dados_validacao/y_val.csv\""
   ]
  },
  {
   "cell_type": "code",
   "execution_count": 10,
   "id": "3793f8be",
   "metadata": {},
   "outputs": [],
   "source": [
    "df1_val, df2_val = Load_Data_Set(df_x_val, df_y_val)"
   ]
  },
  {
   "cell_type": "code",
   "execution_count": 11,
   "id": "a52fc4eb",
   "metadata": {},
   "outputs": [],
   "source": [
    "df1_val['label'] = df2_val"
   ]
  },
  {
   "cell_type": "code",
   "execution_count": 12,
   "id": "442eb498",
   "metadata": {},
   "outputs": [],
   "source": [
    "df_val = df1_val.copy()"
   ]
  },
  {
   "cell_type": "markdown",
   "id": "1b8f6d2e",
   "metadata": {},
   "source": [
    "### 3.3 Dataset de teste"
   ]
  },
  {
   "cell_type": "code",
   "execution_count": 13,
   "id": "d7a979a9",
   "metadata": {},
   "outputs": [],
   "source": [
    "df_x_test = \"../2_ensaio_regressao/3_dados_teste/X_test.csv\""
   ]
  },
  {
   "cell_type": "code",
   "execution_count": 14,
   "id": "399f3bdd",
   "metadata": {},
   "outputs": [],
   "source": [
    "df_y_test = \"../2_ensaio_regressao/3_dados_teste/y_test.csv\""
   ]
  },
  {
   "cell_type": "code",
   "execution_count": 15,
   "id": "e7832b1d",
   "metadata": {},
   "outputs": [],
   "source": [
    "df1_test, df2_test = Load_Data_Set(df_x_test, df_y_test)"
   ]
  },
  {
   "cell_type": "code",
   "execution_count": 16,
   "id": "778594d0",
   "metadata": {},
   "outputs": [],
   "source": [
    "df1_test['label'] = df2_test"
   ]
  },
  {
   "cell_type": "code",
   "execution_count": 17,
   "id": "5d11ee50",
   "metadata": {},
   "outputs": [],
   "source": [
    "df_test = df1_test.copy()"
   ]
  },
  {
   "cell_type": "markdown",
   "id": "858162e8",
   "metadata": {},
   "source": [
    "# 4. Funções para treinar o modelo e avaliar as métricas"
   ]
  },
  {
   "cell_type": "code",
   "execution_count": 18,
   "id": "ecec43c9",
   "metadata": {},
   "outputs": [],
   "source": [
    "#Criando uma função para Treinar o Modelo encima dos dados de treinamento\n",
    "\n",
    "#Fazer as previsoes encima dos proprios dados de treinamento\n",
    "\n",
    "#Entrada: dataframe de treinamento\n",
    "\n",
    "#Saida: valores de y_train + valores de previsao feitos a partir dos dados de treinamento (y_pred_train) +\n",
    "# algoritmo linear_regression treinado\n",
    "\n",
    "def Model_Training(df_train):\n",
    "    \n",
    "    features = ['song_duration_ms', 'acousticness', 'danceability', 'energy',\n",
    "       'instrumentalness', 'key', 'liveness', 'loudness', 'audio_mode',\n",
    "       'speechiness', 'tempo', 'time_signature', 'audio_valence']\n",
    "    \n",
    "    \n",
    "    label = ['label']\n",
    "    \n",
    "    #Preparação dos dados de treino\n",
    "    x_train = df_train.loc[:, features]\n",
    "\n",
    "    #Esse metodo ravel transforma os valores em um array\n",
    "    y_train = df_train.loc[:, label].values.ravel()      \n",
    "    \n",
    "    #Treinamento do algoritmo Linear Regression\n",
    "      \n",
    "    linear_regression = lm.LinearRegression()    \n",
    "  \n",
    "    linear_regression.fit(x_train, y_train)\n",
    "\n",
    "    #Fazendo previsoes emcima dos dados de treinamento\n",
    "    y_pred_train = linear_regression.predict(x_train)\n",
    "    \n",
    "    return y_train, y_pred_train, linear_regression\n",
    "   \n",
    "\n"
   ]
  },
  {
   "cell_type": "code",
   "execution_count": 19,
   "id": "d910e003",
   "metadata": {},
   "outputs": [],
   "source": [
    "def Previsoes_Dataframe_Test(df_test, linear_regression):\n",
    "    \n",
    "    #Entrada: dataset de teste +  algoritmo linear_regression treinado\n",
    "    \n",
    "    #Saida: os dados de y do proprio dataset de teste (y_test) e as previsoes feitas encima dos dados de teste (y_pred_test)\n",
    "    \n",
    "    features = ['song_duration_ms', 'acousticness', 'danceability', 'energy',\n",
    "       'instrumentalness', 'key', 'liveness', 'loudness', 'audio_mode',\n",
    "       'speechiness', 'tempo', 'time_signature', 'audio_valence']\n",
    "    \n",
    "    \n",
    "    label = ['label'] \n",
    "       \n",
    "    #Separando os dados\n",
    "    x_test = df_test.loc[:, features]\n",
    "\n",
    "    y_test = df_test.loc[:, label].values.ravel() \n",
    "    \n",
    "    #Fazendo previsões\n",
    "    y_pred_test = linear_regression.predict(x_test)\n",
    "    \n",
    "    return y_test, y_pred_test \n",
    "       "
   ]
  },
  {
   "cell_type": "code",
   "execution_count": 20,
   "id": "cabfb686",
   "metadata": {},
   "outputs": [],
   "source": [
    "def Previsoes_Dataframe_Val(df_val, linear_regression):\n",
    "    \n",
    "   #Entrada: dataset de validacao +  algoritmo Linear Regression treinado\n",
    "    \n",
    "   #Saida: os dados de y do proprio dataset de validacao (y_val) e as previsoes feitas encima dos dados de validacao\n",
    "   #(y_pred_val)\n",
    "    \n",
    "\n",
    "    features = ['song_duration_ms', 'acousticness', 'danceability', 'energy',\n",
    "       'instrumentalness', 'key', 'liveness', 'loudness', 'audio_mode',\n",
    "       'speechiness', 'tempo', 'time_signature', 'audio_valence']\n",
    "    \n",
    "    \n",
    "    label = ['label'] \n",
    "    \n",
    "           \n",
    "    #Separando os dados\n",
    "    x_val = df_val.loc[:, features]\n",
    "\n",
    "    y_val = df_val.loc[:, label].values.ravel() \n",
    "    \n",
    "    #Fazendo previsões\n",
    "    y_pred_val = linear_regression.predict(x_val)\n",
    "    \n",
    "    return y_val, y_pred_val\n",
    "        "
   ]
  },
  {
   "cell_type": "code",
   "execution_count": 21,
   "id": "ed848cde",
   "metadata": {},
   "outputs": [],
   "source": [
    "#Criando uma função para avaliar as metricas do modelo\n",
    "\n",
    "#Entrada: Os proprios valores da label(y) do dataset que precisamos avaliar as metricas,\n",
    "# as previsoes feitas a partir desses dados\n",
    "\n",
    "#Saida: Dataframe com as principais metricas do modelo\n",
    "\n",
    "def Model_Metrics(y, y_pred):\n",
    "    \n",
    "    #R2_Score\n",
    "    r2_score = np.round(mt.r2_score(y , y_pred ),4)\n",
    "        \n",
    "    #Mean_Squared_Error (MSE)\n",
    "    mean_squared_error = np.round(mt.mean_squared_error(y, y_pred ),4)\n",
    "        \n",
    "    #Root Mean_Squared Error (RMSE)\n",
    "    rmse = np.round(np.sqrt(mean_squared_error),4)\n",
    "        \n",
    "    #Mean_Absolute_Error(MAE)\n",
    "    mean_absolute_error = np.round(mt.mean_absolute_error (y,y_pred),4)\n",
    "   \n",
    "    #Mean Absolute Percentage Error (MAPE)\n",
    "    mean_absolute_percentage_error = np.round(mt.mean_absolute_percentage_error (y,y_pred),4)\n",
    "    \n",
    "    #Criando um dataframe com as metricas\n",
    "    \n",
    "    metrics = [r2_score, mean_squared_error, rmse, mean_absolute_error, mean_absolute_percentage_error]       \n",
    "        \n",
    "    return metrics"
   ]
  },
  {
   "cell_type": "markdown",
   "id": "117bebda",
   "metadata": {},
   "source": [
    "# 5. Treinamento do modelo, validação e verificação de performance"
   ]
  },
  {
   "cell_type": "code",
   "execution_count": 22,
   "id": "23f35aaf",
   "metadata": {},
   "outputs": [
    {
     "data": {
      "text/plain": [
       "[0.0461, 455.9961, 21.3541, 16.9982, 8.6532]"
      ]
     },
     "execution_count": 22,
     "metadata": {},
     "output_type": "execute_result"
    }
   ],
   "source": [
    "y_train, y_pred_train, linear_regression = Model_Training(df_train)\n",
    "metrics_train_final = Model_Metrics(y_train, y_pred_train)\n",
    "metrics_train_final"
   ]
  },
  {
   "cell_type": "code",
   "execution_count": 23,
   "id": "d0ea9aab",
   "metadata": {},
   "outputs": [
    {
     "data": {
      "text/plain": [
       "[0.0523, 461.4277, 21.4809, 17.13, 8.5219]"
      ]
     },
     "execution_count": 23,
     "metadata": {},
     "output_type": "execute_result"
    }
   ],
   "source": [
    "y_test, y_pred_test = Previsoes_Dataframe_Test(df_test, linear_regression)\n",
    "metrics_test_final = Model_Metrics(y_test, y_pred_test)\n",
    "metrics_test_final"
   ]
  },
  {
   "cell_type": "code",
   "execution_count": 24,
   "id": "73846279",
   "metadata": {},
   "outputs": [
    {
     "data": {
      "text/plain": [
       "[0.0399, 458.447, 21.4114, 17.0398, 8.6825]"
      ]
     },
     "execution_count": 24,
     "metadata": {},
     "output_type": "execute_result"
    }
   ],
   "source": [
    "y_val, y_pred_val = Previsoes_Dataframe_Val(df_val, linear_regression)\n",
    "metrics_val_final = Model_Metrics(y_val, y_pred_val)\n",
    "metrics_val_final"
   ]
  },
  {
   "cell_type": "markdown",
   "id": "db0bb02b",
   "metadata": {},
   "source": [
    "# 6. Concatenando os dataframes finais"
   ]
  },
  {
   "cell_type": "code",
   "execution_count": 25,
   "id": "fe443b76",
   "metadata": {},
   "outputs": [],
   "source": [
    "d1 = {'Linear Regression': metrics_train_final}\n",
    "d2 = {'Linear Regression': metrics_test_final}\n",
    "d3 = {'Linear Regression':metrics_val_final}"
   ]
  },
  {
   "cell_type": "markdown",
   "id": "320b6d78",
   "metadata": {},
   "source": [
    "### 6.1 Dataframe com as métricas sob os dados de treinamento"
   ]
  },
  {
   "cell_type": "code",
   "execution_count": 26,
   "id": "2d743b6b",
   "metadata": {},
   "outputs": [
    {
     "data": {
      "text/html": [
       "<div>\n",
       "<style scoped>\n",
       "    .dataframe tbody tr th:only-of-type {\n",
       "        vertical-align: middle;\n",
       "    }\n",
       "\n",
       "    .dataframe tbody tr th {\n",
       "        vertical-align: top;\n",
       "    }\n",
       "\n",
       "    .dataframe thead th {\n",
       "        text-align: right;\n",
       "    }\n",
       "</style>\n",
       "<table border=\"1\" class=\"dataframe\">\n",
       "  <thead>\n",
       "    <tr style=\"text-align: right;\">\n",
       "      <th></th>\n",
       "      <th>Linear Regression</th>\n",
       "    </tr>\n",
       "  </thead>\n",
       "  <tbody>\n",
       "    <tr>\n",
       "      <th>r2_score</th>\n",
       "      <td>0.0461</td>\n",
       "    </tr>\n",
       "    <tr>\n",
       "      <th>mse</th>\n",
       "      <td>455.9961</td>\n",
       "    </tr>\n",
       "    <tr>\n",
       "      <th>rmse</th>\n",
       "      <td>21.3541</td>\n",
       "    </tr>\n",
       "    <tr>\n",
       "      <th>mae</th>\n",
       "      <td>16.9982</td>\n",
       "    </tr>\n",
       "    <tr>\n",
       "      <th>mape</th>\n",
       "      <td>8.6532</td>\n",
       "    </tr>\n",
       "  </tbody>\n",
       "</table>\n",
       "</div>"
      ],
      "text/plain": [
       "          Linear Regression\n",
       "r2_score             0.0461\n",
       "mse                455.9961\n",
       "rmse                21.3541\n",
       "mae                 16.9982\n",
       "mape                 8.6532"
      ]
     },
     "execution_count": 26,
     "metadata": {},
     "output_type": "execute_result"
    }
   ],
   "source": [
    "df_train_final = pd.DataFrame(data = d1, index = ['r2_score', 'mse', 'rmse', 'mae','mape'])\n",
    "df_train_final"
   ]
  },
  {
   "cell_type": "markdown",
   "id": "208e9602",
   "metadata": {},
   "source": [
    "### 6.2 Dataframe com as métricas sob os dados de validação"
   ]
  },
  {
   "cell_type": "code",
   "execution_count": 27,
   "id": "f032def6",
   "metadata": {},
   "outputs": [
    {
     "data": {
      "text/html": [
       "<div>\n",
       "<style scoped>\n",
       "    .dataframe tbody tr th:only-of-type {\n",
       "        vertical-align: middle;\n",
       "    }\n",
       "\n",
       "    .dataframe tbody tr th {\n",
       "        vertical-align: top;\n",
       "    }\n",
       "\n",
       "    .dataframe thead th {\n",
       "        text-align: right;\n",
       "    }\n",
       "</style>\n",
       "<table border=\"1\" class=\"dataframe\">\n",
       "  <thead>\n",
       "    <tr style=\"text-align: right;\">\n",
       "      <th></th>\n",
       "      <th>Linear Regression</th>\n",
       "    </tr>\n",
       "  </thead>\n",
       "  <tbody>\n",
       "    <tr>\n",
       "      <th>r2_score</th>\n",
       "      <td>0.0523</td>\n",
       "    </tr>\n",
       "    <tr>\n",
       "      <th>mse</th>\n",
       "      <td>461.4277</td>\n",
       "    </tr>\n",
       "    <tr>\n",
       "      <th>rmse</th>\n",
       "      <td>21.4809</td>\n",
       "    </tr>\n",
       "    <tr>\n",
       "      <th>mae</th>\n",
       "      <td>17.1300</td>\n",
       "    </tr>\n",
       "    <tr>\n",
       "      <th>mape</th>\n",
       "      <td>8.5219</td>\n",
       "    </tr>\n",
       "  </tbody>\n",
       "</table>\n",
       "</div>"
      ],
      "text/plain": [
       "          Linear Regression\n",
       "r2_score             0.0523\n",
       "mse                461.4277\n",
       "rmse                21.4809\n",
       "mae                 17.1300\n",
       "mape                 8.5219"
      ]
     },
     "execution_count": 27,
     "metadata": {},
     "output_type": "execute_result"
    }
   ],
   "source": [
    "df_val_final = pd.DataFrame(data = d2, index = ['r2_score', 'mse', 'rmse', 'mae','mape'])\n",
    "df_val_final"
   ]
  },
  {
   "cell_type": "markdown",
   "id": "5f721f2a",
   "metadata": {},
   "source": [
    "### 6.3 Dataframe com as métricas sob os dados de teste"
   ]
  },
  {
   "cell_type": "code",
   "execution_count": 28,
   "id": "8a199ace",
   "metadata": {},
   "outputs": [
    {
     "data": {
      "text/html": [
       "<div>\n",
       "<style scoped>\n",
       "    .dataframe tbody tr th:only-of-type {\n",
       "        vertical-align: middle;\n",
       "    }\n",
       "\n",
       "    .dataframe tbody tr th {\n",
       "        vertical-align: top;\n",
       "    }\n",
       "\n",
       "    .dataframe thead th {\n",
       "        text-align: right;\n",
       "    }\n",
       "</style>\n",
       "<table border=\"1\" class=\"dataframe\">\n",
       "  <thead>\n",
       "    <tr style=\"text-align: right;\">\n",
       "      <th></th>\n",
       "      <th>Linear Regression</th>\n",
       "    </tr>\n",
       "  </thead>\n",
       "  <tbody>\n",
       "    <tr>\n",
       "      <th>r2_score</th>\n",
       "      <td>0.0399</td>\n",
       "    </tr>\n",
       "    <tr>\n",
       "      <th>mse</th>\n",
       "      <td>458.4470</td>\n",
       "    </tr>\n",
       "    <tr>\n",
       "      <th>rmse</th>\n",
       "      <td>21.4114</td>\n",
       "    </tr>\n",
       "    <tr>\n",
       "      <th>mae</th>\n",
       "      <td>17.0398</td>\n",
       "    </tr>\n",
       "    <tr>\n",
       "      <th>mape</th>\n",
       "      <td>8.6825</td>\n",
       "    </tr>\n",
       "  </tbody>\n",
       "</table>\n",
       "</div>"
      ],
      "text/plain": [
       "          Linear Regression\n",
       "r2_score             0.0399\n",
       "mse                458.4470\n",
       "rmse                21.4114\n",
       "mae                 17.0398\n",
       "mape                 8.6825"
      ]
     },
     "execution_count": 28,
     "metadata": {},
     "output_type": "execute_result"
    }
   ],
   "source": [
    "df_test_final = pd.DataFrame(data = d3, index = ['r2_score', 'mse', 'rmse', 'mae','mape'])\n",
    "df_test_final"
   ]
  },
  {
   "cell_type": "markdown",
   "id": "029ded9a",
   "metadata": {},
   "source": [
    "# 7. Salvar os objetos com as melhores métricas em um arquivo pickle"
   ]
  },
  {
   "cell_type": "markdown",
   "id": "55ab9434",
   "metadata": {},
   "source": [
    "### a) dataframe com métricas dos dados de treinamento"
   ]
  },
  {
   "cell_type": "code",
   "execution_count": 29,
   "id": "f9efc268",
   "metadata": {},
   "outputs": [],
   "source": [
    "with open('arquivo_linear_regression_train.pkl', 'wb') as arquivo_linear_regression_train:\n",
    "    pickle.dump(df_train_final, arquivo_linear_regression_train)  "
   ]
  },
  {
   "cell_type": "code",
   "execution_count": 30,
   "id": "61a7757d",
   "metadata": {},
   "outputs": [],
   "source": [
    "arquivo_linear_regression_train.close()"
   ]
  },
  {
   "cell_type": "markdown",
   "id": "0ba929a6",
   "metadata": {},
   "source": [
    "### b) dataframe com métricas dos dados de validação"
   ]
  },
  {
   "cell_type": "code",
   "execution_count": 31,
   "id": "dd590b9b",
   "metadata": {},
   "outputs": [],
   "source": [
    "with open('arquivo_linear_regression_val.pkl', 'wb') as arquivo_linear_regression_val:\n",
    "    pickle.dump(df_val_final, arquivo_linear_regression_val)  "
   ]
  },
  {
   "cell_type": "code",
   "execution_count": 32,
   "id": "97f522fc",
   "metadata": {},
   "outputs": [],
   "source": [
    "arquivo_linear_regression_train.close()"
   ]
  },
  {
   "cell_type": "code",
   "execution_count": null,
   "id": "382e0341",
   "metadata": {},
   "outputs": [],
   "source": []
  },
  {
   "cell_type": "markdown",
   "id": "3ef0fa0c",
   "metadata": {},
   "source": [
    "### c) dataframe com métricas dos dados de teste"
   ]
  },
  {
   "cell_type": "code",
   "execution_count": 33,
   "id": "a1293820",
   "metadata": {},
   "outputs": [],
   "source": [
    "with open('arquivo_linear_regression_test.pkl', 'wb') as arquivo_linear_regression_test:\n",
    "    pickle.dump(df_test_final, arquivo_linear_regression_test)    "
   ]
  },
  {
   "cell_type": "code",
   "execution_count": 34,
   "id": "c1115cff",
   "metadata": {},
   "outputs": [],
   "source": [
    "arquivo_linear_regression_test.close()"
   ]
  },
  {
   "cell_type": "code",
   "execution_count": null,
   "id": "d864ad51",
   "metadata": {},
   "outputs": [],
   "source": []
  }
 ],
 "metadata": {
  "kernelspec": {
   "display_name": "Python 3 (ipykernel)",
   "language": "python",
   "name": "python3"
  },
  "language_info": {
   "codemirror_mode": {
    "name": "ipython",
    "version": 3
   },
   "file_extension": ".py",
   "mimetype": "text/x-python",
   "name": "python",
   "nbconvert_exporter": "python",
   "pygments_lexer": "ipython3",
   "version": "3.9.12"
  }
 },
 "nbformat": 4,
 "nbformat_minor": 5
}
