{
 "cells": [
  {
   "cell_type": "markdown",
   "id": "0b1e2b2c",
   "metadata": {},
   "source": [
    "# 1.Imports"
   ]
  },
  {
   "cell_type": "code",
   "execution_count": 1,
   "id": "908027d3",
   "metadata": {},
   "outputs": [],
   "source": [
    "import pandas as pd\n",
    "import numpy as np\n",
    "from sklearn import metrics as mt\n",
    "from sklearn.ensemble import RandomForestRegressor\n",
    "import pickle"
   ]
  },
  {
   "cell_type": "markdown",
   "id": "3b9e0032",
   "metadata": {},
   "source": [
    "# 2. Funcao para carregar os datasets"
   ]
  },
  {
   "cell_type": "code",
   "execution_count": 2,
   "id": "2439086b",
   "metadata": {},
   "outputs": [],
   "source": [
    "def Load_Data_Set(df_x_train, df_y_train):\n",
    "    df1 = pd.read_csv(df_x_train)\n",
    "    df2 = pd.read_csv(df_y_train)\n",
    "    return df1, df2"
   ]
  },
  {
   "cell_type": "markdown",
   "id": "e52b38b4",
   "metadata": {},
   "source": [
    "# 3. Criando e concatenando os dataframes"
   ]
  },
  {
   "cell_type": "markdown",
   "id": "82baf600",
   "metadata": {},
   "source": [
    "### 3.1 Dataset de treinamento"
   ]
  },
  {
   "cell_type": "code",
   "execution_count": 3,
   "id": "ead2454b",
   "metadata": {},
   "outputs": [],
   "source": [
    "df_x_train = \"../2_ensaio_regressao/1_dados_treinamento/X_training.csv\""
   ]
  },
  {
   "cell_type": "code",
   "execution_count": 4,
   "id": "a2f7b5a5",
   "metadata": {},
   "outputs": [],
   "source": [
    "df_y_train = \"../2_ensaio_regressao/1_dados_treinamento/y_training.csv\""
   ]
  },
  {
   "cell_type": "code",
   "execution_count": 5,
   "id": "3335a12c",
   "metadata": {},
   "outputs": [],
   "source": [
    "df1_train, df2_train = Load_Data_Set(df_x_train, df_y_train)"
   ]
  },
  {
   "cell_type": "code",
   "execution_count": 6,
   "id": "2ef9e6f4",
   "metadata": {},
   "outputs": [],
   "source": [
    "df1_train['label'] = df2_train"
   ]
  },
  {
   "cell_type": "code",
   "execution_count": 7,
   "id": "455fa1de",
   "metadata": {},
   "outputs": [],
   "source": [
    "df_train = df1_train.copy()"
   ]
  },
  {
   "cell_type": "markdown",
   "id": "fce80044",
   "metadata": {},
   "source": [
    "### 3.2 Dataset de validacao"
   ]
  },
  {
   "cell_type": "code",
   "execution_count": 8,
   "id": "d48cf81c",
   "metadata": {},
   "outputs": [],
   "source": [
    "df_x_val = \"../2_ensaio_regressao/2_dados_validacao/X_validation.csv\""
   ]
  },
  {
   "cell_type": "code",
   "execution_count": 9,
   "id": "54803962",
   "metadata": {},
   "outputs": [],
   "source": [
    "df_y_val = \"../2_ensaio_regressao/2_dados_validacao/y_val.csv\""
   ]
  },
  {
   "cell_type": "code",
   "execution_count": 10,
   "id": "3793f8be",
   "metadata": {},
   "outputs": [],
   "source": [
    "df1_val, df2_val = Load_Data_Set(df_x_val, df_y_val)"
   ]
  },
  {
   "cell_type": "code",
   "execution_count": 11,
   "id": "a52fc4eb",
   "metadata": {},
   "outputs": [],
   "source": [
    "df1_val['label'] = df2_val"
   ]
  },
  {
   "cell_type": "code",
   "execution_count": 12,
   "id": "442eb498",
   "metadata": {},
   "outputs": [],
   "source": [
    "df_val = df1_val.copy()"
   ]
  },
  {
   "cell_type": "markdown",
   "id": "1b8f6d2e",
   "metadata": {},
   "source": [
    "### 3.3 Dataset de teste"
   ]
  },
  {
   "cell_type": "code",
   "execution_count": 13,
   "id": "d7a979a9",
   "metadata": {},
   "outputs": [],
   "source": [
    "df_x_test = \"../2_ensaio_regressao/3_dados_teste/X_test.csv\""
   ]
  },
  {
   "cell_type": "code",
   "execution_count": 14,
   "id": "399f3bdd",
   "metadata": {},
   "outputs": [],
   "source": [
    "df_y_test = \"../2_ensaio_regressao/3_dados_teste/y_test.csv\""
   ]
  },
  {
   "cell_type": "code",
   "execution_count": 15,
   "id": "e7832b1d",
   "metadata": {},
   "outputs": [],
   "source": [
    "df1_test, df2_test = Load_Data_Set(df_x_test, df_y_test)"
   ]
  },
  {
   "cell_type": "code",
   "execution_count": 16,
   "id": "778594d0",
   "metadata": {},
   "outputs": [],
   "source": [
    "df1_test['label'] = df2_test"
   ]
  },
  {
   "cell_type": "code",
   "execution_count": 17,
   "id": "5d11ee50",
   "metadata": {},
   "outputs": [],
   "source": [
    "df_test = df1_test.copy()"
   ]
  },
  {
   "cell_type": "markdown",
   "id": "858162e8",
   "metadata": {},
   "source": [
    "# 4. Funções para treinar o modelo e avaliar as métricas dele"
   ]
  },
  {
   "cell_type": "code",
   "execution_count": 18,
   "id": "ecec43c9",
   "metadata": {},
   "outputs": [],
   "source": [
    "#Criando uma função para Treinar o Modelo encima dos dados de treinamento\n",
    "\n",
    "#Fazer as previsoes encima dos proprios dados de treinamento\n",
    "\n",
    "#Entrada: dataframe de treinamento + parametros de ajuste do modelo, a saber max_depth e n_estimators\n",
    "\n",
    "#Saida: valores de y_train + valores de previsao feitos a partir dos dados de treinamento (y_pred_train) +\n",
    "# algoritmo random forest regressor treinado\n",
    "\n",
    "def Model_Training(df_train, max_depth, n_estimators):\n",
    "    \n",
    "    features = ['song_duration_ms', 'acousticness', 'danceability', 'energy',\n",
    "       'instrumentalness', 'key', 'liveness', 'loudness', 'audio_mode',\n",
    "       'speechiness', 'tempo', 'time_signature', 'audio_valence']\n",
    "    \n",
    "    \n",
    "    label = ['label']\n",
    "    \n",
    "    #Preparação dos dados de treino\n",
    "    x_train = df_train.loc[:, features]\n",
    "\n",
    "    #Esse metodo ravel transforma os valores em um array\n",
    "    y_train = df_train.loc[:, label].values.ravel()      \n",
    "    \n",
    "    #Treinamento do algoritmo Random Forest Regressor\n",
    "      \n",
    "    random_forest_regressor = RandomForestRegressor(max_depth = max_depth, n_estimators = n_estimators)   \n",
    "  \n",
    "    random_forest_regressor.fit(x_train, y_train)\n",
    "\n",
    "    #Fazendo previsoes emcima dos dados de treinamento\n",
    "    y_pred_train = random_forest_regressor.predict(x_train)\n",
    "    \n",
    "    return y_train, y_pred_train, random_forest_regressor\n",
    "   "
   ]
  },
  {
   "cell_type": "code",
   "execution_count": 19,
   "id": "d910e003",
   "metadata": {},
   "outputs": [],
   "source": [
    "def Previsoes_Dataframe_Test(df_test, random_forest_regressor):\n",
    "    \n",
    "    #Entrada: dataset de teste +  algoritmo random_forest_regressor treinado\n",
    "    \n",
    "    #Saida: os dados de y do proprio dataset de teste (y_test) e as previsoes feitas encima dos dados de teste (y_pred_test)\n",
    "    \n",
    "    features = ['song_duration_ms', 'acousticness', 'danceability', 'energy',\n",
    "       'instrumentalness', 'key', 'liveness', 'loudness', 'audio_mode',\n",
    "       'speechiness', 'tempo', 'time_signature', 'audio_valence']\n",
    "    \n",
    "    \n",
    "    label = ['label'] \n",
    "       \n",
    "    #Separando os dados\n",
    "    x_test = df_test.loc[:, features]\n",
    "\n",
    "    y_test = df_test.loc[:, label].values.ravel() \n",
    "    \n",
    "    #Fazendo previsões\n",
    "    y_pred_test = random_forest_regressor.predict(x_test)\n",
    "    \n",
    "    return y_test, y_pred_test \n",
    "       "
   ]
  },
  {
   "cell_type": "code",
   "execution_count": 20,
   "id": "cabfb686",
   "metadata": {},
   "outputs": [],
   "source": [
    "def Previsoes_Dataframe_Val(df_val, random_forest_regressor):\n",
    "    \n",
    "   #Entrada: dataset de validacao +  algoritmo random_forest_regressor treinado\n",
    "    \n",
    "   #Saida: os dados de y do proprio dataset de validacao (y_val) e as previsoes feitas encima dos dados de validacao\n",
    "   #(y_pred_val)\n",
    "    \n",
    "\n",
    "    features = ['song_duration_ms', 'acousticness', 'danceability', 'energy',\n",
    "       'instrumentalness', 'key', 'liveness', 'loudness', 'audio_mode',\n",
    "       'speechiness', 'tempo', 'time_signature', 'audio_valence']\n",
    "    \n",
    "    \n",
    "    label = ['label'] \n",
    "    \n",
    "           \n",
    "    #Separando os dados\n",
    "    x_val = df_val.loc[:, features]\n",
    "\n",
    "    y_val = df_val.loc[:, label].values.ravel() \n",
    "    \n",
    "    #Fazendo previsoes\n",
    "    y_pred_val = random_forest_regressor.predict(x_val)\n",
    "    \n",
    "    return y_val, y_pred_val\n",
    "        \n",
    "        "
   ]
  },
  {
   "cell_type": "code",
   "execution_count": 21,
   "id": "ed848cde",
   "metadata": {},
   "outputs": [],
   "source": [
    "#Criando uma função para avaliar as metricas do modelo\n",
    "\n",
    "#Entrada: Os proprios valores da label(y) do dataset que precisamos avaliar as metricas, \n",
    "# as previsoes feitas a partir desses dados, os parametros que utilizamos no treinamento do modelo\n",
    "\n",
    "#Saida: Dataframe com as principais metricas do modelo\n",
    "\n",
    "def Model_Metrics(y, y_pred,max_depth, n_estimators):\n",
    "    \n",
    "    #R2_Score\n",
    "    r2_score = np.round(mt.r2_score(y , y_pred ),4)\n",
    "        \n",
    "    #Mean_Squared_Error (MSE)\n",
    "    mean_squared_error = np.round(mt.mean_squared_error(y, y_pred ),4)\n",
    "        \n",
    "    #Root Mean_Squared Error (RMSE)\n",
    "    rmse = np.round(np.sqrt(mean_squared_error),4)\n",
    "        \n",
    "    #Mean_Absolute_Error(MAE)\n",
    "    mean_absolute_error = np.round(mt.mean_absolute_error (y,y_pred),4)\n",
    "   \n",
    "    #Mean Absolute Percentage Error (MAPE)\n",
    "    mean_absolute_percentage_error = np.round(mt.mean_absolute_percentage_error (y,y_pred),4)\n",
    "    \n",
    "    #Criando um dataframe com as metricas\n",
    "    \n",
    "    \n",
    "    parameters = 'max_depth = ' + str(max_depth) + ' ;n_estimators = ' + str(n_estimators)\n",
    "    \n",
    "    d = { parameters: [r2_score, mean_squared_error , rmse , mean_absolute_error ,mean_absolute_percentage_error]}  \n",
    "    \n",
    "    df_metrics =  pd.DataFrame(data = d, index = ['r2_score', 'mse', 'rmse', 'mae',\n",
    "                                                 'mape'])      \n",
    "    \n",
    "        \n",
    "    return df_metrics"
   ]
  },
  {
   "cell_type": "markdown",
   "id": "cb46d993",
   "metadata": {},
   "source": [
    "# 5. Treinamento do modelo, validação e verificação de performance"
   ]
  },
  {
   "cell_type": "markdown",
   "id": "d03af80a",
   "metadata": {},
   "source": [
    "### 5.1 Treinar o modelo com os valores de parametro default - max_depth = None, n_estimators = 100 e verificação das métricas do modelo sobre os dados de treinamento"
   ]
  },
  {
   "cell_type": "code",
   "execution_count": 22,
   "id": "58525727",
   "metadata": {},
   "outputs": [
    {
     "data": {
      "text/html": [
       "<div>\n",
       "<style scoped>\n",
       "    .dataframe tbody tr th:only-of-type {\n",
       "        vertical-align: middle;\n",
       "    }\n",
       "\n",
       "    .dataframe tbody tr th {\n",
       "        vertical-align: top;\n",
       "    }\n",
       "\n",
       "    .dataframe thead th {\n",
       "        text-align: right;\n",
       "    }\n",
       "</style>\n",
       "<table border=\"1\" class=\"dataframe\">\n",
       "  <thead>\n",
       "    <tr style=\"text-align: right;\">\n",
       "      <th></th>\n",
       "      <th>max_depth = None ;n_estimators = 100</th>\n",
       "    </tr>\n",
       "  </thead>\n",
       "  <tbody>\n",
       "    <tr>\n",
       "      <th>r2_score</th>\n",
       "      <td>0.9016</td>\n",
       "    </tr>\n",
       "    <tr>\n",
       "      <th>mse</th>\n",
       "      <td>47.0224</td>\n",
       "    </tr>\n",
       "    <tr>\n",
       "      <th>rmse</th>\n",
       "      <td>6.8573</td>\n",
       "    </tr>\n",
       "    <tr>\n",
       "      <th>mae</th>\n",
       "      <td>4.8835</td>\n",
       "    </tr>\n",
       "    <tr>\n",
       "      <th>mape</th>\n",
       "      <td>2.6602</td>\n",
       "    </tr>\n",
       "  </tbody>\n",
       "</table>\n",
       "</div>"
      ],
      "text/plain": [
       "          max_depth = None ;n_estimators = 100\n",
       "r2_score                                0.9016\n",
       "mse                                    47.0224\n",
       "rmse                                    6.8573\n",
       "mae                                     4.8835\n",
       "mape                                    2.6602"
      ]
     },
     "execution_count": 22,
     "metadata": {},
     "output_type": "execute_result"
    }
   ],
   "source": [
    "y_train, y_pred_train, random_forest_regressor = Model_Training(df_train,None,100)\n",
    "df_default_train = Model_Metrics(y_train, y_pred_train, None,100)\n",
    "df_default_train"
   ]
  },
  {
   "cell_type": "markdown",
   "id": "bdf6171c",
   "metadata": {},
   "source": [
    "### 5.2 Testar o algoritmo com o parametro default  nos dados de validação e verificar sua performance"
   ]
  },
  {
   "cell_type": "code",
   "execution_count": 23,
   "id": "1c26cec4",
   "metadata": {},
   "outputs": [
    {
     "data": {
      "text/html": [
       "<div>\n",
       "<style scoped>\n",
       "    .dataframe tbody tr th:only-of-type {\n",
       "        vertical-align: middle;\n",
       "    }\n",
       "\n",
       "    .dataframe tbody tr th {\n",
       "        vertical-align: top;\n",
       "    }\n",
       "\n",
       "    .dataframe thead th {\n",
       "        text-align: right;\n",
       "    }\n",
       "</style>\n",
       "<table border=\"1\" class=\"dataframe\">\n",
       "  <thead>\n",
       "    <tr style=\"text-align: right;\">\n",
       "      <th></th>\n",
       "      <th>max_depth = None ;n_estimators = 100</th>\n",
       "    </tr>\n",
       "  </thead>\n",
       "  <tbody>\n",
       "    <tr>\n",
       "      <th>r2_score</th>\n",
       "      <td>0.3339</td>\n",
       "    </tr>\n",
       "    <tr>\n",
       "      <th>mse</th>\n",
       "      <td>318.0481</td>\n",
       "    </tr>\n",
       "    <tr>\n",
       "      <th>rmse</th>\n",
       "      <td>17.8339</td>\n",
       "    </tr>\n",
       "    <tr>\n",
       "      <th>mae</th>\n",
       "      <td>13.0000</td>\n",
       "    </tr>\n",
       "    <tr>\n",
       "      <th>mape</th>\n",
       "      <td>7.1099</td>\n",
       "    </tr>\n",
       "  </tbody>\n",
       "</table>\n",
       "</div>"
      ],
      "text/plain": [
       "          max_depth = None ;n_estimators = 100\n",
       "r2_score                                0.3339\n",
       "mse                                   318.0481\n",
       "rmse                                   17.8339\n",
       "mae                                    13.0000\n",
       "mape                                    7.1099"
      ]
     },
     "execution_count": 23,
     "metadata": {},
     "output_type": "execute_result"
    }
   ],
   "source": [
    "y_val, y_pred_val = Previsoes_Dataframe_Val(df_val, random_forest_regressor)\n",
    "df_default_val = Model_Metrics(y_val, y_pred_val,None,100)\n",
    "df_default_val"
   ]
  },
  {
   "cell_type": "markdown",
   "id": "c3e0542b",
   "metadata": {},
   "source": [
    "### 5.3 Treinar o modelo nos dados de treinamento alterando os parametros e testar a performance desse modelo sobre os dados de validação"
   ]
  },
  {
   "cell_type": "markdown",
   "id": "c9b6d6a6",
   "metadata": {},
   "source": [
    "### a) max_depth = None, n_estimators = 150"
   ]
  },
  {
   "cell_type": "code",
   "execution_count": 24,
   "id": "7197cbcd",
   "metadata": {},
   "outputs": [
    {
     "data": {
      "text/html": [
       "<div>\n",
       "<style scoped>\n",
       "    .dataframe tbody tr th:only-of-type {\n",
       "        vertical-align: middle;\n",
       "    }\n",
       "\n",
       "    .dataframe tbody tr th {\n",
       "        vertical-align: top;\n",
       "    }\n",
       "\n",
       "    .dataframe thead th {\n",
       "        text-align: right;\n",
       "    }\n",
       "</style>\n",
       "<table border=\"1\" class=\"dataframe\">\n",
       "  <thead>\n",
       "    <tr style=\"text-align: right;\">\n",
       "      <th></th>\n",
       "      <th>max_depth = None ;n_estimators = 150</th>\n",
       "    </tr>\n",
       "  </thead>\n",
       "  <tbody>\n",
       "    <tr>\n",
       "      <th>r2_score</th>\n",
       "      <td>0.3378</td>\n",
       "    </tr>\n",
       "    <tr>\n",
       "      <th>mse</th>\n",
       "      <td>316.1862</td>\n",
       "    </tr>\n",
       "    <tr>\n",
       "      <th>rmse</th>\n",
       "      <td>17.7816</td>\n",
       "    </tr>\n",
       "    <tr>\n",
       "      <th>mae</th>\n",
       "      <td>12.9673</td>\n",
       "    </tr>\n",
       "    <tr>\n",
       "      <th>mape</th>\n",
       "      <td>7.0334</td>\n",
       "    </tr>\n",
       "  </tbody>\n",
       "</table>\n",
       "</div>"
      ],
      "text/plain": [
       "          max_depth = None ;n_estimators = 150\n",
       "r2_score                                0.3378\n",
       "mse                                   316.1862\n",
       "rmse                                   17.7816\n",
       "mae                                    12.9673\n",
       "mape                                    7.0334"
      ]
     },
     "execution_count": 24,
     "metadata": {},
     "output_type": "execute_result"
    }
   ],
   "source": [
    "y_train, y_pred_train, random_forest_regressor = Model_Training(df_train,None, 150)\n",
    "y_val, y_pred_val = Previsoes_Dataframe_Val(df_val, random_forest_regressor)\n",
    "df_val1 = Model_Metrics(y_val,y_pred_val,None, 150)\n",
    "df_val1"
   ]
  },
  {
   "cell_type": "markdown",
   "id": "329a54f8",
   "metadata": {},
   "source": [
    "### b) max_depth = None, n_estimators = 50"
   ]
  },
  {
   "cell_type": "code",
   "execution_count": 25,
   "id": "101466fc",
   "metadata": {},
   "outputs": [
    {
     "data": {
      "text/html": [
       "<div>\n",
       "<style scoped>\n",
       "    .dataframe tbody tr th:only-of-type {\n",
       "        vertical-align: middle;\n",
       "    }\n",
       "\n",
       "    .dataframe tbody tr th {\n",
       "        vertical-align: top;\n",
       "    }\n",
       "\n",
       "    .dataframe thead th {\n",
       "        text-align: right;\n",
       "    }\n",
       "</style>\n",
       "<table border=\"1\" class=\"dataframe\">\n",
       "  <thead>\n",
       "    <tr style=\"text-align: right;\">\n",
       "      <th></th>\n",
       "      <th>max_depth = None ;n_estimators = 50</th>\n",
       "    </tr>\n",
       "  </thead>\n",
       "  <tbody>\n",
       "    <tr>\n",
       "      <th>r2_score</th>\n",
       "      <td>0.3300</td>\n",
       "    </tr>\n",
       "    <tr>\n",
       "      <th>mse</th>\n",
       "      <td>319.9129</td>\n",
       "    </tr>\n",
       "    <tr>\n",
       "      <th>rmse</th>\n",
       "      <td>17.8861</td>\n",
       "    </tr>\n",
       "    <tr>\n",
       "      <th>mae</th>\n",
       "      <td>13.0724</td>\n",
       "    </tr>\n",
       "    <tr>\n",
       "      <th>mape</th>\n",
       "      <td>7.0163</td>\n",
       "    </tr>\n",
       "  </tbody>\n",
       "</table>\n",
       "</div>"
      ],
      "text/plain": [
       "          max_depth = None ;n_estimators = 50\n",
       "r2_score                               0.3300\n",
       "mse                                  319.9129\n",
       "rmse                                  17.8861\n",
       "mae                                   13.0724\n",
       "mape                                   7.0163"
      ]
     },
     "execution_count": 25,
     "metadata": {},
     "output_type": "execute_result"
    }
   ],
   "source": [
    "y_train, y_pred_train, random_forest_regressor = Model_Training(df_train,None, 50)\n",
    "y_val, y_pred_val = Previsoes_Dataframe_Val(df_val, random_forest_regressor)\n",
    "df_val2 = Model_Metrics(y_val,y_pred_val,None, 50)\n",
    "df_val2"
   ]
  },
  {
   "cell_type": "markdown",
   "id": "9c1c9a70",
   "metadata": {},
   "source": [
    "### c) max_depth = 10, n_estimators = 100"
   ]
  },
  {
   "cell_type": "code",
   "execution_count": 26,
   "id": "2fc826d1",
   "metadata": {},
   "outputs": [
    {
     "data": {
      "text/html": [
       "<div>\n",
       "<style scoped>\n",
       "    .dataframe tbody tr th:only-of-type {\n",
       "        vertical-align: middle;\n",
       "    }\n",
       "\n",
       "    .dataframe tbody tr th {\n",
       "        vertical-align: top;\n",
       "    }\n",
       "\n",
       "    .dataframe thead th {\n",
       "        text-align: right;\n",
       "    }\n",
       "</style>\n",
       "<table border=\"1\" class=\"dataframe\">\n",
       "  <thead>\n",
       "    <tr style=\"text-align: right;\">\n",
       "      <th></th>\n",
       "      <th>max_depth = 10 ;n_estimators = 150</th>\n",
       "    </tr>\n",
       "  </thead>\n",
       "  <tbody>\n",
       "    <tr>\n",
       "      <th>r2_score</th>\n",
       "      <td>0.2120</td>\n",
       "    </tr>\n",
       "    <tr>\n",
       "      <th>mse</th>\n",
       "      <td>376.3012</td>\n",
       "    </tr>\n",
       "    <tr>\n",
       "      <th>rmse</th>\n",
       "      <td>19.3985</td>\n",
       "    </tr>\n",
       "    <tr>\n",
       "      <th>mae</th>\n",
       "      <td>15.2777</td>\n",
       "    </tr>\n",
       "    <tr>\n",
       "      <th>mape</th>\n",
       "      <td>7.8937</td>\n",
       "    </tr>\n",
       "  </tbody>\n",
       "</table>\n",
       "</div>"
      ],
      "text/plain": [
       "          max_depth = 10 ;n_estimators = 150\n",
       "r2_score                              0.2120\n",
       "mse                                 376.3012\n",
       "rmse                                 19.3985\n",
       "mae                                  15.2777\n",
       "mape                                  7.8937"
      ]
     },
     "execution_count": 26,
     "metadata": {},
     "output_type": "execute_result"
    }
   ],
   "source": [
    "y_train, y_pred_train, random_forest_regressor = Model_Training(df_train,10, 100)\n",
    "y_val, y_pred_val = Previsoes_Dataframe_Val(df_val, random_forest_regressor)\n",
    "df_val3 = Model_Metrics(y_val,y_pred_val,10, 150)\n",
    "df_val3"
   ]
  },
  {
   "cell_type": "markdown",
   "id": "0acea7de",
   "metadata": {},
   "source": [
    "### d) max_depth = 5, n_estimators = 100"
   ]
  },
  {
   "cell_type": "code",
   "execution_count": 27,
   "id": "d3a98def",
   "metadata": {},
   "outputs": [
    {
     "data": {
      "text/html": [
       "<div>\n",
       "<style scoped>\n",
       "    .dataframe tbody tr th:only-of-type {\n",
       "        vertical-align: middle;\n",
       "    }\n",
       "\n",
       "    .dataframe tbody tr th {\n",
       "        vertical-align: top;\n",
       "    }\n",
       "\n",
       "    .dataframe thead th {\n",
       "        text-align: right;\n",
       "    }\n",
       "</style>\n",
       "<table border=\"1\" class=\"dataframe\">\n",
       "  <thead>\n",
       "    <tr style=\"text-align: right;\">\n",
       "      <th></th>\n",
       "      <th>max_depth = 5 ;n_estimators = 100</th>\n",
       "    </tr>\n",
       "  </thead>\n",
       "  <tbody>\n",
       "    <tr>\n",
       "      <th>r2_score</th>\n",
       "      <td>0.0979</td>\n",
       "    </tr>\n",
       "    <tr>\n",
       "      <th>mse</th>\n",
       "      <td>430.7503</td>\n",
       "    </tr>\n",
       "    <tr>\n",
       "      <th>rmse</th>\n",
       "      <td>20.7545</td>\n",
       "    </tr>\n",
       "    <tr>\n",
       "      <th>mae</th>\n",
       "      <td>16.5113</td>\n",
       "    </tr>\n",
       "    <tr>\n",
       "      <th>mape</th>\n",
       "      <td>8.3867</td>\n",
       "    </tr>\n",
       "  </tbody>\n",
       "</table>\n",
       "</div>"
      ],
      "text/plain": [
       "          max_depth = 5 ;n_estimators = 100\n",
       "r2_score                             0.0979\n",
       "mse                                430.7503\n",
       "rmse                                20.7545\n",
       "mae                                 16.5113\n",
       "mape                                 8.3867"
      ]
     },
     "execution_count": 27,
     "metadata": {},
     "output_type": "execute_result"
    }
   ],
   "source": [
    "y_train, y_pred_train, random_forest_regressor = Model_Training(df_train,5, 100)\n",
    "y_val, y_pred_val = Previsoes_Dataframe_Val(df_val, random_forest_regressor)\n",
    "df_val4 = Model_Metrics(y_val,y_pred_val,5, 100)\n",
    "df_val4"
   ]
  },
  {
   "cell_type": "markdown",
   "id": "959d0986",
   "metadata": {},
   "source": [
    "### e) max_depth = 50, n_estimators = 100"
   ]
  },
  {
   "cell_type": "code",
   "execution_count": 28,
   "id": "d431f86a",
   "metadata": {},
   "outputs": [
    {
     "data": {
      "text/html": [
       "<div>\n",
       "<style scoped>\n",
       "    .dataframe tbody tr th:only-of-type {\n",
       "        vertical-align: middle;\n",
       "    }\n",
       "\n",
       "    .dataframe tbody tr th {\n",
       "        vertical-align: top;\n",
       "    }\n",
       "\n",
       "    .dataframe thead th {\n",
       "        text-align: right;\n",
       "    }\n",
       "</style>\n",
       "<table border=\"1\" class=\"dataframe\">\n",
       "  <thead>\n",
       "    <tr style=\"text-align: right;\">\n",
       "      <th></th>\n",
       "      <th>max_depth = 50 ;n_estimators = 100</th>\n",
       "    </tr>\n",
       "  </thead>\n",
       "  <tbody>\n",
       "    <tr>\n",
       "      <th>r2_score</th>\n",
       "      <td>0.3394</td>\n",
       "    </tr>\n",
       "    <tr>\n",
       "      <th>mse</th>\n",
       "      <td>315.4225</td>\n",
       "    </tr>\n",
       "    <tr>\n",
       "      <th>rmse</th>\n",
       "      <td>17.7601</td>\n",
       "    </tr>\n",
       "    <tr>\n",
       "      <th>mae</th>\n",
       "      <td>12.9444</td>\n",
       "    </tr>\n",
       "    <tr>\n",
       "      <th>mape</th>\n",
       "      <td>6.9560</td>\n",
       "    </tr>\n",
       "  </tbody>\n",
       "</table>\n",
       "</div>"
      ],
      "text/plain": [
       "          max_depth = 50 ;n_estimators = 100\n",
       "r2_score                              0.3394\n",
       "mse                                 315.4225\n",
       "rmse                                 17.7601\n",
       "mae                                  12.9444\n",
       "mape                                  6.9560"
      ]
     },
     "execution_count": 28,
     "metadata": {},
     "output_type": "execute_result"
    }
   ],
   "source": [
    "y_train, y_pred_train, random_forest_regressor = Model_Training(df_train,50, 100)\n",
    "y_val, y_pred_val = Previsoes_Dataframe_Val(df_val, random_forest_regressor)\n",
    "df_val5 = Model_Metrics(y_val,y_pred_val,50, 100)\n",
    "df_val5"
   ]
  },
  {
   "cell_type": "markdown",
   "id": "9a2e854e",
   "metadata": {},
   "source": [
    "### f) max_depth = 100, n_estimators = 100"
   ]
  },
  {
   "cell_type": "code",
   "execution_count": 29,
   "id": "452cd0ba",
   "metadata": {},
   "outputs": [
    {
     "data": {
      "text/html": [
       "<div>\n",
       "<style scoped>\n",
       "    .dataframe tbody tr th:only-of-type {\n",
       "        vertical-align: middle;\n",
       "    }\n",
       "\n",
       "    .dataframe tbody tr th {\n",
       "        vertical-align: top;\n",
       "    }\n",
       "\n",
       "    .dataframe thead th {\n",
       "        text-align: right;\n",
       "    }\n",
       "</style>\n",
       "<table border=\"1\" class=\"dataframe\">\n",
       "  <thead>\n",
       "    <tr style=\"text-align: right;\">\n",
       "      <th></th>\n",
       "      <th>max_depth = 100 ;n_estimators = 100</th>\n",
       "    </tr>\n",
       "  </thead>\n",
       "  <tbody>\n",
       "    <tr>\n",
       "      <th>r2_score</th>\n",
       "      <td>0.3380</td>\n",
       "    </tr>\n",
       "    <tr>\n",
       "      <th>mse</th>\n",
       "      <td>316.1278</td>\n",
       "    </tr>\n",
       "    <tr>\n",
       "      <th>rmse</th>\n",
       "      <td>17.7800</td>\n",
       "    </tr>\n",
       "    <tr>\n",
       "      <th>mae</th>\n",
       "      <td>12.9308</td>\n",
       "    </tr>\n",
       "    <tr>\n",
       "      <th>mape</th>\n",
       "      <td>7.0354</td>\n",
       "    </tr>\n",
       "  </tbody>\n",
       "</table>\n",
       "</div>"
      ],
      "text/plain": [
       "          max_depth = 100 ;n_estimators = 100\n",
       "r2_score                               0.3380\n",
       "mse                                  316.1278\n",
       "rmse                                  17.7800\n",
       "mae                                   12.9308\n",
       "mape                                   7.0354"
      ]
     },
     "execution_count": 29,
     "metadata": {},
     "output_type": "execute_result"
    }
   ],
   "source": [
    "y_train, y_pred_train, random_forest_regressor = Model_Training(df_train,100, 100)\n",
    "y_val, y_pred_val = Previsoes_Dataframe_Val(df_val, random_forest_regressor)\n",
    "df_val6 = Model_Metrics(y_val,y_pred_val,100, 100)\n",
    "df_val6"
   ]
  },
  {
   "cell_type": "markdown",
   "id": "b79ec97b",
   "metadata": {},
   "source": [
    "### 5.4 Verificar o parametro que obteve os melhores resultados nos dados de validação"
   ]
  },
  {
   "cell_type": "code",
   "execution_count": 30,
   "id": "77b7ad05",
   "metadata": {},
   "outputs": [
    {
     "data": {
      "text/html": [
       "<div>\n",
       "<style scoped>\n",
       "    .dataframe tbody tr th:only-of-type {\n",
       "        vertical-align: middle;\n",
       "    }\n",
       "\n",
       "    .dataframe tbody tr th {\n",
       "        vertical-align: top;\n",
       "    }\n",
       "\n",
       "    .dataframe thead th {\n",
       "        text-align: right;\n",
       "    }\n",
       "</style>\n",
       "<table border=\"1\" class=\"dataframe\">\n",
       "  <thead>\n",
       "    <tr style=\"text-align: right;\">\n",
       "      <th></th>\n",
       "      <th>max_depth = None ;n_estimators = 100</th>\n",
       "      <th>max_depth = None ;n_estimators = 150</th>\n",
       "      <th>max_depth = None ;n_estimators = 50</th>\n",
       "      <th>max_depth = 10 ;n_estimators = 150</th>\n",
       "      <th>max_depth = 5 ;n_estimators = 100</th>\n",
       "      <th>max_depth = 50 ;n_estimators = 100</th>\n",
       "      <th>max_depth = 100 ;n_estimators = 100</th>\n",
       "    </tr>\n",
       "  </thead>\n",
       "  <tbody>\n",
       "    <tr>\n",
       "      <th>r2_score</th>\n",
       "      <td>0.3339</td>\n",
       "      <td>0.3378</td>\n",
       "      <td>0.3300</td>\n",
       "      <td>0.2120</td>\n",
       "      <td>0.0979</td>\n",
       "      <td>0.3394</td>\n",
       "      <td>0.3380</td>\n",
       "    </tr>\n",
       "    <tr>\n",
       "      <th>mse</th>\n",
       "      <td>318.0481</td>\n",
       "      <td>316.1862</td>\n",
       "      <td>319.9129</td>\n",
       "      <td>376.3012</td>\n",
       "      <td>430.7503</td>\n",
       "      <td>315.4225</td>\n",
       "      <td>316.1278</td>\n",
       "    </tr>\n",
       "    <tr>\n",
       "      <th>rmse</th>\n",
       "      <td>17.8339</td>\n",
       "      <td>17.7816</td>\n",
       "      <td>17.8861</td>\n",
       "      <td>19.3985</td>\n",
       "      <td>20.7545</td>\n",
       "      <td>17.7601</td>\n",
       "      <td>17.7800</td>\n",
       "    </tr>\n",
       "    <tr>\n",
       "      <th>mae</th>\n",
       "      <td>13.0000</td>\n",
       "      <td>12.9673</td>\n",
       "      <td>13.0724</td>\n",
       "      <td>15.2777</td>\n",
       "      <td>16.5113</td>\n",
       "      <td>12.9444</td>\n",
       "      <td>12.9308</td>\n",
       "    </tr>\n",
       "    <tr>\n",
       "      <th>mape</th>\n",
       "      <td>7.1099</td>\n",
       "      <td>7.0334</td>\n",
       "      <td>7.0163</td>\n",
       "      <td>7.8937</td>\n",
       "      <td>8.3867</td>\n",
       "      <td>6.9560</td>\n",
       "      <td>7.0354</td>\n",
       "    </tr>\n",
       "  </tbody>\n",
       "</table>\n",
       "</div>"
      ],
      "text/plain": [
       "          max_depth = None ;n_estimators = 100  \\\n",
       "r2_score                                0.3339   \n",
       "mse                                   318.0481   \n",
       "rmse                                   17.8339   \n",
       "mae                                    13.0000   \n",
       "mape                                    7.1099   \n",
       "\n",
       "          max_depth = None ;n_estimators = 150  \\\n",
       "r2_score                                0.3378   \n",
       "mse                                   316.1862   \n",
       "rmse                                   17.7816   \n",
       "mae                                    12.9673   \n",
       "mape                                    7.0334   \n",
       "\n",
       "          max_depth = None ;n_estimators = 50  \\\n",
       "r2_score                               0.3300   \n",
       "mse                                  319.9129   \n",
       "rmse                                  17.8861   \n",
       "mae                                   13.0724   \n",
       "mape                                   7.0163   \n",
       "\n",
       "          max_depth = 10 ;n_estimators = 150  \\\n",
       "r2_score                              0.2120   \n",
       "mse                                 376.3012   \n",
       "rmse                                 19.3985   \n",
       "mae                                  15.2777   \n",
       "mape                                  7.8937   \n",
       "\n",
       "          max_depth = 5 ;n_estimators = 100  \\\n",
       "r2_score                             0.0979   \n",
       "mse                                430.7503   \n",
       "rmse                                20.7545   \n",
       "mae                                 16.5113   \n",
       "mape                                 8.3867   \n",
       "\n",
       "          max_depth = 50 ;n_estimators = 100  \\\n",
       "r2_score                              0.3394   \n",
       "mse                                 315.4225   \n",
       "rmse                                 17.7601   \n",
       "mae                                  12.9444   \n",
       "mape                                  6.9560   \n",
       "\n",
       "          max_depth = 100 ;n_estimators = 100  \n",
       "r2_score                               0.3380  \n",
       "mse                                  316.1278  \n",
       "rmse                                  17.7800  \n",
       "mae                                   12.9308  \n",
       "mape                                   7.0354  "
      ]
     },
     "execution_count": 30,
     "metadata": {},
     "output_type": "execute_result"
    }
   ],
   "source": [
    "df_metrics_val = pd.concat([df_default_val, df_val1, df_val2, df_val3, df_val4, df_val5, df_val6], axis = 1)\n",
    "df_metrics_val"
   ]
  },
  {
   "cell_type": "markdown",
   "id": "cce7bf8e",
   "metadata": {},
   "source": [
    "#### Observação: Vamos manter o valor dos parametros default como referencia para o retreino do algoritmo, pois, ainda que tivemos uma pequena melhora com as mudanças, elas não foram significativas"
   ]
  },
  {
   "cell_type": "markdown",
   "id": "f5681c4e",
   "metadata": {},
   "source": [
    "# 6. Unificar os dados de treinamento e validação e retreinar o algoritmo, utilizando os melhores valores para os parâmetros"
   ]
  },
  {
   "cell_type": "markdown",
   "id": "bdda67f4",
   "metadata": {},
   "source": [
    "### 6.1 Dividir novamente os datasets de treinamento e validação"
   ]
  },
  {
   "cell_type": "code",
   "execution_count": 31,
   "id": "3e1f6832",
   "metadata": {},
   "outputs": [],
   "source": [
    "features = ['song_duration_ms', 'acousticness', 'danceability', 'energy',\n",
    "       'instrumentalness', 'key', 'liveness', 'loudness', 'audio_mode',\n",
    "       'speechiness', 'tempo', 'time_signature', 'audio_valence']\n",
    "    \n",
    "    \n",
    "label = ['label'] \n",
    "\n",
    "#Separação dos dados de treino\n",
    "x_train = df_train.loc[:, features]\n",
    "\n",
    "#Esse metodo ravel transforma os valores em um array\n",
    "y_train = df_train.loc[:, label].values.ravel()      \n",
    "\n",
    "#Separação dos dados de validação\n",
    "x_val = df_val.loc[:, features]\n",
    "\n",
    "y_val = df_val.loc[:, label].values.ravel() \n",
    "\n",
    "#Separação dos dados de teste\n",
    "x_test = df_test.loc[:, features]\n",
    "\n",
    "y_test =  df_test.loc[:, label].values.ravel() \n",
    "\n",
    "#Unificando as features e a label dos dados de treino com as dos dados de validação\n",
    "\n",
    "x_final = np.concatenate( (x_train, x_val) )\n",
    "\n",
    "y_final = np.concatenate((y_train, y_val))"
   ]
  },
  {
   "cell_type": "markdown",
   "id": "dd65acd4",
   "metadata": {},
   "source": [
    "### 6.2 Treinar o modelo novamente com o melhor parametro obtido e fazer previsões encima dos dados de teste"
   ]
  },
  {
   "cell_type": "code",
   "execution_count": 32,
   "id": "85d30d6c",
   "metadata": {},
   "outputs": [],
   "source": [
    "model_last = RandomForestRegressor(max_depth = None, n_estimators = 100)    \n",
    "model_last = model_last.fit(x_final, y_final)"
   ]
  },
  {
   "cell_type": "code",
   "execution_count": 33,
   "id": "d74e802f",
   "metadata": {},
   "outputs": [
    {
     "name": "stderr",
     "output_type": "stream",
     "text": [
      "C:\\Users\\Admin\\anaconda3\\lib\\site-packages\\sklearn\\base.py:443: UserWarning: X has feature names, but RandomForestRegressor was fitted without feature names\n",
      "  warnings.warn(\n"
     ]
    }
   ],
   "source": [
    "y_pred_test = model_last.predict(x_test)"
   ]
  },
  {
   "cell_type": "markdown",
   "id": "28014982",
   "metadata": {},
   "source": [
    "### 6.3 Verificando as métricas do modelo com os dados de teste"
   ]
  },
  {
   "cell_type": "code",
   "execution_count": 34,
   "id": "a7c2744b",
   "metadata": {},
   "outputs": [
    {
     "data": {
      "text/html": [
       "<div>\n",
       "<style scoped>\n",
       "    .dataframe tbody tr th:only-of-type {\n",
       "        vertical-align: middle;\n",
       "    }\n",
       "\n",
       "    .dataframe tbody tr th {\n",
       "        vertical-align: top;\n",
       "    }\n",
       "\n",
       "    .dataframe thead th {\n",
       "        text-align: right;\n",
       "    }\n",
       "</style>\n",
       "<table border=\"1\" class=\"dataframe\">\n",
       "  <thead>\n",
       "    <tr style=\"text-align: right;\">\n",
       "      <th></th>\n",
       "      <th>max_depth = None ;n_estimators = 100</th>\n",
       "    </tr>\n",
       "  </thead>\n",
       "  <tbody>\n",
       "    <tr>\n",
       "      <th>r2_score</th>\n",
       "      <td>0.4001</td>\n",
       "    </tr>\n",
       "    <tr>\n",
       "      <th>mse</th>\n",
       "      <td>292.1159</td>\n",
       "    </tr>\n",
       "    <tr>\n",
       "      <th>rmse</th>\n",
       "      <td>17.0914</td>\n",
       "    </tr>\n",
       "    <tr>\n",
       "      <th>mae</th>\n",
       "      <td>12.2526</td>\n",
       "    </tr>\n",
       "    <tr>\n",
       "      <th>mape</th>\n",
       "      <td>6.3071</td>\n",
       "    </tr>\n",
       "  </tbody>\n",
       "</table>\n",
       "</div>"
      ],
      "text/plain": [
       "          max_depth = None ;n_estimators = 100\n",
       "r2_score                                0.4001\n",
       "mse                                   292.1159\n",
       "rmse                                   17.0914\n",
       "mae                                    12.2526\n",
       "mape                                    6.3071"
      ]
     },
     "execution_count": 34,
     "metadata": {},
     "output_type": "execute_result"
    }
   ],
   "source": [
    "df_metrics_test = Model_Metrics(y_test, y_pred_test, None, 100)\n",
    "df_metrics_test"
   ]
  },
  {
   "cell_type": "markdown",
   "id": "7e1c48a0",
   "metadata": {},
   "source": [
    "# 7. Resguardando os objetos com as métricas de maior performance"
   ]
  },
  {
   "cell_type": "markdown",
   "id": "df0b82d5",
   "metadata": {},
   "source": [
    "### 7.1 Alterando o nome das colunas dos dataframes"
   ]
  },
  {
   "cell_type": "markdown",
   "id": "70891f0d",
   "metadata": {},
   "source": [
    "#### a) dataframe teste com melhores métricas"
   ]
  },
  {
   "cell_type": "code",
   "execution_count": 35,
   "id": "50ad4895",
   "metadata": {},
   "outputs": [
    {
     "data": {
      "text/html": [
       "<div>\n",
       "<style scoped>\n",
       "    .dataframe tbody tr th:only-of-type {\n",
       "        vertical-align: middle;\n",
       "    }\n",
       "\n",
       "    .dataframe tbody tr th {\n",
       "        vertical-align: top;\n",
       "    }\n",
       "\n",
       "    .dataframe thead th {\n",
       "        text-align: right;\n",
       "    }\n",
       "</style>\n",
       "<table border=\"1\" class=\"dataframe\">\n",
       "  <thead>\n",
       "    <tr style=\"text-align: right;\">\n",
       "      <th></th>\n",
       "      <th>Random Forest Regressor</th>\n",
       "    </tr>\n",
       "  </thead>\n",
       "  <tbody>\n",
       "    <tr>\n",
       "      <th>r2_score</th>\n",
       "      <td>0.4001</td>\n",
       "    </tr>\n",
       "    <tr>\n",
       "      <th>mse</th>\n",
       "      <td>292.1159</td>\n",
       "    </tr>\n",
       "    <tr>\n",
       "      <th>rmse</th>\n",
       "      <td>17.0914</td>\n",
       "    </tr>\n",
       "    <tr>\n",
       "      <th>mae</th>\n",
       "      <td>12.2526</td>\n",
       "    </tr>\n",
       "    <tr>\n",
       "      <th>mape</th>\n",
       "      <td>6.3071</td>\n",
       "    </tr>\n",
       "  </tbody>\n",
       "</table>\n",
       "</div>"
      ],
      "text/plain": [
       "          Random Forest Regressor\n",
       "r2_score                   0.4001\n",
       "mse                      292.1159\n",
       "rmse                      17.0914\n",
       "mae                       12.2526\n",
       "mape                       6.3071"
      ]
     },
     "execution_count": 35,
     "metadata": {},
     "output_type": "execute_result"
    }
   ],
   "source": [
    "df_metrics_test = df_metrics_test.rename(columns ={\"max_depth = None ;n_estimators = 100\": \"Random Forest Regressor\"})\n",
    "df_metrics_test"
   ]
  },
  {
   "cell_type": "markdown",
   "id": "99c7e23d",
   "metadata": {},
   "source": [
    "#### b) dataframe validação com melhores métricas"
   ]
  },
  {
   "cell_type": "code",
   "execution_count": 36,
   "id": "34c151d0",
   "metadata": {},
   "outputs": [
    {
     "data": {
      "text/html": [
       "<div>\n",
       "<style scoped>\n",
       "    .dataframe tbody tr th:only-of-type {\n",
       "        vertical-align: middle;\n",
       "    }\n",
       "\n",
       "    .dataframe tbody tr th {\n",
       "        vertical-align: top;\n",
       "    }\n",
       "\n",
       "    .dataframe thead th {\n",
       "        text-align: right;\n",
       "    }\n",
       "</style>\n",
       "<table border=\"1\" class=\"dataframe\">\n",
       "  <thead>\n",
       "    <tr style=\"text-align: right;\">\n",
       "      <th></th>\n",
       "      <th>Random Forest Regressor</th>\n",
       "    </tr>\n",
       "  </thead>\n",
       "  <tbody>\n",
       "    <tr>\n",
       "      <th>r2_score</th>\n",
       "      <td>0.3339</td>\n",
       "    </tr>\n",
       "    <tr>\n",
       "      <th>mse</th>\n",
       "      <td>318.0481</td>\n",
       "    </tr>\n",
       "    <tr>\n",
       "      <th>rmse</th>\n",
       "      <td>17.8339</td>\n",
       "    </tr>\n",
       "    <tr>\n",
       "      <th>mae</th>\n",
       "      <td>13.0000</td>\n",
       "    </tr>\n",
       "    <tr>\n",
       "      <th>mape</th>\n",
       "      <td>7.1099</td>\n",
       "    </tr>\n",
       "  </tbody>\n",
       "</table>\n",
       "</div>"
      ],
      "text/plain": [
       "          Random Forest Regressor\n",
       "r2_score                   0.3339\n",
       "mse                      318.0481\n",
       "rmse                      17.8339\n",
       "mae                       13.0000\n",
       "mape                       7.1099"
      ]
     },
     "execution_count": 36,
     "metadata": {},
     "output_type": "execute_result"
    }
   ],
   "source": [
    "df_default_val = df_default_val.rename(columns = {\"max_depth = None ;n_estimators = 100\": \"Random Forest Regressor\"})\n",
    "df_default_val"
   ]
  },
  {
   "cell_type": "markdown",
   "id": "26763dab",
   "metadata": {},
   "source": [
    "#### c) dataframe treinamento com melhores métricas"
   ]
  },
  {
   "cell_type": "code",
   "execution_count": 37,
   "id": "b03ac357",
   "metadata": {},
   "outputs": [
    {
     "data": {
      "text/html": [
       "<div>\n",
       "<style scoped>\n",
       "    .dataframe tbody tr th:only-of-type {\n",
       "        vertical-align: middle;\n",
       "    }\n",
       "\n",
       "    .dataframe tbody tr th {\n",
       "        vertical-align: top;\n",
       "    }\n",
       "\n",
       "    .dataframe thead th {\n",
       "        text-align: right;\n",
       "    }\n",
       "</style>\n",
       "<table border=\"1\" class=\"dataframe\">\n",
       "  <thead>\n",
       "    <tr style=\"text-align: right;\">\n",
       "      <th></th>\n",
       "      <th>Random Forest Regressor</th>\n",
       "    </tr>\n",
       "  </thead>\n",
       "  <tbody>\n",
       "    <tr>\n",
       "      <th>r2_score</th>\n",
       "      <td>0.9016</td>\n",
       "    </tr>\n",
       "    <tr>\n",
       "      <th>mse</th>\n",
       "      <td>47.0224</td>\n",
       "    </tr>\n",
       "    <tr>\n",
       "      <th>rmse</th>\n",
       "      <td>6.8573</td>\n",
       "    </tr>\n",
       "    <tr>\n",
       "      <th>mae</th>\n",
       "      <td>4.8835</td>\n",
       "    </tr>\n",
       "    <tr>\n",
       "      <th>mape</th>\n",
       "      <td>2.6602</td>\n",
       "    </tr>\n",
       "  </tbody>\n",
       "</table>\n",
       "</div>"
      ],
      "text/plain": [
       "          Random Forest Regressor\n",
       "r2_score                   0.9016\n",
       "mse                       47.0224\n",
       "rmse                       6.8573\n",
       "mae                        4.8835\n",
       "mape                       2.6602"
      ]
     },
     "execution_count": 37,
     "metadata": {},
     "output_type": "execute_result"
    }
   ],
   "source": [
    "df_default_train = df_default_train.rename(columns ={\"max_depth = None ;n_estimators = 100\": \"Random Forest Regressor\"})\n",
    "df_default_train"
   ]
  },
  {
   "cell_type": "markdown",
   "id": "6427fe13",
   "metadata": {},
   "source": [
    "# 8. Salvar os objetos com as melhores metricas em um arquivo pickle"
   ]
  },
  {
   "cell_type": "markdown",
   "id": "c16964ee",
   "metadata": {},
   "source": [
    "### a) dataframe com métricas dos dados de treinamento"
   ]
  },
  {
   "cell_type": "code",
   "execution_count": 38,
   "id": "da984752",
   "metadata": {},
   "outputs": [],
   "source": [
    "with open('arquivo_rf_regressor_train.pkl', 'wb') as arquivo_rf_regressor_train:\n",
    "    pickle.dump(df_default_train,arquivo_rf_regressor_train)  "
   ]
  },
  {
   "cell_type": "code",
   "execution_count": 39,
   "id": "d8deb363",
   "metadata": {},
   "outputs": [],
   "source": [
    "arquivo_rf_regressor_train.close()"
   ]
  },
  {
   "cell_type": "markdown",
   "id": "74742f50",
   "metadata": {},
   "source": [
    "### b) dataframe com métricas dos dados de validação"
   ]
  },
  {
   "cell_type": "code",
   "execution_count": 40,
   "id": "29dcba1d",
   "metadata": {},
   "outputs": [],
   "source": [
    "with open('arquivo_rf_regressor_val.pkl', 'wb') as arquivo_rf_regressor_val:\n",
    "    pickle.dump(df_default_val,arquivo_rf_regressor_val) "
   ]
  },
  {
   "cell_type": "code",
   "execution_count": 41,
   "id": "dd39523a",
   "metadata": {},
   "outputs": [],
   "source": [
    "arquivo_rf_regressor_val.close()"
   ]
  },
  {
   "cell_type": "markdown",
   "id": "e1e0bae1",
   "metadata": {},
   "source": [
    "### c) dataframe com métricas dos dados de teste"
   ]
  },
  {
   "cell_type": "code",
   "execution_count": 42,
   "id": "12c4b5f8",
   "metadata": {},
   "outputs": [],
   "source": [
    "with open('arquivo_rf_regressor_teste.pkl', 'wb') as arquivo_rf_regressor_teste:\n",
    "    pickle.dump(df_metrics_test,arquivo_rf_regressor_teste) "
   ]
  },
  {
   "cell_type": "code",
   "execution_count": 43,
   "id": "5d0095b7",
   "metadata": {},
   "outputs": [],
   "source": [
    "arquivo_rf_regressor_teste.close()"
   ]
  },
  {
   "cell_type": "code",
   "execution_count": null,
   "id": "986ca41e",
   "metadata": {},
   "outputs": [],
   "source": []
  }
 ],
 "metadata": {
  "kernelspec": {
   "display_name": "Python 3 (ipykernel)",
   "language": "python",
   "name": "python3"
  },
  "language_info": {
   "codemirror_mode": {
    "name": "ipython",
    "version": 3
   },
   "file_extension": ".py",
   "mimetype": "text/x-python",
   "name": "python",
   "nbconvert_exporter": "python",
   "pygments_lexer": "ipython3",
   "version": "3.9.12"
  }
 },
 "nbformat": 4,
 "nbformat_minor": 5
}
