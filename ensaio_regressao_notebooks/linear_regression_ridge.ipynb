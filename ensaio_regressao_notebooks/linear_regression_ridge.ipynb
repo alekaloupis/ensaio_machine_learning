{
 "cells": [
  {
   "cell_type": "markdown",
   "id": "0b1e2b2c",
   "metadata": {},
   "source": [
    "# 1.Imports"
   ]
  },
  {
   "cell_type": "code",
   "execution_count": 1,
   "id": "908027d3",
   "metadata": {},
   "outputs": [],
   "source": [
    "import pandas as pd\n",
    "import numpy as np\n",
    "from sklearn import metrics as mt\n",
    "from sklearn import linear_model as lm\n",
    "import pickle"
   ]
  },
  {
   "cell_type": "markdown",
   "id": "3b9e0032",
   "metadata": {},
   "source": [
    "# 2. Funcao para carregar os datasets"
   ]
  },
  {
   "cell_type": "code",
   "execution_count": 2,
   "id": "2439086b",
   "metadata": {},
   "outputs": [],
   "source": [
    "def Load_Data_Set(df_x_train, df_y_train):\n",
    "    df1 = pd.read_csv(df_x_train)\n",
    "    df2 = pd.read_csv(df_y_train)\n",
    "    return df1, df2"
   ]
  },
  {
   "cell_type": "markdown",
   "id": "e52b38b4",
   "metadata": {},
   "source": [
    "# 3. Criando e concatenando os dataframes"
   ]
  },
  {
   "cell_type": "markdown",
   "id": "82baf600",
   "metadata": {},
   "source": [
    "### 3.1 Dataset de treinamento"
   ]
  },
  {
   "cell_type": "code",
   "execution_count": 3,
   "id": "ead2454b",
   "metadata": {},
   "outputs": [],
   "source": [
    "df_x_train = \"../2_ensaio_regressao/1_dados_treinamento/X_training.csv\""
   ]
  },
  {
   "cell_type": "code",
   "execution_count": 4,
   "id": "a2f7b5a5",
   "metadata": {},
   "outputs": [],
   "source": [
    "df_y_train = \"../2_ensaio_regressao/1_dados_treinamento/y_training.csv\""
   ]
  },
  {
   "cell_type": "code",
   "execution_count": 5,
   "id": "3335a12c",
   "metadata": {},
   "outputs": [],
   "source": [
    "df1_train, df2_train = Load_Data_Set(df_x_train, df_y_train)"
   ]
  },
  {
   "cell_type": "code",
   "execution_count": 6,
   "id": "2ef9e6f4",
   "metadata": {},
   "outputs": [],
   "source": [
    "df1_train['label'] = df2_train"
   ]
  },
  {
   "cell_type": "code",
   "execution_count": 7,
   "id": "455fa1de",
   "metadata": {},
   "outputs": [],
   "source": [
    "df_train = df1_train.copy()"
   ]
  },
  {
   "cell_type": "markdown",
   "id": "fce80044",
   "metadata": {},
   "source": [
    "### 3.2 Dataset de validacao"
   ]
  },
  {
   "cell_type": "code",
   "execution_count": 8,
   "id": "d48cf81c",
   "metadata": {},
   "outputs": [],
   "source": [
    "df_x_val = \"../2_ensaio_regressao/2_dados_validacao/X_validation.csv\""
   ]
  },
  {
   "cell_type": "code",
   "execution_count": 9,
   "id": "54803962",
   "metadata": {},
   "outputs": [],
   "source": [
    "df_y_val = \"../2_ensaio_regressao/2_dados_validacao/y_val.csv\""
   ]
  },
  {
   "cell_type": "code",
   "execution_count": 10,
   "id": "3793f8be",
   "metadata": {},
   "outputs": [],
   "source": [
    "df1_val, df2_val = Load_Data_Set(df_x_val, df_y_val)"
   ]
  },
  {
   "cell_type": "code",
   "execution_count": 11,
   "id": "a52fc4eb",
   "metadata": {},
   "outputs": [],
   "source": [
    "df1_val['label'] = df2_val"
   ]
  },
  {
   "cell_type": "code",
   "execution_count": 12,
   "id": "442eb498",
   "metadata": {},
   "outputs": [],
   "source": [
    "df_val = df1_val.copy()"
   ]
  },
  {
   "cell_type": "markdown",
   "id": "1b8f6d2e",
   "metadata": {},
   "source": [
    "### 3.3 Dataset de teste"
   ]
  },
  {
   "cell_type": "code",
   "execution_count": 13,
   "id": "d7a979a9",
   "metadata": {},
   "outputs": [],
   "source": [
    "df_x_test = \"../2_ensaio_regressao/3_dados_teste/X_test.csv\""
   ]
  },
  {
   "cell_type": "code",
   "execution_count": 14,
   "id": "399f3bdd",
   "metadata": {},
   "outputs": [],
   "source": [
    "df_y_test = \"../2_ensaio_regressao/3_dados_teste/y_test.csv\""
   ]
  },
  {
   "cell_type": "code",
   "execution_count": 15,
   "id": "e7832b1d",
   "metadata": {},
   "outputs": [],
   "source": [
    "df1_test, df2_test = Load_Data_Set(df_x_test, df_y_test)"
   ]
  },
  {
   "cell_type": "code",
   "execution_count": 16,
   "id": "778594d0",
   "metadata": {},
   "outputs": [],
   "source": [
    "df1_test['label'] = df2_test"
   ]
  },
  {
   "cell_type": "code",
   "execution_count": 17,
   "id": "5d11ee50",
   "metadata": {},
   "outputs": [],
   "source": [
    "df_test = df1_test.copy()"
   ]
  },
  {
   "cell_type": "markdown",
   "id": "858162e8",
   "metadata": {},
   "source": [
    "# 4. Funções para treinar o modelo e avaliar as métricas"
   ]
  },
  {
   "cell_type": "code",
   "execution_count": 18,
   "id": "ecec43c9",
   "metadata": {},
   "outputs": [],
   "source": [
    "#Criando uma função para Treinar o Modelo encima dos dados de treinamento\n",
    "\n",
    "#Fazer as previsoes encima dos proprios dados de treinamento\n",
    "\n",
    "#Entrada: dataframe de treinamento + parametros de ajuste do modelo, a saber alpha e max_iter\n",
    "\n",
    "#Saida: valores de y_train + valores de previsao feitos a partir dos dados de treinamento (y_pred_train) +\n",
    "# algoritmo ridge treinado\n",
    "\n",
    "def Model_Training(df_train, alpha, max_iter):\n",
    "    \n",
    "    features = ['song_duration_ms', 'acousticness', 'danceability', 'energy',\n",
    "       'instrumentalness', 'key', 'liveness', 'loudness', 'audio_mode',\n",
    "       'speechiness', 'tempo', 'time_signature', 'audio_valence']\n",
    "    \n",
    "    \n",
    "    label = ['label']\n",
    "    \n",
    "    #Preparação dos dados de treino\n",
    "    x_train = df_train.loc[:, features]\n",
    "\n",
    "    #Esse metodo ravel transforma os valores em um array\n",
    "    y_train = df_train.loc[:, label].values.ravel()      \n",
    "    \n",
    "    #Treinamento do algoritmo Lasso\n",
    "      \n",
    "    ridge = lm.Ridge(alpha = alpha, max_iter = max_iter)    \n",
    "  \n",
    "    ridge.fit(x_train, y_train)\n",
    "\n",
    "    #Fazendo previsoes emcima dos dados de treinamento\n",
    "    y_pred_train = ridge.predict(x_train)\n",
    "    \n",
    "    return y_train, y_pred_train, ridge\n",
    "   \n"
   ]
  },
  {
   "cell_type": "code",
   "execution_count": 19,
   "id": "d910e003",
   "metadata": {},
   "outputs": [],
   "source": [
    "def Previsoes_Dataframe_Test(df_test, ridge):\n",
    "    \n",
    "    #Entrada: dataset de teste +  algoritmo ridge treinado\n",
    "    \n",
    "    #Saida: os dados de y do proprio dataset de teste (y_test) e as previsoes feitas encima dos dados de teste (y_pred_test)\n",
    "    \n",
    "    features = ['song_duration_ms', 'acousticness', 'danceability', 'energy',\n",
    "       'instrumentalness', 'key', 'liveness', 'loudness', 'audio_mode',\n",
    "       'speechiness', 'tempo', 'time_signature', 'audio_valence']\n",
    "    \n",
    "    \n",
    "    label = ['label'] \n",
    "       \n",
    "    #Separando os dados\n",
    "    x_test = df_test.loc[:, features]\n",
    "\n",
    "    y_test = df_test.loc[:, label].values.ravel() \n",
    "    \n",
    "    #Fazendo previsões\n",
    "    y_pred_test = ridge.predict(x_test)\n",
    "    \n",
    "    return y_test, y_pred_test \n",
    "       "
   ]
  },
  {
   "cell_type": "code",
   "execution_count": 20,
   "id": "cabfb686",
   "metadata": {},
   "outputs": [],
   "source": [
    "def Previsoes_Dataframe_Val(df_val, ridge):\n",
    "    \n",
    "   #Entrada: dataset de validacao +  algoritmo ridge treinado\n",
    "    \n",
    "   #Saida: os dados de y do proprio dataset de validacao (y_val) e as previsoes feitas encima dos dados de validacao\n",
    "   #(y_pred_val)\n",
    "    \n",
    "\n",
    "    features = ['song_duration_ms', 'acousticness', 'danceability', 'energy',\n",
    "       'instrumentalness', 'key', 'liveness', 'loudness', 'audio_mode',\n",
    "       'speechiness', 'tempo', 'time_signature', 'audio_valence']\n",
    "    \n",
    "    \n",
    "    label = ['label'] \n",
    "    \n",
    "           \n",
    "    #Separando os dados\n",
    "    x_val = df_val.loc[:, features]\n",
    "\n",
    "    y_val = df_val.loc[:, label].values.ravel() \n",
    "    \n",
    "    #Fazendo previsões\n",
    "    y_pred_val = ridge.predict(x_val)\n",
    "    \n",
    "    return y_val, y_pred_val"
   ]
  },
  {
   "cell_type": "code",
   "execution_count": 21,
   "id": "ed848cde",
   "metadata": {},
   "outputs": [],
   "source": [
    "#Criando uma função para avaliar as metricas do modelo\n",
    "\n",
    "#Entrada: Os proprios valores da label do dataset que estamos averiguando as metricas,\n",
    "#as previsoes feitas a partir desses dados, os parametros que utilizamos no treinamento do modelo\n",
    "\n",
    "#Saida: Dataframe com as principais metricas do modelo\n",
    "\n",
    "def Model_Metrics(y, y_pred, alpha, max_iter):\n",
    "    \n",
    "    #R2_Score\n",
    "    r2_score = np.round(mt.r2_score(y , y_pred ),4)\n",
    "        \n",
    "    #Mean_Squared_Error (MSE)\n",
    "    mean_squared_error = np.round(mt.mean_squared_error(y, y_pred ),4)\n",
    "        \n",
    "    #Root Mean_Squared Error (RMSE)\n",
    "    rmse = np.round(np.sqrt(mean_squared_error),4)\n",
    "        \n",
    "    #Mean_Absolute_Error(MAE)\n",
    "    mean_absolute_error = np.round(mt.mean_absolute_error (y,y_pred),4)\n",
    "   \n",
    "    #Mean Absolute Percentage Error (MAPE)\n",
    "    mean_absolute_percentage_error = np.round(mt.mean_absolute_percentage_error (y,y_pred),4)\n",
    "    \n",
    "    #Criando um dataframe com as metricas\n",
    "        \n",
    "    parameters = 'alpha = ' + str(alpha) + ' ;max_iter = ' + str(max_iter) \n",
    "    \n",
    "    d = { parameters: [r2_score, mean_squared_error , rmse , mean_absolute_error ,mean_absolute_percentage_error]}  \n",
    "    \n",
    "    df_metrics =  pd.DataFrame(data = d, index = ['r2_score', 'mse', 'rmse', 'mae',\n",
    "                                                 'mape'])      \n",
    "    \n",
    "        \n",
    "    return df_metrics"
   ]
  },
  {
   "cell_type": "markdown",
   "id": "117bebda",
   "metadata": {},
   "source": [
    "# 5. Treinamento do modelo, validação e verificação de performance"
   ]
  },
  {
   "cell_type": "markdown",
   "id": "c8c629a2",
   "metadata": {},
   "source": [
    "### 5.1 Treinar o modelo com os valores de parametro default: alpha = 1, max_iter = None e verificação das métricas do modelo sobre os dados de treinamento"
   ]
  },
  {
   "cell_type": "code",
   "execution_count": 22,
   "id": "23f35aaf",
   "metadata": {},
   "outputs": [
    {
     "data": {
      "text/html": [
       "<div>\n",
       "<style scoped>\n",
       "    .dataframe tbody tr th:only-of-type {\n",
       "        vertical-align: middle;\n",
       "    }\n",
       "\n",
       "    .dataframe tbody tr th {\n",
       "        vertical-align: top;\n",
       "    }\n",
       "\n",
       "    .dataframe thead th {\n",
       "        text-align: right;\n",
       "    }\n",
       "</style>\n",
       "<table border=\"1\" class=\"dataframe\">\n",
       "  <thead>\n",
       "    <tr style=\"text-align: right;\">\n",
       "      <th></th>\n",
       "      <th>alpha = 1 ;max_iter = None</th>\n",
       "    </tr>\n",
       "  </thead>\n",
       "  <tbody>\n",
       "    <tr>\n",
       "      <th>r2_score</th>\n",
       "      <td>0.0461</td>\n",
       "    </tr>\n",
       "    <tr>\n",
       "      <th>mse</th>\n",
       "      <td>455.9964</td>\n",
       "    </tr>\n",
       "    <tr>\n",
       "      <th>rmse</th>\n",
       "      <td>21.3541</td>\n",
       "    </tr>\n",
       "    <tr>\n",
       "      <th>mae</th>\n",
       "      <td>16.9983</td>\n",
       "    </tr>\n",
       "    <tr>\n",
       "      <th>mape</th>\n",
       "      <td>8.6534</td>\n",
       "    </tr>\n",
       "  </tbody>\n",
       "</table>\n",
       "</div>"
      ],
      "text/plain": [
       "          alpha = 1 ;max_iter = None\n",
       "r2_score                      0.0461\n",
       "mse                         455.9964\n",
       "rmse                         21.3541\n",
       "mae                          16.9983\n",
       "mape                          8.6534"
      ]
     },
     "execution_count": 22,
     "metadata": {},
     "output_type": "execute_result"
    }
   ],
   "source": [
    "y_train, y_pred_train, ridge = Model_Training(df_train, 1, None)\n",
    "df_default_train = Model_Metrics(y_train, y_pred_train, 1, None)\n",
    "df_default_train"
   ]
  },
  {
   "cell_type": "markdown",
   "id": "841c5f9b",
   "metadata": {},
   "source": [
    "### 5.2 Testar o algoritmo com o parametro default  nos dados de validação e verificar sua performance"
   ]
  },
  {
   "cell_type": "code",
   "execution_count": 23,
   "id": "73846279",
   "metadata": {},
   "outputs": [
    {
     "data": {
      "text/html": [
       "<div>\n",
       "<style scoped>\n",
       "    .dataframe tbody tr th:only-of-type {\n",
       "        vertical-align: middle;\n",
       "    }\n",
       "\n",
       "    .dataframe tbody tr th {\n",
       "        vertical-align: top;\n",
       "    }\n",
       "\n",
       "    .dataframe thead th {\n",
       "        text-align: right;\n",
       "    }\n",
       "</style>\n",
       "<table border=\"1\" class=\"dataframe\">\n",
       "  <thead>\n",
       "    <tr style=\"text-align: right;\">\n",
       "      <th></th>\n",
       "      <th>alpha = 1 ;max_iter = None</th>\n",
       "    </tr>\n",
       "  </thead>\n",
       "  <tbody>\n",
       "    <tr>\n",
       "      <th>r2_score</th>\n",
       "      <td>0.0399</td>\n",
       "    </tr>\n",
       "    <tr>\n",
       "      <th>mse</th>\n",
       "      <td>458.4455</td>\n",
       "    </tr>\n",
       "    <tr>\n",
       "      <th>rmse</th>\n",
       "      <td>21.4113</td>\n",
       "    </tr>\n",
       "    <tr>\n",
       "      <th>mae</th>\n",
       "      <td>17.0395</td>\n",
       "    </tr>\n",
       "    <tr>\n",
       "      <th>mape</th>\n",
       "      <td>8.6824</td>\n",
       "    </tr>\n",
       "  </tbody>\n",
       "</table>\n",
       "</div>"
      ],
      "text/plain": [
       "          alpha = 1 ;max_iter = None\n",
       "r2_score                      0.0399\n",
       "mse                         458.4455\n",
       "rmse                         21.4113\n",
       "mae                          17.0395\n",
       "mape                          8.6824"
      ]
     },
     "execution_count": 23,
     "metadata": {},
     "output_type": "execute_result"
    }
   ],
   "source": [
    "y_val, y_pred_val = Previsoes_Dataframe_Val(df_val, ridge)\n",
    "df_default_val = Model_Metrics(y_val, y_pred_val, 1, None)\n",
    "df_default_val"
   ]
  },
  {
   "cell_type": "markdown",
   "id": "a103da2f",
   "metadata": {},
   "source": [
    "### 5.3 Treinar o modelo nos dados de treinamento alterando os parametros e testar a performance desse modelo sobre os dados de validação"
   ]
  },
  {
   "cell_type": "markdown",
   "id": "d7541dd0",
   "metadata": {},
   "source": [
    "### a) alpha = 5, max_iter = 1000"
   ]
  },
  {
   "cell_type": "code",
   "execution_count": 24,
   "id": "0aa05de3",
   "metadata": {},
   "outputs": [
    {
     "data": {
      "text/html": [
       "<div>\n",
       "<style scoped>\n",
       "    .dataframe tbody tr th:only-of-type {\n",
       "        vertical-align: middle;\n",
       "    }\n",
       "\n",
       "    .dataframe tbody tr th {\n",
       "        vertical-align: top;\n",
       "    }\n",
       "\n",
       "    .dataframe thead th {\n",
       "        text-align: right;\n",
       "    }\n",
       "</style>\n",
       "<table border=\"1\" class=\"dataframe\">\n",
       "  <thead>\n",
       "    <tr style=\"text-align: right;\">\n",
       "      <th></th>\n",
       "      <th>alpha = 5 ;max_iter = 1000</th>\n",
       "    </tr>\n",
       "  </thead>\n",
       "  <tbody>\n",
       "    <tr>\n",
       "      <th>r2_score</th>\n",
       "      <td>0.0399</td>\n",
       "    </tr>\n",
       "    <tr>\n",
       "      <th>mse</th>\n",
       "      <td>458.4415</td>\n",
       "    </tr>\n",
       "    <tr>\n",
       "      <th>rmse</th>\n",
       "      <td>21.4112</td>\n",
       "    </tr>\n",
       "    <tr>\n",
       "      <th>mae</th>\n",
       "      <td>17.0385</td>\n",
       "    </tr>\n",
       "    <tr>\n",
       "      <th>mape</th>\n",
       "      <td>8.6819</td>\n",
       "    </tr>\n",
       "  </tbody>\n",
       "</table>\n",
       "</div>"
      ],
      "text/plain": [
       "          alpha = 5 ;max_iter = 1000\n",
       "r2_score                      0.0399\n",
       "mse                         458.4415\n",
       "rmse                         21.4112\n",
       "mae                          17.0385\n",
       "mape                          8.6819"
      ]
     },
     "execution_count": 24,
     "metadata": {},
     "output_type": "execute_result"
    }
   ],
   "source": [
    "y_train, y_pred_train, ridge = Model_Training(df_train, 5, 1000)\n",
    "y_val, y_pred_val = Previsoes_Dataframe_Val(df_val,ridge) \n",
    "df_val1 = Model_Metrics(y_val, y_pred_val, 5,1000)\n",
    "df_val1"
   ]
  },
  {
   "cell_type": "markdown",
   "id": "ce5ea901",
   "metadata": {},
   "source": [
    "### b) alpha = 100, max_iter = 1000"
   ]
  },
  {
   "cell_type": "code",
   "execution_count": 25,
   "id": "0dc79c38",
   "metadata": {},
   "outputs": [
    {
     "data": {
      "text/html": [
       "<div>\n",
       "<style scoped>\n",
       "    .dataframe tbody tr th:only-of-type {\n",
       "        vertical-align: middle;\n",
       "    }\n",
       "\n",
       "    .dataframe tbody tr th {\n",
       "        vertical-align: top;\n",
       "    }\n",
       "\n",
       "    .dataframe thead th {\n",
       "        text-align: right;\n",
       "    }\n",
       "</style>\n",
       "<table border=\"1\" class=\"dataframe\">\n",
       "  <thead>\n",
       "    <tr style=\"text-align: right;\">\n",
       "      <th></th>\n",
       "      <th>alpha = 100 ;max_iter = 1000</th>\n",
       "    </tr>\n",
       "  </thead>\n",
       "  <tbody>\n",
       "    <tr>\n",
       "      <th>r2_score</th>\n",
       "      <td>0.0389</td>\n",
       "    </tr>\n",
       "    <tr>\n",
       "      <th>mse</th>\n",
       "      <td>458.9456</td>\n",
       "    </tr>\n",
       "    <tr>\n",
       "      <th>rmse</th>\n",
       "      <td>21.4230</td>\n",
       "    </tr>\n",
       "    <tr>\n",
       "      <th>mae</th>\n",
       "      <td>17.0346</td>\n",
       "    </tr>\n",
       "    <tr>\n",
       "      <th>mape</th>\n",
       "      <td>8.6749</td>\n",
       "    </tr>\n",
       "  </tbody>\n",
       "</table>\n",
       "</div>"
      ],
      "text/plain": [
       "          alpha = 100 ;max_iter = 1000\n",
       "r2_score                        0.0389\n",
       "mse                           458.9456\n",
       "rmse                           21.4230\n",
       "mae                            17.0346\n",
       "mape                            8.6749"
      ]
     },
     "execution_count": 25,
     "metadata": {},
     "output_type": "execute_result"
    }
   ],
   "source": [
    "y_train, y_pred_train, ridge = Model_Training(df_train, 100, 1000)\n",
    "y_val, y_pred_val = Previsoes_Dataframe_Val(df_val,ridge) \n",
    "df_val2 = Model_Metrics(y_val, y_pred_val, 100,1000)\n",
    "df_val2"
   ]
  },
  {
   "cell_type": "markdown",
   "id": "e478e543",
   "metadata": {},
   "source": [
    "### c) alpha = 100, max_iter = 2000"
   ]
  },
  {
   "cell_type": "code",
   "execution_count": 26,
   "id": "6f501014",
   "metadata": {},
   "outputs": [
    {
     "data": {
      "text/html": [
       "<div>\n",
       "<style scoped>\n",
       "    .dataframe tbody tr th:only-of-type {\n",
       "        vertical-align: middle;\n",
       "    }\n",
       "\n",
       "    .dataframe tbody tr th {\n",
       "        vertical-align: top;\n",
       "    }\n",
       "\n",
       "    .dataframe thead th {\n",
       "        text-align: right;\n",
       "    }\n",
       "</style>\n",
       "<table border=\"1\" class=\"dataframe\">\n",
       "  <thead>\n",
       "    <tr style=\"text-align: right;\">\n",
       "      <th></th>\n",
       "      <th>alpha = 100 ;max_iter = 2000</th>\n",
       "    </tr>\n",
       "  </thead>\n",
       "  <tbody>\n",
       "    <tr>\n",
       "      <th>r2_score</th>\n",
       "      <td>0.0389</td>\n",
       "    </tr>\n",
       "    <tr>\n",
       "      <th>mse</th>\n",
       "      <td>458.9456</td>\n",
       "    </tr>\n",
       "    <tr>\n",
       "      <th>rmse</th>\n",
       "      <td>21.4230</td>\n",
       "    </tr>\n",
       "    <tr>\n",
       "      <th>mae</th>\n",
       "      <td>17.0346</td>\n",
       "    </tr>\n",
       "    <tr>\n",
       "      <th>mape</th>\n",
       "      <td>8.6749</td>\n",
       "    </tr>\n",
       "  </tbody>\n",
       "</table>\n",
       "</div>"
      ],
      "text/plain": [
       "          alpha = 100 ;max_iter = 2000\n",
       "r2_score                        0.0389\n",
       "mse                           458.9456\n",
       "rmse                           21.4230\n",
       "mae                            17.0346\n",
       "mape                            8.6749"
      ]
     },
     "execution_count": 26,
     "metadata": {},
     "output_type": "execute_result"
    }
   ],
   "source": [
    "y_train, y_pred_train, ridge = Model_Training(df_train, 100, 2000)\n",
    "y_val, y_pred_val = Previsoes_Dataframe_Val(df_val,ridge) \n",
    "df_val3 = Model_Metrics(y_val, y_pred_val, 100,2000)\n",
    "df_val3"
   ]
  },
  {
   "cell_type": "markdown",
   "id": "63ce0ccf",
   "metadata": {},
   "source": [
    "### d) alpha = 500, max_iter = 100"
   ]
  },
  {
   "cell_type": "code",
   "execution_count": 27,
   "id": "a8ccd9c1",
   "metadata": {},
   "outputs": [
    {
     "data": {
      "text/html": [
       "<div>\n",
       "<style scoped>\n",
       "    .dataframe tbody tr th:only-of-type {\n",
       "        vertical-align: middle;\n",
       "    }\n",
       "\n",
       "    .dataframe tbody tr th {\n",
       "        vertical-align: top;\n",
       "    }\n",
       "\n",
       "    .dataframe thead th {\n",
       "        text-align: right;\n",
       "    }\n",
       "</style>\n",
       "<table border=\"1\" class=\"dataframe\">\n",
       "  <thead>\n",
       "    <tr style=\"text-align: right;\">\n",
       "      <th></th>\n",
       "      <th>alpha = 500 ;max_iter = 100</th>\n",
       "    </tr>\n",
       "  </thead>\n",
       "  <tbody>\n",
       "    <tr>\n",
       "      <th>r2_score</th>\n",
       "      <td>0.0312</td>\n",
       "    </tr>\n",
       "    <tr>\n",
       "      <th>mse</th>\n",
       "      <td>462.6200</td>\n",
       "    </tr>\n",
       "    <tr>\n",
       "      <th>rmse</th>\n",
       "      <td>21.5086</td>\n",
       "    </tr>\n",
       "    <tr>\n",
       "      <th>mae</th>\n",
       "      <td>17.0797</td>\n",
       "    </tr>\n",
       "    <tr>\n",
       "      <th>mape</th>\n",
       "      <td>8.6730</td>\n",
       "    </tr>\n",
       "  </tbody>\n",
       "</table>\n",
       "</div>"
      ],
      "text/plain": [
       "          alpha = 500 ;max_iter = 100\n",
       "r2_score                       0.0312\n",
       "mse                          462.6200\n",
       "rmse                          21.5086\n",
       "mae                           17.0797\n",
       "mape                           8.6730"
      ]
     },
     "execution_count": 27,
     "metadata": {},
     "output_type": "execute_result"
    }
   ],
   "source": [
    "y_train, y_pred_train, ridge = Model_Training(df_train, 500, 100)\n",
    "y_val, y_pred_val = Previsoes_Dataframe_Val(df_val,ridge) \n",
    "df_val4 = Model_Metrics(y_val, y_pred_val, 500,100)\n",
    "df_val4"
   ]
  },
  {
   "cell_type": "markdown",
   "id": "ea4f95e6",
   "metadata": {},
   "source": [
    "### e) alpha = 3, max_iter = 20"
   ]
  },
  {
   "cell_type": "code",
   "execution_count": 28,
   "id": "00e37273",
   "metadata": {},
   "outputs": [
    {
     "data": {
      "text/html": [
       "<div>\n",
       "<style scoped>\n",
       "    .dataframe tbody tr th:only-of-type {\n",
       "        vertical-align: middle;\n",
       "    }\n",
       "\n",
       "    .dataframe tbody tr th {\n",
       "        vertical-align: top;\n",
       "    }\n",
       "\n",
       "    .dataframe thead th {\n",
       "        text-align: right;\n",
       "    }\n",
       "</style>\n",
       "<table border=\"1\" class=\"dataframe\">\n",
       "  <thead>\n",
       "    <tr style=\"text-align: right;\">\n",
       "      <th></th>\n",
       "      <th>alpha = 3 ;max_iter = 20</th>\n",
       "    </tr>\n",
       "  </thead>\n",
       "  <tbody>\n",
       "    <tr>\n",
       "      <th>r2_score</th>\n",
       "      <td>0.0399</td>\n",
       "    </tr>\n",
       "    <tr>\n",
       "      <th>mse</th>\n",
       "      <td>458.4431</td>\n",
       "    </tr>\n",
       "    <tr>\n",
       "      <th>rmse</th>\n",
       "      <td>21.4113</td>\n",
       "    </tr>\n",
       "    <tr>\n",
       "      <th>mae</th>\n",
       "      <td>17.0390</td>\n",
       "    </tr>\n",
       "    <tr>\n",
       "      <th>mape</th>\n",
       "      <td>8.6822</td>\n",
       "    </tr>\n",
       "  </tbody>\n",
       "</table>\n",
       "</div>"
      ],
      "text/plain": [
       "          alpha = 3 ;max_iter = 20\n",
       "r2_score                    0.0399\n",
       "mse                       458.4431\n",
       "rmse                       21.4113\n",
       "mae                        17.0390\n",
       "mape                        8.6822"
      ]
     },
     "execution_count": 28,
     "metadata": {},
     "output_type": "execute_result"
    }
   ],
   "source": [
    "y_train, y_pred_train, ridge = Model_Training(df_train, 3, 20)\n",
    "y_val, y_pred_val = Previsoes_Dataframe_Val(df_val,ridge) \n",
    "df_val5 = Model_Metrics(y_val, y_pred_val, 3,20)\n",
    "df_val5"
   ]
  },
  {
   "cell_type": "markdown",
   "id": "6f9272ae",
   "metadata": {},
   "source": [
    "### f) alpha = 1, max_iter = 20"
   ]
  },
  {
   "cell_type": "code",
   "execution_count": 29,
   "id": "05827e6a",
   "metadata": {},
   "outputs": [
    {
     "data": {
      "text/html": [
       "<div>\n",
       "<style scoped>\n",
       "    .dataframe tbody tr th:only-of-type {\n",
       "        vertical-align: middle;\n",
       "    }\n",
       "\n",
       "    .dataframe tbody tr th {\n",
       "        vertical-align: top;\n",
       "    }\n",
       "\n",
       "    .dataframe thead th {\n",
       "        text-align: right;\n",
       "    }\n",
       "</style>\n",
       "<table border=\"1\" class=\"dataframe\">\n",
       "  <thead>\n",
       "    <tr style=\"text-align: right;\">\n",
       "      <th></th>\n",
       "      <th>alpha = 1 ;max_iter = 20</th>\n",
       "    </tr>\n",
       "  </thead>\n",
       "  <tbody>\n",
       "    <tr>\n",
       "      <th>r2_score</th>\n",
       "      <td>0.0399</td>\n",
       "    </tr>\n",
       "    <tr>\n",
       "      <th>mse</th>\n",
       "      <td>458.4455</td>\n",
       "    </tr>\n",
       "    <tr>\n",
       "      <th>rmse</th>\n",
       "      <td>21.4113</td>\n",
       "    </tr>\n",
       "    <tr>\n",
       "      <th>mae</th>\n",
       "      <td>17.0395</td>\n",
       "    </tr>\n",
       "    <tr>\n",
       "      <th>mape</th>\n",
       "      <td>8.6824</td>\n",
       "    </tr>\n",
       "  </tbody>\n",
       "</table>\n",
       "</div>"
      ],
      "text/plain": [
       "          alpha = 1 ;max_iter = 20\n",
       "r2_score                    0.0399\n",
       "mse                       458.4455\n",
       "rmse                       21.4113\n",
       "mae                        17.0395\n",
       "mape                        8.6824"
      ]
     },
     "execution_count": 29,
     "metadata": {},
     "output_type": "execute_result"
    }
   ],
   "source": [
    "y_train, y_pred_train, ridge = Model_Training(df_train, 1, 20)\n",
    "y_val, y_pred_val = Previsoes_Dataframe_Val(df_val,ridge) \n",
    "df_val6= Model_Metrics(y_val, y_pred_val, 1,20)\n",
    "df_val6"
   ]
  },
  {
   "cell_type": "markdown",
   "id": "0be014bf",
   "metadata": {},
   "source": [
    "### g) alpha = 0.4, max_iter = 20"
   ]
  },
  {
   "cell_type": "code",
   "execution_count": 30,
   "id": "d5563a1d",
   "metadata": {},
   "outputs": [
    {
     "data": {
      "text/html": [
       "<div>\n",
       "<style scoped>\n",
       "    .dataframe tbody tr th:only-of-type {\n",
       "        vertical-align: middle;\n",
       "    }\n",
       "\n",
       "    .dataframe tbody tr th {\n",
       "        vertical-align: top;\n",
       "    }\n",
       "\n",
       "    .dataframe thead th {\n",
       "        text-align: right;\n",
       "    }\n",
       "</style>\n",
       "<table border=\"1\" class=\"dataframe\">\n",
       "  <thead>\n",
       "    <tr style=\"text-align: right;\">\n",
       "      <th></th>\n",
       "      <th>alpha = 0.4 ;max_iter = 20</th>\n",
       "    </tr>\n",
       "  </thead>\n",
       "  <tbody>\n",
       "    <tr>\n",
       "      <th>r2_score</th>\n",
       "      <td>0.0399</td>\n",
       "    </tr>\n",
       "    <tr>\n",
       "      <th>mse</th>\n",
       "      <td>458.4464</td>\n",
       "    </tr>\n",
       "    <tr>\n",
       "      <th>rmse</th>\n",
       "      <td>21.4114</td>\n",
       "    </tr>\n",
       "    <tr>\n",
       "      <th>mae</th>\n",
       "      <td>17.0396</td>\n",
       "    </tr>\n",
       "    <tr>\n",
       "      <th>mape</th>\n",
       "      <td>8.6825</td>\n",
       "    </tr>\n",
       "  </tbody>\n",
       "</table>\n",
       "</div>"
      ],
      "text/plain": [
       "          alpha = 0.4 ;max_iter = 20\n",
       "r2_score                      0.0399\n",
       "mse                         458.4464\n",
       "rmse                         21.4114\n",
       "mae                          17.0396\n",
       "mape                          8.6825"
      ]
     },
     "execution_count": 30,
     "metadata": {},
     "output_type": "execute_result"
    }
   ],
   "source": [
    "y_train, y_pred_train, ridge = Model_Training(df_train, 0.4, 20)\n",
    "y_val, y_pred_val = Previsoes_Dataframe_Val(df_val,ridge) \n",
    "df_val7 = Model_Metrics(y_val, y_pred_val, 0.4,20)\n",
    "df_val7"
   ]
  },
  {
   "cell_type": "markdown",
   "id": "5012f98a",
   "metadata": {},
   "source": [
    "### h) alpha = 0.2, max_iter = 15"
   ]
  },
  {
   "cell_type": "code",
   "execution_count": 31,
   "id": "8c6e7ea8",
   "metadata": {},
   "outputs": [
    {
     "data": {
      "text/html": [
       "<div>\n",
       "<style scoped>\n",
       "    .dataframe tbody tr th:only-of-type {\n",
       "        vertical-align: middle;\n",
       "    }\n",
       "\n",
       "    .dataframe tbody tr th {\n",
       "        vertical-align: top;\n",
       "    }\n",
       "\n",
       "    .dataframe thead th {\n",
       "        text-align: right;\n",
       "    }\n",
       "</style>\n",
       "<table border=\"1\" class=\"dataframe\">\n",
       "  <thead>\n",
       "    <tr style=\"text-align: right;\">\n",
       "      <th></th>\n",
       "      <th>alpha = 0.2 ;max_iter = 15</th>\n",
       "    </tr>\n",
       "  </thead>\n",
       "  <tbody>\n",
       "    <tr>\n",
       "      <th>r2_score</th>\n",
       "      <td>0.0399</td>\n",
       "    </tr>\n",
       "    <tr>\n",
       "      <th>mse</th>\n",
       "      <td>458.4467</td>\n",
       "    </tr>\n",
       "    <tr>\n",
       "      <th>rmse</th>\n",
       "      <td>21.4114</td>\n",
       "    </tr>\n",
       "    <tr>\n",
       "      <th>mae</th>\n",
       "      <td>17.0397</td>\n",
       "    </tr>\n",
       "    <tr>\n",
       "      <th>mape</th>\n",
       "      <td>8.6825</td>\n",
       "    </tr>\n",
       "  </tbody>\n",
       "</table>\n",
       "</div>"
      ],
      "text/plain": [
       "          alpha = 0.2 ;max_iter = 15\n",
       "r2_score                      0.0399\n",
       "mse                         458.4467\n",
       "rmse                         21.4114\n",
       "mae                          17.0397\n",
       "mape                          8.6825"
      ]
     },
     "execution_count": 31,
     "metadata": {},
     "output_type": "execute_result"
    }
   ],
   "source": [
    "y_train, y_pred_train, ridge = Model_Training(df_train, 0.2, 15)\n",
    "y_val, y_pred_val = Previsoes_Dataframe_Val(df_val,ridge) \n",
    "df_val8 = Model_Metrics(y_val, y_pred_val, 0.2,15)\n",
    "df_val8"
   ]
  },
  {
   "cell_type": "markdown",
   "id": "36ee172e",
   "metadata": {},
   "source": [
    "### 5.4 Verificar o parametro que obteve os melhores resultados nos dados de validação"
   ]
  },
  {
   "cell_type": "code",
   "execution_count": 32,
   "id": "13b95cf8",
   "metadata": {},
   "outputs": [
    {
     "data": {
      "text/html": [
       "<div>\n",
       "<style scoped>\n",
       "    .dataframe tbody tr th:only-of-type {\n",
       "        vertical-align: middle;\n",
       "    }\n",
       "\n",
       "    .dataframe tbody tr th {\n",
       "        vertical-align: top;\n",
       "    }\n",
       "\n",
       "    .dataframe thead th {\n",
       "        text-align: right;\n",
       "    }\n",
       "</style>\n",
       "<table border=\"1\" class=\"dataframe\">\n",
       "  <thead>\n",
       "    <tr style=\"text-align: right;\">\n",
       "      <th></th>\n",
       "      <th>alpha = 1 ;max_iter = None</th>\n",
       "      <th>alpha = 5 ;max_iter = 1000</th>\n",
       "      <th>alpha = 100 ;max_iter = 1000</th>\n",
       "      <th>alpha = 100 ;max_iter = 2000</th>\n",
       "      <th>alpha = 500 ;max_iter = 100</th>\n",
       "      <th>alpha = 3 ;max_iter = 20</th>\n",
       "      <th>alpha = 1 ;max_iter = 20</th>\n",
       "      <th>alpha = 0.4 ;max_iter = 20</th>\n",
       "      <th>alpha = 0.2 ;max_iter = 15</th>\n",
       "    </tr>\n",
       "  </thead>\n",
       "  <tbody>\n",
       "    <tr>\n",
       "      <th>r2_score</th>\n",
       "      <td>0.0399</td>\n",
       "      <td>0.0399</td>\n",
       "      <td>0.0389</td>\n",
       "      <td>0.0389</td>\n",
       "      <td>0.0312</td>\n",
       "      <td>0.0399</td>\n",
       "      <td>0.0399</td>\n",
       "      <td>0.0399</td>\n",
       "      <td>0.0399</td>\n",
       "    </tr>\n",
       "    <tr>\n",
       "      <th>mse</th>\n",
       "      <td>458.4455</td>\n",
       "      <td>458.4415</td>\n",
       "      <td>458.9456</td>\n",
       "      <td>458.9456</td>\n",
       "      <td>462.6200</td>\n",
       "      <td>458.4431</td>\n",
       "      <td>458.4455</td>\n",
       "      <td>458.4464</td>\n",
       "      <td>458.4467</td>\n",
       "    </tr>\n",
       "    <tr>\n",
       "      <th>rmse</th>\n",
       "      <td>21.4113</td>\n",
       "      <td>21.4112</td>\n",
       "      <td>21.4230</td>\n",
       "      <td>21.4230</td>\n",
       "      <td>21.5086</td>\n",
       "      <td>21.4113</td>\n",
       "      <td>21.4113</td>\n",
       "      <td>21.4114</td>\n",
       "      <td>21.4114</td>\n",
       "    </tr>\n",
       "    <tr>\n",
       "      <th>mae</th>\n",
       "      <td>17.0395</td>\n",
       "      <td>17.0385</td>\n",
       "      <td>17.0346</td>\n",
       "      <td>17.0346</td>\n",
       "      <td>17.0797</td>\n",
       "      <td>17.0390</td>\n",
       "      <td>17.0395</td>\n",
       "      <td>17.0396</td>\n",
       "      <td>17.0397</td>\n",
       "    </tr>\n",
       "    <tr>\n",
       "      <th>mape</th>\n",
       "      <td>8.6824</td>\n",
       "      <td>8.6819</td>\n",
       "      <td>8.6749</td>\n",
       "      <td>8.6749</td>\n",
       "      <td>8.6730</td>\n",
       "      <td>8.6822</td>\n",
       "      <td>8.6824</td>\n",
       "      <td>8.6825</td>\n",
       "      <td>8.6825</td>\n",
       "    </tr>\n",
       "  </tbody>\n",
       "</table>\n",
       "</div>"
      ],
      "text/plain": [
       "          alpha = 1 ;max_iter = None  alpha = 5 ;max_iter = 1000  \\\n",
       "r2_score                      0.0399                      0.0399   \n",
       "mse                         458.4455                    458.4415   \n",
       "rmse                         21.4113                     21.4112   \n",
       "mae                          17.0395                     17.0385   \n",
       "mape                          8.6824                      8.6819   \n",
       "\n",
       "          alpha = 100 ;max_iter = 1000  alpha = 100 ;max_iter = 2000  \\\n",
       "r2_score                        0.0389                        0.0389   \n",
       "mse                           458.9456                      458.9456   \n",
       "rmse                           21.4230                       21.4230   \n",
       "mae                            17.0346                       17.0346   \n",
       "mape                            8.6749                        8.6749   \n",
       "\n",
       "          alpha = 500 ;max_iter = 100  alpha = 3 ;max_iter = 20  \\\n",
       "r2_score                       0.0312                    0.0399   \n",
       "mse                          462.6200                  458.4431   \n",
       "rmse                          21.5086                   21.4113   \n",
       "mae                           17.0797                   17.0390   \n",
       "mape                           8.6730                    8.6822   \n",
       "\n",
       "          alpha = 1 ;max_iter = 20  alpha = 0.4 ;max_iter = 20  \\\n",
       "r2_score                    0.0399                      0.0399   \n",
       "mse                       458.4455                    458.4464   \n",
       "rmse                       21.4113                     21.4114   \n",
       "mae                        17.0395                     17.0396   \n",
       "mape                        8.6824                      8.6825   \n",
       "\n",
       "          alpha = 0.2 ;max_iter = 15  \n",
       "r2_score                      0.0399  \n",
       "mse                         458.4467  \n",
       "rmse                         21.4114  \n",
       "mae                          17.0397  \n",
       "mape                          8.6825  "
      ]
     },
     "execution_count": 32,
     "metadata": {},
     "output_type": "execute_result"
    }
   ],
   "source": [
    "df_metrics_val = pd.concat([df_default_val, df_val1, df_val2, df_val3, df_val4, df_val5,\n",
    "                           df_val6, df_val7, df_val8], axis = 1)\n",
    "df_metrics_val"
   ]
  },
  {
   "cell_type": "markdown",
   "id": "aa9f0d35",
   "metadata": {},
   "source": [
    "# 6. Unificar os dados de treinamento e validação e retreinar o algoritmo, utilizando os melhores valores para os parâmetros"
   ]
  },
  {
   "cell_type": "markdown",
   "id": "ae21e00f",
   "metadata": {},
   "source": [
    "### 6.1 Dividir novamente os datasets de treinamento e validação"
   ]
  },
  {
   "cell_type": "code",
   "execution_count": 33,
   "id": "32199944",
   "metadata": {},
   "outputs": [],
   "source": [
    "features = ['song_duration_ms', 'acousticness', 'danceability', 'energy',\n",
    "       'instrumentalness', 'key', 'liveness', 'loudness', 'audio_mode',\n",
    "       'speechiness', 'tempo', 'time_signature', 'audio_valence']\n",
    "    \n",
    "    \n",
    "label = ['label'] \n",
    "\n",
    "#Separação dos dados de treino\n",
    "x_train = df_train.loc[:, features]\n",
    "\n",
    "#Esse metodo ravel transforma os valores em um array\n",
    "y_train = df_train.loc[:, label].values.ravel()      \n",
    "\n",
    "#Separação dos dados de validação\n",
    "x_val = df_val.loc[:, features]\n",
    "\n",
    "y_val = df_val.loc[:, label].values.ravel() "
   ]
  },
  {
   "cell_type": "markdown",
   "id": "b1faee3f",
   "metadata": {},
   "source": [
    "### 6.2 Treinar o modelo novamente com o melhor parametro obtido"
   ]
  },
  {
   "cell_type": "code",
   "execution_count": 34,
   "id": "aa708333",
   "metadata": {},
   "outputs": [
    {
     "data": {
      "text/plain": [
       "Ridge(alpha=1)"
      ]
     },
     "execution_count": 34,
     "metadata": {},
     "output_type": "execute_result"
    }
   ],
   "source": [
    "model_last = lm.Ridge(alpha = 1, max_iter = None)\n",
    "model_last.fit( np.concatenate( (x_train, x_val) ), np.concatenate((y_train, y_val)) )"
   ]
  },
  {
   "cell_type": "markdown",
   "id": "d43e08bc",
   "metadata": {},
   "source": [
    "### 6.3 Fazendo previsões nos dados de teste "
   ]
  },
  {
   "cell_type": "code",
   "execution_count": 35,
   "id": "87e08de7",
   "metadata": {},
   "outputs": [
    {
     "name": "stderr",
     "output_type": "stream",
     "text": [
      "C:\\Users\\Admin\\anaconda3\\lib\\site-packages\\sklearn\\base.py:443: UserWarning: X has feature names, but Ridge was fitted without feature names\n",
      "  warnings.warn(\n"
     ]
    }
   ],
   "source": [
    "y_test, y_pred_test = Previsoes_Dataframe_Test(df_test, model_last)"
   ]
  },
  {
   "cell_type": "markdown",
   "id": "edcd32a2",
   "metadata": {},
   "source": [
    "### 6.4 Verificando as métricas do modelo com os dados de teste"
   ]
  },
  {
   "cell_type": "code",
   "execution_count": 36,
   "id": "f17e98ec",
   "metadata": {},
   "outputs": [
    {
     "data": {
      "text/html": [
       "<div>\n",
       "<style scoped>\n",
       "    .dataframe tbody tr th:only-of-type {\n",
       "        vertical-align: middle;\n",
       "    }\n",
       "\n",
       "    .dataframe tbody tr th {\n",
       "        vertical-align: top;\n",
       "    }\n",
       "\n",
       "    .dataframe thead th {\n",
       "        text-align: right;\n",
       "    }\n",
       "</style>\n",
       "<table border=\"1\" class=\"dataframe\">\n",
       "  <thead>\n",
       "    <tr style=\"text-align: right;\">\n",
       "      <th></th>\n",
       "      <th>alpha = 1 ;max_iter = None</th>\n",
       "    </tr>\n",
       "  </thead>\n",
       "  <tbody>\n",
       "    <tr>\n",
       "      <th>r2_score</th>\n",
       "      <td>0.0512</td>\n",
       "    </tr>\n",
       "    <tr>\n",
       "      <th>mse</th>\n",
       "      <td>461.9878</td>\n",
       "    </tr>\n",
       "    <tr>\n",
       "      <th>rmse</th>\n",
       "      <td>21.4939</td>\n",
       "    </tr>\n",
       "    <tr>\n",
       "      <th>mae</th>\n",
       "      <td>17.1440</td>\n",
       "    </tr>\n",
       "    <tr>\n",
       "      <th>mape</th>\n",
       "      <td>8.5320</td>\n",
       "    </tr>\n",
       "  </tbody>\n",
       "</table>\n",
       "</div>"
      ],
      "text/plain": [
       "          alpha = 1 ;max_iter = None\n",
       "r2_score                      0.0512\n",
       "mse                         461.9878\n",
       "rmse                         21.4939\n",
       "mae                          17.1440\n",
       "mape                          8.5320"
      ]
     },
     "execution_count": 36,
     "metadata": {},
     "output_type": "execute_result"
    }
   ],
   "source": [
    "df_metrics_test = Model_Metrics(y_test, y_pred_test, 1, None)\n",
    "df_metrics_test"
   ]
  },
  {
   "cell_type": "markdown",
   "id": "f77b66f2",
   "metadata": {},
   "source": [
    "# 7. Resguardando os objetos com as métricas de maior performance"
   ]
  },
  {
   "cell_type": "markdown",
   "id": "ecbd98df",
   "metadata": {},
   "source": [
    "### 7.1 Alterando o nome das colunas dos dataframes"
   ]
  },
  {
   "cell_type": "markdown",
   "id": "3a3d6db0",
   "metadata": {},
   "source": [
    "#### a) dataframe teste com melhores métricas"
   ]
  },
  {
   "cell_type": "code",
   "execution_count": 37,
   "id": "ca4bb660",
   "metadata": {},
   "outputs": [
    {
     "data": {
      "text/html": [
       "<div>\n",
       "<style scoped>\n",
       "    .dataframe tbody tr th:only-of-type {\n",
       "        vertical-align: middle;\n",
       "    }\n",
       "\n",
       "    .dataframe tbody tr th {\n",
       "        vertical-align: top;\n",
       "    }\n",
       "\n",
       "    .dataframe thead th {\n",
       "        text-align: right;\n",
       "    }\n",
       "</style>\n",
       "<table border=\"1\" class=\"dataframe\">\n",
       "  <thead>\n",
       "    <tr style=\"text-align: right;\">\n",
       "      <th></th>\n",
       "      <th>Linear Regression Ridge</th>\n",
       "    </tr>\n",
       "  </thead>\n",
       "  <tbody>\n",
       "    <tr>\n",
       "      <th>r2_score</th>\n",
       "      <td>0.0512</td>\n",
       "    </tr>\n",
       "    <tr>\n",
       "      <th>mse</th>\n",
       "      <td>461.9878</td>\n",
       "    </tr>\n",
       "    <tr>\n",
       "      <th>rmse</th>\n",
       "      <td>21.4939</td>\n",
       "    </tr>\n",
       "    <tr>\n",
       "      <th>mae</th>\n",
       "      <td>17.1440</td>\n",
       "    </tr>\n",
       "    <tr>\n",
       "      <th>mape</th>\n",
       "      <td>8.5320</td>\n",
       "    </tr>\n",
       "  </tbody>\n",
       "</table>\n",
       "</div>"
      ],
      "text/plain": [
       "          Linear Regression Ridge\n",
       "r2_score                   0.0512\n",
       "mse                      461.9878\n",
       "rmse                      21.4939\n",
       "mae                       17.1440\n",
       "mape                       8.5320"
      ]
     },
     "execution_count": 37,
     "metadata": {},
     "output_type": "execute_result"
    }
   ],
   "source": [
    "df_metrics_test = df_metrics_test.rename(columns = {\"alpha = 1 ;max_iter = None\": \"Linear Regression Ridge\"})\n",
    "df_metrics_test"
   ]
  },
  {
   "cell_type": "markdown",
   "id": "04bb4ec3",
   "metadata": {},
   "source": [
    "#### b) dataframe validação com melhores métricas"
   ]
  },
  {
   "cell_type": "code",
   "execution_count": 38,
   "id": "b44d499a",
   "metadata": {},
   "outputs": [
    {
     "data": {
      "text/html": [
       "<div>\n",
       "<style scoped>\n",
       "    .dataframe tbody tr th:only-of-type {\n",
       "        vertical-align: middle;\n",
       "    }\n",
       "\n",
       "    .dataframe tbody tr th {\n",
       "        vertical-align: top;\n",
       "    }\n",
       "\n",
       "    .dataframe thead th {\n",
       "        text-align: right;\n",
       "    }\n",
       "</style>\n",
       "<table border=\"1\" class=\"dataframe\">\n",
       "  <thead>\n",
       "    <tr style=\"text-align: right;\">\n",
       "      <th></th>\n",
       "      <th>Linear Regression Ridge</th>\n",
       "    </tr>\n",
       "  </thead>\n",
       "  <tbody>\n",
       "    <tr>\n",
       "      <th>r2_score</th>\n",
       "      <td>0.0399</td>\n",
       "    </tr>\n",
       "    <tr>\n",
       "      <th>mse</th>\n",
       "      <td>458.4455</td>\n",
       "    </tr>\n",
       "    <tr>\n",
       "      <th>rmse</th>\n",
       "      <td>21.4113</td>\n",
       "    </tr>\n",
       "    <tr>\n",
       "      <th>mae</th>\n",
       "      <td>17.0395</td>\n",
       "    </tr>\n",
       "    <tr>\n",
       "      <th>mape</th>\n",
       "      <td>8.6824</td>\n",
       "    </tr>\n",
       "  </tbody>\n",
       "</table>\n",
       "</div>"
      ],
      "text/plain": [
       "          Linear Regression Ridge\n",
       "r2_score                   0.0399\n",
       "mse                      458.4455\n",
       "rmse                      21.4113\n",
       "mae                       17.0395\n",
       "mape                       8.6824"
      ]
     },
     "execution_count": 38,
     "metadata": {},
     "output_type": "execute_result"
    }
   ],
   "source": [
    "df_default_val = df_default_val.rename(columns = {\"alpha = 1 ;max_iter = None\": \"Linear Regression Ridge\"})\n",
    "df_default_val"
   ]
  },
  {
   "cell_type": "markdown",
   "id": "9d16a2a0",
   "metadata": {},
   "source": [
    "#### c) dataframe treinamento com melhores métricas"
   ]
  },
  {
   "cell_type": "code",
   "execution_count": 39,
   "id": "63c67915",
   "metadata": {},
   "outputs": [
    {
     "data": {
      "text/html": [
       "<div>\n",
       "<style scoped>\n",
       "    .dataframe tbody tr th:only-of-type {\n",
       "        vertical-align: middle;\n",
       "    }\n",
       "\n",
       "    .dataframe tbody tr th {\n",
       "        vertical-align: top;\n",
       "    }\n",
       "\n",
       "    .dataframe thead th {\n",
       "        text-align: right;\n",
       "    }\n",
       "</style>\n",
       "<table border=\"1\" class=\"dataframe\">\n",
       "  <thead>\n",
       "    <tr style=\"text-align: right;\">\n",
       "      <th></th>\n",
       "      <th>Linear Regression Ridge</th>\n",
       "    </tr>\n",
       "  </thead>\n",
       "  <tbody>\n",
       "    <tr>\n",
       "      <th>r2_score</th>\n",
       "      <td>0.0461</td>\n",
       "    </tr>\n",
       "    <tr>\n",
       "      <th>mse</th>\n",
       "      <td>455.9964</td>\n",
       "    </tr>\n",
       "    <tr>\n",
       "      <th>rmse</th>\n",
       "      <td>21.3541</td>\n",
       "    </tr>\n",
       "    <tr>\n",
       "      <th>mae</th>\n",
       "      <td>16.9983</td>\n",
       "    </tr>\n",
       "    <tr>\n",
       "      <th>mape</th>\n",
       "      <td>8.6534</td>\n",
       "    </tr>\n",
       "  </tbody>\n",
       "</table>\n",
       "</div>"
      ],
      "text/plain": [
       "          Linear Regression Ridge\n",
       "r2_score                   0.0461\n",
       "mse                      455.9964\n",
       "rmse                      21.3541\n",
       "mae                       16.9983\n",
       "mape                       8.6534"
      ]
     },
     "execution_count": 39,
     "metadata": {},
     "output_type": "execute_result"
    }
   ],
   "source": [
    "df_default_train = df_default_train.rename(columns={\"alpha = 1 ;max_iter = None\": \"Linear Regression Ridge\"})\n",
    "df_default_train"
   ]
  },
  {
   "cell_type": "markdown",
   "id": "029ded9a",
   "metadata": {},
   "source": [
    "# 8. Salvar os objetos com as melhores metricas em um arquivo pickle"
   ]
  },
  {
   "cell_type": "markdown",
   "id": "55ab9434",
   "metadata": {},
   "source": [
    "### a) dataframe com métricas dos dados de treinamento"
   ]
  },
  {
   "cell_type": "code",
   "execution_count": 40,
   "id": "f9efc268",
   "metadata": {},
   "outputs": [],
   "source": [
    "with open('arquivo_ridge_train.pkl', 'wb') as arquivo_ridge_train:\n",
    "    pickle.dump(df_default_train,arquivo_ridge_train)  "
   ]
  },
  {
   "cell_type": "code",
   "execution_count": 41,
   "id": "61a7757d",
   "metadata": {},
   "outputs": [],
   "source": [
    "arquivo_ridge_train.close()"
   ]
  },
  {
   "cell_type": "markdown",
   "id": "0ba929a6",
   "metadata": {},
   "source": [
    "### b) dataframe com métricas dos dados de validação"
   ]
  },
  {
   "cell_type": "code",
   "execution_count": 42,
   "id": "dd590b9b",
   "metadata": {},
   "outputs": [],
   "source": [
    "with open('arquivo_ridge_val.pkl', 'wb') as arquivo_ridge_val:\n",
    "    pickle.dump(df_default_val,arquivo_ridge_val)  "
   ]
  },
  {
   "cell_type": "code",
   "execution_count": 43,
   "id": "97f522fc",
   "metadata": {},
   "outputs": [],
   "source": [
    "arquivo_ridge_val.close()"
   ]
  },
  {
   "cell_type": "code",
   "execution_count": null,
   "id": "382e0341",
   "metadata": {},
   "outputs": [],
   "source": []
  },
  {
   "cell_type": "markdown",
   "id": "3ef0fa0c",
   "metadata": {},
   "source": [
    "### c) dataframe com métricas dos dados de teste"
   ]
  },
  {
   "cell_type": "code",
   "execution_count": 44,
   "id": "a1293820",
   "metadata": {},
   "outputs": [],
   "source": [
    "with open('arquivo_ridge_test.pkl', 'wb') as arquivo_ridge_test:\n",
    "    pickle.dump(df_metrics_test,arquivo_ridge_test)  "
   ]
  },
  {
   "cell_type": "code",
   "execution_count": 45,
   "id": "c1115cff",
   "metadata": {},
   "outputs": [],
   "source": [
    "arquivo_ridge_test.close()"
   ]
  },
  {
   "cell_type": "code",
   "execution_count": null,
   "id": "d864ad51",
   "metadata": {},
   "outputs": [],
   "source": []
  }
 ],
 "metadata": {
  "kernelspec": {
   "display_name": "Python 3 (ipykernel)",
   "language": "python",
   "name": "python3"
  },
  "language_info": {
   "codemirror_mode": {
    "name": "ipython",
    "version": 3
   },
   "file_extension": ".py",
   "mimetype": "text/x-python",
   "name": "python",
   "nbconvert_exporter": "python",
   "pygments_lexer": "ipython3",
   "version": "3.9.12"
  }
 },
 "nbformat": 4,
 "nbformat_minor": 5
}
