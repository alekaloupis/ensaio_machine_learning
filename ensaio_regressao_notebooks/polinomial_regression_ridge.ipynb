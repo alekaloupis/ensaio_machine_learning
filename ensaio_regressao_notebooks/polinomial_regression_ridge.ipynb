{
 "cells": [
  {
   "cell_type": "markdown",
   "id": "0b1e2b2c",
   "metadata": {},
   "source": [
    "# 1.Imports"
   ]
  },
  {
   "cell_type": "code",
   "execution_count": 1,
   "id": "908027d3",
   "metadata": {},
   "outputs": [],
   "source": [
    "import pandas as pd\n",
    "import numpy as np\n",
    "from sklearn import metrics as mt\n",
    "from sklearn.preprocessing import PolynomialFeatures\n",
    "from sklearn.linear_model import Ridge\n",
    "import pickle"
   ]
  },
  {
   "cell_type": "markdown",
   "id": "3b9e0032",
   "metadata": {},
   "source": [
    "# 2. Funcao para carregar os datasets"
   ]
  },
  {
   "cell_type": "code",
   "execution_count": 2,
   "id": "2439086b",
   "metadata": {},
   "outputs": [],
   "source": [
    "def Load_Data_Set(df_x_train, df_y_train):\n",
    "    df1 = pd.read_csv(df_x_train)\n",
    "    df2 = pd.read_csv(df_y_train)\n",
    "    return df1, df2"
   ]
  },
  {
   "cell_type": "markdown",
   "id": "e52b38b4",
   "metadata": {},
   "source": [
    "# 3. Criando e concatenando os dataframes"
   ]
  },
  {
   "cell_type": "markdown",
   "id": "82baf600",
   "metadata": {},
   "source": [
    "### 3.1 Dataset de treinamento"
   ]
  },
  {
   "cell_type": "code",
   "execution_count": 3,
   "id": "ead2454b",
   "metadata": {},
   "outputs": [],
   "source": [
    "df_x_train = \"../2_ensaio_regressao/1_dados_treinamento/X_training.csv\""
   ]
  },
  {
   "cell_type": "code",
   "execution_count": 4,
   "id": "a2f7b5a5",
   "metadata": {},
   "outputs": [],
   "source": [
    "df_y_train = \"../2_ensaio_regressao/1_dados_treinamento/y_training.csv\""
   ]
  },
  {
   "cell_type": "code",
   "execution_count": 5,
   "id": "3335a12c",
   "metadata": {},
   "outputs": [],
   "source": [
    "df1_train, df2_train = Load_Data_Set(df_x_train, df_y_train)"
   ]
  },
  {
   "cell_type": "code",
   "execution_count": 6,
   "id": "2ef9e6f4",
   "metadata": {},
   "outputs": [],
   "source": [
    "df1_train['label'] = df2_train"
   ]
  },
  {
   "cell_type": "code",
   "execution_count": 7,
   "id": "455fa1de",
   "metadata": {},
   "outputs": [],
   "source": [
    "df_train = df1_train.copy()"
   ]
  },
  {
   "cell_type": "markdown",
   "id": "fce80044",
   "metadata": {},
   "source": [
    "### 3.2 Dataset de validacao"
   ]
  },
  {
   "cell_type": "code",
   "execution_count": 8,
   "id": "d48cf81c",
   "metadata": {},
   "outputs": [],
   "source": [
    "df_x_val = \"../2_ensaio_regressao/2_dados_validacao/X_validation.csv\""
   ]
  },
  {
   "cell_type": "code",
   "execution_count": 9,
   "id": "54803962",
   "metadata": {},
   "outputs": [],
   "source": [
    "df_y_val = \"../2_ensaio_regressao/2_dados_validacao/y_val.csv\""
   ]
  },
  {
   "cell_type": "code",
   "execution_count": 10,
   "id": "3793f8be",
   "metadata": {},
   "outputs": [],
   "source": [
    "df1_val, df2_val = Load_Data_Set(df_x_val, df_y_val)"
   ]
  },
  {
   "cell_type": "code",
   "execution_count": 11,
   "id": "a52fc4eb",
   "metadata": {},
   "outputs": [],
   "source": [
    "df1_val['label'] = df2_val"
   ]
  },
  {
   "cell_type": "code",
   "execution_count": 12,
   "id": "442eb498",
   "metadata": {},
   "outputs": [],
   "source": [
    "df_val = df1_val.copy()"
   ]
  },
  {
   "cell_type": "markdown",
   "id": "1b8f6d2e",
   "metadata": {},
   "source": [
    "### 3.3 Dataset de teste"
   ]
  },
  {
   "cell_type": "code",
   "execution_count": 13,
   "id": "d7a979a9",
   "metadata": {},
   "outputs": [],
   "source": [
    "df_x_test = \"../2_ensaio_regressao/3_dados_teste/X_test.csv\""
   ]
  },
  {
   "cell_type": "code",
   "execution_count": 14,
   "id": "399f3bdd",
   "metadata": {},
   "outputs": [],
   "source": [
    "df_y_test = \"../2_ensaio_regressao/3_dados_teste/y_test.csv\""
   ]
  },
  {
   "cell_type": "code",
   "execution_count": 15,
   "id": "e7832b1d",
   "metadata": {},
   "outputs": [],
   "source": [
    "df1_test, df2_test = Load_Data_Set(df_x_test, df_y_test)"
   ]
  },
  {
   "cell_type": "code",
   "execution_count": 16,
   "id": "778594d0",
   "metadata": {},
   "outputs": [],
   "source": [
    "df1_test['label'] = df2_test"
   ]
  },
  {
   "cell_type": "code",
   "execution_count": 17,
   "id": "5d11ee50",
   "metadata": {},
   "outputs": [],
   "source": [
    "df_test = df1_test.copy()"
   ]
  },
  {
   "cell_type": "markdown",
   "id": "858162e8",
   "metadata": {},
   "source": [
    "# 4. Funções para treinar o modelo e avaliar as métricas"
   ]
  },
  {
   "cell_type": "code",
   "execution_count": 18,
   "id": "ecec43c9",
   "metadata": {},
   "outputs": [],
   "source": [
    "#Criando uma função para Treinar o Modelo encima dos dados de treinamento\n",
    "\n",
    "#Fazer as previsoes encima dos proprios dados de treinamento\n",
    "\n",
    "#Em seguida, fazer previsoes encima dos dados de teste e validacao\n",
    "\n",
    "#Entrada: dataframes de treinamento e validação + grau do polinomio + alpha (parametro da Regressao Ridge) + \n",
    "#max_iter (parametro da Regressao Ridge) \n",
    "\n",
    "#Saida: valores de y_train + valores de previsao feitos a partir dos dados de treinamento (y_pred_train) +\n",
    "# valores de y_val + valor de previsao de y_val\n",
    "\n",
    "\n",
    "def Model_Training(df_train, df_val, degree, alpha, max_iter):\n",
    "    \n",
    "    features = ['song_duration_ms', 'acousticness', 'danceability', 'energy',\n",
    "       'instrumentalness', 'key', 'liveness', 'loudness', 'audio_mode',\n",
    "       'speechiness', 'tempo', 'time_signature', 'audio_valence']\n",
    "        \n",
    "    label = ['label']\n",
    "    \n",
    "    #Preparação dos dados de treino\n",
    "    x_train = df_train.loc[:, features]\n",
    "\n",
    "    #Esse metodo ravel transforma os valores em um array\n",
    "    y_train = df_train.loc[:, label].values.ravel()    \n",
    "    \n",
    "    #Preparação dos dados de teste\n",
    "    \n",
    "    x_test = df_test.loc[:, features]\n",
    "\n",
    "    y_test = df_test.loc[:, label].values.ravel()  \n",
    "        \n",
    "    #Preparação dos dados de validação\n",
    "    x_val = df_val.loc[:, features]\n",
    "\n",
    "    y_val = df_val.loc[:, label].values.ravel()\n",
    "    \n",
    "    #Treinamento do algoritmo de Regressao polinomial     \n",
    "        \n",
    "    # Criando a matriz de features polinomiais\n",
    "    poly = PolynomialFeatures(degree=degree)\n",
    "    \n",
    "    X_poly_train = poly.fit_transform(x_train)\n",
    "    # Treinando o modelo de regressão polinomial\n",
    "    model = Ridge(alpha = alpha, max_iter = max_iter)\n",
    "    \n",
    "    model = model.fit(X_poly_train, y_train)\n",
    "  \n",
    "    #Fazendo previsoes emcima dos dados de treinamento\n",
    "    y_pred_train = model.predict(X_poly_train)\n",
    "    \n",
    "    #Fazendo previsoes encima dos dados de validacao\n",
    "    X_poly_val = poly.fit_transform(x_val)\n",
    "    y_pred_val = model.predict(X_poly_val)\n",
    "    \n",
    "    return y_train, y_pred_train, y_val, y_pred_val  \n"
   ]
  },
  {
   "cell_type": "code",
   "execution_count": 19,
   "id": "ed848cde",
   "metadata": {},
   "outputs": [],
   "source": [
    "#Criando uma função para avaliar as metricas do modelo\n",
    "\n",
    "#Entrada: Os proprios valores da label daquele dataset, as previsoes feitas a partir desses dados\n",
    "# os valores de parametro: degree (grau do polinomio) + alpha (Ridge) + max_iter (Ridge)\n",
    "\n",
    "#Saida: Dataframe com as principais metricas do modelo\n",
    "\n",
    "def Model_Metrics(y, y_pred, degree, alpha, max_iter):\n",
    "    \n",
    "    #R2_Score\n",
    "    r2_score = np.round(mt.r2_score(y , y_pred ),4)\n",
    "        \n",
    "    #Mean_Squared_Error (MSE)\n",
    "    mean_squared_error = np.round(mt.mean_squared_error(y, y_pred ),4)\n",
    "        \n",
    "    #Root Mean_Squared Error (RMSE)\n",
    "    rmse = np.round(np.sqrt(mean_squared_error),4)\n",
    "        \n",
    "    #Mean_Absolute_Error(MAE)\n",
    "    mean_absolute_error = np.round(mt.mean_absolute_error (y,y_pred),4)\n",
    "   \n",
    "    #Mean Absolute Percentage Error (MAPE)\n",
    "    mean_absolute_percentage_error = np.round(mt.mean_absolute_percentage_error (y,y_pred),4)\n",
    "    \n",
    "    #Criando um dataframe com as metricas\n",
    "    \n",
    "    parameters = 'degree = ' + str(degree) + ' ;alpha = ' + str(alpha) + ' ;max_iter = ' + str(max_iter)\n",
    "    \n",
    "    d = { parameters: [r2_score, mean_squared_error , rmse , mean_absolute_error ,mean_absolute_percentage_error]}  \n",
    "    \n",
    "    df_metrics =  pd.DataFrame(data = d, index = ['r2_score', 'mse', 'rmse', 'mae',\n",
    "                                                 'mape'])  \n",
    "    \n",
    "        \n",
    "    return df_metrics"
   ]
  },
  {
   "cell_type": "markdown",
   "id": "117bebda",
   "metadata": {},
   "source": [
    "# 5. Treinamento do modelo, validação e verificação de performance"
   ]
  },
  {
   "cell_type": "markdown",
   "id": "c8c629a2",
   "metadata": {},
   "source": [
    "### 5.1 Treinar o modelo com os valores de parametro default - degree = 2, alpha = 1, max-iter = None e verificação das métricas do modelo sobre os dados de treinamento"
   ]
  },
  {
   "cell_type": "code",
   "execution_count": 20,
   "id": "23f35aaf",
   "metadata": {},
   "outputs": [
    {
     "data": {
      "text/html": [
       "<div>\n",
       "<style scoped>\n",
       "    .dataframe tbody tr th:only-of-type {\n",
       "        vertical-align: middle;\n",
       "    }\n",
       "\n",
       "    .dataframe tbody tr th {\n",
       "        vertical-align: top;\n",
       "    }\n",
       "\n",
       "    .dataframe thead th {\n",
       "        text-align: right;\n",
       "    }\n",
       "</style>\n",
       "<table border=\"1\" class=\"dataframe\">\n",
       "  <thead>\n",
       "    <tr style=\"text-align: right;\">\n",
       "      <th></th>\n",
       "      <th>degree = 2 ;alpha = 1 ;max_iter = None</th>\n",
       "    </tr>\n",
       "  </thead>\n",
       "  <tbody>\n",
       "    <tr>\n",
       "      <th>r2_score</th>\n",
       "      <td>0.0932</td>\n",
       "    </tr>\n",
       "    <tr>\n",
       "      <th>mse</th>\n",
       "      <td>433.4755</td>\n",
       "    </tr>\n",
       "    <tr>\n",
       "      <th>rmse</th>\n",
       "      <td>20.8201</td>\n",
       "    </tr>\n",
       "    <tr>\n",
       "      <th>mae</th>\n",
       "      <td>16.4720</td>\n",
       "    </tr>\n",
       "    <tr>\n",
       "      <th>mape</th>\n",
       "      <td>8.3727</td>\n",
       "    </tr>\n",
       "  </tbody>\n",
       "</table>\n",
       "</div>"
      ],
      "text/plain": [
       "          degree = 2 ;alpha = 1 ;max_iter = None\n",
       "r2_score                                  0.0932\n",
       "mse                                     433.4755\n",
       "rmse                                     20.8201\n",
       "mae                                      16.4720\n",
       "mape                                      8.3727"
      ]
     },
     "execution_count": 20,
     "metadata": {},
     "output_type": "execute_result"
    }
   ],
   "source": [
    "y_train, y_pred_train, y_val, y_pred_val = Model_Training(df_train, df_val, 2, 1, None)\n",
    "df_default_train = Model_Metrics(y_train, y_pred_train, 2,1,None)\n",
    "df_default_train"
   ]
  },
  {
   "cell_type": "markdown",
   "id": "841c5f9b",
   "metadata": {},
   "source": [
    "### 5.2 Testar o algoritmo com o parametro default  nos dados de validação e verificar sua performance"
   ]
  },
  {
   "cell_type": "code",
   "execution_count": 21,
   "id": "73846279",
   "metadata": {},
   "outputs": [
    {
     "data": {
      "text/html": [
       "<div>\n",
       "<style scoped>\n",
       "    .dataframe tbody tr th:only-of-type {\n",
       "        vertical-align: middle;\n",
       "    }\n",
       "\n",
       "    .dataframe tbody tr th {\n",
       "        vertical-align: top;\n",
       "    }\n",
       "\n",
       "    .dataframe thead th {\n",
       "        text-align: right;\n",
       "    }\n",
       "</style>\n",
       "<table border=\"1\" class=\"dataframe\">\n",
       "  <thead>\n",
       "    <tr style=\"text-align: right;\">\n",
       "      <th></th>\n",
       "      <th>degree = 2 ;alpha = 1 ;max_iter = None</th>\n",
       "    </tr>\n",
       "  </thead>\n",
       "  <tbody>\n",
       "    <tr>\n",
       "      <th>r2_score</th>\n",
       "      <td>0.0677</td>\n",
       "    </tr>\n",
       "    <tr>\n",
       "      <th>mse</th>\n",
       "      <td>445.1844</td>\n",
       "    </tr>\n",
       "    <tr>\n",
       "      <th>rmse</th>\n",
       "      <td>21.0994</td>\n",
       "    </tr>\n",
       "    <tr>\n",
       "      <th>mae</th>\n",
       "      <td>16.7387</td>\n",
       "    </tr>\n",
       "    <tr>\n",
       "      <th>mape</th>\n",
       "      <td>8.5690</td>\n",
       "    </tr>\n",
       "  </tbody>\n",
       "</table>\n",
       "</div>"
      ],
      "text/plain": [
       "          degree = 2 ;alpha = 1 ;max_iter = None\n",
       "r2_score                                  0.0677\n",
       "mse                                     445.1844\n",
       "rmse                                     21.0994\n",
       "mae                                      16.7387\n",
       "mape                                      8.5690"
      ]
     },
     "execution_count": 21,
     "metadata": {},
     "output_type": "execute_result"
    }
   ],
   "source": [
    "df_default_val = Model_Metrics(y_val, y_pred_val,2,1,None)\n",
    "df_default_val"
   ]
  },
  {
   "cell_type": "markdown",
   "id": "a103da2f",
   "metadata": {},
   "source": [
    "### 5.3 Treinar o modelo nos dados de treinamento alterando os parametros e testar a performance desse modelo sobre os dados de validação"
   ]
  },
  {
   "cell_type": "markdown",
   "id": "d7541dd0",
   "metadata": {},
   "source": [
    "### a) Degree = 4, alpha = 1, max_iter = None"
   ]
  },
  {
   "cell_type": "code",
   "execution_count": 22,
   "id": "0aa05de3",
   "metadata": {},
   "outputs": [
    {
     "data": {
      "text/html": [
       "<div>\n",
       "<style scoped>\n",
       "    .dataframe tbody tr th:only-of-type {\n",
       "        vertical-align: middle;\n",
       "    }\n",
       "\n",
       "    .dataframe tbody tr th {\n",
       "        vertical-align: top;\n",
       "    }\n",
       "\n",
       "    .dataframe thead th {\n",
       "        text-align: right;\n",
       "    }\n",
       "</style>\n",
       "<table border=\"1\" class=\"dataframe\">\n",
       "  <thead>\n",
       "    <tr style=\"text-align: right;\">\n",
       "      <th></th>\n",
       "      <th>degree = 4 ;alpha = 1 ;max_iter = None</th>\n",
       "    </tr>\n",
       "  </thead>\n",
       "  <tbody>\n",
       "    <tr>\n",
       "      <th>r2_score</th>\n",
       "      <td>-28.4379</td>\n",
       "    </tr>\n",
       "    <tr>\n",
       "      <th>mse</th>\n",
       "      <td>14056.9522</td>\n",
       "    </tr>\n",
       "    <tr>\n",
       "      <th>rmse</th>\n",
       "      <td>118.5620</td>\n",
       "    </tr>\n",
       "    <tr>\n",
       "      <th>mae</th>\n",
       "      <td>18.9702</td>\n",
       "    </tr>\n",
       "    <tr>\n",
       "      <th>mape</th>\n",
       "      <td>8.4648</td>\n",
       "    </tr>\n",
       "  </tbody>\n",
       "</table>\n",
       "</div>"
      ],
      "text/plain": [
       "          degree = 4 ;alpha = 1 ;max_iter = None\n",
       "r2_score                                -28.4379\n",
       "mse                                   14056.9522\n",
       "rmse                                    118.5620\n",
       "mae                                      18.9702\n",
       "mape                                      8.4648"
      ]
     },
     "execution_count": 22,
     "metadata": {},
     "output_type": "execute_result"
    }
   ],
   "source": [
    "y_train, y_pred_train, y_val, y_pred_val = Model_Training(df_train, df_val, 4,1, None)\n",
    "df_val1 = Model_Metrics(y_val, y_pred_val, 4,1, None)\n",
    "df_val1"
   ]
  },
  {
   "cell_type": "markdown",
   "id": "ce5ea901",
   "metadata": {},
   "source": [
    "### b) Degree = 6 ; alpha = 1, max_iter = None"
   ]
  },
  {
   "cell_type": "code",
   "execution_count": 23,
   "id": "0dc79c38",
   "metadata": {},
   "outputs": [
    {
     "name": "stderr",
     "output_type": "stream",
     "text": [
      "C:\\Users\\Admin\\anaconda3\\lib\\site-packages\\sklearn\\linear_model\\_ridge.py:194: LinAlgWarning: Ill-conditioned matrix (rcond=8.32883e-18): result may not be accurate.\n",
      "  dual_coef = linalg.solve(K, y, sym_pos=True, overwrite_a=False)\n"
     ]
    },
    {
     "data": {
      "text/html": [
       "<div>\n",
       "<style scoped>\n",
       "    .dataframe tbody tr th:only-of-type {\n",
       "        vertical-align: middle;\n",
       "    }\n",
       "\n",
       "    .dataframe tbody tr th {\n",
       "        vertical-align: top;\n",
       "    }\n",
       "\n",
       "    .dataframe thead th {\n",
       "        text-align: right;\n",
       "    }\n",
       "</style>\n",
       "<table border=\"1\" class=\"dataframe\">\n",
       "  <thead>\n",
       "    <tr style=\"text-align: right;\">\n",
       "      <th></th>\n",
       "      <th>degree = 6 ;alpha = 1 ;max_iter = None</th>\n",
       "    </tr>\n",
       "  </thead>\n",
       "  <tbody>\n",
       "    <tr>\n",
       "      <th>r2_score</th>\n",
       "      <td>-4.545593e+05</td>\n",
       "    </tr>\n",
       "    <tr>\n",
       "      <th>mse</th>\n",
       "      <td>2.170578e+08</td>\n",
       "    </tr>\n",
       "    <tr>\n",
       "      <th>rmse</th>\n",
       "      <td>1.473288e+04</td>\n",
       "    </tr>\n",
       "    <tr>\n",
       "      <th>mae</th>\n",
       "      <td>3.270700e+02</td>\n",
       "    </tr>\n",
       "    <tr>\n",
       "      <th>mape</th>\n",
       "      <td>1.855360e+01</td>\n",
       "    </tr>\n",
       "  </tbody>\n",
       "</table>\n",
       "</div>"
      ],
      "text/plain": [
       "          degree = 6 ;alpha = 1 ;max_iter = None\n",
       "r2_score                           -4.545593e+05\n",
       "mse                                 2.170578e+08\n",
       "rmse                                1.473288e+04\n",
       "mae                                 3.270700e+02\n",
       "mape                                1.855360e+01"
      ]
     },
     "execution_count": 23,
     "metadata": {},
     "output_type": "execute_result"
    }
   ],
   "source": [
    "y_train, y_pred_train, y_val, y_pred_val = Model_Training(df_train, df_val, 6,1,None)\n",
    "df_val2 = Model_Metrics(y_val, y_pred_val, 6,1,None)\n",
    "df_val2"
   ]
  },
  {
   "cell_type": "markdown",
   "id": "e478e543",
   "metadata": {},
   "source": [
    "### c) Degree = 2 , alpha = 1, max_iter = 500"
   ]
  },
  {
   "cell_type": "code",
   "execution_count": 24,
   "id": "6f501014",
   "metadata": {},
   "outputs": [
    {
     "data": {
      "text/html": [
       "<div>\n",
       "<style scoped>\n",
       "    .dataframe tbody tr th:only-of-type {\n",
       "        vertical-align: middle;\n",
       "    }\n",
       "\n",
       "    .dataframe tbody tr th {\n",
       "        vertical-align: top;\n",
       "    }\n",
       "\n",
       "    .dataframe thead th {\n",
       "        text-align: right;\n",
       "    }\n",
       "</style>\n",
       "<table border=\"1\" class=\"dataframe\">\n",
       "  <thead>\n",
       "    <tr style=\"text-align: right;\">\n",
       "      <th></th>\n",
       "      <th>degree = 2 ;alpha = 1 ;max_iter = 500</th>\n",
       "    </tr>\n",
       "  </thead>\n",
       "  <tbody>\n",
       "    <tr>\n",
       "      <th>r2_score</th>\n",
       "      <td>0.0677</td>\n",
       "    </tr>\n",
       "    <tr>\n",
       "      <th>mse</th>\n",
       "      <td>445.1844</td>\n",
       "    </tr>\n",
       "    <tr>\n",
       "      <th>rmse</th>\n",
       "      <td>21.0994</td>\n",
       "    </tr>\n",
       "    <tr>\n",
       "      <th>mae</th>\n",
       "      <td>16.7387</td>\n",
       "    </tr>\n",
       "    <tr>\n",
       "      <th>mape</th>\n",
       "      <td>8.5690</td>\n",
       "    </tr>\n",
       "  </tbody>\n",
       "</table>\n",
       "</div>"
      ],
      "text/plain": [
       "          degree = 2 ;alpha = 1 ;max_iter = 500\n",
       "r2_score                                 0.0677\n",
       "mse                                    445.1844\n",
       "rmse                                    21.0994\n",
       "mae                                     16.7387\n",
       "mape                                     8.5690"
      ]
     },
     "execution_count": 24,
     "metadata": {},
     "output_type": "execute_result"
    }
   ],
   "source": [
    "y_train, y_pred_train, y_val, y_pred_val = Model_Training(df_train,df_val, 2,1,500)\n",
    "df_val3 = Model_Metrics(y_val, y_pred_val, 2,1,500)\n",
    "df_val3"
   ]
  },
  {
   "cell_type": "markdown",
   "id": "63ce0ccf",
   "metadata": {},
   "source": [
    "### d) Degree = 2, alpha = 10, max_iter = 500"
   ]
  },
  {
   "cell_type": "code",
   "execution_count": 25,
   "id": "a8ccd9c1",
   "metadata": {},
   "outputs": [
    {
     "data": {
      "text/html": [
       "<div>\n",
       "<style scoped>\n",
       "    .dataframe tbody tr th:only-of-type {\n",
       "        vertical-align: middle;\n",
       "    }\n",
       "\n",
       "    .dataframe tbody tr th {\n",
       "        vertical-align: top;\n",
       "    }\n",
       "\n",
       "    .dataframe thead th {\n",
       "        text-align: right;\n",
       "    }\n",
       "</style>\n",
       "<table border=\"1\" class=\"dataframe\">\n",
       "  <thead>\n",
       "    <tr style=\"text-align: right;\">\n",
       "      <th></th>\n",
       "      <th>degree = 2 ;alpha = 10 ;max_iter = 500</th>\n",
       "    </tr>\n",
       "  </thead>\n",
       "  <tbody>\n",
       "    <tr>\n",
       "      <th>r2_score</th>\n",
       "      <td>0.0672</td>\n",
       "    </tr>\n",
       "    <tr>\n",
       "      <th>mse</th>\n",
       "      <td>445.4011</td>\n",
       "    </tr>\n",
       "    <tr>\n",
       "      <th>rmse</th>\n",
       "      <td>21.1045</td>\n",
       "    </tr>\n",
       "    <tr>\n",
       "      <th>mae</th>\n",
       "      <td>16.7444</td>\n",
       "    </tr>\n",
       "    <tr>\n",
       "      <th>mape</th>\n",
       "      <td>8.5983</td>\n",
       "    </tr>\n",
       "  </tbody>\n",
       "</table>\n",
       "</div>"
      ],
      "text/plain": [
       "          degree = 2 ;alpha = 10 ;max_iter = 500\n",
       "r2_score                                  0.0672\n",
       "mse                                     445.4011\n",
       "rmse                                     21.1045\n",
       "mae                                      16.7444\n",
       "mape                                      8.5983"
      ]
     },
     "execution_count": 25,
     "metadata": {},
     "output_type": "execute_result"
    }
   ],
   "source": [
    "y_train, y_pred_train, y_val, y_pred_val = Model_Training(df_train,df_val, 2,10,500)\n",
    "df_val4 = Model_Metrics(y_val, y_pred_val, 2,10,500)\n",
    "df_val4"
   ]
  },
  {
   "cell_type": "markdown",
   "id": "ea4f95e6",
   "metadata": {},
   "source": [
    "### e) Degree = 2, alpha = 0.5, max_iter = None"
   ]
  },
  {
   "cell_type": "code",
   "execution_count": 26,
   "id": "00e37273",
   "metadata": {},
   "outputs": [
    {
     "data": {
      "text/html": [
       "<div>\n",
       "<style scoped>\n",
       "    .dataframe tbody tr th:only-of-type {\n",
       "        vertical-align: middle;\n",
       "    }\n",
       "\n",
       "    .dataframe tbody tr th {\n",
       "        vertical-align: top;\n",
       "    }\n",
       "\n",
       "    .dataframe thead th {\n",
       "        text-align: right;\n",
       "    }\n",
       "</style>\n",
       "<table border=\"1\" class=\"dataframe\">\n",
       "  <thead>\n",
       "    <tr style=\"text-align: right;\">\n",
       "      <th></th>\n",
       "      <th>degree = 2 ;alpha = 0.5 ;max_iter = None</th>\n",
       "    </tr>\n",
       "  </thead>\n",
       "  <tbody>\n",
       "    <tr>\n",
       "      <th>r2_score</th>\n",
       "      <td>0.0677</td>\n",
       "    </tr>\n",
       "    <tr>\n",
       "      <th>mse</th>\n",
       "      <td>445.2026</td>\n",
       "    </tr>\n",
       "    <tr>\n",
       "      <th>rmse</th>\n",
       "      <td>21.0998</td>\n",
       "    </tr>\n",
       "    <tr>\n",
       "      <th>mae</th>\n",
       "      <td>16.7382</td>\n",
       "    </tr>\n",
       "    <tr>\n",
       "      <th>mape</th>\n",
       "      <td>8.5638</td>\n",
       "    </tr>\n",
       "  </tbody>\n",
       "</table>\n",
       "</div>"
      ],
      "text/plain": [
       "          degree = 2 ;alpha = 0.5 ;max_iter = None\n",
       "r2_score                                    0.0677\n",
       "mse                                       445.2026\n",
       "rmse                                       21.0998\n",
       "mae                                        16.7382\n",
       "mape                                        8.5638"
      ]
     },
     "execution_count": 26,
     "metadata": {},
     "output_type": "execute_result"
    }
   ],
   "source": [
    "y_train, y_pred_train, y_val, y_pred_val = Model_Training(df_train,df_val, 2,0.5,None)\n",
    "df_val5 = Model_Metrics(y_val, y_pred_val,2,0.5,None)\n",
    "df_val5"
   ]
  },
  {
   "cell_type": "markdown",
   "id": "692f39a2",
   "metadata": {},
   "source": [
    "### f) Degree = 2, alpha = 0.1, max_iter = None"
   ]
  },
  {
   "cell_type": "code",
   "execution_count": 27,
   "id": "ee6549eb",
   "metadata": {},
   "outputs": [
    {
     "data": {
      "text/html": [
       "<div>\n",
       "<style scoped>\n",
       "    .dataframe tbody tr th:only-of-type {\n",
       "        vertical-align: middle;\n",
       "    }\n",
       "\n",
       "    .dataframe tbody tr th {\n",
       "        vertical-align: top;\n",
       "    }\n",
       "\n",
       "    .dataframe thead th {\n",
       "        text-align: right;\n",
       "    }\n",
       "</style>\n",
       "<table border=\"1\" class=\"dataframe\">\n",
       "  <thead>\n",
       "    <tr style=\"text-align: right;\">\n",
       "      <th></th>\n",
       "      <th>degree = 2 ;alpha = 0.1 ;max_iter = None</th>\n",
       "    </tr>\n",
       "  </thead>\n",
       "  <tbody>\n",
       "    <tr>\n",
       "      <th>r2_score</th>\n",
       "      <td>0.0672</td>\n",
       "    </tr>\n",
       "    <tr>\n",
       "      <th>mse</th>\n",
       "      <td>445.4171</td>\n",
       "    </tr>\n",
       "    <tr>\n",
       "      <th>rmse</th>\n",
       "      <td>21.1049</td>\n",
       "    </tr>\n",
       "    <tr>\n",
       "      <th>mae</th>\n",
       "      <td>16.7418</td>\n",
       "    </tr>\n",
       "    <tr>\n",
       "      <th>mape</th>\n",
       "      <td>8.5541</td>\n",
       "    </tr>\n",
       "  </tbody>\n",
       "</table>\n",
       "</div>"
      ],
      "text/plain": [
       "          degree = 2 ;alpha = 0.1 ;max_iter = None\n",
       "r2_score                                    0.0672\n",
       "mse                                       445.4171\n",
       "rmse                                       21.1049\n",
       "mae                                        16.7418\n",
       "mape                                        8.5541"
      ]
     },
     "execution_count": 27,
     "metadata": {},
     "output_type": "execute_result"
    }
   ],
   "source": [
    "y_train, y_pred_train, y_val, y_pred_val = Model_Training(df_train,df_val, 2,0.1,None)\n",
    "df_val6 = Model_Metrics(y_val, y_pred_val,2,0.1,None)\n",
    "df_val6"
   ]
  },
  {
   "cell_type": "markdown",
   "id": "36ee172e",
   "metadata": {},
   "source": [
    "### 5.4 Verificar o parametro que obteve os melhores resultados nos dados de validação"
   ]
  },
  {
   "cell_type": "code",
   "execution_count": 28,
   "id": "13b95cf8",
   "metadata": {},
   "outputs": [
    {
     "data": {
      "text/html": [
       "<div>\n",
       "<style scoped>\n",
       "    .dataframe tbody tr th:only-of-type {\n",
       "        vertical-align: middle;\n",
       "    }\n",
       "\n",
       "    .dataframe tbody tr th {\n",
       "        vertical-align: top;\n",
       "    }\n",
       "\n",
       "    .dataframe thead th {\n",
       "        text-align: right;\n",
       "    }\n",
       "</style>\n",
       "<table border=\"1\" class=\"dataframe\">\n",
       "  <thead>\n",
       "    <tr style=\"text-align: right;\">\n",
       "      <th></th>\n",
       "      <th>degree = 2 ;alpha = 1 ;max_iter = None</th>\n",
       "      <th>degree = 4 ;alpha = 1 ;max_iter = None</th>\n",
       "      <th>degree = 6 ;alpha = 1 ;max_iter = None</th>\n",
       "      <th>degree = 2 ;alpha = 1 ;max_iter = 500</th>\n",
       "      <th>degree = 2 ;alpha = 10 ;max_iter = 500</th>\n",
       "      <th>degree = 2 ;alpha = 0.5 ;max_iter = None</th>\n",
       "      <th>degree = 2 ;alpha = 0.1 ;max_iter = None</th>\n",
       "    </tr>\n",
       "  </thead>\n",
       "  <tbody>\n",
       "    <tr>\n",
       "      <th>r2_score</th>\n",
       "      <td>0.0677</td>\n",
       "      <td>-28.4379</td>\n",
       "      <td>-4.545593e+05</td>\n",
       "      <td>0.0677</td>\n",
       "      <td>0.0672</td>\n",
       "      <td>0.0677</td>\n",
       "      <td>0.0672</td>\n",
       "    </tr>\n",
       "    <tr>\n",
       "      <th>mse</th>\n",
       "      <td>445.1844</td>\n",
       "      <td>14056.9522</td>\n",
       "      <td>2.170578e+08</td>\n",
       "      <td>445.1844</td>\n",
       "      <td>445.4011</td>\n",
       "      <td>445.2026</td>\n",
       "      <td>445.4171</td>\n",
       "    </tr>\n",
       "    <tr>\n",
       "      <th>rmse</th>\n",
       "      <td>21.0994</td>\n",
       "      <td>118.5620</td>\n",
       "      <td>1.473288e+04</td>\n",
       "      <td>21.0994</td>\n",
       "      <td>21.1045</td>\n",
       "      <td>21.0998</td>\n",
       "      <td>21.1049</td>\n",
       "    </tr>\n",
       "    <tr>\n",
       "      <th>mae</th>\n",
       "      <td>16.7387</td>\n",
       "      <td>18.9702</td>\n",
       "      <td>3.270700e+02</td>\n",
       "      <td>16.7387</td>\n",
       "      <td>16.7444</td>\n",
       "      <td>16.7382</td>\n",
       "      <td>16.7418</td>\n",
       "    </tr>\n",
       "    <tr>\n",
       "      <th>mape</th>\n",
       "      <td>8.5690</td>\n",
       "      <td>8.4648</td>\n",
       "      <td>1.855360e+01</td>\n",
       "      <td>8.5690</td>\n",
       "      <td>8.5983</td>\n",
       "      <td>8.5638</td>\n",
       "      <td>8.5541</td>\n",
       "    </tr>\n",
       "  </tbody>\n",
       "</table>\n",
       "</div>"
      ],
      "text/plain": [
       "          degree = 2 ;alpha = 1 ;max_iter = None  \\\n",
       "r2_score                                  0.0677   \n",
       "mse                                     445.1844   \n",
       "rmse                                     21.0994   \n",
       "mae                                      16.7387   \n",
       "mape                                      8.5690   \n",
       "\n",
       "          degree = 4 ;alpha = 1 ;max_iter = None  \\\n",
       "r2_score                                -28.4379   \n",
       "mse                                   14056.9522   \n",
       "rmse                                    118.5620   \n",
       "mae                                      18.9702   \n",
       "mape                                      8.4648   \n",
       "\n",
       "          degree = 6 ;alpha = 1 ;max_iter = None  \\\n",
       "r2_score                           -4.545593e+05   \n",
       "mse                                 2.170578e+08   \n",
       "rmse                                1.473288e+04   \n",
       "mae                                 3.270700e+02   \n",
       "mape                                1.855360e+01   \n",
       "\n",
       "          degree = 2 ;alpha = 1 ;max_iter = 500  \\\n",
       "r2_score                                 0.0677   \n",
       "mse                                    445.1844   \n",
       "rmse                                    21.0994   \n",
       "mae                                     16.7387   \n",
       "mape                                     8.5690   \n",
       "\n",
       "          degree = 2 ;alpha = 10 ;max_iter = 500  \\\n",
       "r2_score                                  0.0672   \n",
       "mse                                     445.4011   \n",
       "rmse                                     21.1045   \n",
       "mae                                      16.7444   \n",
       "mape                                      8.5983   \n",
       "\n",
       "          degree = 2 ;alpha = 0.5 ;max_iter = None  \\\n",
       "r2_score                                    0.0677   \n",
       "mse                                       445.2026   \n",
       "rmse                                       21.0998   \n",
       "mae                                        16.7382   \n",
       "mape                                        8.5638   \n",
       "\n",
       "          degree = 2 ;alpha = 0.1 ;max_iter = None  \n",
       "r2_score                                    0.0672  \n",
       "mse                                       445.4171  \n",
       "rmse                                       21.1049  \n",
       "mae                                        16.7418  \n",
       "mape                                        8.5541  "
      ]
     },
     "execution_count": 28,
     "metadata": {},
     "output_type": "execute_result"
    }
   ],
   "source": [
    "df_metrics_val = pd.concat([df_default_val, df_val1, df_val2, df_val3, df_val4, df_val5,df_val6\n",
    "                           ] , axis = 1)\n",
    "df_metrics_val"
   ]
  },
  {
   "cell_type": "markdown",
   "id": "aea0d761",
   "metadata": {},
   "source": [
    "#### A combinação de parâmetros que apresentou o melhor resultado foi a que está alocada no objeto df_val5, a saber degree = 2, alpha = 0.5, max_iter = None"
   ]
  },
  {
   "cell_type": "markdown",
   "id": "aa9f0d35",
   "metadata": {},
   "source": [
    "# 6. Unificar os dados de treinamento e validação e retreinar o algoritmo, utilizando os melhores valores para os parâmetros"
   ]
  },
  {
   "cell_type": "markdown",
   "id": "ae21e00f",
   "metadata": {},
   "source": [
    "### 6.1 Dividir novamente os datasets de treinamento e validação"
   ]
  },
  {
   "cell_type": "code",
   "execution_count": 29,
   "id": "32199944",
   "metadata": {},
   "outputs": [],
   "source": [
    "features = ['song_duration_ms', 'acousticness', 'danceability', 'energy',\n",
    "       'instrumentalness', 'key', 'liveness', 'loudness', 'audio_mode',\n",
    "       'speechiness', 'tempo', 'time_signature', 'audio_valence']\n",
    "    \n",
    "    \n",
    "label = ['label'] \n",
    "\n",
    "#Separação dos dados de treino\n",
    "x_train = df_train.loc[:, features]\n",
    "\n",
    "#Esse metodo ravel transforma os valores em um array\n",
    "y_train = df_train.loc[:, label].values.ravel()      \n",
    "\n",
    "#Separação dos dados de validação\n",
    "x_val = df_val.loc[:, features]\n",
    "\n",
    "y_val = df_val.loc[:, label].values.ravel() \n",
    "\n",
    "#Separação dos dados de teste\n",
    "x_test = df_test.loc[:, features]\n",
    "\n",
    "y_test =  df_test.loc[:, label].values.ravel() \n",
    "\n",
    "\n",
    "#Unificando as features e a label dos dados de treino com as dos dados de validação\n",
    "\n",
    "x_final = np.concatenate( (x_train, x_val) )\n",
    "\n",
    "y_final = np.concatenate((y_train, y_val))"
   ]
  },
  {
   "cell_type": "markdown",
   "id": "b1faee3f",
   "metadata": {},
   "source": [
    "### 6.2 Treinar o modelo novamente com o melhor parametro obtido e fazer previsões encima dos dados de teste"
   ]
  },
  {
   "cell_type": "markdown",
   "id": "653bb0e9",
   "metadata": {},
   "source": [
    "#### Os polinomios de graus maiores certamente provocariam overfitting nos dados. Optei por manter o treinamento final com polinomio grau 2"
   ]
  },
  {
   "cell_type": "code",
   "execution_count": 30,
   "id": "aa708333",
   "metadata": {},
   "outputs": [],
   "source": [
    "# Criando a matriz de features polinomiais\n",
    "poly = PolynomialFeatures(degree=2)\n",
    "    \n",
    "X_poly_final = poly.fit_transform(x_final)\n",
    "# Treinando o modelo de regressão polinomial\n",
    "model_last = Ridge(alpha = 0.5, max_iter=None)    \n",
    "model_last = model_last.fit(X_poly_final, y_final)\n",
    "\n",
    "\n",
    "#Transformando e fazendo previsões encima dos dados de teste\n",
    "X_poly_test = poly.fit_transform(x_test)\n",
    "y_pred_test = model_last.predict(X_poly_test)\n"
   ]
  },
  {
   "cell_type": "markdown",
   "id": "edcd32a2",
   "metadata": {},
   "source": [
    "### 6.3 Verificando as métricas do modelo com os dados de teste"
   ]
  },
  {
   "cell_type": "code",
   "execution_count": 31,
   "id": "f17e98ec",
   "metadata": {},
   "outputs": [
    {
     "data": {
      "text/html": [
       "<div>\n",
       "<style scoped>\n",
       "    .dataframe tbody tr th:only-of-type {\n",
       "        vertical-align: middle;\n",
       "    }\n",
       "\n",
       "    .dataframe tbody tr th {\n",
       "        vertical-align: top;\n",
       "    }\n",
       "\n",
       "    .dataframe thead th {\n",
       "        text-align: right;\n",
       "    }\n",
       "</style>\n",
       "<table border=\"1\" class=\"dataframe\">\n",
       "  <thead>\n",
       "    <tr style=\"text-align: right;\">\n",
       "      <th></th>\n",
       "      <th>degree = 2 ;alpha = 0.5 ;max_iter = None</th>\n",
       "    </tr>\n",
       "  </thead>\n",
       "  <tbody>\n",
       "    <tr>\n",
       "      <th>r2_score</th>\n",
       "      <td>0.0906</td>\n",
       "    </tr>\n",
       "    <tr>\n",
       "      <th>mse</th>\n",
       "      <td>442.7649</td>\n",
       "    </tr>\n",
       "    <tr>\n",
       "      <th>rmse</th>\n",
       "      <td>21.0420</td>\n",
       "    </tr>\n",
       "    <tr>\n",
       "      <th>mae</th>\n",
       "      <td>16.7377</td>\n",
       "    </tr>\n",
       "    <tr>\n",
       "      <th>mape</th>\n",
       "      <td>8.2971</td>\n",
       "    </tr>\n",
       "  </tbody>\n",
       "</table>\n",
       "</div>"
      ],
      "text/plain": [
       "          degree = 2 ;alpha = 0.5 ;max_iter = None\n",
       "r2_score                                    0.0906\n",
       "mse                                       442.7649\n",
       "rmse                                       21.0420\n",
       "mae                                        16.7377\n",
       "mape                                        8.2971"
      ]
     },
     "execution_count": 31,
     "metadata": {},
     "output_type": "execute_result"
    }
   ],
   "source": [
    "df_metrics_test = Model_Metrics(y_test, y_pred_test, 2, 0.5, None)\n",
    "df_metrics_test"
   ]
  },
  {
   "cell_type": "markdown",
   "id": "f77b66f2",
   "metadata": {},
   "source": [
    "# 7. Resguardando os objetos com as métricas de maior performance"
   ]
  },
  {
   "cell_type": "markdown",
   "id": "ecbd98df",
   "metadata": {},
   "source": [
    "### 7.1 Alterando o nome das colunas dos dataframes"
   ]
  },
  {
   "cell_type": "markdown",
   "id": "3a3d6db0",
   "metadata": {},
   "source": [
    "#### a) dataframe teste com melhores métricas"
   ]
  },
  {
   "cell_type": "code",
   "execution_count": 32,
   "id": "ca4bb660",
   "metadata": {},
   "outputs": [
    {
     "data": {
      "text/html": [
       "<div>\n",
       "<style scoped>\n",
       "    .dataframe tbody tr th:only-of-type {\n",
       "        vertical-align: middle;\n",
       "    }\n",
       "\n",
       "    .dataframe tbody tr th {\n",
       "        vertical-align: top;\n",
       "    }\n",
       "\n",
       "    .dataframe thead th {\n",
       "        text-align: right;\n",
       "    }\n",
       "</style>\n",
       "<table border=\"1\" class=\"dataframe\">\n",
       "  <thead>\n",
       "    <tr style=\"text-align: right;\">\n",
       "      <th></th>\n",
       "      <th>Polinomial Regression Ridge</th>\n",
       "    </tr>\n",
       "  </thead>\n",
       "  <tbody>\n",
       "    <tr>\n",
       "      <th>r2_score</th>\n",
       "      <td>0.0906</td>\n",
       "    </tr>\n",
       "    <tr>\n",
       "      <th>mse</th>\n",
       "      <td>442.7649</td>\n",
       "    </tr>\n",
       "    <tr>\n",
       "      <th>rmse</th>\n",
       "      <td>21.0420</td>\n",
       "    </tr>\n",
       "    <tr>\n",
       "      <th>mae</th>\n",
       "      <td>16.7377</td>\n",
       "    </tr>\n",
       "    <tr>\n",
       "      <th>mape</th>\n",
       "      <td>8.2971</td>\n",
       "    </tr>\n",
       "  </tbody>\n",
       "</table>\n",
       "</div>"
      ],
      "text/plain": [
       "          Polinomial Regression Ridge\n",
       "r2_score                       0.0906\n",
       "mse                          442.7649\n",
       "rmse                          21.0420\n",
       "mae                           16.7377\n",
       "mape                           8.2971"
      ]
     },
     "execution_count": 32,
     "metadata": {},
     "output_type": "execute_result"
    }
   ],
   "source": [
    "df_metrics_test = df_metrics_test.rename(columns = {\"degree = 2 ;alpha = 0.5 ;max_iter = None\": \"Polinomial Regression Ridge\"})\n",
    "df_metrics_test"
   ]
  },
  {
   "cell_type": "markdown",
   "id": "04bb4ec3",
   "metadata": {},
   "source": [
    "#### b) dataframe validação com melhores métricas"
   ]
  },
  {
   "cell_type": "code",
   "execution_count": 33,
   "id": "b44d499a",
   "metadata": {},
   "outputs": [
    {
     "data": {
      "text/html": [
       "<div>\n",
       "<style scoped>\n",
       "    .dataframe tbody tr th:only-of-type {\n",
       "        vertical-align: middle;\n",
       "    }\n",
       "\n",
       "    .dataframe tbody tr th {\n",
       "        vertical-align: top;\n",
       "    }\n",
       "\n",
       "    .dataframe thead th {\n",
       "        text-align: right;\n",
       "    }\n",
       "</style>\n",
       "<table border=\"1\" class=\"dataframe\">\n",
       "  <thead>\n",
       "    <tr style=\"text-align: right;\">\n",
       "      <th></th>\n",
       "      <th>Polinomial Regression Ridge</th>\n",
       "    </tr>\n",
       "  </thead>\n",
       "  <tbody>\n",
       "    <tr>\n",
       "      <th>r2_score</th>\n",
       "      <td>0.0677</td>\n",
       "    </tr>\n",
       "    <tr>\n",
       "      <th>mse</th>\n",
       "      <td>445.2026</td>\n",
       "    </tr>\n",
       "    <tr>\n",
       "      <th>rmse</th>\n",
       "      <td>21.0998</td>\n",
       "    </tr>\n",
       "    <tr>\n",
       "      <th>mae</th>\n",
       "      <td>16.7382</td>\n",
       "    </tr>\n",
       "    <tr>\n",
       "      <th>mape</th>\n",
       "      <td>8.5638</td>\n",
       "    </tr>\n",
       "  </tbody>\n",
       "</table>\n",
       "</div>"
      ],
      "text/plain": [
       "          Polinomial Regression Ridge\n",
       "r2_score                       0.0677\n",
       "mse                          445.2026\n",
       "rmse                          21.0998\n",
       "mae                           16.7382\n",
       "mape                           8.5638"
      ]
     },
     "execution_count": 33,
     "metadata": {},
     "output_type": "execute_result"
    }
   ],
   "source": [
    "df_val5 = df_val5.rename(columns = {\"degree = 2 ;alpha = 0.5 ;max_iter = None\": \"Polinomial Regression Ridge\"})\n",
    "df_val5"
   ]
  },
  {
   "cell_type": "markdown",
   "id": "9d16a2a0",
   "metadata": {},
   "source": [
    "#### c) dataframe treinamento com melhores métricas"
   ]
  },
  {
   "cell_type": "code",
   "execution_count": 34,
   "id": "63c67915",
   "metadata": {},
   "outputs": [
    {
     "data": {
      "text/html": [
       "<div>\n",
       "<style scoped>\n",
       "    .dataframe tbody tr th:only-of-type {\n",
       "        vertical-align: middle;\n",
       "    }\n",
       "\n",
       "    .dataframe tbody tr th {\n",
       "        vertical-align: top;\n",
       "    }\n",
       "\n",
       "    .dataframe thead th {\n",
       "        text-align: right;\n",
       "    }\n",
       "</style>\n",
       "<table border=\"1\" class=\"dataframe\">\n",
       "  <thead>\n",
       "    <tr style=\"text-align: right;\">\n",
       "      <th></th>\n",
       "      <th>Polinomial Regression Ridge</th>\n",
       "    </tr>\n",
       "  </thead>\n",
       "  <tbody>\n",
       "    <tr>\n",
       "      <th>r2_score</th>\n",
       "      <td>0.0932</td>\n",
       "    </tr>\n",
       "    <tr>\n",
       "      <th>mse</th>\n",
       "      <td>433.4755</td>\n",
       "    </tr>\n",
       "    <tr>\n",
       "      <th>rmse</th>\n",
       "      <td>20.8201</td>\n",
       "    </tr>\n",
       "    <tr>\n",
       "      <th>mae</th>\n",
       "      <td>16.4720</td>\n",
       "    </tr>\n",
       "    <tr>\n",
       "      <th>mape</th>\n",
       "      <td>8.3727</td>\n",
       "    </tr>\n",
       "  </tbody>\n",
       "</table>\n",
       "</div>"
      ],
      "text/plain": [
       "          Polinomial Regression Ridge\n",
       "r2_score                       0.0932\n",
       "mse                          433.4755\n",
       "rmse                          20.8201\n",
       "mae                           16.4720\n",
       "mape                           8.3727"
      ]
     },
     "execution_count": 34,
     "metadata": {},
     "output_type": "execute_result"
    }
   ],
   "source": [
    "df_default_train = df_default_train.rename(columns={\"degree = 2 ;alpha = 1 ;max_iter = None\": \"Polinomial Regression Ridge\"})\n",
    "df_default_train"
   ]
  },
  {
   "cell_type": "markdown",
   "id": "029ded9a",
   "metadata": {},
   "source": [
    "# 8. Salvar os objetos com as melhores metricas em um arquivo pickle"
   ]
  },
  {
   "cell_type": "markdown",
   "id": "55ab9434",
   "metadata": {},
   "source": [
    "### a) dataframe com métricas dos dados de treinamento"
   ]
  },
  {
   "cell_type": "code",
   "execution_count": 35,
   "id": "f9efc268",
   "metadata": {},
   "outputs": [],
   "source": [
    "with open('arquivo_poly_regression_ridge_train.pkl', 'wb') as arquivo_poly_regression_ridge_train:\n",
    "    pickle.dump(df_default_train,arquivo_poly_regression_ridge_train)  "
   ]
  },
  {
   "cell_type": "code",
   "execution_count": 36,
   "id": "61a7757d",
   "metadata": {},
   "outputs": [],
   "source": [
    "arquivo_poly_regression_ridge_train.close()"
   ]
  },
  {
   "cell_type": "markdown",
   "id": "0ba929a6",
   "metadata": {},
   "source": [
    "### b) dataframe com métricas dos dados de validação"
   ]
  },
  {
   "cell_type": "code",
   "execution_count": 37,
   "id": "dd590b9b",
   "metadata": {},
   "outputs": [],
   "source": [
    "with open('arquivo_poly_regression_ridge_val.pkl', 'wb') as arquivo_poly_regression_ridge_val:\n",
    "    pickle.dump(df_val5,arquivo_poly_regression_ridge_val) "
   ]
  },
  {
   "cell_type": "code",
   "execution_count": 38,
   "id": "97f522fc",
   "metadata": {},
   "outputs": [],
   "source": [
    "arquivo_poly_regression_ridge_train.close()"
   ]
  },
  {
   "cell_type": "code",
   "execution_count": null,
   "id": "382e0341",
   "metadata": {},
   "outputs": [],
   "source": []
  },
  {
   "cell_type": "markdown",
   "id": "3ef0fa0c",
   "metadata": {},
   "source": [
    "### c) dataframe com métricas dos dados de teste"
   ]
  },
  {
   "cell_type": "code",
   "execution_count": 39,
   "id": "a1293820",
   "metadata": {},
   "outputs": [],
   "source": [
    "with open('arquivo_poly_regression_ridge_test.pkl', 'wb') as arquivo_poly_regression_ridge_test:\n",
    "    pickle.dump(df_metrics_test,arquivo_poly_regression_ridge_test) "
   ]
  },
  {
   "cell_type": "code",
   "execution_count": 40,
   "id": "c1115cff",
   "metadata": {},
   "outputs": [],
   "source": [
    "arquivo_poly_regression_ridge_test.close()"
   ]
  },
  {
   "cell_type": "code",
   "execution_count": null,
   "id": "d864ad51",
   "metadata": {},
   "outputs": [],
   "source": []
  }
 ],
 "metadata": {
  "kernelspec": {
   "display_name": "Python 3 (ipykernel)",
   "language": "python",
   "name": "python3"
  },
  "language_info": {
   "codemirror_mode": {
    "name": "ipython",
    "version": 3
   },
   "file_extension": ".py",
   "mimetype": "text/x-python",
   "name": "python",
   "nbconvert_exporter": "python",
   "pygments_lexer": "ipython3",
   "version": "3.9.12"
  }
 },
 "nbformat": 4,
 "nbformat_minor": 5
}
